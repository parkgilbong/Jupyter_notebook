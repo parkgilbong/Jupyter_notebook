{
 "cells": [
  {
   "cell_type": "markdown",
   "metadata": {},
   "source": [
    "# R script for statistics "
   ]
  },
  {
   "cell_type": "markdown",
   "metadata": {},
   "source": [
    "## 1. Wilcoxon-Mann-whitney test "
   ]
  },
  {
   "cell_type": "markdown",
   "metadata": {},
   "source": [
    "    1. load data-set 1, Copy from clipboard"
   ]
  },
  {
   "cell_type": "code",
   "execution_count": 18,
   "metadata": {},
   "outputs": [
    {
     "data": {
      "text/html": [
       "<table>\n",
       "<thead><tr><th scope=col>V1</th><th scope=col>V2</th><th scope=col>V3</th></tr></thead>\n",
       "<tbody>\n",
       "\t<tr><td>0.2823  </td><td>13.03473</td><td>1       </td></tr>\n",
       "\t<tr><td>0.4756  </td><td>10.56486</td><td>1       </td></tr>\n",
       "\t<tr><td>1.6979  </td><td>10.58619</td><td>1       </td></tr>\n",
       "\t<tr><td>2.9793  </td><td>12.95108</td><td>1       </td></tr>\n",
       "\t<tr><td>3.4470  </td><td>11.40776</td><td>1       </td></tr>\n",
       "\t<tr><td>4.3775  </td><td>37.19345</td><td>1       </td></tr>\n",
       "</tbody>\n",
       "</table>\n"
      ],
      "text/latex": [
       "\\begin{tabular}{r|lll}\n",
       " V1 & V2 & V3\\\\\n",
       "\\hline\n",
       "\t 0.2823   & 13.03473 & 1       \\\\\n",
       "\t 0.4756   & 10.56486 & 1       \\\\\n",
       "\t 1.6979   & 10.58619 & 1       \\\\\n",
       "\t 2.9793   & 12.95108 & 1       \\\\\n",
       "\t 3.4470   & 11.40776 & 1       \\\\\n",
       "\t 4.3775   & 37.19345 & 1       \\\\\n",
       "\\end{tabular}\n"
      ],
      "text/markdown": [
       "\n",
       "| V1 | V2 | V3 |\n",
       "|---|---|---|\n",
       "| 0.2823   | 13.03473 | 1        |\n",
       "| 0.4756   | 10.56486 | 1        |\n",
       "| 1.6979   | 10.58619 | 1        |\n",
       "| 2.9793   | 12.95108 | 1        |\n",
       "| 3.4470   | 11.40776 | 1        |\n",
       "| 4.3775   | 37.19345 | 1        |\n",
       "\n"
      ],
      "text/plain": [
       "  V1     V2       V3\n",
       "1 0.2823 13.03473 1 \n",
       "2 0.4756 10.56486 1 \n",
       "3 1.6979 10.58619 1 \n",
       "4 2.9793 12.95108 1 \n",
       "5 3.4470 11.40776 1 \n",
       "6 4.3775 37.19345 1 "
      ]
     },
     "metadata": {},
     "output_type": "display_data"
    }
   ],
   "source": [
    "df1 <- read.delim(\"clipboard\", header = F, stringsAsFactors = F)\n",
    "head(df1)"
   ]
  },
  {
   "cell_type": "markdown",
   "metadata": {},
   "source": [
    "    2. load data-set 2, Copy from clipboard"
   ]
  },
  {
   "cell_type": "code",
   "execution_count": 17,
   "metadata": {},
   "outputs": [
    {
     "data": {
      "text/html": [
       "<table>\n",
       "<thead><tr><th scope=col>V1</th><th scope=col>V2</th><th scope=col>V3</th></tr></thead>\n",
       "<tbody>\n",
       "\t<tr><td>2.0572  </td><td>10.36504</td><td>0       </td></tr>\n",
       "\t<tr><td>2.5935  </td><td>13.51447</td><td>0       </td></tr>\n",
       "\t<tr><td>3.9757  </td><td>10.08180</td><td>0       </td></tr>\n",
       "\t<tr><td>4.0993  </td><td>20.12271</td><td>0       </td></tr>\n",
       "\t<tr><td>7.3003  </td><td>10.70504</td><td>0       </td></tr>\n",
       "\t<tr><td>8.4286  </td><td>13.55934</td><td>0       </td></tr>\n",
       "</tbody>\n",
       "</table>\n"
      ],
      "text/latex": [
       "\\begin{tabular}{r|lll}\n",
       " V1 & V2 & V3\\\\\n",
       "\\hline\n",
       "\t 2.0572   & 10.36504 & 0       \\\\\n",
       "\t 2.5935   & 13.51447 & 0       \\\\\n",
       "\t 3.9757   & 10.08180 & 0       \\\\\n",
       "\t 4.0993   & 20.12271 & 0       \\\\\n",
       "\t 7.3003   & 10.70504 & 0       \\\\\n",
       "\t 8.4286   & 13.55934 & 0       \\\\\n",
       "\\end{tabular}\n"
      ],
      "text/markdown": [
       "\n",
       "| V1 | V2 | V3 |\n",
       "|---|---|---|\n",
       "| 2.0572   | 10.36504 | 0        |\n",
       "| 2.5935   | 13.51447 | 0        |\n",
       "| 3.9757   | 10.08180 | 0        |\n",
       "| 4.0993   | 20.12271 | 0        |\n",
       "| 7.3003   | 10.70504 | 0        |\n",
       "| 8.4286   | 13.55934 | 0        |\n",
       "\n"
      ],
      "text/plain": [
       "  V1     V2       V3\n",
       "1 2.0572 10.36504 0 \n",
       "2 2.5935 13.51447 0 \n",
       "3 3.9757 10.08180 0 \n",
       "4 4.0993 20.12271 0 \n",
       "5 7.3003 10.70504 0 \n",
       "6 8.4286 13.55934 0 "
      ]
     },
     "metadata": {},
     "output_type": "display_data"
    }
   ],
   "source": [
    "df2 <- read.delim(\"clipboard\", header = F, stringsAsFactors = F) \n",
    "head(df2)"
   ]
  },
  {
   "cell_type": "markdown",
   "metadata": {},
   "source": [
    "    3. Perform Wilcoxon-Mann-Whitney test "
   ]
  },
  {
   "cell_type": "code",
   "execution_count": 20,
   "metadata": {},
   "outputs": [
    {
     "data": {
      "text/plain": [
       "\n",
       "\tWilcoxon rank sum test with continuity correction\n",
       "\n",
       "data:  df1$V2 and df2$V2\n",
       "W = 86855, p-value = 4.772e-16\n",
       "alternative hypothesis: true location shift is not equal to 0\n"
      ]
     },
     "metadata": {},
     "output_type": "display_data"
    }
   ],
   "source": [
    "w.result <- wilcox.test(df1$V2, df2$V2, paired = F)\n",
    "w.result"
   ]
  },
  {
   "cell_type": "markdown",
   "metadata": {},
   "source": [
    "*****"
   ]
  },
  {
   "cell_type": "markdown",
   "metadata": {},
   "source": [
    "## 2. Independent T-test"
   ]
  },
  {
   "cell_type": "code",
   "execution_count": 22,
   "metadata": {},
   "outputs": [
    {
     "data": {
      "text/html": [
       "<table>\n",
       "<thead><tr><th scope=col>V1</th><th scope=col>V2</th><th scope=col>V3</th></tr></thead>\n",
       "<tbody>\n",
       "\t<tr><td>0.2823  </td><td>13.03473</td><td>1       </td></tr>\n",
       "\t<tr><td>0.4756  </td><td>10.56486</td><td>1       </td></tr>\n",
       "\t<tr><td>1.6979  </td><td>10.58619</td><td>1       </td></tr>\n",
       "\t<tr><td>2.9793  </td><td>12.95108</td><td>1       </td></tr>\n",
       "\t<tr><td>3.4470  </td><td>11.40776</td><td>1       </td></tr>\n",
       "\t<tr><td>4.3775  </td><td>37.19345</td><td>1       </td></tr>\n",
       "</tbody>\n",
       "</table>\n"
      ],
      "text/latex": [
       "\\begin{tabular}{r|lll}\n",
       " V1 & V2 & V3\\\\\n",
       "\\hline\n",
       "\t 0.2823   & 13.03473 & 1       \\\\\n",
       "\t 0.4756   & 10.56486 & 1       \\\\\n",
       "\t 1.6979   & 10.58619 & 1       \\\\\n",
       "\t 2.9793   & 12.95108 & 1       \\\\\n",
       "\t 3.4470   & 11.40776 & 1       \\\\\n",
       "\t 4.3775   & 37.19345 & 1       \\\\\n",
       "\\end{tabular}\n"
      ],
      "text/markdown": [
       "\n",
       "| V1 | V2 | V3 |\n",
       "|---|---|---|\n",
       "| 0.2823   | 13.03473 | 1        |\n",
       "| 0.4756   | 10.56486 | 1        |\n",
       "| 1.6979   | 10.58619 | 1        |\n",
       "| 2.9793   | 12.95108 | 1        |\n",
       "| 3.4470   | 11.40776 | 1        |\n",
       "| 4.3775   | 37.19345 | 1        |\n",
       "\n"
      ],
      "text/plain": [
       "  V1     V2       V3\n",
       "1 0.2823 13.03473 1 \n",
       "2 0.4756 10.56486 1 \n",
       "3 1.6979 10.58619 1 \n",
       "4 2.9793 12.95108 1 \n",
       "5 3.4470 11.40776 1 \n",
       "6 4.3775 37.19345 1 "
      ]
     },
     "metadata": {},
     "output_type": "display_data"
    }
   ],
   "source": [
    "df1 <- read.delim(\"clipboard\", header=F, stringsAsFactors = F)\n",
    "head(df1)"
   ]
  },
  {
   "cell_type": "code",
   "execution_count": 25,
   "metadata": {},
   "outputs": [
    {
     "data": {
      "text/html": [
       "<table>\n",
       "<thead><tr><th scope=col>V1</th><th scope=col>V2</th><th scope=col>V3</th></tr></thead>\n",
       "<tbody>\n",
       "\t<tr><td> 0.9512 </td><td>12.91798</td><td>0       </td></tr>\n",
       "\t<tr><td> 3.2368 </td><td>20.30478</td><td>0       </td></tr>\n",
       "\t<tr><td> 8.9432 </td><td>20.84268</td><td>0       </td></tr>\n",
       "\t<tr><td> 9.5670 </td><td>18.74740</td><td>0       </td></tr>\n",
       "\t<tr><td>10.1748 </td><td>11.78050</td><td>0       </td></tr>\n",
       "\t<tr><td>11.5940 </td><td>11.31292</td><td>0       </td></tr>\n",
       "</tbody>\n",
       "</table>\n"
      ],
      "text/latex": [
       "\\begin{tabular}{r|lll}\n",
       " V1 & V2 & V3\\\\\n",
       "\\hline\n",
       "\t  0.9512  & 12.91798 & 0       \\\\\n",
       "\t  3.2368  & 20.30478 & 0       \\\\\n",
       "\t  8.9432  & 20.84268 & 0       \\\\\n",
       "\t  9.5670  & 18.74740 & 0       \\\\\n",
       "\t 10.1748  & 11.78050 & 0       \\\\\n",
       "\t 11.5940  & 11.31292 & 0       \\\\\n",
       "\\end{tabular}\n"
      ],
      "text/markdown": [
       "\n",
       "| V1 | V2 | V3 |\n",
       "|---|---|---|\n",
       "|  0.9512  | 12.91798 | 0        |\n",
       "|  3.2368  | 20.30478 | 0        |\n",
       "|  8.9432  | 20.84268 | 0        |\n",
       "|  9.5670  | 18.74740 | 0        |\n",
       "| 10.1748  | 11.78050 | 0        |\n",
       "| 11.5940  | 11.31292 | 0        |\n",
       "\n"
      ],
      "text/plain": [
       "  V1      V2       V3\n",
       "1  0.9512 12.91798 0 \n",
       "2  3.2368 20.30478 0 \n",
       "3  8.9432 20.84268 0 \n",
       "4  9.5670 18.74740 0 \n",
       "5 10.1748 11.78050 0 \n",
       "6 11.5940 11.31292 0 "
      ]
     },
     "metadata": {},
     "output_type": "display_data"
    }
   ],
   "source": [
    "df2 <- read.delim(\"clipboard\", header=F, stringsAsFactors=F)\n",
    "head(df2)"
   ]
  },
  {
   "cell_type": "markdown",
   "metadata": {},
   "source": [
    "    to evaluate the sample variences of the two groups. If p-value is greater than 0.05, then two variences are homogeneous. In this case, student's t-test will be performed. If p-value is less than 0.05, Welch two sample t-test will be performed.  "
   ]
  },
  {
   "cell_type": "code",
   "execution_count": 31,
   "metadata": {},
   "outputs": [
    {
     "data": {
      "text/plain": [
       "\n",
       "\tF test to compare two variances\n",
       "\n",
       "data:  df1$V2 and df2$V2\n",
       "F = 3.7132, num df = 455, denom df = 251, p-value < 2.2e-16\n",
       "alternative hypothesis: true ratio of variances is not equal to 1\n",
       "95 percent confidence interval:\n",
       " 2.974437 4.603128\n",
       "sample estimates:\n",
       "ratio of variances \n",
       "          3.713163 \n"
      ]
     },
     "metadata": {},
     "output_type": "display_data"
    }
   ],
   "source": [
    "var.result <- var.test(df1$V2, df2$V2) \n",
    "var.result"
   ]
  },
  {
   "cell_type": "markdown",
   "metadata": {},
   "source": [
    "    Perform t-test (paired, independent)"
   ]
  },
  {
   "cell_type": "code",
   "execution_count": 30,
   "metadata": {},
   "outputs": [
    {
     "data": {
      "text/plain": [
       "\n",
       "\tWelch Two Sample t-test\n",
       "\n",
       "data:  df1$V2 and df2$V2\n",
       "t = 4.6473, df = 703.61, p-value = 4.015e-06\n",
       "alternative hypothesis: true difference in means is not equal to 0\n",
       "95 percent confidence interval:\n",
       " 1.735513 4.274565\n",
       "sample estimates:\n",
       "mean of x mean of y \n",
       " 17.89364  14.88860 \n"
      ]
     },
     "metadata": {},
     "output_type": "display_data"
    }
   ],
   "source": [
    "t.test <- if(var.result$p.value >= 0.05) {\n",
    "    t.test(df1$V2, df2$V2, alternative = c(\"two.sided\"), paired = F, var.equal = T)\n",
    "    } else {\n",
    "    t.test(df1$V2, df2$V2, alternative = c(\"two.sided\"), paired = F, var.equal = F)\n",
    "    }\n",
    "t.test"
   ]
  },
  {
   "cell_type": "markdown",
   "metadata": {},
   "source": [
    "*****"
   ]
  },
  {
   "cell_type": "markdown",
   "metadata": {},
   "source": [
    "## 3. Two-sample Kolmogorov-Smirnov Test"
   ]
  },
  {
   "cell_type": "markdown",
   "metadata": {},
   "source": [
    "    1. load data-set 1 from clipboard"
   ]
  },
  {
   "cell_type": "code",
   "execution_count": 2,
   "metadata": {},
   "outputs": [
    {
     "data": {
      "text/html": [
       "<table>\n",
       "<thead><tr><th scope=col>V1</th></tr></thead>\n",
       "<tbody>\n",
       "\t<tr><td>0.032</td></tr>\n",
       "\t<tr><td>0.029</td></tr>\n",
       "\t<tr><td>0.032</td></tr>\n",
       "\t<tr><td>0.032</td></tr>\n",
       "\t<tr><td>0.033</td></tr>\n",
       "\t<tr><td>0.032</td></tr>\n",
       "</tbody>\n",
       "</table>\n"
      ],
      "text/latex": [
       "\\begin{tabular}{r|l}\n",
       " V1\\\\\n",
       "\\hline\n",
       "\t 0.032\\\\\n",
       "\t 0.029\\\\\n",
       "\t 0.032\\\\\n",
       "\t 0.032\\\\\n",
       "\t 0.033\\\\\n",
       "\t 0.032\\\\\n",
       "\\end{tabular}\n"
      ],
      "text/markdown": [
       "\n",
       "| V1 |\n",
       "|---|\n",
       "| 0.032 |\n",
       "| 0.029 |\n",
       "| 0.032 |\n",
       "| 0.032 |\n",
       "| 0.033 |\n",
       "| 0.032 |\n",
       "\n"
      ],
      "text/plain": [
       "  V1   \n",
       "1 0.032\n",
       "2 0.029\n",
       "3 0.032\n",
       "4 0.032\n",
       "5 0.033\n",
       "6 0.032"
      ]
     },
     "metadata": {},
     "output_type": "display_data"
    }
   ],
   "source": [
    "df1 <- read.delim(\"clipboard\", header = F, stringsAsFactors = F)\n",
    "head(df1)"
   ]
  },
  {
   "cell_type": "markdown",
   "metadata": {},
   "source": [
    "    2. load data-set 2 from clipboard"
   ]
  },
  {
   "cell_type": "code",
   "execution_count": 6,
   "metadata": {},
   "outputs": [
    {
     "data": {
      "text/html": [
       "<table>\n",
       "<thead><tr><th scope=col>V1</th></tr></thead>\n",
       "<tbody>\n",
       "\t<tr><td>0.073</td></tr>\n",
       "\t<tr><td>0.073</td></tr>\n",
       "\t<tr><td>0.071</td></tr>\n",
       "\t<tr><td>0.069</td></tr>\n",
       "\t<tr><td>0.069</td></tr>\n",
       "\t<tr><td>0.067</td></tr>\n",
       "</tbody>\n",
       "</table>\n"
      ],
      "text/latex": [
       "\\begin{tabular}{r|l}\n",
       " V1\\\\\n",
       "\\hline\n",
       "\t 0.073\\\\\n",
       "\t 0.073\\\\\n",
       "\t 0.071\\\\\n",
       "\t 0.069\\\\\n",
       "\t 0.069\\\\\n",
       "\t 0.067\\\\\n",
       "\\end{tabular}\n"
      ],
      "text/markdown": [
       "\n",
       "| V1 |\n",
       "|---|\n",
       "| 0.073 |\n",
       "| 0.073 |\n",
       "| 0.071 |\n",
       "| 0.069 |\n",
       "| 0.069 |\n",
       "| 0.067 |\n",
       "\n"
      ],
      "text/plain": [
       "  V1   \n",
       "1 0.073\n",
       "2 0.073\n",
       "3 0.071\n",
       "4 0.069\n",
       "5 0.069\n",
       "6 0.067"
      ]
     },
     "metadata": {},
     "output_type": "display_data"
    }
   ],
   "source": [
    "df2 <-　read.delim(\"clipboard\", header = F, stringsAsFactors = F)\n",
    "head(df2)"
   ]
  },
  {
   "cell_type": "markdown",
   "metadata": {},
   "source": [
    "Perform two-sample KS test"
   ]
  },
  {
   "cell_type": "code",
   "execution_count": 9,
   "metadata": {},
   "outputs": [
    {
     "name": "stderr",
     "output_type": "stream",
     "text": [
      "Warning message in ks.test(df1$V1, df2$V1):\n",
      "\"p-value will be approximate in the presence of ties\""
     ]
    },
    {
     "data": {
      "text/plain": [
       "\n",
       "\tTwo-sample Kolmogorov-Smirnov test\n",
       "\n",
       "data:  df1$V1 and df2$V1\n",
       "D = 0.15422, p-value < 2.2e-16\n",
       "alternative hypothesis: two-sided\n"
      ]
     },
     "metadata": {},
     "output_type": "display_data"
    }
   ],
   "source": [
    "ks.test(df1$V1, df2$V1)"
   ]
  }
 ],
 "metadata": {
  "kernelspec": {
   "display_name": "R",
   "language": "R",
   "name": "ir"
  },
  "language_info": {
   "codemirror_mode": "r",
   "file_extension": ".r",
   "mimetype": "text/x-r-source",
   "name": "R",
   "pygments_lexer": "r",
   "version": "3.6.1"
  }
 },
 "nbformat": 4,
 "nbformat_minor": 2
}
