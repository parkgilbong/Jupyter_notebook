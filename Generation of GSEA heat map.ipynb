{
 "cells": [
  {
   "cell_type": "markdown",
   "metadata": {},
   "source": [
    "# Generation of GSEA heat map \n"
   ]
  },
  {
   "cell_type": "code",
   "execution_count": 6,
   "metadata": {},
   "outputs": [
    {
     "name": "stderr",
     "output_type": "stream",
     "text": [
      "Warning message:\n",
      "\"package 'dplyr' was built under R version 3.4.3\"\n",
      "Attaching package: 'dplyr'\n",
      "\n",
      "The following objects are masked from 'package:stats':\n",
      "\n",
      "    filter, lag\n",
      "\n",
      "The following objects are masked from 'package:base':\n",
      "\n",
      "    intersect, setdiff, setequal, union\n",
      "\n"
     ]
    }
   ],
   "source": [
    "library(dplyr)"
   ]
  },
  {
   "cell_type": "markdown",
   "metadata": {},
   "source": [
    "## 폴더 안의 파일명 얻기\n",
    "### GSEA 결과를 가지고 clustering analysis를 진행하여 총 12개의 cluster들을 얻었음. 이들 가운데 trained group에서 control group에 비해 up-regulation된 것을 *Enriched* folder에, 반대로 trained group에서 control group보다 down-regulation된 것을 *Deprived* folder로 명명 "
   ]
  },
  {
   "cell_type": "code",
   "execution_count": 94,
   "metadata": {},
   "outputs": [
    {
     "name": "stdout",
     "output_type": "stream",
     "text": [
      "[1] \"C:/users/KimYG/Experimental Data/Proteomics/GSEA/GSEA result_R/Enriched/Cluster01.txt\"\n",
      "[2] \"C:/users/KimYG/Experimental Data/Proteomics/GSEA/GSEA result_R/Enriched/Cluster02.txt\"\n",
      "[3] \"C:/users/KimYG/Experimental Data/Proteomics/GSEA/GSEA result_R/Enriched/Cluster03.txt\"\n",
      "[1] \"C:/users/KimYG/Experimental Data/Proteomics/GSEA/GSEA result_R/Deprived/Cluster01.txt\"\n",
      "[2] \"C:/users/KimYG/Experimental Data/Proteomics/GSEA/GSEA result_R/Deprived/Cluster02.txt\"\n",
      "[3] \"C:/users/KimYG/Experimental Data/Proteomics/GSEA/GSEA result_R/Deprived/Cluster03.txt\"\n",
      "[4] \"C:/users/KimYG/Experimental Data/Proteomics/GSEA/GSEA result_R/Deprived/Cluster04.txt\"\n",
      "[5] \"C:/users/KimYG/Experimental Data/Proteomics/GSEA/GSEA result_R/Deprived/Cluster05.txt\"\n",
      "[6] \"C:/users/KimYG/Experimental Data/Proteomics/GSEA/GSEA result_R/Deprived/Cluster06.txt\"\n",
      "[7] \"C:/users/KimYG/Experimental Data/Proteomics/GSEA/GSEA result_R/Deprived/Cluster07.txt\"\n",
      "[8] \"C:/users/KimYG/Experimental Data/Proteomics/GSEA/GSEA result_R/Deprived/Cluster08.txt\"\n",
      "[9] \"C:/users/KimYG/Experimental Data/Proteomics/GSEA/GSEA result_R/Deprived/Cluster09.txt\"\n"
     ]
    }
   ],
   "source": [
    "EnrichedInTraining_dir <- list.files(path = \"C:/users/KimYG/Experimental Data/Proteomics/GSEA/GSEA result_R/Enriched\", full.names=TRUE)\n",
    "EnrichedInControl_dir <- list.files(path = \"C:/users/KimYG/Experimental Data/Proteomics/GSEA/GSEA result_R/Deprived\", full.names=TRUE)\n",
    "print(EnrichedInTraining_dir)\n",
    "print(EnrichedInControl_dir)"
   ]
  },
  {
   "cell_type": "markdown",
   "metadata": {},
   "source": [
    "## 각 GSEA pair (Control-Trained)의 GSEA 결과를 Load"
   ]
  },
  {
   "cell_type": "code",
   "execution_count": 2,
   "metadata": {
    "collapsed": true
   },
   "outputs": [],
   "source": [
    "GSEA.UL <- read.delim(\"C:/Users/KimYG/Experimental Data/Proteomics/GSEA/GSEA result_R/GSEA, Raw_24H_UL.txt\", sep=\"\\t\", header = T, stringsAsFactors = F)\n",
    "GSEA.DL <- read.delim(\"C:/Users/KimYG/Experimental Data/Proteomics/GSEA/GSEA result_R/GSEA, Raw_24H_DL.txt\", sep=\"\\t\", header = T, stringsAsFactors = F)\n",
    "GSEA.OL <- read.delim(\"C:/Users/KimYG/Experimental Data/Proteomics/GSEA/GSEA result_R/GSEA, Raw_24H_OL.txt\", sep=\"\\t\", header = T, stringsAsFactors = F) "
   ]
  },
  {
   "cell_type": "code",
   "execution_count": 3,
   "metadata": {},
   "outputs": [
    {
     "data": {
      "text/html": [
       "<ol class=list-inline>\n",
       "\t<li>2309</li>\n",
       "\t<li>11</li>\n",
       "</ol>\n"
      ],
      "text/latex": [
       "\\begin{enumerate*}\n",
       "\\item 2309\n",
       "\\item 11\n",
       "\\end{enumerate*}\n"
      ],
      "text/markdown": [
       "1. 2309\n",
       "2. 11\n",
       "\n",
       "\n"
      ],
      "text/plain": [
       "[1] 2309   11"
      ]
     },
     "metadata": {},
     "output_type": "display_data"
    },
    {
     "data": {
      "text/html": [
       "<ol class=list-inline>\n",
       "\t<li>2309</li>\n",
       "\t<li>11</li>\n",
       "</ol>\n"
      ],
      "text/latex": [
       "\\begin{enumerate*}\n",
       "\\item 2309\n",
       "\\item 11\n",
       "\\end{enumerate*}\n"
      ],
      "text/markdown": [
       "1. 2309\n",
       "2. 11\n",
       "\n",
       "\n"
      ],
      "text/plain": [
       "[1] 2309   11"
      ]
     },
     "metadata": {},
     "output_type": "display_data"
    },
    {
     "data": {
      "text/html": [
       "<ol class=list-inline>\n",
       "\t<li>2309</li>\n",
       "\t<li>11</li>\n",
       "</ol>\n"
      ],
      "text/latex": [
       "\\begin{enumerate*}\n",
       "\\item 2309\n",
       "\\item 11\n",
       "\\end{enumerate*}\n"
      ],
      "text/markdown": [
       "1. 2309\n",
       "2. 11\n",
       "\n",
       "\n"
      ],
      "text/plain": [
       "[1] 2309   11"
      ]
     },
     "metadata": {},
     "output_type": "display_data"
    }
   ],
   "source": [
    "dim(GSEA.DL)\n",
    "dim(GSEA.UL)\n",
    "dim(GSEA.OL)"
   ]
  },
  {
   "cell_type": "markdown",
   "metadata": {},
   "source": [
    "## 불러온 GSEA 결과 엿보기 "
   ]
  },
  {
   "cell_type": "code",
   "execution_count": 4,
   "metadata": {},
   "outputs": [
    {
     "data": {
      "text/html": [
       "<table>\n",
       "<thead><tr><th scope=col>NAME</th><th scope=col>GS.br..follow.link.to.MSigDB</th><th scope=col>GS.DETAILS</th><th scope=col>SIZE</th><th scope=col>ES</th><th scope=col>NES</th><th scope=col>NOM.p.val</th><th scope=col>FDR.q.val</th><th scope=col>FWER.p.val</th><th scope=col>RANK.AT.MAX</th><th scope=col>LEADING.EDGE</th></tr></thead>\n",
       "<tbody>\n",
       "\t<tr><td>GO_BLOOD_MICROPARTICLE                        </td><td>GO_BLOOD_MICROPARTICLE                        </td><td>Details ...                                   </td><td>46                                            </td><td>0.7105887                                     </td><td>2.385417                                      </td><td>0                                             </td><td>0.000000000                                   </td><td>0.000                                         </td><td>338                                           </td><td>tags=43%, list=8%, signal=47%                 </td></tr>\n",
       "\t<tr><td>GO_EXTRACELLULAR_STRUCTURE_ORGANIZATION       </td><td>GO_EXTRACELLULAR_STRUCTURE_ORGANIZATION       </td><td>Details ...                                   </td><td>81                                            </td><td>0.5867403                                     </td><td>2.157102                                      </td><td>0                                             </td><td>0.003303327                                   </td><td>0.006                                         </td><td>596                                           </td><td>tags=42%, list=14%, signal=48%                </td></tr>\n",
       "\t<tr><td>GO_REGULATION_OF_WOUND_HEALING                </td><td>GO_REGULATION_OF_WOUND_HEALING                </td><td>Details ...                                   </td><td>31                                            </td><td>0.6917205                                     </td><td>2.107708                                      </td><td>0                                             </td><td>0.004039901                                   </td><td>0.011                                         </td><td>686                                           </td><td>tags=45%, list=17%, signal=54%                </td></tr>\n",
       "\t<tr><td>GO_PROTEINACEOUS_EXTRACELLULAR_MATRIX         </td><td>GO_PROTEINACEOUS_EXTRACELLULAR_MATRIX         </td><td>Details ...                                   </td><td>64                                            </td><td>0.5921182                                     </td><td>2.089420                                      </td><td>0                                             </td><td>0.004946524                                   </td><td>0.018                                         </td><td>870                                           </td><td>tags=55%, list=21%, signal=68%                </td></tr>\n",
       "\t<tr><td>GO_EXTRACELLULAR_MATRIX_STRUCTURAL_CONSTITUENT</td><td>GO_EXTRACELLULAR_MATRIX_STRUCTURAL_CONSTITUENT</td><td>Details ...                                   </td><td>16                                            </td><td>0.8071039                                     </td><td>2.088291                                      </td><td>0                                             </td><td>0.003957219                                   </td><td>0.018                                         </td><td>594                                           </td><td>tags=75%, list=14%, signal=87%                </td></tr>\n",
       "\t<tr><td>GO_INFLAMMATORY_RESPONSE                      </td><td>GO_INFLAMMATORY_RESPONSE                      </td><td>Details ...                                   </td><td>51                                            </td><td>0.6137181                                     </td><td>2.085647                                      </td><td>0                                             </td><td>0.003671486                                   </td><td>0.020                                         </td><td>569                                           </td><td>tags=41%, list=14%, signal=47%                </td></tr>\n",
       "</tbody>\n",
       "</table>\n"
      ],
      "text/latex": [
       "\\begin{tabular}{r|lllllllllll}\n",
       " NAME & GS.br..follow.link.to.MSigDB & GS.DETAILS & SIZE & ES & NES & NOM.p.val & FDR.q.val & FWER.p.val & RANK.AT.MAX & LEADING.EDGE\\\\\n",
       "\\hline\n",
       "\t GO\\_BLOOD\\_MICROPARTICLE                         & GO\\_BLOOD\\_MICROPARTICLE                         & Details ...                                        & 46                                                 & 0.7105887                                          & 2.385417                                           & 0                                                  & 0.000000000                                        & 0.000                                              & 338                                                & tags=43\\%, list=8\\%, signal=47\\%               \\\\\n",
       "\t GO\\_EXTRACELLULAR\\_STRUCTURE\\_ORGANIZATION        & GO\\_EXTRACELLULAR\\_STRUCTURE\\_ORGANIZATION        & Details ...                                          & 81                                                   & 0.5867403                                            & 2.157102                                             & 0                                                    & 0.003303327                                          & 0.006                                                & 596                                                  & tags=42\\%, list=14\\%, signal=48\\%                \\\\\n",
       "\t GO\\_REGULATION\\_OF\\_WOUND\\_HEALING                 & GO\\_REGULATION\\_OF\\_WOUND\\_HEALING                 & Details ...                                            & 31                                                     & 0.6917205                                              & 2.107708                                               & 0                                                      & 0.004039901                                            & 0.011                                                  & 686                                                    & tags=45\\%, list=17\\%, signal=54\\%                  \\\\\n",
       "\t GO\\_PROTEINACEOUS\\_EXTRACELLULAR\\_MATRIX          & GO\\_PROTEINACEOUS\\_EXTRACELLULAR\\_MATRIX          & Details ...                                          & 64                                                   & 0.5921182                                            & 2.089420                                             & 0                                                    & 0.004946524                                          & 0.018                                                & 870                                                  & tags=55\\%, list=21\\%, signal=68\\%                \\\\\n",
       "\t GO\\_EXTRACELLULAR\\_MATRIX\\_STRUCTURAL\\_CONSTITUENT & GO\\_EXTRACELLULAR\\_MATRIX\\_STRUCTURAL\\_CONSTITUENT & Details ...                                            & 16                                                     & 0.8071039                                              & 2.088291                                               & 0                                                      & 0.003957219                                            & 0.018                                                  & 594                                                    & tags=75\\%, list=14\\%, signal=87\\%                  \\\\\n",
       "\t GO\\_INFLAMMATORY\\_RESPONSE                       & GO\\_INFLAMMATORY\\_RESPONSE                       & Details ...                                        & 51                                                 & 0.6137181                                          & 2.085647                                           & 0                                                  & 0.003671486                                        & 0.020                                              & 569                                                & tags=41\\%, list=14\\%, signal=47\\%              \\\\\n",
       "\\end{tabular}\n"
      ],
      "text/markdown": [
       "\n",
       "NAME | GS.br..follow.link.to.MSigDB | GS.DETAILS | SIZE | ES | NES | NOM.p.val | FDR.q.val | FWER.p.val | RANK.AT.MAX | LEADING.EDGE | \n",
       "|---|---|---|---|---|---|\n",
       "| GO_BLOOD_MICROPARTICLE                         | GO_BLOOD_MICROPARTICLE                         | Details ...                                    | 46                                             | 0.7105887                                      | 2.385417                                       | 0                                              | 0.000000000                                    | 0.000                                          | 338                                            | tags=43%, list=8%, signal=47%                  | \n",
       "| GO_EXTRACELLULAR_STRUCTURE_ORGANIZATION        | GO_EXTRACELLULAR_STRUCTURE_ORGANIZATION        | Details ...                                    | 81                                             | 0.5867403                                      | 2.157102                                       | 0                                              | 0.003303327                                    | 0.006                                          | 596                                            | tags=42%, list=14%, signal=48%                 | \n",
       "| GO_REGULATION_OF_WOUND_HEALING                 | GO_REGULATION_OF_WOUND_HEALING                 | Details ...                                    | 31                                             | 0.6917205                                      | 2.107708                                       | 0                                              | 0.004039901                                    | 0.011                                          | 686                                            | tags=45%, list=17%, signal=54%                 | \n",
       "| GO_PROTEINACEOUS_EXTRACELLULAR_MATRIX          | GO_PROTEINACEOUS_EXTRACELLULAR_MATRIX          | Details ...                                    | 64                                             | 0.5921182                                      | 2.089420                                       | 0                                              | 0.004946524                                    | 0.018                                          | 870                                            | tags=55%, list=21%, signal=68%                 | \n",
       "| GO_EXTRACELLULAR_MATRIX_STRUCTURAL_CONSTITUENT | GO_EXTRACELLULAR_MATRIX_STRUCTURAL_CONSTITUENT | Details ...                                    | 16                                             | 0.8071039                                      | 2.088291                                       | 0                                              | 0.003957219                                    | 0.018                                          | 594                                            | tags=75%, list=14%, signal=87%                 | \n",
       "| GO_INFLAMMATORY_RESPONSE                       | GO_INFLAMMATORY_RESPONSE                       | Details ...                                    | 51                                             | 0.6137181                                      | 2.085647                                       | 0                                              | 0.003671486                                    | 0.020                                          | 569                                            | tags=41%, list=14%, signal=47%                 | \n",
       "\n",
       "\n"
      ],
      "text/plain": [
       "  NAME                                          \n",
       "1 GO_BLOOD_MICROPARTICLE                        \n",
       "2 GO_EXTRACELLULAR_STRUCTURE_ORGANIZATION       \n",
       "3 GO_REGULATION_OF_WOUND_HEALING                \n",
       "4 GO_PROTEINACEOUS_EXTRACELLULAR_MATRIX         \n",
       "5 GO_EXTRACELLULAR_MATRIX_STRUCTURAL_CONSTITUENT\n",
       "6 GO_INFLAMMATORY_RESPONSE                      \n",
       "  GS.br..follow.link.to.MSigDB                   GS.DETAILS  SIZE ES       \n",
       "1 GO_BLOOD_MICROPARTICLE                         Details ... 46   0.7105887\n",
       "2 GO_EXTRACELLULAR_STRUCTURE_ORGANIZATION        Details ... 81   0.5867403\n",
       "3 GO_REGULATION_OF_WOUND_HEALING                 Details ... 31   0.6917205\n",
       "4 GO_PROTEINACEOUS_EXTRACELLULAR_MATRIX          Details ... 64   0.5921182\n",
       "5 GO_EXTRACELLULAR_MATRIX_STRUCTURAL_CONSTITUENT Details ... 16   0.8071039\n",
       "6 GO_INFLAMMATORY_RESPONSE                       Details ... 51   0.6137181\n",
       "  NES      NOM.p.val FDR.q.val   FWER.p.val RANK.AT.MAX\n",
       "1 2.385417 0         0.000000000 0.000      338        \n",
       "2 2.157102 0         0.003303327 0.006      596        \n",
       "3 2.107708 0         0.004039901 0.011      686        \n",
       "4 2.089420 0         0.004946524 0.018      870        \n",
       "5 2.088291 0         0.003957219 0.018      594        \n",
       "6 2.085647 0         0.003671486 0.020      569        \n",
       "  LEADING.EDGE                  \n",
       "1 tags=43%, list=8%, signal=47% \n",
       "2 tags=42%, list=14%, signal=48%\n",
       "3 tags=45%, list=17%, signal=54%\n",
       "4 tags=55%, list=21%, signal=68%\n",
       "5 tags=75%, list=14%, signal=87%\n",
       "6 tags=41%, list=14%, signal=47%"
      ]
     },
     "metadata": {},
     "output_type": "display_data"
    },
    {
     "data": {
      "text/html": [
       "<table>\n",
       "<thead><tr><th scope=col>NAME</th><th scope=col>GS.br..follow.link.to.MSigDB</th><th scope=col>GS.DETAILS</th><th scope=col>SIZE</th><th scope=col>ES</th><th scope=col>NES</th><th scope=col>NOM.p.val</th><th scope=col>FDR.q.val</th><th scope=col>FWER.p.val</th><th scope=col>RANK.AT.MAX</th><th scope=col>LEADING.EDGE</th></tr></thead>\n",
       "<tbody>\n",
       "\t<tr><td>GO_PROTEINACEOUS_EXTRACELLULAR_MATRIX                      </td><td>GO_PROTEINACEOUS_EXTRACELLULAR_MATRIX                      </td><td>Details ...                                                </td><td>64                                                         </td><td>0.6061036                                                  </td><td>2.150003                                                   </td><td>0                                                          </td><td>0.004563797                                                </td><td>0.005                                                      </td><td>561                                                        </td><td>tags=44%, list=14%, signal=50%                             </td></tr>\n",
       "\t<tr><td>GO_EXTRACELLULAR_STRUCTURE_ORGANIZATION                    </td><td>GO_EXTRACELLULAR_STRUCTURE_ORGANIZATION                    </td><td>Details ...                                                </td><td>81                                                         </td><td>0.5796539                                                  </td><td>2.108616                                                   </td><td>0                                                          </td><td>0.003663566                                                </td><td>0.008                                                      </td><td>631                                                        </td><td>tags=43%, list=15%, signal=50%                             </td></tr>\n",
       "\t<tr><td>GO_MULTICELLULAR_ORGANISMAL_MACROMOLECULE_METABOLIC_PROCESS</td><td>GO_MULTICELLULAR_ORGANISMAL_MACROMOLECULE_METABOLIC_PROCESS</td><td>Details ...                                                </td><td>18                                                         </td><td>0.7636614                                                  </td><td>2.098522                                                   </td><td>0                                                          </td><td>0.003676237                                                </td><td>0.012                                                      </td><td>631                                                        </td><td>tags=61%, list=15%, signal=72%                             </td></tr>\n",
       "\t<tr><td>GO_EXTRACELLULAR_MATRIX                                    </td><td>GO_EXTRACELLULAR_MATRIX                                    </td><td>Details ...                                                </td><td>83                                                         </td><td>0.5667232                                                  </td><td>2.066041                                                   </td><td>0                                                          </td><td>0.007334331                                                </td><td>0.032                                                      </td><td>561                                                        </td><td>tags=40%, list=14%, signal=45%                             </td></tr>\n",
       "\t<tr><td>GO_MULTICELLULAR_ORGANISM_METABOLIC_PROCESS                </td><td>GO_MULTICELLULAR_ORGANISM_METABOLIC_PROCESS                </td><td>Details ...                                                </td><td>19                                                         </td><td>0.7598928                                                  </td><td>2.043858                                                   </td><td>0                                                          </td><td>0.009884111                                                </td><td>0.053                                                      </td><td>631                                                        </td><td>tags=58%, list=15%, signal=68%                             </td></tr>\n",
       "\t<tr><td>GO_EXTRACELLULAR_MATRIX_STRUCTURAL_CONSTITUENT             </td><td>GO_EXTRACELLULAR_MATRIX_STRUCTURAL_CONSTITUENT             </td><td>Details ...                                                </td><td>16                                                         </td><td>0.7748652                                                  </td><td>2.043438                                                   </td><td>0                                                          </td><td>0.008545915                                                </td><td>0.055                                                      </td><td>840                                                        </td><td>tags=88%, list=20%, signal=109%                            </td></tr>\n",
       "</tbody>\n",
       "</table>\n"
      ],
      "text/latex": [
       "\\begin{tabular}{r|lllllllllll}\n",
       " NAME & GS.br..follow.link.to.MSigDB & GS.DETAILS & SIZE & ES & NES & NOM.p.val & FDR.q.val & FWER.p.val & RANK.AT.MAX & LEADING.EDGE\\\\\n",
       "\\hline\n",
       "\t GO\\_PROTEINACEOUS\\_EXTRACELLULAR\\_MATRIX                       & GO\\_PROTEINACEOUS\\_EXTRACELLULAR\\_MATRIX                       & Details ...                                                       & 64                                                                & 0.6061036                                                         & 2.150003                                                          & 0                                                                 & 0.004563797                                                       & 0.005                                                             & 561                                                               & tags=44\\%, list=14\\%, signal=50\\%                             \\\\\n",
       "\t GO\\_EXTRACELLULAR\\_STRUCTURE\\_ORGANIZATION                     & GO\\_EXTRACELLULAR\\_STRUCTURE\\_ORGANIZATION                     & Details ...                                                       & 81                                                                & 0.5796539                                                         & 2.108616                                                          & 0                                                                 & 0.003663566                                                       & 0.008                                                             & 631                                                               & tags=43\\%, list=15\\%, signal=50\\%                             \\\\\n",
       "\t GO\\_MULTICELLULAR\\_ORGANISMAL\\_MACROMOLECULE\\_METABOLIC\\_PROCESS & GO\\_MULTICELLULAR\\_ORGANISMAL\\_MACROMOLECULE\\_METABOLIC\\_PROCESS & Details ...                                                           & 18                                                                    & 0.7636614                                                             & 2.098522                                                              & 0                                                                     & 0.003676237                                                           & 0.012                                                                 & 631                                                                   & tags=61\\%, list=15\\%, signal=72\\%                                 \\\\\n",
       "\t GO\\_EXTRACELLULAR\\_MATRIX                                     & GO\\_EXTRACELLULAR\\_MATRIX                                     & Details ...                                                     & 83                                                              & 0.5667232                                                       & 2.066041                                                        & 0                                                               & 0.007334331                                                     & 0.032                                                           & 561                                                             & tags=40\\%, list=14\\%, signal=45\\%                           \\\\\n",
       "\t GO\\_MULTICELLULAR\\_ORGANISM\\_METABOLIC\\_PROCESS                 & GO\\_MULTICELLULAR\\_ORGANISM\\_METABOLIC\\_PROCESS                 & Details ...                                                         & 19                                                                  & 0.7598928                                                           & 2.043858                                                            & 0                                                                   & 0.009884111                                                         & 0.053                                                               & 631                                                                 & tags=58\\%, list=15\\%, signal=68\\%                               \\\\\n",
       "\t GO\\_EXTRACELLULAR\\_MATRIX\\_STRUCTURAL\\_CONSTITUENT              & GO\\_EXTRACELLULAR\\_MATRIX\\_STRUCTURAL\\_CONSTITUENT              & Details ...                                                         & 16                                                                  & 0.7748652                                                           & 2.043438                                                            & 0                                                                   & 0.008545915                                                         & 0.055                                                               & 840                                                                 & tags=88\\%, list=20\\%, signal=109\\%                              \\\\\n",
       "\\end{tabular}\n"
      ],
      "text/markdown": [
       "\n",
       "NAME | GS.br..follow.link.to.MSigDB | GS.DETAILS | SIZE | ES | NES | NOM.p.val | FDR.q.val | FWER.p.val | RANK.AT.MAX | LEADING.EDGE | \n",
       "|---|---|---|---|---|---|\n",
       "| GO_PROTEINACEOUS_EXTRACELLULAR_MATRIX                       | GO_PROTEINACEOUS_EXTRACELLULAR_MATRIX                       | Details ...                                                 | 64                                                          | 0.6061036                                                   | 2.150003                                                    | 0                                                           | 0.004563797                                                 | 0.005                                                       | 561                                                         | tags=44%, list=14%, signal=50%                              | \n",
       "| GO_EXTRACELLULAR_STRUCTURE_ORGANIZATION                     | GO_EXTRACELLULAR_STRUCTURE_ORGANIZATION                     | Details ...                                                 | 81                                                          | 0.5796539                                                   | 2.108616                                                    | 0                                                           | 0.003663566                                                 | 0.008                                                       | 631                                                         | tags=43%, list=15%, signal=50%                              | \n",
       "| GO_MULTICELLULAR_ORGANISMAL_MACROMOLECULE_METABOLIC_PROCESS | GO_MULTICELLULAR_ORGANISMAL_MACROMOLECULE_METABOLIC_PROCESS | Details ...                                                 | 18                                                          | 0.7636614                                                   | 2.098522                                                    | 0                                                           | 0.003676237                                                 | 0.012                                                       | 631                                                         | tags=61%, list=15%, signal=72%                              | \n",
       "| GO_EXTRACELLULAR_MATRIX                                     | GO_EXTRACELLULAR_MATRIX                                     | Details ...                                                 | 83                                                          | 0.5667232                                                   | 2.066041                                                    | 0                                                           | 0.007334331                                                 | 0.032                                                       | 561                                                         | tags=40%, list=14%, signal=45%                              | \n",
       "| GO_MULTICELLULAR_ORGANISM_METABOLIC_PROCESS                 | GO_MULTICELLULAR_ORGANISM_METABOLIC_PROCESS                 | Details ...                                                 | 19                                                          | 0.7598928                                                   | 2.043858                                                    | 0                                                           | 0.009884111                                                 | 0.053                                                       | 631                                                         | tags=58%, list=15%, signal=68%                              | \n",
       "| GO_EXTRACELLULAR_MATRIX_STRUCTURAL_CONSTITUENT              | GO_EXTRACELLULAR_MATRIX_STRUCTURAL_CONSTITUENT              | Details ...                                                 | 16                                                          | 0.7748652                                                   | 2.043438                                                    | 0                                                           | 0.008545915                                                 | 0.055                                                       | 840                                                         | tags=88%, list=20%, signal=109%                             | \n",
       "\n",
       "\n"
      ],
      "text/plain": [
       "  NAME                                                       \n",
       "1 GO_PROTEINACEOUS_EXTRACELLULAR_MATRIX                      \n",
       "2 GO_EXTRACELLULAR_STRUCTURE_ORGANIZATION                    \n",
       "3 GO_MULTICELLULAR_ORGANISMAL_MACROMOLECULE_METABOLIC_PROCESS\n",
       "4 GO_EXTRACELLULAR_MATRIX                                    \n",
       "5 GO_MULTICELLULAR_ORGANISM_METABOLIC_PROCESS                \n",
       "6 GO_EXTRACELLULAR_MATRIX_STRUCTURAL_CONSTITUENT             \n",
       "  GS.br..follow.link.to.MSigDB                                GS.DETAILS  SIZE\n",
       "1 GO_PROTEINACEOUS_EXTRACELLULAR_MATRIX                       Details ... 64  \n",
       "2 GO_EXTRACELLULAR_STRUCTURE_ORGANIZATION                     Details ... 81  \n",
       "3 GO_MULTICELLULAR_ORGANISMAL_MACROMOLECULE_METABOLIC_PROCESS Details ... 18  \n",
       "4 GO_EXTRACELLULAR_MATRIX                                     Details ... 83  \n",
       "5 GO_MULTICELLULAR_ORGANISM_METABOLIC_PROCESS                 Details ... 19  \n",
       "6 GO_EXTRACELLULAR_MATRIX_STRUCTURAL_CONSTITUENT              Details ... 16  \n",
       "  ES        NES      NOM.p.val FDR.q.val   FWER.p.val RANK.AT.MAX\n",
       "1 0.6061036 2.150003 0         0.004563797 0.005      561        \n",
       "2 0.5796539 2.108616 0         0.003663566 0.008      631        \n",
       "3 0.7636614 2.098522 0         0.003676237 0.012      631        \n",
       "4 0.5667232 2.066041 0         0.007334331 0.032      561        \n",
       "5 0.7598928 2.043858 0         0.009884111 0.053      631        \n",
       "6 0.7748652 2.043438 0         0.008545915 0.055      840        \n",
       "  LEADING.EDGE                   \n",
       "1 tags=44%, list=14%, signal=50% \n",
       "2 tags=43%, list=15%, signal=50% \n",
       "3 tags=61%, list=15%, signal=72% \n",
       "4 tags=40%, list=14%, signal=45% \n",
       "5 tags=58%, list=15%, signal=68% \n",
       "6 tags=88%, list=20%, signal=109%"
      ]
     },
     "metadata": {},
     "output_type": "display_data"
    },
    {
     "data": {
      "text/html": [
       "<table>\n",
       "<thead><tr><th scope=col>NAME</th><th scope=col>GS.br..follow.link.to.MSigDB</th><th scope=col>GS.DETAILS</th><th scope=col>SIZE</th><th scope=col>ES</th><th scope=col>NES</th><th scope=col>NOM.p.val</th><th scope=col>FDR.q.val</th><th scope=col>FWER.p.val</th><th scope=col>RANK.AT.MAX</th><th scope=col>LEADING.EDGE</th></tr></thead>\n",
       "<tbody>\n",
       "\t<tr><td>GO_SNRNA_METABOLIC_PROCESS                                 </td><td>GO_SNRNA_METABOLIC_PROCESS                                 </td><td>Details ...                                                </td><td>24                                                         </td><td>0.6756252                                                  </td><td>1.932008                                                   </td><td>0.000000000                                                </td><td>0.2230512                                                  </td><td>0.205                                                      </td><td>972                                                        </td><td>tags=67%, list=23%, signal=87%                             </td></tr>\n",
       "\t<tr><td>GO_NEGATIVE_REGULATION_OF_DNA_METABOLIC_PROCESS            </td><td>GO_NEGATIVE_REGULATION_OF_DNA_METABOLIC_PROCESS            </td><td>Details ...                                                </td><td>30                                                         </td><td>0.5730839                                                  </td><td>1.739064                                                   </td><td>0.003502627                                                </td><td>1.0000000                                                  </td><td>0.963                                                      </td><td>908                                                        </td><td>tags=50%, list=22%, signal=64%                             </td></tr>\n",
       "\t<tr><td>GO_MEIOTIC_CELL_CYCLE                                      </td><td>GO_MEIOTIC_CELL_CYCLE                                      </td><td>Details ...                                                </td><td>32                                                         </td><td>0.5594117                                                  </td><td>1.730824                                                   </td><td>0.005235602                                                </td><td>1.0000000                                                  </td><td>0.973                                                      </td><td>838                                                        </td><td>tags=47%, list=20%, signal=58%                             </td></tr>\n",
       "\t<tr><td>GO_DNA_TEMPLATED_TRANSCRIPTION_ELONGATION                  </td><td>GO_DNA_TEMPLATED_TRANSCRIPTION_ELONGATION                  </td><td>Details ...                                                </td><td>32                                                         </td><td>0.5713344                                                  </td><td>1.722959                                                   </td><td>0.000000000                                                </td><td>0.9427758                                                  </td><td>0.977                                                      </td><td>972                                                        </td><td>tags=53%, list=23%, signal=69%                             </td></tr>\n",
       "\t<tr><td>GO_NCRNA_TRANSCRIPTION                                     </td><td>GO_NCRNA_TRANSCRIPTION                                     </td><td>Details ...                                                </td><td>23                                                         </td><td>0.6054039                                                  </td><td>1.719714                                                   </td><td>0.005067567                                                </td><td>0.7884907                                                  </td><td>0.982                                                      </td><td>972                                                        </td><td>tags=52%, list=23%, signal=68%                             </td></tr>\n",
       "\t<tr><td>GO_TRANSCRIPTION_ELONGATION_FROM_RNA_POLYMERASE_II_PROMOTER</td><td>GO_TRANSCRIPTION_ELONGATION_FROM_RNA_POLYMERASE_II_PROMOTER</td><td>Details ...                                                </td><td>30                                                         </td><td>0.5704447                                                  </td><td>1.706589                                                   </td><td>0.003623189                                                </td><td>0.7566872                                                  </td><td>0.989                                                      </td><td>972                                                        </td><td>tags=53%, list=23%, signal=69%                             </td></tr>\n",
       "</tbody>\n",
       "</table>\n"
      ],
      "text/latex": [
       "\\begin{tabular}{r|lllllllllll}\n",
       " NAME & GS.br..follow.link.to.MSigDB & GS.DETAILS & SIZE & ES & NES & NOM.p.val & FDR.q.val & FWER.p.val & RANK.AT.MAX & LEADING.EDGE\\\\\n",
       "\\hline\n",
       "\t GO\\_SNRNA\\_METABOLIC\\_PROCESS                                  & GO\\_SNRNA\\_METABOLIC\\_PROCESS                                  & Details ...                                                       & 24                                                                & 0.6756252                                                         & 1.932008                                                          & 0.000000000                                                       & 0.2230512                                                         & 0.205                                                             & 972                                                               & tags=67\\%, list=23\\%, signal=87\\%                             \\\\\n",
       "\t GO\\_NEGATIVE\\_REGULATION\\_OF\\_DNA\\_METABOLIC\\_PROCESS             & GO\\_NEGATIVE\\_REGULATION\\_OF\\_DNA\\_METABOLIC\\_PROCESS             & Details ...                                                             & 30                                                                      & 0.5730839                                                               & 1.739064                                                                & 0.003502627                                                             & 1.0000000                                                               & 0.963                                                                   & 908                                                                     & tags=50\\%, list=22\\%, signal=64\\%                                   \\\\\n",
       "\t GO\\_MEIOTIC\\_CELL\\_CYCLE                                       & GO\\_MEIOTIC\\_CELL\\_CYCLE                                       & Details ...                                                       & 32                                                                & 0.5594117                                                         & 1.730824                                                          & 0.005235602                                                       & 1.0000000                                                         & 0.973                                                             & 838                                                               & tags=47\\%, list=20\\%, signal=58\\%                             \\\\\n",
       "\t GO\\_DNA\\_TEMPLATED\\_TRANSCRIPTION\\_ELONGATION                   & GO\\_DNA\\_TEMPLATED\\_TRANSCRIPTION\\_ELONGATION                   & Details ...                                                         & 32                                                                  & 0.5713344                                                           & 1.722959                                                            & 0.000000000                                                         & 0.9427758                                                           & 0.977                                                               & 972                                                                 & tags=53\\%, list=23\\%, signal=69\\%                               \\\\\n",
       "\t GO\\_NCRNA\\_TRANSCRIPTION                                      & GO\\_NCRNA\\_TRANSCRIPTION                                      & Details ...                                                     & 23                                                              & 0.6054039                                                       & 1.719714                                                        & 0.005067567                                                     & 0.7884907                                                       & 0.982                                                           & 972                                                             & tags=52\\%, list=23\\%, signal=68\\%                           \\\\\n",
       "\t GO\\_TRANSCRIPTION\\_ELONGATION\\_FROM\\_RNA\\_POLYMERASE\\_II\\_PROMOTER & GO\\_TRANSCRIPTION\\_ELONGATION\\_FROM\\_RNA\\_POLYMERASE\\_II\\_PROMOTER & Details ...                                                               & 30                                                                        & 0.5704447                                                                 & 1.706589                                                                  & 0.003623189                                                               & 0.7566872                                                                 & 0.989                                                                     & 972                                                                       & tags=53\\%, list=23\\%, signal=69\\%                                     \\\\\n",
       "\\end{tabular}\n"
      ],
      "text/markdown": [
       "\n",
       "NAME | GS.br..follow.link.to.MSigDB | GS.DETAILS | SIZE | ES | NES | NOM.p.val | FDR.q.val | FWER.p.val | RANK.AT.MAX | LEADING.EDGE | \n",
       "|---|---|---|---|---|---|\n",
       "| GO_SNRNA_METABOLIC_PROCESS                                  | GO_SNRNA_METABOLIC_PROCESS                                  | Details ...                                                 | 24                                                          | 0.6756252                                                   | 1.932008                                                    | 0.000000000                                                 | 0.2230512                                                   | 0.205                                                       | 972                                                         | tags=67%, list=23%, signal=87%                              | \n",
       "| GO_NEGATIVE_REGULATION_OF_DNA_METABOLIC_PROCESS             | GO_NEGATIVE_REGULATION_OF_DNA_METABOLIC_PROCESS             | Details ...                                                 | 30                                                          | 0.5730839                                                   | 1.739064                                                    | 0.003502627                                                 | 1.0000000                                                   | 0.963                                                       | 908                                                         | tags=50%, list=22%, signal=64%                              | \n",
       "| GO_MEIOTIC_CELL_CYCLE                                       | GO_MEIOTIC_CELL_CYCLE                                       | Details ...                                                 | 32                                                          | 0.5594117                                                   | 1.730824                                                    | 0.005235602                                                 | 1.0000000                                                   | 0.973                                                       | 838                                                         | tags=47%, list=20%, signal=58%                              | \n",
       "| GO_DNA_TEMPLATED_TRANSCRIPTION_ELONGATION                   | GO_DNA_TEMPLATED_TRANSCRIPTION_ELONGATION                   | Details ...                                                 | 32                                                          | 0.5713344                                                   | 1.722959                                                    | 0.000000000                                                 | 0.9427758                                                   | 0.977                                                       | 972                                                         | tags=53%, list=23%, signal=69%                              | \n",
       "| GO_NCRNA_TRANSCRIPTION                                      | GO_NCRNA_TRANSCRIPTION                                      | Details ...                                                 | 23                                                          | 0.6054039                                                   | 1.719714                                                    | 0.005067567                                                 | 0.7884907                                                   | 0.982                                                       | 972                                                         | tags=52%, list=23%, signal=68%                              | \n",
       "| GO_TRANSCRIPTION_ELONGATION_FROM_RNA_POLYMERASE_II_PROMOTER | GO_TRANSCRIPTION_ELONGATION_FROM_RNA_POLYMERASE_II_PROMOTER | Details ...                                                 | 30                                                          | 0.5704447                                                   | 1.706589                                                    | 0.003623189                                                 | 0.7566872                                                   | 0.989                                                       | 972                                                         | tags=53%, list=23%, signal=69%                              | \n",
       "\n",
       "\n"
      ],
      "text/plain": [
       "  NAME                                                       \n",
       "1 GO_SNRNA_METABOLIC_PROCESS                                 \n",
       "2 GO_NEGATIVE_REGULATION_OF_DNA_METABOLIC_PROCESS            \n",
       "3 GO_MEIOTIC_CELL_CYCLE                                      \n",
       "4 GO_DNA_TEMPLATED_TRANSCRIPTION_ELONGATION                  \n",
       "5 GO_NCRNA_TRANSCRIPTION                                     \n",
       "6 GO_TRANSCRIPTION_ELONGATION_FROM_RNA_POLYMERASE_II_PROMOTER\n",
       "  GS.br..follow.link.to.MSigDB                                GS.DETAILS  SIZE\n",
       "1 GO_SNRNA_METABOLIC_PROCESS                                  Details ... 24  \n",
       "2 GO_NEGATIVE_REGULATION_OF_DNA_METABOLIC_PROCESS             Details ... 30  \n",
       "3 GO_MEIOTIC_CELL_CYCLE                                       Details ... 32  \n",
       "4 GO_DNA_TEMPLATED_TRANSCRIPTION_ELONGATION                   Details ... 32  \n",
       "5 GO_NCRNA_TRANSCRIPTION                                      Details ... 23  \n",
       "6 GO_TRANSCRIPTION_ELONGATION_FROM_RNA_POLYMERASE_II_PROMOTER Details ... 30  \n",
       "  ES        NES      NOM.p.val   FDR.q.val FWER.p.val RANK.AT.MAX\n",
       "1 0.6756252 1.932008 0.000000000 0.2230512 0.205      972        \n",
       "2 0.5730839 1.739064 0.003502627 1.0000000 0.963      908        \n",
       "3 0.5594117 1.730824 0.005235602 1.0000000 0.973      838        \n",
       "4 0.5713344 1.722959 0.000000000 0.9427758 0.977      972        \n",
       "5 0.6054039 1.719714 0.005067567 0.7884907 0.982      972        \n",
       "6 0.5704447 1.706589 0.003623189 0.7566872 0.989      972        \n",
       "  LEADING.EDGE                  \n",
       "1 tags=67%, list=23%, signal=87%\n",
       "2 tags=50%, list=22%, signal=64%\n",
       "3 tags=47%, list=20%, signal=58%\n",
       "4 tags=53%, list=23%, signal=69%\n",
       "5 tags=52%, list=23%, signal=68%\n",
       "6 tags=53%, list=23%, signal=69%"
      ]
     },
     "metadata": {},
     "output_type": "display_data"
    }
   ],
   "source": [
    "head(GSEA.DL)\n",
    "head(GSEA.UL)\n",
    "head(GSEA.OL)"
   ]
  },
  {
   "cell_type": "markdown",
   "metadata": {},
   "source": [
    "## GSEA 결과에서 필요한 것들만 취함 "
   ]
  },
  {
   "cell_type": "code",
   "execution_count": 7,
   "metadata": {},
   "outputs": [],
   "source": [
    "GSEA.DL  <-  select(GSEA.DL, c(NAME,SIZE, ES, NES, NOM.p.val, FDR.q.val ))\n",
    "GSEA.UL  <-  select(GSEA.UL, c(NAME,SIZE, ES, NES, NOM.p.val, FDR.q.val ))\n",
    "GSEA.OL  <-  select(GSEA.OL, c(NAME,SIZE, ES, NES, NOM.p.val, FDR.q.val ))"
   ]
  },
  {
   "cell_type": "code",
   "execution_count": 99,
   "metadata": {},
   "outputs": [
    {
     "data": {
      "text/html": [
       "<table>\n",
       "<thead><tr><th scope=col>NAME</th><th scope=col>SIZE</th><th scope=col>ES</th><th scope=col>NES</th><th scope=col>NOM.p.val</th><th scope=col>FDR.q.val</th></tr></thead>\n",
       "<tbody>\n",
       "\t<tr><td>GO_PROTEINACEOUS_EXTRACELLULAR_MATRIX                      </td><td>64                                                         </td><td>0.6061036                                                  </td><td>2.150003                                                   </td><td>0                                                          </td><td>0.004563797                                                </td></tr>\n",
       "\t<tr><td>GO_EXTRACELLULAR_STRUCTURE_ORGANIZATION                    </td><td>81                                                         </td><td>0.5796539                                                  </td><td>2.108616                                                   </td><td>0                                                          </td><td>0.003663566                                                </td></tr>\n",
       "\t<tr><td>GO_MULTICELLULAR_ORGANISMAL_MACROMOLECULE_METABOLIC_PROCESS</td><td>18                                                         </td><td>0.7636614                                                  </td><td>2.098522                                                   </td><td>0                                                          </td><td>0.003676237                                                </td></tr>\n",
       "\t<tr><td>GO_EXTRACELLULAR_MATRIX                                    </td><td>83                                                         </td><td>0.5667232                                                  </td><td>2.066041                                                   </td><td>0                                                          </td><td>0.007334331                                                </td></tr>\n",
       "\t<tr><td>GO_MULTICELLULAR_ORGANISM_METABOLIC_PROCESS                </td><td>19                                                         </td><td>0.7598928                                                  </td><td>2.043858                                                   </td><td>0                                                          </td><td>0.009884111                                                </td></tr>\n",
       "\t<tr><td>GO_EXTRACELLULAR_MATRIX_STRUCTURAL_CONSTITUENT             </td><td>16                                                         </td><td>0.7748652                                                  </td><td>2.043438                                                   </td><td>0                                                          </td><td>0.008545915                                                </td></tr>\n",
       "</tbody>\n",
       "</table>\n"
      ],
      "text/latex": [
       "\\begin{tabular}{r|llllll}\n",
       " NAME & SIZE & ES & NES & NOM.p.val & FDR.q.val\\\\\n",
       "\\hline\n",
       "\t GO\\_PROTEINACEOUS\\_EXTRACELLULAR\\_MATRIX                       & 64                                                                & 0.6061036                                                         & 2.150003                                                          & 0                                                                 & 0.004563797                                                      \\\\\n",
       "\t GO\\_EXTRACELLULAR\\_STRUCTURE\\_ORGANIZATION                     & 81                                                                & 0.5796539                                                         & 2.108616                                                          & 0                                                                 & 0.003663566                                                      \\\\\n",
       "\t GO\\_MULTICELLULAR\\_ORGANISMAL\\_MACROMOLECULE\\_METABOLIC\\_PROCESS & 18                                                                    & 0.7636614                                                             & 2.098522                                                              & 0                                                                     & 0.003676237                                                          \\\\\n",
       "\t GO\\_EXTRACELLULAR\\_MATRIX                                     & 83                                                              & 0.5667232                                                       & 2.066041                                                        & 0                                                               & 0.007334331                                                    \\\\\n",
       "\t GO\\_MULTICELLULAR\\_ORGANISM\\_METABOLIC\\_PROCESS                 & 19                                                                  & 0.7598928                                                           & 2.043858                                                            & 0                                                                   & 0.009884111                                                        \\\\\n",
       "\t GO\\_EXTRACELLULAR\\_MATRIX\\_STRUCTURAL\\_CONSTITUENT              & 16                                                                  & 0.7748652                                                           & 2.043438                                                            & 0                                                                   & 0.008545915                                                        \\\\\n",
       "\\end{tabular}\n"
      ],
      "text/markdown": [
       "\n",
       "NAME | SIZE | ES | NES | NOM.p.val | FDR.q.val | \n",
       "|---|---|---|---|---|---|\n",
       "| GO_PROTEINACEOUS_EXTRACELLULAR_MATRIX                       | 64                                                          | 0.6061036                                                   | 2.150003                                                    | 0                                                           | 0.004563797                                                 | \n",
       "| GO_EXTRACELLULAR_STRUCTURE_ORGANIZATION                     | 81                                                          | 0.5796539                                                   | 2.108616                                                    | 0                                                           | 0.003663566                                                 | \n",
       "| GO_MULTICELLULAR_ORGANISMAL_MACROMOLECULE_METABOLIC_PROCESS | 18                                                          | 0.7636614                                                   | 2.098522                                                    | 0                                                           | 0.003676237                                                 | \n",
       "| GO_EXTRACELLULAR_MATRIX                                     | 83                                                          | 0.5667232                                                   | 2.066041                                                    | 0                                                           | 0.007334331                                                 | \n",
       "| GO_MULTICELLULAR_ORGANISM_METABOLIC_PROCESS                 | 19                                                          | 0.7598928                                                   | 2.043858                                                    | 0                                                           | 0.009884111                                                 | \n",
       "| GO_EXTRACELLULAR_MATRIX_STRUCTURAL_CONSTITUENT              | 16                                                          | 0.7748652                                                   | 2.043438                                                    | 0                                                           | 0.008545915                                                 | \n",
       "\n",
       "\n"
      ],
      "text/plain": [
       "  NAME                                                        SIZE ES       \n",
       "1 GO_PROTEINACEOUS_EXTRACELLULAR_MATRIX                       64   0.6061036\n",
       "2 GO_EXTRACELLULAR_STRUCTURE_ORGANIZATION                     81   0.5796539\n",
       "3 GO_MULTICELLULAR_ORGANISMAL_MACROMOLECULE_METABOLIC_PROCESS 18   0.7636614\n",
       "4 GO_EXTRACELLULAR_MATRIX                                     83   0.5667232\n",
       "5 GO_MULTICELLULAR_ORGANISM_METABOLIC_PROCESS                 19   0.7598928\n",
       "6 GO_EXTRACELLULAR_MATRIX_STRUCTURAL_CONSTITUENT              16   0.7748652\n",
       "  NES      NOM.p.val FDR.q.val  \n",
       "1 2.150003 0         0.004563797\n",
       "2 2.108616 0         0.003663566\n",
       "3 2.098522 0         0.003676237\n",
       "4 2.066041 0         0.007334331\n",
       "5 2.043858 0         0.009884111\n",
       "6 2.043438 0         0.008545915"
      ]
     },
     "metadata": {},
     "output_type": "display_data"
    }
   ],
   "source": [
    "head(GSEA.UL)"
   ]
  },
  {
   "cell_type": "markdown",
   "metadata": {},
   "source": [
    "## merge 함수를 이용하기 위해 df 이름 변경 "
   ]
  },
  {
   "cell_type": "code",
   "execution_count": 8,
   "metadata": {
    "collapsed": true
   },
   "outputs": [],
   "source": [
    "names(GSEA.UL)  <- c(\"NAME\", \"UL.SIZE\", \"UL.ES\", \"UL.NES\", \"UL.p.val\", \"UL.q.val\")\n",
    "names(GSEA.DL)  <- c(\"NAME\", \"DL.SIZE\", \"DL.ES\", \"DL.NES\", \"DL.p.val\", \"DL.q.val\")\n",
    "names(GSEA.OL)  <- c(\"NAME\", \"OL.SIZE\", \"OL.ES\", \"OL.NES\", \"OL.p.val\", \"OL.q.val\")"
   ]
  },
  {
   "cell_type": "markdown",
   "metadata": {},
   "source": [
    "## Gene-set NAME으로 합쳐서 master.df를 생성"
   ]
  },
  {
   "cell_type": "code",
   "execution_count": 9,
   "metadata": {
    "collapsed": true
   },
   "outputs": [],
   "source": [
    "master.df  <-  merge(GSEA.DL, GSEA.UL,by= \"NAME\")\n",
    "master.df  <-  merge(master.df, GSEA.OL, by = \"NAME\")"
   ]
  },
  {
   "cell_type": "markdown",
   "metadata": {},
   "source": [
    "## master.df에 대한 summary"
   ]
  },
  {
   "cell_type": "code",
   "execution_count": 10,
   "metadata": {},
   "outputs": [
    {
     "data": {
      "text/html": [
       "<ol class=list-inline>\n",
       "\t<li>2309</li>\n",
       "\t<li>16</li>\n",
       "</ol>\n"
      ],
      "text/latex": [
       "\\begin{enumerate*}\n",
       "\\item 2309\n",
       "\\item 16\n",
       "\\end{enumerate*}\n"
      ],
      "text/markdown": [
       "1. 2309\n",
       "2. 16\n",
       "\n",
       "\n"
      ],
      "text/plain": [
       "[1] 2309   16"
      ]
     },
     "metadata": {},
     "output_type": "display_data"
    },
    {
     "data": {
      "text/html": [
       "<table>\n",
       "<thead><tr><th scope=col>NAME</th><th scope=col>DL.SIZE</th><th scope=col>DL.ES</th><th scope=col>DL.NES</th><th scope=col>DL.p.val</th><th scope=col>DL.q.val</th><th scope=col>UL.SIZE</th><th scope=col>UL.ES</th><th scope=col>UL.NES</th><th scope=col>UL.p.val</th><th scope=col>UL.q.val</th><th scope=col>OL.SIZE</th><th scope=col>OL.ES</th><th scope=col>OL.NES</th><th scope=col>OL.p.val</th><th scope=col>OL.q.val</th></tr></thead>\n",
       "<tbody>\n",
       "\t<tr><td>GO_3_5_EXONUCLEASE_ACTIVITY       </td><td>15                                </td><td>-0.2260609                        </td><td>-0.6056082                        </td><td>0.9458333                         </td><td>1.0000000                         </td><td>15                                </td><td>-0.3048619                        </td><td>-0.8479007                        </td><td>0.69099754                        </td><td>0.9242768                         </td><td>15                                </td><td> 0.4998676                        </td><td> 1.285202                         </td><td>0.15696649                        </td><td>0.8157840                         </td></tr>\n",
       "\t<tr><td>GO_4_IRON_4_SULFUR_CLUSTER_BINDING</td><td>16                                </td><td> 0.4447620                        </td><td> 1.1661059                        </td><td>0.2846715                         </td><td>0.6517217                         </td><td>16                                </td><td>-0.4268038                        </td><td>-1.2132324                        </td><td>0.23291140                        </td><td>0.6344746                         </td><td>16                                </td><td> 0.5305798                        </td><td> 1.356912                         </td><td>0.12110092                        </td><td>0.8692402                         </td></tr>\n",
       "\t<tr><td>GO_ACETYL_COA_METABOLIC_PROCESS   </td><td>15                                </td><td>-0.1822362                        </td><td>-0.4965963                        </td><td>0.9855372                         </td><td>1.0000000                         </td><td>15                                </td><td> 0.2817319                        </td><td> 0.7355507                        </td><td>0.83278143                        </td><td>0.9979415                         </td><td>15                                </td><td> 0.2588075                        </td><td> 0.661730                         </td><td>0.88868610                        </td><td>1.0000000                         </td></tr>\n",
       "\t<tr><td>GO_ACETYLTRANSFERASE_ACTIVITY     </td><td>25                                </td><td> 0.2932916                        </td><td> 0.8607133                        </td><td>0.6850829                         </td><td>0.9735227                         </td><td>25                                </td><td> 0.3841609                        </td><td> 1.1499107                        </td><td>0.27922080                        </td><td>0.6893120                         </td><td>25                                </td><td> 0.5242034                        </td><td> 1.531332                         </td><td>0.02852050                        </td><td>0.7739853                         </td></tr>\n",
       "\t<tr><td>GO_ACETYLTRANSFERASE_COMPLEX      </td><td>21                                </td><td>-0.3739510                        </td><td>-1.0697901                        </td><td>0.3685345                         </td><td>0.9635347                         </td><td>21                                </td><td> 0.3223746                        </td><td> 0.9236013                        </td><td>0.56073210                        </td><td>0.9368089                         </td><td>21                                </td><td> 0.5468623                        </td><td> 1.514237                         </td><td>0.03860294                        </td><td>0.7657767                         </td></tr>\n",
       "\t<tr><td>GO_ACID_SECRETION                 </td><td>33                                </td><td>-0.2438500                        </td><td>-0.7845336                        </td><td>0.8218263                         </td><td>1.0000000                         </td><td>33                                </td><td> 0.4579068                        </td><td> 1.4114778                        </td><td>0.06329114                        </td><td>0.3644461                         </td><td>33                                </td><td>-0.3495904                        </td><td>-1.118172                         </td><td>0.28306264                        </td><td>0.6206894                         </td></tr>\n",
       "</tbody>\n",
       "</table>\n"
      ],
      "text/latex": [
       "\\begin{tabular}{r|llllllllllllllll}\n",
       " NAME & DL.SIZE & DL.ES & DL.NES & DL.p.val & DL.q.val & UL.SIZE & UL.ES & UL.NES & UL.p.val & UL.q.val & OL.SIZE & OL.ES & OL.NES & OL.p.val & OL.q.val\\\\\n",
       "\\hline\n",
       "\t GO\\_3\\_5\\_EXONUCLEASE\\_ACTIVITY        & 15                                         & -0.2260609                                 & -0.6056082                                 & 0.9458333                                  & 1.0000000                                  & 15                                         & -0.3048619                                 & -0.8479007                                 & 0.69099754                                 & 0.9242768                                  & 15                                         &  0.4998676                                 &  1.285202                                  & 0.15696649                                 & 0.8157840                                 \\\\\n",
       "\t GO\\_4\\_IRON\\_4\\_SULFUR\\_CLUSTER\\_BINDING & 16                                             &  0.4447620                                     &  1.1661059                                     & 0.2846715                                      & 0.6517217                                      & 16                                             & -0.4268038                                     & -1.2132324                                     & 0.23291140                                     & 0.6344746                                      & 16                                             &  0.5305798                                     &  1.356912                                      & 0.12110092                                     & 0.8692402                                     \\\\\n",
       "\t GO\\_ACETYL\\_COA\\_METABOLIC\\_PROCESS    & 15                                         & -0.1822362                                 & -0.4965963                                 & 0.9855372                                  & 1.0000000                                  & 15                                         &  0.2817319                                 &  0.7355507                                 & 0.83278143                                 & 0.9979415                                  & 15                                         &  0.2588075                                 &  0.661730                                  & 0.88868610                                 & 1.0000000                                 \\\\\n",
       "\t GO\\_ACETYLTRANSFERASE\\_ACTIVITY      & 25                                     &  0.2932916                             &  0.8607133                             & 0.6850829                              & 0.9735227                              & 25                                     &  0.3841609                             &  1.1499107                             & 0.27922080                             & 0.6893120                              & 25                                     &  0.5242034                             &  1.531332                              & 0.02852050                             & 0.7739853                             \\\\\n",
       "\t GO\\_ACETYLTRANSFERASE\\_COMPLEX       & 21                                     & -0.3739510                             & -1.0697901                             & 0.3685345                              & 0.9635347                              & 21                                     &  0.3223746                             &  0.9236013                             & 0.56073210                             & 0.9368089                              & 21                                     &  0.5468623                             &  1.514237                              & 0.03860294                             & 0.7657767                             \\\\\n",
       "\t GO\\_ACID\\_SECRETION                  & 33                                     & -0.2438500                             & -0.7845336                             & 0.8218263                              & 1.0000000                              & 33                                     &  0.4579068                             &  1.4114778                             & 0.06329114                             & 0.3644461                              & 33                                     & -0.3495904                             & -1.118172                              & 0.28306264                             & 0.6206894                             \\\\\n",
       "\\end{tabular}\n"
      ],
      "text/markdown": [
       "\n",
       "NAME | DL.SIZE | DL.ES | DL.NES | DL.p.val | DL.q.val | UL.SIZE | UL.ES | UL.NES | UL.p.val | UL.q.val | OL.SIZE | OL.ES | OL.NES | OL.p.val | OL.q.val | \n",
       "|---|---|---|---|---|---|\n",
       "| GO_3_5_EXONUCLEASE_ACTIVITY        | 15                                 | -0.2260609                         | -0.6056082                         | 0.9458333                          | 1.0000000                          | 15                                 | -0.3048619                         | -0.8479007                         | 0.69099754                         | 0.9242768                          | 15                                 |  0.4998676                         |  1.285202                          | 0.15696649                         | 0.8157840                          | \n",
       "| GO_4_IRON_4_SULFUR_CLUSTER_BINDING | 16                                 |  0.4447620                         |  1.1661059                         | 0.2846715                          | 0.6517217                          | 16                                 | -0.4268038                         | -1.2132324                         | 0.23291140                         | 0.6344746                          | 16                                 |  0.5305798                         |  1.356912                          | 0.12110092                         | 0.8692402                          | \n",
       "| GO_ACETYL_COA_METABOLIC_PROCESS    | 15                                 | -0.1822362                         | -0.4965963                         | 0.9855372                          | 1.0000000                          | 15                                 |  0.2817319                         |  0.7355507                         | 0.83278143                         | 0.9979415                          | 15                                 |  0.2588075                         |  0.661730                          | 0.88868610                         | 1.0000000                          | \n",
       "| GO_ACETYLTRANSFERASE_ACTIVITY      | 25                                 |  0.2932916                         |  0.8607133                         | 0.6850829                          | 0.9735227                          | 25                                 |  0.3841609                         |  1.1499107                         | 0.27922080                         | 0.6893120                          | 25                                 |  0.5242034                         |  1.531332                          | 0.02852050                         | 0.7739853                          | \n",
       "| GO_ACETYLTRANSFERASE_COMPLEX       | 21                                 | -0.3739510                         | -1.0697901                         | 0.3685345                          | 0.9635347                          | 21                                 |  0.3223746                         |  0.9236013                         | 0.56073210                         | 0.9368089                          | 21                                 |  0.5468623                         |  1.514237                          | 0.03860294                         | 0.7657767                          | \n",
       "| GO_ACID_SECRETION                  | 33                                 | -0.2438500                         | -0.7845336                         | 0.8218263                          | 1.0000000                          | 33                                 |  0.4579068                         |  1.4114778                         | 0.06329114                         | 0.3644461                          | 33                                 | -0.3495904                         | -1.118172                          | 0.28306264                         | 0.6206894                          | \n",
       "\n",
       "\n"
      ],
      "text/plain": [
       "  NAME                               DL.SIZE DL.ES      DL.NES     DL.p.val \n",
       "1 GO_3_5_EXONUCLEASE_ACTIVITY        15      -0.2260609 -0.6056082 0.9458333\n",
       "2 GO_4_IRON_4_SULFUR_CLUSTER_BINDING 16       0.4447620  1.1661059 0.2846715\n",
       "3 GO_ACETYL_COA_METABOLIC_PROCESS    15      -0.1822362 -0.4965963 0.9855372\n",
       "4 GO_ACETYLTRANSFERASE_ACTIVITY      25       0.2932916  0.8607133 0.6850829\n",
       "5 GO_ACETYLTRANSFERASE_COMPLEX       21      -0.3739510 -1.0697901 0.3685345\n",
       "6 GO_ACID_SECRETION                  33      -0.2438500 -0.7845336 0.8218263\n",
       "  DL.q.val  UL.SIZE UL.ES      UL.NES     UL.p.val   UL.q.val  OL.SIZE\n",
       "1 1.0000000 15      -0.3048619 -0.8479007 0.69099754 0.9242768 15     \n",
       "2 0.6517217 16      -0.4268038 -1.2132324 0.23291140 0.6344746 16     \n",
       "3 1.0000000 15       0.2817319  0.7355507 0.83278143 0.9979415 15     \n",
       "4 0.9735227 25       0.3841609  1.1499107 0.27922080 0.6893120 25     \n",
       "5 0.9635347 21       0.3223746  0.9236013 0.56073210 0.9368089 21     \n",
       "6 1.0000000 33       0.4579068  1.4114778 0.06329114 0.3644461 33     \n",
       "  OL.ES      OL.NES    OL.p.val   OL.q.val \n",
       "1  0.4998676  1.285202 0.15696649 0.8157840\n",
       "2  0.5305798  1.356912 0.12110092 0.8692402\n",
       "3  0.2588075  0.661730 0.88868610 1.0000000\n",
       "4  0.5242034  1.531332 0.02852050 0.7739853\n",
       "5  0.5468623  1.514237 0.03860294 0.7657767\n",
       "6 -0.3495904 -1.118172 0.28306264 0.6206894"
      ]
     },
     "metadata": {},
     "output_type": "display_data"
    },
    {
     "data": {
      "text/plain": [
       "     NAME              DL.SIZE          DL.ES             DL.NES       \n",
       " Length:2309        Min.   : 15.0   Min.   :-0.6724   Min.   :-1.9349  \n",
       " Class :character   1st Qu.: 23.0   1st Qu.:-0.2372   1st Qu.:-0.8350  \n",
       " Mode  :character   Median : 38.0   Median : 0.2419   Median : 0.8439  \n",
       "                    Mean   : 74.5   Mean   : 0.1100   Mean   : 0.3531  \n",
       "                    3rd Qu.: 83.0   3rd Qu.: 0.3444   3rd Qu.: 1.1130  \n",
       "                    Max.   :490.0   Max.   : 0.8071   Max.   : 2.3854  \n",
       "    DL.p.val         DL.q.val         UL.SIZE          UL.ES         \n",
       " Min.   :0.0000   Min.   :0.0000   Min.   : 15.0   Min.   :-0.74426  \n",
       " 1st Qu.:0.1628   1st Qu.:0.7113   1st Qu.: 23.0   1st Qu.:-0.25750  \n",
       " Median :0.4501   Median :0.9222   Median : 38.0   Median : 0.23150  \n",
       " Mean   :0.4695   Mean   :0.8097   Mean   : 74.5   Mean   : 0.08203  \n",
       " 3rd Qu.:0.7606   3rd Qu.:1.0000   3rd Qu.: 83.0   3rd Qu.: 0.33314  \n",
       " Max.   :1.0000   Max.   :1.0000   Max.   :490.0   Max.   : 0.77487  \n",
       "     UL.NES           UL.p.val         UL.q.val           OL.SIZE     \n",
       " Min.   :-2.0997   Min.   :0.0000   Min.   :0.003664   Min.   : 15.0  \n",
       " 1st Qu.:-0.9531   1st Qu.:0.1463   1st Qu.:0.618507   1st Qu.: 23.0  \n",
       " Median : 0.7982   Median :0.3972   Median :0.793574   Median : 38.0  \n",
       " Mean   : 0.2333   Mean   :0.4337   Mean   :0.741511   Mean   : 74.5  \n",
       " 3rd Qu.: 1.0978   3rd Qu.:0.7113   3rd Qu.:0.951064   3rd Qu.: 83.0  \n",
       " Max.   : 2.1500   Max.   :1.0000   Max.   :1.000000   Max.   :490.0  \n",
       "     OL.ES             OL.NES            OL.p.val         OL.q.val      \n",
       " Min.   :-0.7243   Min.   :-2.14245   Min.   :0.0000   Min.   :0.01139  \n",
       " 1st Qu.:-0.2950   1st Qu.:-1.02904   1st Qu.:0.1769   1st Qu.:0.71914  \n",
       " Median : 0.2002   Median : 0.69569   Median :0.4419   Median :0.96874  \n",
       " Mean   : 0.0219   Mean   : 0.04748   Mean   :0.4668   Mean   :0.82989  \n",
       " 3rd Qu.: 0.3037   3rd Qu.: 0.99108   3rd Qu.:0.7540   3rd Qu.:1.00000  \n",
       " Max.   : 0.6756   Max.   : 1.93201   Max.   :1.0000   Max.   :1.00000  "
      ]
     },
     "metadata": {},
     "output_type": "display_data"
    }
   ],
   "source": [
    "dim(master.df)\n",
    "head(master.df)\n",
    "summary(master.df)"
   ]
  },
  {
   "cell_type": "markdown",
   "metadata": {},
   "source": [
    "## 추출할 protein list 불러오기. 여기서 불러올 list는 clustering analysis에서 이미 정한 cluster list 임. "
   ]
  },
  {
   "cell_type": "code",
   "execution_count": 11,
   "metadata": {
    "collapsed": true
   },
   "outputs": [],
   "source": [
    "Deprived.list <-c(t(read.delim(\"C:/Users/KimYG/Experimental Data/Proteomics/GSEA/GSEA result_R/Merged_enriched in control.txt\", sep=\"\\t\", header = FALSE, stringsAsFactors = FALSE)))"
   ]
  },
  {
   "cell_type": "markdown",
   "metadata": {},
   "source": [
    "## 아래 처럼 extraction 할 수 있지만 cluster list에서 정한 순서가 무너짐. 따라서 다른 방법으로"
   ]
  },
  {
   "cell_type": "code",
   "execution_count": 104,
   "metadata": {},
   "outputs": [
    {
     "data": {
      "text/html": [
       "<table>\n",
       "<thead><tr><th></th><th scope=col>NAME</th><th scope=col>DL.SIZE</th><th scope=col>DL.ES</th><th scope=col>DL.NES</th><th scope=col>DL.p.val</th><th scope=col>DL.q.val</th><th scope=col>UL.SIZE</th><th scope=col>UL.ES</th><th scope=col>UL.NES</th><th scope=col>UL.p.val</th><th scope=col>UL.q.val</th><th scope=col>OL.SIZE</th><th scope=col>OL.ES</th><th scope=col>OL.NES</th><th scope=col>OL.p.val</th><th scope=col>OL.q.val</th></tr></thead>\n",
       "<tbody>\n",
       "\t<tr><th scope=row>55</th><td>GO_AMIDE_TRANSPORT     </td><td> 23                    </td><td>0.4109725              </td><td>1.1751381              </td><td>0.24581006             </td><td>0.645314000            </td><td> 23                    </td><td>0.4143116              </td><td>1.162739               </td><td>0.285942500            </td><td>0.67869365             </td><td> 23                    </td><td> 0.4491404             </td><td> 1.2783340             </td><td>0.1551433              </td><td>0.8255184              </td></tr>\n",
       "\t<tr><th scope=row>77</th><td>GO_ANION_TRANSPORT     </td><td>165                    </td><td>0.2371668              </td><td>0.9595882              </td><td>0.55705710             </td><td>0.887607630            </td><td>165                    </td><td>0.3965820              </td><td>1.592326               </td><td>0.001295337            </td><td>0.22052893             </td><td>165                    </td><td>-0.2153858             </td><td>-0.9185167             </td><td>0.7002457              </td><td>0.8995712              </td></tr>\n",
       "\t<tr><th scope=row>120</th><td>GO_BASEMENT_MEMBRANE   </td><td> 34                    </td><td>0.6295993              </td><td>1.9458153              </td><td>0.00000000             </td><td>0.009069514            </td><td> 34                    </td><td>0.6126484              </td><td>1.914993               </td><td>0.000000000            </td><td>0.03751384             </td><td> 34                    </td><td>-0.2274824             </td><td>-0.7335303             </td><td>0.8951049              </td><td>1.0000000              </td></tr>\n",
       "\t<tr><th scope=row>127</th><td>GO_BIOLOGICAL_ADHESION </td><td>259                    </td><td>0.3827280              </td><td>1.6344279              </td><td>0.00000000             </td><td>0.185622290            </td><td>259                    </td><td>0.3605262              </td><td>1.530630               </td><td>0.000000000            </td><td>0.27687755             </td><td>259                    </td><td> 0.2380188             </td><td> 1.0214375             </td><td>0.3788820              </td><td>1.0000000              </td></tr>\n",
       "\t<tr><th scope=row>131</th><td>GO_BODY_FLUID_SECRETION</td><td> 22                    </td><td>0.3036342              </td><td>0.8662260              </td><td>0.64545450             </td><td>0.976578200            </td><td> 22                    </td><td>0.6100841              </td><td>1.742265               </td><td>0.013289036            </td><td>0.12981868             </td><td> 22                    </td><td>-0.3765206             </td><td>-1.1271930             </td><td>0.2933619              </td><td>0.6188940              </td></tr>\n",
       "\t<tr><th scope=row>132</th><td>GO_BONE_DEVELOPMENT    </td><td> 34                    </td><td>0.4971595              </td><td>1.5718436              </td><td>0.02735043             </td><td>0.235534440            </td><td> 34                    </td><td>0.5412725              </td><td>1.670445               </td><td>0.003236246            </td><td>0.16680890             </td><td> 34                    </td><td> 0.2948329             </td><td> 0.9223552             </td><td>0.5795053              </td><td>1.0000000              </td></tr>\n",
       "</tbody>\n",
       "</table>\n"
      ],
      "text/latex": [
       "\\begin{tabular}{r|llllllllllllllll}\n",
       "  & NAME & DL.SIZE & DL.ES & DL.NES & DL.p.val & DL.q.val & UL.SIZE & UL.ES & UL.NES & UL.p.val & UL.q.val & OL.SIZE & OL.ES & OL.NES & OL.p.val & OL.q.val\\\\\n",
       "\\hline\n",
       "\t55 & GO\\_AMIDE\\_TRANSPORT      &  23                         & 0.4109725                   & 1.1751381                   & 0.24581006                  & 0.645314000                 &  23                         & 0.4143116                   & 1.162739                    & 0.285942500                 & 0.67869365                  &  23                         &  0.4491404                  &  1.2783340                  & 0.1551433                   & 0.8255184                  \\\\\n",
       "\t77 & GO\\_ANION\\_TRANSPORT      & 165                         & 0.2371668                   & 0.9595882                   & 0.55705710                  & 0.887607630                 & 165                         & 0.3965820                   & 1.592326                    & 0.001295337                 & 0.22052893                  & 165                         & -0.2153858                  & -0.9185167                  & 0.7002457                   & 0.8995712                  \\\\\n",
       "\t120 & GO\\_BASEMENT\\_MEMBRANE    &  34                         & 0.6295993                   & 1.9458153                   & 0.00000000                  & 0.009069514                 &  34                         & 0.6126484                   & 1.914993                    & 0.000000000                 & 0.03751384                  &  34                         & -0.2274824                  & -0.7335303                  & 0.8951049                   & 1.0000000                  \\\\\n",
       "\t127 & GO\\_BIOLOGICAL\\_ADHESION  & 259                         & 0.3827280                   & 1.6344279                   & 0.00000000                  & 0.185622290                 & 259                         & 0.3605262                   & 1.530630                    & 0.000000000                 & 0.27687755                  & 259                         &  0.2380188                  &  1.0214375                  & 0.3788820                   & 1.0000000                  \\\\\n",
       "\t131 & GO\\_BODY\\_FLUID\\_SECRETION &  22                           & 0.3036342                     & 0.8662260                     & 0.64545450                    & 0.976578200                   &  22                           & 0.6100841                     & 1.742265                      & 0.013289036                   & 0.12981868                    &  22                           & -0.3765206                    & -1.1271930                    & 0.2933619                     & 0.6188940                    \\\\\n",
       "\t132 & GO\\_BONE\\_DEVELOPMENT     &  34                         & 0.4971595                   & 1.5718436                   & 0.02735043                  & 0.235534440                 &  34                         & 0.5412725                   & 1.670445                    & 0.003236246                 & 0.16680890                  &  34                         &  0.2948329                  &  0.9223552                  & 0.5795053                   & 1.0000000                  \\\\\n",
       "\\end{tabular}\n"
      ],
      "text/markdown": [
       "\n",
       "| <!--/--> | NAME | DL.SIZE | DL.ES | DL.NES | DL.p.val | DL.q.val | UL.SIZE | UL.ES | UL.NES | UL.p.val | UL.q.val | OL.SIZE | OL.ES | OL.NES | OL.p.val | OL.q.val | \n",
       "|---|---|---|---|---|---|\n",
       "| 55 | GO_AMIDE_TRANSPORT      |  23                     | 0.4109725               | 1.1751381               | 0.24581006              | 0.645314000             |  23                     | 0.4143116               | 1.162739                | 0.285942500             | 0.67869365              |  23                     |  0.4491404              |  1.2783340              | 0.1551433               | 0.8255184               | \n",
       "| 77 | GO_ANION_TRANSPORT      | 165                     | 0.2371668               | 0.9595882               | 0.55705710              | 0.887607630             | 165                     | 0.3965820               | 1.592326                | 0.001295337             | 0.22052893              | 165                     | -0.2153858              | -0.9185167              | 0.7002457               | 0.8995712               | \n",
       "| 120 | GO_BASEMENT_MEMBRANE    |  34                     | 0.6295993               | 1.9458153               | 0.00000000              | 0.009069514             |  34                     | 0.6126484               | 1.914993                | 0.000000000             | 0.03751384              |  34                     | -0.2274824              | -0.7335303              | 0.8951049               | 1.0000000               | \n",
       "| 127 | GO_BIOLOGICAL_ADHESION  | 259                     | 0.3827280               | 1.6344279               | 0.00000000              | 0.185622290             | 259                     | 0.3605262               | 1.530630                | 0.000000000             | 0.27687755              | 259                     |  0.2380188              |  1.0214375              | 0.3788820               | 1.0000000               | \n",
       "| 131 | GO_BODY_FLUID_SECRETION |  22                     | 0.3036342               | 0.8662260               | 0.64545450              | 0.976578200             |  22                     | 0.6100841               | 1.742265                | 0.013289036             | 0.12981868              |  22                     | -0.3765206              | -1.1271930              | 0.2933619               | 0.6188940               | \n",
       "| 132 | GO_BONE_DEVELOPMENT     |  34                     | 0.4971595               | 1.5718436               | 0.02735043              | 0.235534440             |  34                     | 0.5412725               | 1.670445                | 0.003236246             | 0.16680890              |  34                     |  0.2948329              |  0.9223552              | 0.5795053               | 1.0000000               | \n",
       "\n",
       "\n"
      ],
      "text/plain": [
       "    NAME                    DL.SIZE DL.ES     DL.NES    DL.p.val   DL.q.val   \n",
       "55  GO_AMIDE_TRANSPORT       23     0.4109725 1.1751381 0.24581006 0.645314000\n",
       "77  GO_ANION_TRANSPORT      165     0.2371668 0.9595882 0.55705710 0.887607630\n",
       "120 GO_BASEMENT_MEMBRANE     34     0.6295993 1.9458153 0.00000000 0.009069514\n",
       "127 GO_BIOLOGICAL_ADHESION  259     0.3827280 1.6344279 0.00000000 0.185622290\n",
       "131 GO_BODY_FLUID_SECRETION  22     0.3036342 0.8662260 0.64545450 0.976578200\n",
       "132 GO_BONE_DEVELOPMENT      34     0.4971595 1.5718436 0.02735043 0.235534440\n",
       "    UL.SIZE UL.ES     UL.NES   UL.p.val    UL.q.val   OL.SIZE OL.ES     \n",
       "55   23     0.4143116 1.162739 0.285942500 0.67869365  23      0.4491404\n",
       "77  165     0.3965820 1.592326 0.001295337 0.22052893 165     -0.2153858\n",
       "120  34     0.6126484 1.914993 0.000000000 0.03751384  34     -0.2274824\n",
       "127 259     0.3605262 1.530630 0.000000000 0.27687755 259      0.2380188\n",
       "131  22     0.6100841 1.742265 0.013289036 0.12981868  22     -0.3765206\n",
       "132  34     0.5412725 1.670445 0.003236246 0.16680890  34      0.2948329\n",
       "    OL.NES     OL.p.val  OL.q.val \n",
       "55   1.2783340 0.1551433 0.8255184\n",
       "77  -0.9185167 0.7002457 0.8995712\n",
       "120 -0.7335303 0.8951049 1.0000000\n",
       "127  1.0214375 0.3788820 1.0000000\n",
       "131 -1.1271930 0.2933619 0.6188940\n",
       "132  0.9223552 0.5795053 1.0000000"
      ]
     },
     "metadata": {},
     "output_type": "display_data"
    },
    {
     "data": {
      "text/html": [
       "<ol class=list-inline>\n",
       "\t<li>99</li>\n",
       "\t<li>16</li>\n",
       "</ol>\n"
      ],
      "text/latex": [
       "\\begin{enumerate*}\n",
       "\\item 99\n",
       "\\item 16\n",
       "\\end{enumerate*}\n"
      ],
      "text/markdown": [
       "1. 99\n",
       "2. 16\n",
       "\n",
       "\n"
      ],
      "text/plain": [
       "[1] 99 16"
      ]
     },
     "metadata": {},
     "output_type": "display_data"
    }
   ],
   "source": [
    "head(master.df[master.df$NAME %in% Deprived.list,])\n",
    "dim(master.df[master.df$NAME %in% Deprived.list,])"
   ]
  },
  {
   "cell_type": "code",
   "execution_count": 30,
   "metadata": {
    "collapsed": true
   },
   "outputs": [],
   "source": [
    "extracted.list <- list()\n",
    "for (i in 1:length(Deprived.list)) {\n",
    "    extracted.list[[i]] <- master.df[master.df$NAME==Deprived.list[i], ]\n",
    "}\n",
    "total.list <- do.call(rbind, extracted.list)"
   ]
  },
  {
   "cell_type": "code",
   "execution_count": 31,
   "metadata": {},
   "outputs": [
    {
     "data": {
      "text/html": [
       "<table>\n",
       "<thead><tr><th></th><th scope=col>NAME</th><th scope=col>DL.SIZE</th><th scope=col>DL.ES</th><th scope=col>DL.NES</th><th scope=col>DL.p.val</th><th scope=col>DL.q.val</th><th scope=col>UL.SIZE</th><th scope=col>UL.ES</th><th scope=col>UL.NES</th><th scope=col>UL.p.val</th><th scope=col>UL.q.val</th><th scope=col>OL.SIZE</th><th scope=col>OL.ES</th><th scope=col>OL.NES</th><th scope=col>OL.p.val</th><th scope=col>OL.q.val</th></tr></thead>\n",
       "<tbody>\n",
       "\t<tr><th scope=row>188</th><td>GO_CELL_CELL_ADHESION_VIA_PLASMA_MEMBRANE_ADHESION_MOLECULES</td><td> 41                                                         </td><td> 0.5427666                                                  </td><td> 1.7324628                                                  </td><td>0.001773050                                                 </td><td>0.09083114                                                  </td><td> 41                                                         </td><td> 0.4197522                                                  </td><td> 1.375063                                                   </td><td>0.06807867                                                  </td><td>0.4114600                                                   </td><td> 41                                                         </td><td> 0.4265583                                                  </td><td> 1.3739624                                                  </td><td>0.05178572                                                  </td><td>0.8422076                                                   </td></tr>\n",
       "\t<tr><th scope=row>131</th><td>GO_BODY_FLUID_SECRETION                                     </td><td> 22                                                         </td><td> 0.3036342                                                  </td><td> 0.8662260                                                  </td><td>0.645454500                                                 </td><td>0.97657820                                                  </td><td> 22                                                         </td><td> 0.6100841                                                  </td><td> 1.742265                                                   </td><td>0.01328904                                                  </td><td>0.1298187                                                   </td><td> 22                                                         </td><td>-0.3765206                                                  </td><td>-1.1271930                                                  </td><td>0.29336187                                                  </td><td>0.6188940                                                   </td></tr>\n",
       "\t<tr><th scope=row>711</th><td>GO_INTEGRIN_BINDING                                         </td><td> 36                                                         </td><td> 0.5995305                                                  </td><td> 1.8794464                                                  </td><td>0.000000000                                                 </td><td>0.02137682                                                  </td><td> 36                                                         </td><td> 0.4758654                                                  </td><td> 1.529059                                                   </td><td>0.02152318                                                  </td><td>0.2779119                                                   </td><td> 36                                                         </td><td> 0.3245222                                                  </td><td> 1.0146892                                                  </td><td>0.41281140                                                  </td><td>1.0000000                                                   </td></tr>\n",
       "\t<tr><th scope=row>183</th><td>GO_CELL_ADHESION_MOLECULE_BINDING                           </td><td> 66                                                         </td><td> 0.4617453                                                  </td><td> 1.6174140                                                  </td><td>0.003311258                                                 </td><td>0.20517789                                                  </td><td> 66                                                         </td><td> 0.3265267                                                  </td><td> 1.149765                                                   </td><td>0.25354108                                                  </td><td>0.6883745                                                   </td><td> 66                                                         </td><td>-0.2392364                                                  </td><td>-0.8936651                                                  </td><td>0.67688680                                                  </td><td>0.9238829                                                   </td></tr>\n",
       "\t<tr><th scope=row>187</th><td>GO_CELL_CELL_ADHESION                                       </td><td>137                                                         </td><td> 0.4008795                                                  </td><td> 1.5881649                                                  </td><td>0.000000000                                                 </td><td>0.22650233                                                  </td><td>137                                                         </td><td> 0.3078215                                                  </td><td> 1.223840                                                   </td><td>0.12355212                                                  </td><td>0.6171510                                                   </td><td>137                                                         </td><td> 0.2266902                                                  </td><td> 0.8999043                                                  </td><td>0.71619370                                                  </td><td>1.0000000                                                   </td></tr>\n",
       "\t<tr><th scope=row>136</th><td>GO_CADHERIN_BINDING                                         </td><td> 15                                                         </td><td>-0.3367573                                                  </td><td>-0.9063198                                                  </td><td>0.566893400                                                 </td><td>1.00000000                                                  </td><td> 15                                                         </td><td>-0.2791559                                                  </td><td>-0.762635                                                   </td><td>0.77427185                                                  </td><td>0.9605474                                                   </td><td> 15                                                         </td><td>-0.6548426                                                  </td><td>-1.6947143                                                  </td><td>0.01176471                                                  </td><td>0.1721360                                                   </td></tr>\n",
       "</tbody>\n",
       "</table>\n"
      ],
      "text/latex": [
       "\\begin{tabular}{r|llllllllllllllll}\n",
       "  & NAME & DL.SIZE & DL.ES & DL.NES & DL.p.val & DL.q.val & UL.SIZE & UL.ES & UL.NES & UL.p.val & UL.q.val & OL.SIZE & OL.ES & OL.NES & OL.p.val & OL.q.val\\\\\n",
       "\\hline\n",
       "\t188 & GO\\_CELL\\_CELL\\_ADHESION\\_VIA\\_PLASMA\\_MEMBRANE\\_ADHESION\\_MOLECULES &  41                                                                          &  0.5427666                                                                   &  1.7324628                                                                   & 0.001773050                                                                  & 0.09083114                                                                   &  41                                                                          &  0.4197522                                                                   &  1.375063                                                                    & 0.06807867                                                                   & 0.4114600                                                                    &  41                                                                          &  0.4265583                                                                   &  1.3739624                                                                   & 0.05178572                                                                   & 0.8422076                                                                   \\\\\n",
       "\t131 & GO\\_BODY\\_FLUID\\_SECRETION                                      &  22                                                                &  0.3036342                                                         &  0.8662260                                                         & 0.645454500                                                        & 0.97657820                                                         &  22                                                                &  0.6100841                                                         &  1.742265                                                          & 0.01328904                                                         & 0.1298187                                                          &  22                                                                & -0.3765206                                                         & -1.1271930                                                         & 0.29336187                                                         & 0.6188940                                                         \\\\\n",
       "\t711 & GO\\_INTEGRIN\\_BINDING                                          &  36                                                              &  0.5995305                                                       &  1.8794464                                                       & 0.000000000                                                      & 0.02137682                                                       &  36                                                              &  0.4758654                                                       &  1.529059                                                        & 0.02152318                                                       & 0.2779119                                                        &  36                                                              &  0.3245222                                                       &  1.0146892                                                       & 0.41281140                                                       & 1.0000000                                                       \\\\\n",
       "\t183 & GO\\_CELL\\_ADHESION\\_MOLECULE\\_BINDING                            &  66                                                                  &  0.4617453                                                           &  1.6174140                                                           & 0.003311258                                                          & 0.20517789                                                           &  66                                                                  &  0.3265267                                                           &  1.149765                                                            & 0.25354108                                                           & 0.6883745                                                            &  66                                                                  & -0.2392364                                                           & -0.8936651                                                           & 0.67688680                                                           & 0.9238829                                                           \\\\\n",
       "\t187 & GO\\_CELL\\_CELL\\_ADHESION                                        & 137                                                                &  0.4008795                                                         &  1.5881649                                                         & 0.000000000                                                        & 0.22650233                                                         & 137                                                                &  0.3078215                                                         &  1.223840                                                          & 0.12355212                                                         & 0.6171510                                                          & 137                                                                &  0.2266902                                                         &  0.8999043                                                         & 0.71619370                                                         & 1.0000000                                                         \\\\\n",
       "\t136 & GO\\_CADHERIN\\_BINDING                                          &  15                                                              & -0.3367573                                                       & -0.9063198                                                       & 0.566893400                                                      & 1.00000000                                                       &  15                                                              & -0.2791559                                                       & -0.762635                                                        & 0.77427185                                                       & 0.9605474                                                        &  15                                                              & -0.6548426                                                       & -1.6947143                                                       & 0.01176471                                                       & 0.1721360                                                       \\\\\n",
       "\\end{tabular}\n"
      ],
      "text/markdown": [
       "\n",
       "| <!--/--> | NAME | DL.SIZE | DL.ES | DL.NES | DL.p.val | DL.q.val | UL.SIZE | UL.ES | UL.NES | UL.p.val | UL.q.val | OL.SIZE | OL.ES | OL.NES | OL.p.val | OL.q.val | \n",
       "|---|---|---|---|---|---|\n",
       "| 188 | GO_CELL_CELL_ADHESION_VIA_PLASMA_MEMBRANE_ADHESION_MOLECULES |  41                                                          |  0.5427666                                                   |  1.7324628                                                   | 0.001773050                                                  | 0.09083114                                                   |  41                                                          |  0.4197522                                                   |  1.375063                                                    | 0.06807867                                                   | 0.4114600                                                    |  41                                                          |  0.4265583                                                   |  1.3739624                                                   | 0.05178572                                                   | 0.8422076                                                    | \n",
       "| 131 | GO_BODY_FLUID_SECRETION                                      |  22                                                          |  0.3036342                                                   |  0.8662260                                                   | 0.645454500                                                  | 0.97657820                                                   |  22                                                          |  0.6100841                                                   |  1.742265                                                    | 0.01328904                                                   | 0.1298187                                                    |  22                                                          | -0.3765206                                                   | -1.1271930                                                   | 0.29336187                                                   | 0.6188940                                                    | \n",
       "| 711 | GO_INTEGRIN_BINDING                                          |  36                                                          |  0.5995305                                                   |  1.8794464                                                   | 0.000000000                                                  | 0.02137682                                                   |  36                                                          |  0.4758654                                                   |  1.529059                                                    | 0.02152318                                                   | 0.2779119                                                    |  36                                                          |  0.3245222                                                   |  1.0146892                                                   | 0.41281140                                                   | 1.0000000                                                    | \n",
       "| 183 | GO_CELL_ADHESION_MOLECULE_BINDING                            |  66                                                          |  0.4617453                                                   |  1.6174140                                                   | 0.003311258                                                  | 0.20517789                                                   |  66                                                          |  0.3265267                                                   |  1.149765                                                    | 0.25354108                                                   | 0.6883745                                                    |  66                                                          | -0.2392364                                                   | -0.8936651                                                   | 0.67688680                                                   | 0.9238829                                                    | \n",
       "| 187 | GO_CELL_CELL_ADHESION                                        | 137                                                          |  0.4008795                                                   |  1.5881649                                                   | 0.000000000                                                  | 0.22650233                                                   | 137                                                          |  0.3078215                                                   |  1.223840                                                    | 0.12355212                                                   | 0.6171510                                                    | 137                                                          |  0.2266902                                                   |  0.8999043                                                   | 0.71619370                                                   | 1.0000000                                                    | \n",
       "| 136 | GO_CADHERIN_BINDING                                          |  15                                                          | -0.3367573                                                   | -0.9063198                                                   | 0.566893400                                                  | 1.00000000                                                   |  15                                                          | -0.2791559                                                   | -0.762635                                                    | 0.77427185                                                   | 0.9605474                                                    |  15                                                          | -0.6548426                                                   | -1.6947143                                                   | 0.01176471                                                   | 0.1721360                                                    | \n",
       "\n",
       "\n"
      ],
      "text/plain": [
       "    NAME                                                         DL.SIZE\n",
       "188 GO_CELL_CELL_ADHESION_VIA_PLASMA_MEMBRANE_ADHESION_MOLECULES  41    \n",
       "131 GO_BODY_FLUID_SECRETION                                       22    \n",
       "711 GO_INTEGRIN_BINDING                                           36    \n",
       "183 GO_CELL_ADHESION_MOLECULE_BINDING                             66    \n",
       "187 GO_CELL_CELL_ADHESION                                        137    \n",
       "136 GO_CADHERIN_BINDING                                           15    \n",
       "    DL.ES      DL.NES     DL.p.val    DL.q.val   UL.SIZE UL.ES      UL.NES   \n",
       "188  0.5427666  1.7324628 0.001773050 0.09083114  41      0.4197522  1.375063\n",
       "131  0.3036342  0.8662260 0.645454500 0.97657820  22      0.6100841  1.742265\n",
       "711  0.5995305  1.8794464 0.000000000 0.02137682  36      0.4758654  1.529059\n",
       "183  0.4617453  1.6174140 0.003311258 0.20517789  66      0.3265267  1.149765\n",
       "187  0.4008795  1.5881649 0.000000000 0.22650233 137      0.3078215  1.223840\n",
       "136 -0.3367573 -0.9063198 0.566893400 1.00000000  15     -0.2791559 -0.762635\n",
       "    UL.p.val   UL.q.val  OL.SIZE OL.ES      OL.NES     OL.p.val   OL.q.val \n",
       "188 0.06807867 0.4114600  41      0.4265583  1.3739624 0.05178572 0.8422076\n",
       "131 0.01328904 0.1298187  22     -0.3765206 -1.1271930 0.29336187 0.6188940\n",
       "711 0.02152318 0.2779119  36      0.3245222  1.0146892 0.41281140 1.0000000\n",
       "183 0.25354108 0.6883745  66     -0.2392364 -0.8936651 0.67688680 0.9238829\n",
       "187 0.12355212 0.6171510 137      0.2266902  0.8999043 0.71619370 1.0000000\n",
       "136 0.77427185 0.9605474  15     -0.6548426 -1.6947143 0.01176471 0.1721360"
      ]
     },
     "metadata": {},
     "output_type": "display_data"
    }
   ],
   "source": [
    "head(total.list)"
   ]
  },
  {
   "cell_type": "markdown",
   "metadata": {},
   "source": [
    "## Heat map용 color scale을 위해 (1-FDR) 값들을 추가"
   ]
  },
  {
   "cell_type": "code",
   "execution_count": 32,
   "metadata": {},
   "outputs": [
    {
     "data": {
      "text/html": [
       "<table>\n",
       "<thead><tr><th></th><th scope=col>NAME</th><th scope=col>DL.SIZE</th><th scope=col>DL.ES</th><th scope=col>DL.NES</th><th scope=col>DL.p.val</th><th scope=col>DL.q.val</th><th scope=col>UL.SIZE</th><th scope=col>UL.ES</th><th scope=col>UL.NES</th><th scope=col>UL.p.val</th><th scope=col>UL.q.val</th><th scope=col>OL.SIZE</th><th scope=col>OL.ES</th><th scope=col>OL.NES</th><th scope=col>OL.p.val</th><th scope=col>OL.q.val</th><th scope=col>DL.N.q.val</th><th scope=col>UL.N.q.val</th><th scope=col>OL.N.q.val</th></tr></thead>\n",
       "<tbody>\n",
       "\t<tr><th scope=row>188</th><td>GO_CELL_CELL_ADHESION_VIA_PLASMA_MEMBRANE_ADHESION_MOLECULES</td><td> 41                                                         </td><td> 0.5427666                                                  </td><td> 1.7324628                                                  </td><td>0.001773050                                                 </td><td>0.09083114                                                  </td><td> 41                                                         </td><td> 0.4197522                                                  </td><td> 1.375063                                                   </td><td>0.06807867                                                  </td><td>0.4114600                                                   </td><td> 41                                                         </td><td> 0.4265583                                                  </td><td> 1.3739624                                                  </td><td>0.05178572                                                  </td><td>0.8422076                                                   </td><td>0.9091689                                                   </td><td>0.58854005                                                  </td><td>0.1577924                                                   </td></tr>\n",
       "\t<tr><th scope=row>131</th><td>GO_BODY_FLUID_SECRETION                                     </td><td> 22                                                         </td><td> 0.3036342                                                  </td><td> 0.8662260                                                  </td><td>0.645454500                                                 </td><td>0.97657820                                                  </td><td> 22                                                         </td><td> 0.6100841                                                  </td><td> 1.742265                                                   </td><td>0.01328904                                                  </td><td>0.1298187                                                   </td><td> 22                                                         </td><td>-0.3765206                                                  </td><td>-1.1271930                                                  </td><td>0.29336187                                                  </td><td>0.6188940                                                   </td><td>0.0234218                                                   </td><td>0.87018132                                                  </td><td>0.3811060                                                   </td></tr>\n",
       "\t<tr><th scope=row>711</th><td>GO_INTEGRIN_BINDING                                         </td><td> 36                                                         </td><td> 0.5995305                                                  </td><td> 1.8794464                                                  </td><td>0.000000000                                                 </td><td>0.02137682                                                  </td><td> 36                                                         </td><td> 0.4758654                                                  </td><td> 1.529059                                                   </td><td>0.02152318                                                  </td><td>0.2779119                                                   </td><td> 36                                                         </td><td> 0.3245222                                                  </td><td> 1.0146892                                                  </td><td>0.41281140                                                  </td><td>1.0000000                                                   </td><td>0.9786232                                                   </td><td>0.72208807                                                  </td><td>0.0000000                                                   </td></tr>\n",
       "\t<tr><th scope=row>183</th><td>GO_CELL_ADHESION_MOLECULE_BINDING                           </td><td> 66                                                         </td><td> 0.4617453                                                  </td><td> 1.6174140                                                  </td><td>0.003311258                                                 </td><td>0.20517789                                                  </td><td> 66                                                         </td><td> 0.3265267                                                  </td><td> 1.149765                                                   </td><td>0.25354108                                                  </td><td>0.6883745                                                   </td><td> 66                                                         </td><td>-0.2392364                                                  </td><td>-0.8936651                                                  </td><td>0.67688680                                                  </td><td>0.9238829                                                   </td><td>0.7948221                                                   </td><td>0.31162550                                                  </td><td>0.0761171                                                   </td></tr>\n",
       "\t<tr><th scope=row>187</th><td>GO_CELL_CELL_ADHESION                                       </td><td>137                                                         </td><td> 0.4008795                                                  </td><td> 1.5881649                                                  </td><td>0.000000000                                                 </td><td>0.22650233                                                  </td><td>137                                                         </td><td> 0.3078215                                                  </td><td> 1.223840                                                   </td><td>0.12355212                                                  </td><td>0.6171510                                                   </td><td>137                                                         </td><td> 0.2266902                                                  </td><td> 0.8999043                                                  </td><td>0.71619370                                                  </td><td>1.0000000                                                   </td><td>0.7734977                                                   </td><td>0.38284904                                                  </td><td>0.0000000                                                   </td></tr>\n",
       "\t<tr><th scope=row>136</th><td>GO_CADHERIN_BINDING                                         </td><td> 15                                                         </td><td>-0.3367573                                                  </td><td>-0.9063198                                                  </td><td>0.566893400                                                 </td><td>1.00000000                                                  </td><td> 15                                                         </td><td>-0.2791559                                                  </td><td>-0.762635                                                   </td><td>0.77427185                                                  </td><td>0.9605474                                                   </td><td> 15                                                         </td><td>-0.6548426                                                  </td><td>-1.6947143                                                  </td><td>0.01176471                                                  </td><td>0.1721360                                                   </td><td>0.0000000                                                   </td><td>0.03945255                                                  </td><td>0.8278640                                                   </td></tr>\n",
       "</tbody>\n",
       "</table>\n"
      ],
      "text/latex": [
       "\\begin{tabular}{r|lllllllllllllllllll}\n",
       "  & NAME & DL.SIZE & DL.ES & DL.NES & DL.p.val & DL.q.val & UL.SIZE & UL.ES & UL.NES & UL.p.val & UL.q.val & OL.SIZE & OL.ES & OL.NES & OL.p.val & OL.q.val & DL.N.q.val & UL.N.q.val & OL.N.q.val\\\\\n",
       "\\hline\n",
       "\t188 & GO\\_CELL\\_CELL\\_ADHESION\\_VIA\\_PLASMA\\_MEMBRANE\\_ADHESION\\_MOLECULES &  41                                                                          &  0.5427666                                                                   &  1.7324628                                                                   & 0.001773050                                                                  & 0.09083114                                                                   &  41                                                                          &  0.4197522                                                                   &  1.375063                                                                    & 0.06807867                                                                   & 0.4114600                                                                    &  41                                                                          &  0.4265583                                                                   &  1.3739624                                                                   & 0.05178572                                                                   & 0.8422076                                                                    & 0.9091689                                                                    & 0.58854005                                                                   & 0.1577924                                                                   \\\\\n",
       "\t131 & GO\\_BODY\\_FLUID\\_SECRETION                                      &  22                                                                &  0.3036342                                                         &  0.8662260                                                         & 0.645454500                                                        & 0.97657820                                                         &  22                                                                &  0.6100841                                                         &  1.742265                                                          & 0.01328904                                                         & 0.1298187                                                          &  22                                                                & -0.3765206                                                         & -1.1271930                                                         & 0.29336187                                                         & 0.6188940                                                          & 0.0234218                                                          & 0.87018132                                                         & 0.3811060                                                         \\\\\n",
       "\t711 & GO\\_INTEGRIN\\_BINDING                                          &  36                                                              &  0.5995305                                                       &  1.8794464                                                       & 0.000000000                                                      & 0.02137682                                                       &  36                                                              &  0.4758654                                                       &  1.529059                                                        & 0.02152318                                                       & 0.2779119                                                        &  36                                                              &  0.3245222                                                       &  1.0146892                                                       & 0.41281140                                                       & 1.0000000                                                        & 0.9786232                                                        & 0.72208807                                                       & 0.0000000                                                       \\\\\n",
       "\t183 & GO\\_CELL\\_ADHESION\\_MOLECULE\\_BINDING                            &  66                                                                  &  0.4617453                                                           &  1.6174140                                                           & 0.003311258                                                          & 0.20517789                                                           &  66                                                                  &  0.3265267                                                           &  1.149765                                                            & 0.25354108                                                           & 0.6883745                                                            &  66                                                                  & -0.2392364                                                           & -0.8936651                                                           & 0.67688680                                                           & 0.9238829                                                            & 0.7948221                                                            & 0.31162550                                                           & 0.0761171                                                           \\\\\n",
       "\t187 & GO\\_CELL\\_CELL\\_ADHESION                                        & 137                                                                &  0.4008795                                                         &  1.5881649                                                         & 0.000000000                                                        & 0.22650233                                                         & 137                                                                &  0.3078215                                                         &  1.223840                                                          & 0.12355212                                                         & 0.6171510                                                          & 137                                                                &  0.2266902                                                         &  0.8999043                                                         & 0.71619370                                                         & 1.0000000                                                          & 0.7734977                                                          & 0.38284904                                                         & 0.0000000                                                         \\\\\n",
       "\t136 & GO\\_CADHERIN\\_BINDING                                          &  15                                                              & -0.3367573                                                       & -0.9063198                                                       & 0.566893400                                                      & 1.00000000                                                       &  15                                                              & -0.2791559                                                       & -0.762635                                                        & 0.77427185                                                       & 0.9605474                                                        &  15                                                              & -0.6548426                                                       & -1.6947143                                                       & 0.01176471                                                       & 0.1721360                                                        & 0.0000000                                                        & 0.03945255                                                       & 0.8278640                                                       \\\\\n",
       "\\end{tabular}\n"
      ],
      "text/markdown": [
       "\n",
       "| <!--/--> | NAME | DL.SIZE | DL.ES | DL.NES | DL.p.val | DL.q.val | UL.SIZE | UL.ES | UL.NES | UL.p.val | UL.q.val | OL.SIZE | OL.ES | OL.NES | OL.p.val | OL.q.val | DL.N.q.val | UL.N.q.val | OL.N.q.val | \n",
       "|---|---|---|---|---|---|\n",
       "| 188 | GO_CELL_CELL_ADHESION_VIA_PLASMA_MEMBRANE_ADHESION_MOLECULES |  41                                                          |  0.5427666                                                   |  1.7324628                                                   | 0.001773050                                                  | 0.09083114                                                   |  41                                                          |  0.4197522                                                   |  1.375063                                                    | 0.06807867                                                   | 0.4114600                                                    |  41                                                          |  0.4265583                                                   |  1.3739624                                                   | 0.05178572                                                   | 0.8422076                                                    | 0.9091689                                                    | 0.58854005                                                   | 0.1577924                                                    | \n",
       "| 131 | GO_BODY_FLUID_SECRETION                                      |  22                                                          |  0.3036342                                                   |  0.8662260                                                   | 0.645454500                                                  | 0.97657820                                                   |  22                                                          |  0.6100841                                                   |  1.742265                                                    | 0.01328904                                                   | 0.1298187                                                    |  22                                                          | -0.3765206                                                   | -1.1271930                                                   | 0.29336187                                                   | 0.6188940                                                    | 0.0234218                                                    | 0.87018132                                                   | 0.3811060                                                    | \n",
       "| 711 | GO_INTEGRIN_BINDING                                          |  36                                                          |  0.5995305                                                   |  1.8794464                                                   | 0.000000000                                                  | 0.02137682                                                   |  36                                                          |  0.4758654                                                   |  1.529059                                                    | 0.02152318                                                   | 0.2779119                                                    |  36                                                          |  0.3245222                                                   |  1.0146892                                                   | 0.41281140                                                   | 1.0000000                                                    | 0.9786232                                                    | 0.72208807                                                   | 0.0000000                                                    | \n",
       "| 183 | GO_CELL_ADHESION_MOLECULE_BINDING                            |  66                                                          |  0.4617453                                                   |  1.6174140                                                   | 0.003311258                                                  | 0.20517789                                                   |  66                                                          |  0.3265267                                                   |  1.149765                                                    | 0.25354108                                                   | 0.6883745                                                    |  66                                                          | -0.2392364                                                   | -0.8936651                                                   | 0.67688680                                                   | 0.9238829                                                    | 0.7948221                                                    | 0.31162550                                                   | 0.0761171                                                    | \n",
       "| 187 | GO_CELL_CELL_ADHESION                                        | 137                                                          |  0.4008795                                                   |  1.5881649                                                   | 0.000000000                                                  | 0.22650233                                                   | 137                                                          |  0.3078215                                                   |  1.223840                                                    | 0.12355212                                                   | 0.6171510                                                    | 137                                                          |  0.2266902                                                   |  0.8999043                                                   | 0.71619370                                                   | 1.0000000                                                    | 0.7734977                                                    | 0.38284904                                                   | 0.0000000                                                    | \n",
       "| 136 | GO_CADHERIN_BINDING                                          |  15                                                          | -0.3367573                                                   | -0.9063198                                                   | 0.566893400                                                  | 1.00000000                                                   |  15                                                          | -0.2791559                                                   | -0.762635                                                    | 0.77427185                                                   | 0.9605474                                                    |  15                                                          | -0.6548426                                                   | -1.6947143                                                   | 0.01176471                                                   | 0.1721360                                                    | 0.0000000                                                    | 0.03945255                                                   | 0.8278640                                                    | \n",
       "\n",
       "\n"
      ],
      "text/plain": [
       "    NAME                                                         DL.SIZE\n",
       "188 GO_CELL_CELL_ADHESION_VIA_PLASMA_MEMBRANE_ADHESION_MOLECULES  41    \n",
       "131 GO_BODY_FLUID_SECRETION                                       22    \n",
       "711 GO_INTEGRIN_BINDING                                           36    \n",
       "183 GO_CELL_ADHESION_MOLECULE_BINDING                             66    \n",
       "187 GO_CELL_CELL_ADHESION                                        137    \n",
       "136 GO_CADHERIN_BINDING                                           15    \n",
       "    DL.ES      DL.NES     DL.p.val    DL.q.val   UL.SIZE UL.ES      UL.NES   \n",
       "188  0.5427666  1.7324628 0.001773050 0.09083114  41      0.4197522  1.375063\n",
       "131  0.3036342  0.8662260 0.645454500 0.97657820  22      0.6100841  1.742265\n",
       "711  0.5995305  1.8794464 0.000000000 0.02137682  36      0.4758654  1.529059\n",
       "183  0.4617453  1.6174140 0.003311258 0.20517789  66      0.3265267  1.149765\n",
       "187  0.4008795  1.5881649 0.000000000 0.22650233 137      0.3078215  1.223840\n",
       "136 -0.3367573 -0.9063198 0.566893400 1.00000000  15     -0.2791559 -0.762635\n",
       "    UL.p.val   UL.q.val  OL.SIZE OL.ES      OL.NES     OL.p.val   OL.q.val \n",
       "188 0.06807867 0.4114600  41      0.4265583  1.3739624 0.05178572 0.8422076\n",
       "131 0.01328904 0.1298187  22     -0.3765206 -1.1271930 0.29336187 0.6188940\n",
       "711 0.02152318 0.2779119  36      0.3245222  1.0146892 0.41281140 1.0000000\n",
       "183 0.25354108 0.6883745  66     -0.2392364 -0.8936651 0.67688680 0.9238829\n",
       "187 0.12355212 0.6171510 137      0.2266902  0.8999043 0.71619370 1.0000000\n",
       "136 0.77427185 0.9605474  15     -0.6548426 -1.6947143 0.01176471 0.1721360\n",
       "    DL.N.q.val UL.N.q.val OL.N.q.val\n",
       "188 0.9091689  0.58854005 0.1577924 \n",
       "131 0.0234218  0.87018132 0.3811060 \n",
       "711 0.9786232  0.72208807 0.0000000 \n",
       "183 0.7948221  0.31162550 0.0761171 \n",
       "187 0.7734977  0.38284904 0.0000000 \n",
       "136 0.0000000  0.03945255 0.8278640 "
      ]
     },
     "metadata": {},
     "output_type": "display_data"
    }
   ],
   "source": [
    "total.list$DL.N.q.val <- 1- total.list$DL.q.val\n",
    "total.list$UL.N.q.val <- 1- total.list$UL.q.val\n",
    "total.list$OL.N.q.val <- 1- total.list$OL.q.val\n",
    "head(total.list)"
   ]
  },
  {
   "cell_type": "markdown",
   "metadata": {},
   "source": [
    "## (1-FDR) 값들에 NES 부호 반영 "
   ]
  },
  {
   "cell_type": "code",
   "execution_count": 33,
   "metadata": {
    "collapsed": true
   },
   "outputs": [],
   "source": [
    "for (i in 1: dim(total.list)[1]) {\n",
    "    if (total.list$DL.NES[i] >= 0) {\n",
    "        total.list$DL.N.q.val[i]  <- -1*total.list$DL.N.q.val[i]\n",
    "    } \n",
    "}\n",
    "for (i in 1: dim(total.list)[1]) {\n",
    "    if (total.list$UL.NES[i] >= 0) {\n",
    "        total.list$UL.N.q.val[i]  <- -1*total.list$UL.N.q.val[i]\n",
    "    } \n",
    "}\n",
    "for (i in 1: dim(total.list)[1]) {\n",
    "    if (total.list$OL.NES[i] >= 0) {\n",
    "        total.list$OL.N.q.val[i]  <- -1*total.list$OL.N.q.val[i]\n",
    "    } \n",
    "}"
   ]
  },
  {
   "cell_type": "code",
   "execution_count": 34,
   "metadata": {},
   "outputs": [
    {
     "data": {
      "text/html": [
       "<table>\n",
       "<thead><tr><th></th><th scope=col>NAME</th><th scope=col>DL.SIZE</th><th scope=col>DL.ES</th><th scope=col>DL.NES</th><th scope=col>DL.p.val</th><th scope=col>DL.q.val</th><th scope=col>UL.SIZE</th><th scope=col>UL.ES</th><th scope=col>UL.NES</th><th scope=col>UL.p.val</th><th scope=col>UL.q.val</th><th scope=col>OL.SIZE</th><th scope=col>OL.ES</th><th scope=col>OL.NES</th><th scope=col>OL.p.val</th><th scope=col>OL.q.val</th><th scope=col>DL.N.q.val</th><th scope=col>UL.N.q.val</th><th scope=col>OL.N.q.val</th></tr></thead>\n",
       "<tbody>\n",
       "\t<tr><th scope=row>188</th><td>GO_CELL_CELL_ADHESION_VIA_PLASMA_MEMBRANE_ADHESION_MOLECULES</td><td> 41                                                         </td><td> 0.5427666                                                  </td><td> 1.7324628                                                  </td><td>0.001773050                                                 </td><td>0.09083114                                                  </td><td> 41                                                         </td><td> 0.4197522                                                  </td><td> 1.375063                                                   </td><td>0.06807867                                                  </td><td>0.4114600                                                   </td><td> 41                                                         </td><td> 0.4265583                                                  </td><td> 1.3739624                                                  </td><td>0.05178572                                                  </td><td>0.8422076                                                   </td><td>-0.9091689                                                  </td><td>-0.58854005                                                 </td><td>-0.1577924                                                  </td></tr>\n",
       "\t<tr><th scope=row>131</th><td>GO_BODY_FLUID_SECRETION                                     </td><td> 22                                                         </td><td> 0.3036342                                                  </td><td> 0.8662260                                                  </td><td>0.645454500                                                 </td><td>0.97657820                                                  </td><td> 22                                                         </td><td> 0.6100841                                                  </td><td> 1.742265                                                   </td><td>0.01328904                                                  </td><td>0.1298187                                                   </td><td> 22                                                         </td><td>-0.3765206                                                  </td><td>-1.1271930                                                  </td><td>0.29336187                                                  </td><td>0.6188940                                                   </td><td>-0.0234218                                                  </td><td>-0.87018132                                                 </td><td> 0.3811060                                                  </td></tr>\n",
       "\t<tr><th scope=row>711</th><td>GO_INTEGRIN_BINDING                                         </td><td> 36                                                         </td><td> 0.5995305                                                  </td><td> 1.8794464                                                  </td><td>0.000000000                                                 </td><td>0.02137682                                                  </td><td> 36                                                         </td><td> 0.4758654                                                  </td><td> 1.529059                                                   </td><td>0.02152318                                                  </td><td>0.2779119                                                   </td><td> 36                                                         </td><td> 0.3245222                                                  </td><td> 1.0146892                                                  </td><td>0.41281140                                                  </td><td>1.0000000                                                   </td><td>-0.9786232                                                  </td><td>-0.72208807                                                 </td><td> 0.0000000                                                  </td></tr>\n",
       "\t<tr><th scope=row>183</th><td>GO_CELL_ADHESION_MOLECULE_BINDING                           </td><td> 66                                                         </td><td> 0.4617453                                                  </td><td> 1.6174140                                                  </td><td>0.003311258                                                 </td><td>0.20517789                                                  </td><td> 66                                                         </td><td> 0.3265267                                                  </td><td> 1.149765                                                   </td><td>0.25354108                                                  </td><td>0.6883745                                                   </td><td> 66                                                         </td><td>-0.2392364                                                  </td><td>-0.8936651                                                  </td><td>0.67688680                                                  </td><td>0.9238829                                                   </td><td>-0.7948221                                                  </td><td>-0.31162550                                                 </td><td> 0.0761171                                                  </td></tr>\n",
       "\t<tr><th scope=row>187</th><td>GO_CELL_CELL_ADHESION                                       </td><td>137                                                         </td><td> 0.4008795                                                  </td><td> 1.5881649                                                  </td><td>0.000000000                                                 </td><td>0.22650233                                                  </td><td>137                                                         </td><td> 0.3078215                                                  </td><td> 1.223840                                                   </td><td>0.12355212                                                  </td><td>0.6171510                                                   </td><td>137                                                         </td><td> 0.2266902                                                  </td><td> 0.8999043                                                  </td><td>0.71619370                                                  </td><td>1.0000000                                                   </td><td>-0.7734977                                                  </td><td>-0.38284904                                                 </td><td> 0.0000000                                                  </td></tr>\n",
       "\t<tr><th scope=row>136</th><td>GO_CADHERIN_BINDING                                         </td><td> 15                                                         </td><td>-0.3367573                                                  </td><td>-0.9063198                                                  </td><td>0.566893400                                                 </td><td>1.00000000                                                  </td><td> 15                                                         </td><td>-0.2791559                                                  </td><td>-0.762635                                                   </td><td>0.77427185                                                  </td><td>0.9605474                                                   </td><td> 15                                                         </td><td>-0.6548426                                                  </td><td>-1.6947143                                                  </td><td>0.01176471                                                  </td><td>0.1721360                                                   </td><td> 0.0000000                                                  </td><td> 0.03945255                                                 </td><td> 0.8278640                                                  </td></tr>\n",
       "</tbody>\n",
       "</table>\n"
      ],
      "text/latex": [
       "\\begin{tabular}{r|lllllllllllllllllll}\n",
       "  & NAME & DL.SIZE & DL.ES & DL.NES & DL.p.val & DL.q.val & UL.SIZE & UL.ES & UL.NES & UL.p.val & UL.q.val & OL.SIZE & OL.ES & OL.NES & OL.p.val & OL.q.val & DL.N.q.val & UL.N.q.val & OL.N.q.val\\\\\n",
       "\\hline\n",
       "\t188 & GO\\_CELL\\_CELL\\_ADHESION\\_VIA\\_PLASMA\\_MEMBRANE\\_ADHESION\\_MOLECULES &  41                                                                          &  0.5427666                                                                   &  1.7324628                                                                   & 0.001773050                                                                  & 0.09083114                                                                   &  41                                                                          &  0.4197522                                                                   &  1.375063                                                                    & 0.06807867                                                                   & 0.4114600                                                                    &  41                                                                          &  0.4265583                                                                   &  1.3739624                                                                   & 0.05178572                                                                   & 0.8422076                                                                    & -0.9091689                                                                   & -0.58854005                                                                  & -0.1577924                                                                  \\\\\n",
       "\t131 & GO\\_BODY\\_FLUID\\_SECRETION                                      &  22                                                                &  0.3036342                                                         &  0.8662260                                                         & 0.645454500                                                        & 0.97657820                                                         &  22                                                                &  0.6100841                                                         &  1.742265                                                          & 0.01328904                                                         & 0.1298187                                                          &  22                                                                & -0.3765206                                                         & -1.1271930                                                         & 0.29336187                                                         & 0.6188940                                                          & -0.0234218                                                         & -0.87018132                                                        &  0.3811060                                                        \\\\\n",
       "\t711 & GO\\_INTEGRIN\\_BINDING                                          &  36                                                              &  0.5995305                                                       &  1.8794464                                                       & 0.000000000                                                      & 0.02137682                                                       &  36                                                              &  0.4758654                                                       &  1.529059                                                        & 0.02152318                                                       & 0.2779119                                                        &  36                                                              &  0.3245222                                                       &  1.0146892                                                       & 0.41281140                                                       & 1.0000000                                                        & -0.9786232                                                       & -0.72208807                                                      &  0.0000000                                                      \\\\\n",
       "\t183 & GO\\_CELL\\_ADHESION\\_MOLECULE\\_BINDING                            &  66                                                                  &  0.4617453                                                           &  1.6174140                                                           & 0.003311258                                                          & 0.20517789                                                           &  66                                                                  &  0.3265267                                                           &  1.149765                                                            & 0.25354108                                                           & 0.6883745                                                            &  66                                                                  & -0.2392364                                                           & -0.8936651                                                           & 0.67688680                                                           & 0.9238829                                                            & -0.7948221                                                           & -0.31162550                                                          &  0.0761171                                                          \\\\\n",
       "\t187 & GO\\_CELL\\_CELL\\_ADHESION                                        & 137                                                                &  0.4008795                                                         &  1.5881649                                                         & 0.000000000                                                        & 0.22650233                                                         & 137                                                                &  0.3078215                                                         &  1.223840                                                          & 0.12355212                                                         & 0.6171510                                                          & 137                                                                &  0.2266902                                                         &  0.8999043                                                         & 0.71619370                                                         & 1.0000000                                                          & -0.7734977                                                         & -0.38284904                                                        &  0.0000000                                                        \\\\\n",
       "\t136 & GO\\_CADHERIN\\_BINDING                                          &  15                                                              & -0.3367573                                                       & -0.9063198                                                       & 0.566893400                                                      & 1.00000000                                                       &  15                                                              & -0.2791559                                                       & -0.762635                                                        & 0.77427185                                                       & 0.9605474                                                        &  15                                                              & -0.6548426                                                       & -1.6947143                                                       & 0.01176471                                                       & 0.1721360                                                        &  0.0000000                                                       &  0.03945255                                                      &  0.8278640                                                      \\\\\n",
       "\\end{tabular}\n"
      ],
      "text/markdown": [
       "\n",
       "| <!--/--> | NAME | DL.SIZE | DL.ES | DL.NES | DL.p.val | DL.q.val | UL.SIZE | UL.ES | UL.NES | UL.p.val | UL.q.val | OL.SIZE | OL.ES | OL.NES | OL.p.val | OL.q.val | DL.N.q.val | UL.N.q.val | OL.N.q.val | \n",
       "|---|---|---|---|---|---|\n",
       "| 188 | GO_CELL_CELL_ADHESION_VIA_PLASMA_MEMBRANE_ADHESION_MOLECULES |  41                                                          |  0.5427666                                                   |  1.7324628                                                   | 0.001773050                                                  | 0.09083114                                                   |  41                                                          |  0.4197522                                                   |  1.375063                                                    | 0.06807867                                                   | 0.4114600                                                    |  41                                                          |  0.4265583                                                   |  1.3739624                                                   | 0.05178572                                                   | 0.8422076                                                    | -0.9091689                                                   | -0.58854005                                                  | -0.1577924                                                   | \n",
       "| 131 | GO_BODY_FLUID_SECRETION                                      |  22                                                          |  0.3036342                                                   |  0.8662260                                                   | 0.645454500                                                  | 0.97657820                                                   |  22                                                          |  0.6100841                                                   |  1.742265                                                    | 0.01328904                                                   | 0.1298187                                                    |  22                                                          | -0.3765206                                                   | -1.1271930                                                   | 0.29336187                                                   | 0.6188940                                                    | -0.0234218                                                   | -0.87018132                                                  |  0.3811060                                                   | \n",
       "| 711 | GO_INTEGRIN_BINDING                                          |  36                                                          |  0.5995305                                                   |  1.8794464                                                   | 0.000000000                                                  | 0.02137682                                                   |  36                                                          |  0.4758654                                                   |  1.529059                                                    | 0.02152318                                                   | 0.2779119                                                    |  36                                                          |  0.3245222                                                   |  1.0146892                                                   | 0.41281140                                                   | 1.0000000                                                    | -0.9786232                                                   | -0.72208807                                                  |  0.0000000                                                   | \n",
       "| 183 | GO_CELL_ADHESION_MOLECULE_BINDING                            |  66                                                          |  0.4617453                                                   |  1.6174140                                                   | 0.003311258                                                  | 0.20517789                                                   |  66                                                          |  0.3265267                                                   |  1.149765                                                    | 0.25354108                                                   | 0.6883745                                                    |  66                                                          | -0.2392364                                                   | -0.8936651                                                   | 0.67688680                                                   | 0.9238829                                                    | -0.7948221                                                   | -0.31162550                                                  |  0.0761171                                                   | \n",
       "| 187 | GO_CELL_CELL_ADHESION                                        | 137                                                          |  0.4008795                                                   |  1.5881649                                                   | 0.000000000                                                  | 0.22650233                                                   | 137                                                          |  0.3078215                                                   |  1.223840                                                    | 0.12355212                                                   | 0.6171510                                                    | 137                                                          |  0.2266902                                                   |  0.8999043                                                   | 0.71619370                                                   | 1.0000000                                                    | -0.7734977                                                   | -0.38284904                                                  |  0.0000000                                                   | \n",
       "| 136 | GO_CADHERIN_BINDING                                          |  15                                                          | -0.3367573                                                   | -0.9063198                                                   | 0.566893400                                                  | 1.00000000                                                   |  15                                                          | -0.2791559                                                   | -0.762635                                                    | 0.77427185                                                   | 0.9605474                                                    |  15                                                          | -0.6548426                                                   | -1.6947143                                                   | 0.01176471                                                   | 0.1721360                                                    |  0.0000000                                                   |  0.03945255                                                  |  0.8278640                                                   | \n",
       "\n",
       "\n"
      ],
      "text/plain": [
       "    NAME                                                         DL.SIZE\n",
       "188 GO_CELL_CELL_ADHESION_VIA_PLASMA_MEMBRANE_ADHESION_MOLECULES  41    \n",
       "131 GO_BODY_FLUID_SECRETION                                       22    \n",
       "711 GO_INTEGRIN_BINDING                                           36    \n",
       "183 GO_CELL_ADHESION_MOLECULE_BINDING                             66    \n",
       "187 GO_CELL_CELL_ADHESION                                        137    \n",
       "136 GO_CADHERIN_BINDING                                           15    \n",
       "    DL.ES      DL.NES     DL.p.val    DL.q.val   UL.SIZE UL.ES      UL.NES   \n",
       "188  0.5427666  1.7324628 0.001773050 0.09083114  41      0.4197522  1.375063\n",
       "131  0.3036342  0.8662260 0.645454500 0.97657820  22      0.6100841  1.742265\n",
       "711  0.5995305  1.8794464 0.000000000 0.02137682  36      0.4758654  1.529059\n",
       "183  0.4617453  1.6174140 0.003311258 0.20517789  66      0.3265267  1.149765\n",
       "187  0.4008795  1.5881649 0.000000000 0.22650233 137      0.3078215  1.223840\n",
       "136 -0.3367573 -0.9063198 0.566893400 1.00000000  15     -0.2791559 -0.762635\n",
       "    UL.p.val   UL.q.val  OL.SIZE OL.ES      OL.NES     OL.p.val   OL.q.val \n",
       "188 0.06807867 0.4114600  41      0.4265583  1.3739624 0.05178572 0.8422076\n",
       "131 0.01328904 0.1298187  22     -0.3765206 -1.1271930 0.29336187 0.6188940\n",
       "711 0.02152318 0.2779119  36      0.3245222  1.0146892 0.41281140 1.0000000\n",
       "183 0.25354108 0.6883745  66     -0.2392364 -0.8936651 0.67688680 0.9238829\n",
       "187 0.12355212 0.6171510 137      0.2266902  0.8999043 0.71619370 1.0000000\n",
       "136 0.77427185 0.9605474  15     -0.6548426 -1.6947143 0.01176471 0.1721360\n",
       "    DL.N.q.val UL.N.q.val  OL.N.q.val\n",
       "188 -0.9091689 -0.58854005 -0.1577924\n",
       "131 -0.0234218 -0.87018132  0.3811060\n",
       "711 -0.9786232 -0.72208807  0.0000000\n",
       "183 -0.7948221 -0.31162550  0.0761171\n",
       "187 -0.7734977 -0.38284904  0.0000000\n",
       "136  0.0000000  0.03945255  0.8278640"
      ]
     },
     "metadata": {},
     "output_type": "display_data"
    }
   ],
   "source": [
    "head(total.list)"
   ]
  },
  {
   "cell_type": "markdown",
   "metadata": {},
   "source": [
    "## 추출한 결과를 txt file로 저장"
   ]
  },
  {
   "cell_type": "code",
   "execution_count": 35,
   "metadata": {},
   "outputs": [],
   "source": [
    "write.table(x = total.list, file = \"~/Deprived_list.txt\",quote = F, sep = \"\\t\")"
   ]
  },
  {
   "cell_type": "markdown",
   "metadata": {},
   "source": [
    "## 위와 같은 방식으로 Enriched list에 대한 분석을 진행 "
   ]
  },
  {
   "cell_type": "code",
   "execution_count": 36,
   "metadata": {},
   "outputs": [
    {
     "data": {
      "text/html": [
       "<table>\n",
       "<thead><tr><th></th><th scope=col>NAME</th><th scope=col>DL.SIZE</th><th scope=col>DL.ES</th><th scope=col>DL.NES</th><th scope=col>DL.p.val</th><th scope=col>DL.q.val</th><th scope=col>UL.SIZE</th><th scope=col>UL.ES</th><th scope=col>UL.NES</th><th scope=col>UL.p.val</th><th scope=col>UL.q.val</th><th scope=col>OL.SIZE</th><th scope=col>OL.ES</th><th scope=col>OL.NES</th><th scope=col>OL.p.val</th><th scope=col>OL.q.val</th><th scope=col>DL.N.q.val</th><th scope=col>UL.N.q.val</th><th scope=col>OL.N.q.val</th></tr></thead>\n",
       "<tbody>\n",
       "\t<tr><th scope=row>1002</th><td>GO_NEGATIVE_REGULATION_OF_CYTOSKELETON_ORGANIZATION            </td><td> 74                                                            </td><td>-0.3237282                                                     </td><td>-1.228303                                                      </td><td>0.117647060                                                    </td><td>0.8711609                                                      </td><td> 74                                                            </td><td>-0.3458020                                                     </td><td>-1.436923                                                      </td><td>0.01869159                                                     </td><td>0.4239314                                                      </td><td> 74                                                            </td><td>-0.4989593                                                     </td><td>-1.900013                                                      </td><td>0.000000000                                                    </td><td>0.07895413                                                     </td><td>0.1288391                                                      </td><td>0.5760686                                                      </td><td>0.9210459                                                      </td></tr>\n",
       "\t<tr><th scope=row>1851</th><td>GO_REGULATION_OF_PROTEIN_POLYMERIZATION                        </td><td> 78                                                            </td><td>-0.4264867                                                     </td><td>-1.650408                                                      </td><td>0.002427185                                                    </td><td>0.9075514                                                      </td><td> 78                                                            </td><td>-0.4055061                                                     </td><td>-1.687316                                                      </td><td>0.00000000                                                     </td><td>0.3327710                                                      </td><td> 78                                                            </td><td>-0.5429397                                                     </td><td>-2.099096                                                      </td><td>0.000000000                                                    </td><td>0.01138741                                                     </td><td>0.0924486                                                      </td><td>0.6672290                                                      </td><td>0.9886126                                                      </td></tr>\n",
       "\t<tr><th scope=row>1062</th><td>GO_NEGATIVE_REGULATION_OF_PROTEIN_POLYMERIZATION               </td><td> 25                                                            </td><td>-0.4850999                                                     </td><td>-1.473638                                                      </td><td>0.054824560                                                    </td><td>0.7210470                                                      </td><td> 25                                                            </td><td>-0.4596794                                                     </td><td>-1.448461                                                      </td><td>0.06701031                                                     </td><td>0.4203581                                                      </td><td> 25                                                            </td><td>-0.6388799                                                     </td><td>-1.951121                                                      </td><td>0.002331002                                                    </td><td>0.05378865                                                     </td><td>0.2789530                                                      </td><td>0.5796419                                                      </td><td>0.9462113                                                      </td></tr>\n",
       "\t<tr><th scope=row>1434</th><td>GO_POSITIVE_REGULATION_OF_PROTEIN_POLYMERIZATION               </td><td> 38                                                            </td><td>-0.3783029                                                     </td><td>-1.277574                                                      </td><td>0.140589570                                                    </td><td>0.8407194                                                      </td><td> 38                                                            </td><td>-0.4314673                                                     </td><td>-1.523352                                                      </td><td>0.01966292                                                     </td><td>0.3663918                                                      </td><td> 38                                                            </td><td>-0.5456324                                                     </td><td>-1.802011                                                      </td><td>0.000000000                                                    </td><td>0.12381253                                                     </td><td>0.1592806                                                      </td><td>0.6336082                                                      </td><td>0.8761875                                                      </td></tr>\n",
       "\t<tr><th scope=row>1773</th><td>GO_REGULATION_OF_MICROTUBULE_POLYMERIZATION_OR_DEPOLYMERIZATION</td><td> 59                                                            </td><td>-0.3986481                                                     </td><td>-1.472730                                                      </td><td>0.036057692                                                    </td><td>0.7073930                                                      </td><td> 59                                                            </td><td>-0.3850246                                                     </td><td>-1.491702                                                      </td><td>0.01587302                                                     </td><td>0.3673820                                                      </td><td> 59                                                            </td><td>-0.4454423                                                     </td><td>-1.617682                                                      </td><td>0.006960557                                                    </td><td>0.21929080                                                     </td><td>0.2926070                                                      </td><td>0.6326180                                                      </td><td>0.7807092                                                      </td></tr>\n",
       "\t<tr><th scope=row>1841</th><td>GO_REGULATION_OF_PROTEIN_COMPLEX_ASSEMBLY                      </td><td>154                                                            </td><td>-0.2755970                                                     </td><td>-1.178068                                                      </td><td>0.113960120                                                    </td><td>0.8847086                                                      </td><td>154                                                            </td><td>-0.2753369                                                     </td><td>-1.257930                                                      </td><td>0.04149378                                                     </td><td>0.6152350                                                      </td><td>154                                                            </td><td>-0.3755991                                                     </td><td>-1.609673                                                      </td><td>0.000000000                                                    </td><td>0.21774100                                                     </td><td>0.1152914                                                      </td><td>0.3847650                                                      </td><td>0.7822590                                                      </td></tr>\n",
       "</tbody>\n",
       "</table>\n"
      ],
      "text/latex": [
       "\\begin{tabular}{r|lllllllllllllllllll}\n",
       "  & NAME & DL.SIZE & DL.ES & DL.NES & DL.p.val & DL.q.val & UL.SIZE & UL.ES & UL.NES & UL.p.val & UL.q.val & OL.SIZE & OL.ES & OL.NES & OL.p.val & OL.q.val & DL.N.q.val & UL.N.q.val & OL.N.q.val\\\\\n",
       "\\hline\n",
       "\t1002 & GO\\_NEGATIVE\\_REGULATION\\_OF\\_CYTOSKELETON\\_ORGANIZATION             &  74                                                                       & -0.3237282                                                                & -1.228303                                                                 & 0.117647060                                                               & 0.8711609                                                                 &  74                                                                       & -0.3458020                                                                & -1.436923                                                                 & 0.01869159                                                                & 0.4239314                                                                 &  74                                                                       & -0.4989593                                                                & -1.900013                                                                 & 0.000000000                                                               & 0.07895413                                                                & 0.1288391                                                                 & 0.5760686                                                                 & 0.9210459                                                                \\\\\n",
       "\t1851 & GO\\_REGULATION\\_OF\\_PROTEIN\\_POLYMERIZATION                         &  78                                                                     & -0.4264867                                                              & -1.650408                                                               & 0.002427185                                                             & 0.9075514                                                               &  78                                                                     & -0.4055061                                                              & -1.687316                                                               & 0.00000000                                                              & 0.3327710                                                               &  78                                                                     & -0.5429397                                                              & -2.099096                                                               & 0.000000000                                                             & 0.01138741                                                              & 0.0924486                                                               & 0.6672290                                                               & 0.9886126                                                              \\\\\n",
       "\t1062 & GO\\_NEGATIVE\\_REGULATION\\_OF\\_PROTEIN\\_POLYMERIZATION                &  25                                                                       & -0.4850999                                                                & -1.473638                                                                 & 0.054824560                                                               & 0.7210470                                                                 &  25                                                                       & -0.4596794                                                                & -1.448461                                                                 & 0.06701031                                                                & 0.4203581                                                                 &  25                                                                       & -0.6388799                                                                & -1.951121                                                                 & 0.002331002                                                               & 0.05378865                                                                & 0.2789530                                                                 & 0.5796419                                                                 & 0.9462113                                                                \\\\\n",
       "\t1434 & GO\\_POSITIVE\\_REGULATION\\_OF\\_PROTEIN\\_POLYMERIZATION                &  38                                                                       & -0.3783029                                                                & -1.277574                                                                 & 0.140589570                                                               & 0.8407194                                                                 &  38                                                                       & -0.4314673                                                                & -1.523352                                                                 & 0.01966292                                                                & 0.3663918                                                                 &  38                                                                       & -0.5456324                                                                & -1.802011                                                                 & 0.000000000                                                               & 0.12381253                                                                & 0.1592806                                                                 & 0.6336082                                                                 & 0.8761875                                                                \\\\\n",
       "\t1773 & GO\\_REGULATION\\_OF\\_MICROTUBULE\\_POLYMERIZATION\\_OR\\_DEPOLYMERIZATION &  59                                                                         & -0.3986481                                                                  & -1.472730                                                                   & 0.036057692                                                                 & 0.7073930                                                                   &  59                                                                         & -0.3850246                                                                  & -1.491702                                                                   & 0.01587302                                                                  & 0.3673820                                                                   &  59                                                                         & -0.4454423                                                                  & -1.617682                                                                   & 0.006960557                                                                 & 0.21929080                                                                  & 0.2926070                                                                   & 0.6326180                                                                   & 0.7807092                                                                  \\\\\n",
       "\t1841 & GO\\_REGULATION\\_OF\\_PROTEIN\\_COMPLEX\\_ASSEMBLY                       & 154                                                                       & -0.2755970                                                                & -1.178068                                                                 & 0.113960120                                                               & 0.8847086                                                                 & 154                                                                       & -0.2753369                                                                & -1.257930                                                                 & 0.04149378                                                                & 0.6152350                                                                 & 154                                                                       & -0.3755991                                                                & -1.609673                                                                 & 0.000000000                                                               & 0.21774100                                                                & 0.1152914                                                                 & 0.3847650                                                                 & 0.7822590                                                                \\\\\n",
       "\\end{tabular}\n"
      ],
      "text/markdown": [
       "\n",
       "| <!--/--> | NAME | DL.SIZE | DL.ES | DL.NES | DL.p.val | DL.q.val | UL.SIZE | UL.ES | UL.NES | UL.p.val | UL.q.val | OL.SIZE | OL.ES | OL.NES | OL.p.val | OL.q.val | DL.N.q.val | UL.N.q.val | OL.N.q.val | \n",
       "|---|---|---|---|---|---|\n",
       "| 1002 | GO_NEGATIVE_REGULATION_OF_CYTOSKELETON_ORGANIZATION             |  74                                                             | -0.3237282                                                      | -1.228303                                                       | 0.117647060                                                     | 0.8711609                                                       |  74                                                             | -0.3458020                                                      | -1.436923                                                       | 0.01869159                                                      | 0.4239314                                                       |  74                                                             | -0.4989593                                                      | -1.900013                                                       | 0.000000000                                                     | 0.07895413                                                      | 0.1288391                                                       | 0.5760686                                                       | 0.9210459                                                       | \n",
       "| 1851 | GO_REGULATION_OF_PROTEIN_POLYMERIZATION                         |  78                                                             | -0.4264867                                                      | -1.650408                                                       | 0.002427185                                                     | 0.9075514                                                       |  78                                                             | -0.4055061                                                      | -1.687316                                                       | 0.00000000                                                      | 0.3327710                                                       |  78                                                             | -0.5429397                                                      | -2.099096                                                       | 0.000000000                                                     | 0.01138741                                                      | 0.0924486                                                       | 0.6672290                                                       | 0.9886126                                                       | \n",
       "| 1062 | GO_NEGATIVE_REGULATION_OF_PROTEIN_POLYMERIZATION                |  25                                                             | -0.4850999                                                      | -1.473638                                                       | 0.054824560                                                     | 0.7210470                                                       |  25                                                             | -0.4596794                                                      | -1.448461                                                       | 0.06701031                                                      | 0.4203581                                                       |  25                                                             | -0.6388799                                                      | -1.951121                                                       | 0.002331002                                                     | 0.05378865                                                      | 0.2789530                                                       | 0.5796419                                                       | 0.9462113                                                       | \n",
       "| 1434 | GO_POSITIVE_REGULATION_OF_PROTEIN_POLYMERIZATION                |  38                                                             | -0.3783029                                                      | -1.277574                                                       | 0.140589570                                                     | 0.8407194                                                       |  38                                                             | -0.4314673                                                      | -1.523352                                                       | 0.01966292                                                      | 0.3663918                                                       |  38                                                             | -0.5456324                                                      | -1.802011                                                       | 0.000000000                                                     | 0.12381253                                                      | 0.1592806                                                       | 0.6336082                                                       | 0.8761875                                                       | \n",
       "| 1773 | GO_REGULATION_OF_MICROTUBULE_POLYMERIZATION_OR_DEPOLYMERIZATION |  59                                                             | -0.3986481                                                      | -1.472730                                                       | 0.036057692                                                     | 0.7073930                                                       |  59                                                             | -0.3850246                                                      | -1.491702                                                       | 0.01587302                                                      | 0.3673820                                                       |  59                                                             | -0.4454423                                                      | -1.617682                                                       | 0.006960557                                                     | 0.21929080                                                      | 0.2926070                                                       | 0.6326180                                                       | 0.7807092                                                       | \n",
       "| 1841 | GO_REGULATION_OF_PROTEIN_COMPLEX_ASSEMBLY                       | 154                                                             | -0.2755970                                                      | -1.178068                                                       | 0.113960120                                                     | 0.8847086                                                       | 154                                                             | -0.2753369                                                      | -1.257930                                                       | 0.04149378                                                      | 0.6152350                                                       | 154                                                             | -0.3755991                                                      | -1.609673                                                       | 0.000000000                                                     | 0.21774100                                                      | 0.1152914                                                       | 0.3847650                                                       | 0.7822590                                                       | \n",
       "\n",
       "\n"
      ],
      "text/plain": [
       "     NAME                                                            DL.SIZE\n",
       "1002 GO_NEGATIVE_REGULATION_OF_CYTOSKELETON_ORGANIZATION              74    \n",
       "1851 GO_REGULATION_OF_PROTEIN_POLYMERIZATION                          78    \n",
       "1062 GO_NEGATIVE_REGULATION_OF_PROTEIN_POLYMERIZATION                 25    \n",
       "1434 GO_POSITIVE_REGULATION_OF_PROTEIN_POLYMERIZATION                 38    \n",
       "1773 GO_REGULATION_OF_MICROTUBULE_POLYMERIZATION_OR_DEPOLYMERIZATION  59    \n",
       "1841 GO_REGULATION_OF_PROTEIN_COMPLEX_ASSEMBLY                       154    \n",
       "     DL.ES      DL.NES    DL.p.val    DL.q.val  UL.SIZE UL.ES      UL.NES   \n",
       "1002 -0.3237282 -1.228303 0.117647060 0.8711609  74     -0.3458020 -1.436923\n",
       "1851 -0.4264867 -1.650408 0.002427185 0.9075514  78     -0.4055061 -1.687316\n",
       "1062 -0.4850999 -1.473638 0.054824560 0.7210470  25     -0.4596794 -1.448461\n",
       "1434 -0.3783029 -1.277574 0.140589570 0.8407194  38     -0.4314673 -1.523352\n",
       "1773 -0.3986481 -1.472730 0.036057692 0.7073930  59     -0.3850246 -1.491702\n",
       "1841 -0.2755970 -1.178068 0.113960120 0.8847086 154     -0.2753369 -1.257930\n",
       "     UL.p.val   UL.q.val  OL.SIZE OL.ES      OL.NES    OL.p.val    OL.q.val  \n",
       "1002 0.01869159 0.4239314  74     -0.4989593 -1.900013 0.000000000 0.07895413\n",
       "1851 0.00000000 0.3327710  78     -0.5429397 -2.099096 0.000000000 0.01138741\n",
       "1062 0.06701031 0.4203581  25     -0.6388799 -1.951121 0.002331002 0.05378865\n",
       "1434 0.01966292 0.3663918  38     -0.5456324 -1.802011 0.000000000 0.12381253\n",
       "1773 0.01587302 0.3673820  59     -0.4454423 -1.617682 0.006960557 0.21929080\n",
       "1841 0.04149378 0.6152350 154     -0.3755991 -1.609673 0.000000000 0.21774100\n",
       "     DL.N.q.val UL.N.q.val OL.N.q.val\n",
       "1002 0.1288391  0.5760686  0.9210459 \n",
       "1851 0.0924486  0.6672290  0.9886126 \n",
       "1062 0.2789530  0.5796419  0.9462113 \n",
       "1434 0.1592806  0.6336082  0.8761875 \n",
       "1773 0.2926070  0.6326180  0.7807092 \n",
       "1841 0.1152914  0.3847650  0.7822590 "
      ]
     },
     "metadata": {},
     "output_type": "display_data"
    }
   ],
   "source": [
    "Enriched.list <-c(t(read.delim(\"C:/Users/KimYG/Experimental Data/Proteomics/GSEA/GSEA result_R/Merged_enriched in training.txt\", sep=\"\\t\", header = FALSE, stringsAsFactors = FALSE)))\n",
    "\n",
    "extracted.list2 <- list()\n",
    "for (i in 1:length(Enriched.list)) {\n",
    "    extracted.list2[[i]] <- master.df[master.df$NAME==Enriched.list[i], ]\n",
    "}\n",
    "\n",
    "total.list2 <- do.call(rbind, extracted.list2)\n",
    "\n",
    "total.list2$DL.N.q.val <- 1- total.list2$DL.q.val\n",
    "total.list2$UL.N.q.val <- 1- total.list2$UL.q.val\n",
    "total.list2$OL.N.q.val <- 1- total.list2$OL.q.val\n",
    "\n",
    "for (i in 1: dim(total.list)[1]) {\n",
    "    if (total.list$DL.NES[i] >= 0) {\n",
    "        total.list$DL.N.q.val[i]  <- -1*total.list$DL.N.q.val[i]\n",
    "    } \n",
    "}\n",
    "for (i in 1: dim(total.list)[1]) {\n",
    "    if (total.list$UL.NES[i] >= 0) {\n",
    "        total.list$UL.N.q.val[i]  <- -1*total.list$UL.N.q.val[i]\n",
    "    } \n",
    "}\n",
    "for (i in 1: dim(total.list)[1]) {\n",
    "    if (total.list$OL.NES[i] >= 0) {\n",
    "        total.list$OL.N.q.val[i]  <- -1*total.list$OL.N.q.val[i]\n",
    "    } \n",
    "}\n",
    "\n",
    "head(total.list2)\n",
    "\n",
    "write.table(total.list2, file = \"~/Enriched_list.txt\", quote = F, sep = \"\\t\")"
   ]
  }
 ],
 "metadata": {
  "anaconda-cloud": {},
  "kernelspec": {
   "display_name": "R",
   "language": "R",
   "name": "ir"
  },
  "language_info": {
   "codemirror_mode": "r",
   "file_extension": ".r",
   "mimetype": "text/x-r-source",
   "name": "R",
   "pygments_lexer": "r",
   "version": "3.4.1"
  }
 },
 "nbformat": 4,
 "nbformat_minor": 1
}
