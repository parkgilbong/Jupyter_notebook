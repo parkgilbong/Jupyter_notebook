{
 "cells": [
  {
   "cell_type": "code",
   "execution_count": 1,
   "id": "fb67253c",
   "metadata": {},
   "outputs": [
    {
     "ename": "ModuleNotFoundError",
     "evalue": "No module named 'metplotlib'",
     "output_type": "error",
     "traceback": [
      "\u001b[1;31m---------------------------------------------------------------------------\u001b[0m",
      "\u001b[1;31mModuleNotFoundError\u001b[0m                       Traceback (most recent call last)",
      "Cell \u001b[1;32mIn[1], line 3\u001b[0m\n\u001b[0;32m      1\u001b[0m \u001b[38;5;28;01mimport\u001b[39;00m \u001b[38;5;21;01mpandas\u001b[39;00m \u001b[38;5;28;01mas\u001b[39;00m \u001b[38;5;21;01mpd\u001b[39;00m\n\u001b[0;32m      2\u001b[0m \u001b[38;5;28;01mimport\u001b[39;00m \u001b[38;5;21;01mseaborn\u001b[39;00m \u001b[38;5;28;01mas\u001b[39;00m \u001b[38;5;21;01msns\u001b[39;00m\n\u001b[1;32m----> 3\u001b[0m \u001b[38;5;28;01mimport\u001b[39;00m \u001b[38;5;21;01mmetplotlib\u001b[39;00m\u001b[38;5;21;01m.\u001b[39;00m\u001b[38;5;21;01mpyplot\u001b[39;00m \u001b[38;5;28;01mas\u001b[39;00m \u001b[38;5;21;01mplt\u001b[39;00m\n",
      "\u001b[1;31mModuleNotFoundError\u001b[0m: No module named 'metplotlib'"
     ]
    }
   ],
   "source": [
    "import pandas as pd\n",
    "import seaborn as sns\n",
    "import metplotlib.pyplot as plt"
   ]
  },
  {
   "cell_type": "code",
   "execution_count": 3,
   "id": "10606ee8",
   "metadata": {},
   "outputs": [
    {
     "name": "stdout",
     "output_type": "stream",
     "text": [
      " C 드라이브의 볼륨에는 이름이 없습니다.\n",
      " 볼륨 일련 번호: 06B9-E2F5\n",
      "\n",
      " C:\\Users\\KimYG\\Documents\\GitHub\\Jupyter_notebook 디렉터리\n",
      "\n",
      "2024-01-21  오후 09:24    <DIR>          .\n",
      "2024-01-21  오후 09:24    <DIR>          ..\n",
      "2024-01-21  오후 09:22    <DIR>          .ipynb_checkpoints\n",
      "2020-09-18  오전 12:56    <DIR>          [Ev-vivo] Intrinsic Excitability of floccular PCs after OKR learning\n",
      "2022-01-28  오후 08:54           119,238 [Master code] Digital Labnote for IE Project.ipynb\n",
      "2020-05-13  오후 12:05           294,045 [Master code] Hypothesis Testing.ipynb\n",
      "2020-07-22  오후 12:42           124,413 [Master code] Process for VOG data.ipynb\n",
      "2022-01-28  오후 08:54            35,948 220121_Grin2bKI_Intrinsic excitability_ACC_CaMKII(+) .ipynb\n",
      "2024-01-21  오후 09:19           143,619 240109_003DLC_resnet50_OpenFieldJan19shuffle1_100000.csv\n",
      "2024-01-21  오후 09:19        31,853,383 240109_003DLC_resnet50_OpenFieldJan19shuffle1_100000_labeled.mp4\n",
      "2019-11-07  오후 04:33            45,518 apply(), tapply(), lapply(), sapply() Function in R with Examples.ipynb\n",
      "2020-07-22  오후 12:52    <DIR>          Electrophysiology data analysis log\n",
      "2019-11-07  오후 04:33           207,158 Generation of GSEA heat map.ipynb\n",
      "2019-11-06  오전 09:43               183 README.md\n",
      "2022-08-08  오전 11:24            63,145 simulated EPSC generation.ipynb\n",
      "2020-07-22  오후 12:01             1,539 SSFO_G01_OKR Learning score_wo_light.txt\n",
      "2024-01-21  오후 09:24             1,151 Untitled.ipynb\n",
      "2020-07-22  오후 12:52    <DIR>          VOG data analysis log\n",
      "2020-07-21  오전 12:17             1,544 VOGdata.txt\n",
      "2019-11-07  오후 04:32            36,585 WGCNA.ipynb\n",
      "              14개 파일          32,927,469 바이트\n",
      "               6개 디렉터리  25,654,038,528 바이트 남음\n"
     ]
    }
   ],
   "source": [
    "%ls"
   ]
  },
  {
   "cell_type": "code",
   "execution_count": 15,
   "id": "76983c0f",
   "metadata": {},
   "outputs": [
    {
     "data": {
      "text/html": [
       "<div>\n",
       "<style scoped>\n",
       "    .dataframe tbody tr th:only-of-type {\n",
       "        vertical-align: middle;\n",
       "    }\n",
       "\n",
       "    .dataframe tbody tr th {\n",
       "        vertical-align: top;\n",
       "    }\n",
       "\n",
       "    .dataframe thead th {\n",
       "        text-align: right;\n",
       "    }\n",
       "</style>\n",
       "<table border=\"1\" class=\"dataframe\">\n",
       "  <thead>\n",
       "    <tr style=\"text-align: right;\">\n",
       "      <th></th>\n",
       "      <th>NoseX</th>\n",
       "      <th>NoseY</th>\n",
       "      <th>NoseLH</th>\n",
       "      <th>RightEarX</th>\n",
       "      <th>RightEarY</th>\n",
       "      <th>RightEarLH</th>\n",
       "      <th>LeftEarX</th>\n",
       "      <th>LeftEarY</th>\n",
       "      <th>LeftEarLH</th>\n",
       "      <th>HeadX</th>\n",
       "      <th>HeadY</th>\n",
       "      <th>HeadLH</th>\n",
       "    </tr>\n",
       "    <tr>\n",
       "      <th>0</th>\n",
       "      <th></th>\n",
       "      <th></th>\n",
       "      <th></th>\n",
       "      <th></th>\n",
       "      <th></th>\n",
       "      <th></th>\n",
       "      <th></th>\n",
       "      <th></th>\n",
       "      <th></th>\n",
       "      <th></th>\n",
       "      <th></th>\n",
       "      <th></th>\n",
       "    </tr>\n",
       "  </thead>\n",
       "  <tbody>\n",
       "    <tr>\n",
       "      <th>0</th>\n",
       "      <td>463.896820</td>\n",
       "      <td>1192.539673</td>\n",
       "      <td>0.994522</td>\n",
       "      <td>535.056824</td>\n",
       "      <td>1235.231934</td>\n",
       "      <td>0.764024</td>\n",
       "      <td>466.576508</td>\n",
       "      <td>1287.278076</td>\n",
       "      <td>0.986548</td>\n",
       "      <td>489.349457</td>\n",
       "      <td>1243.845703</td>\n",
       "      <td>0.998926</td>\n",
       "    </tr>\n",
       "    <tr>\n",
       "      <th>1</th>\n",
       "      <td>471.932953</td>\n",
       "      <td>1183.435425</td>\n",
       "      <td>0.996797</td>\n",
       "      <td>542.853027</td>\n",
       "      <td>1233.656006</td>\n",
       "      <td>0.942102</td>\n",
       "      <td>471.015594</td>\n",
       "      <td>1279.832153</td>\n",
       "      <td>0.978723</td>\n",
       "      <td>497.594971</td>\n",
       "      <td>1234.751099</td>\n",
       "      <td>0.999913</td>\n",
       "    </tr>\n",
       "    <tr>\n",
       "      <th>2</th>\n",
       "      <td>488.205872</td>\n",
       "      <td>1176.212036</td>\n",
       "      <td>0.995507</td>\n",
       "      <td>552.829834</td>\n",
       "      <td>1233.396851</td>\n",
       "      <td>0.829272</td>\n",
       "      <td>473.129120</td>\n",
       "      <td>1271.736572</td>\n",
       "      <td>0.986575</td>\n",
       "      <td>508.694458</td>\n",
       "      <td>1231.282959</td>\n",
       "      <td>0.999178</td>\n",
       "    </tr>\n",
       "    <tr>\n",
       "      <th>3</th>\n",
       "      <td>504.096802</td>\n",
       "      <td>1169.202515</td>\n",
       "      <td>0.994526</td>\n",
       "      <td>563.350830</td>\n",
       "      <td>1232.586182</td>\n",
       "      <td>0.559543</td>\n",
       "      <td>474.737854</td>\n",
       "      <td>1261.118774</td>\n",
       "      <td>0.981507</td>\n",
       "      <td>517.280334</td>\n",
       "      <td>1229.749634</td>\n",
       "      <td>0.999594</td>\n",
       "    </tr>\n",
       "    <tr>\n",
       "      <th>4</th>\n",
       "      <td>512.103943</td>\n",
       "      <td>1162.009888</td>\n",
       "      <td>0.994652</td>\n",
       "      <td>577.634399</td>\n",
       "      <td>1225.874634</td>\n",
       "      <td>0.927200</td>\n",
       "      <td>479.283722</td>\n",
       "      <td>1250.627808</td>\n",
       "      <td>0.994375</td>\n",
       "      <td>525.055908</td>\n",
       "      <td>1222.331177</td>\n",
       "      <td>0.999245</td>\n",
       "    </tr>\n",
       "  </tbody>\n",
       "</table>\n",
       "</div>"
      ],
      "text/plain": [
       "        NoseX        NoseY    NoseLH   RightEarX    RightEarY  RightEarLH  \\\n",
       "0                                                                           \n",
       "0  463.896820  1192.539673  0.994522  535.056824  1235.231934    0.764024   \n",
       "1  471.932953  1183.435425  0.996797  542.853027  1233.656006    0.942102   \n",
       "2  488.205872  1176.212036  0.995507  552.829834  1233.396851    0.829272   \n",
       "3  504.096802  1169.202515  0.994526  563.350830  1232.586182    0.559543   \n",
       "4  512.103943  1162.009888  0.994652  577.634399  1225.874634    0.927200   \n",
       "\n",
       "     LeftEarX     LeftEarY  LeftEarLH       HeadX        HeadY    HeadLH  \n",
       "0                                                                         \n",
       "0  466.576508  1287.278076   0.986548  489.349457  1243.845703  0.998926  \n",
       "1  471.015594  1279.832153   0.978723  497.594971  1234.751099  0.999913  \n",
       "2  473.129120  1271.736572   0.986575  508.694458  1231.282959  0.999178  \n",
       "3  474.737854  1261.118774   0.981507  517.280334  1229.749634  0.999594  \n",
       "4  479.283722  1250.627808   0.994375  525.055908  1222.331177  0.999245  "
      ]
     },
     "execution_count": 15,
     "metadata": {},
     "output_type": "execute_result"
    }
   ],
   "source": [
    "df_mouse = pd.read_csv(\"./240109_003DLC_resnet50_OpenFieldJan19shuffle1_100000.csv\", \n",
    "                       header = None, \n",
    "                       index_col = 0, \n",
    "                       skiprows = 3)\n",
    "df_mouse.columns = ['NoseX', 'NoseY', 'NoseLH', 'RightEarX', 'RightEarY', 'RightEarLH', 'LeftEarX', 'LeftEarY', 'LeftEarLH', 'HeadX', 'HeadY', 'HeadLH']\n",
    "df_mouse.head()"
   ]
  },
  {
   "cell_type": "code",
   "execution_count": 16,
   "id": "7d286054",
   "metadata": {},
   "outputs": [],
   "source": []
  },
  {
   "cell_type": "code",
   "execution_count": 34,
   "id": "7b3d6b62",
   "metadata": {},
   "outputs": [
    {
     "data": {
      "image/png": "[encoded data removed]",
      "text/plain": [
       "<Figure size 500x500 with 1 Axes>"
      ]
     },
     "metadata": {},
     "output_type": "display_data"
    }
   ],
   "source": [
    "XYtrace = sns.lineplot(data=df_mouse, x='HeadX', y='HeadY', sort = False)\n",
    "XYtrace.set(xlim = (200, 1400), ylim = (200, 1400), xlabel = \"\", ylabel = \"\")\n",
    "XYtrace.invert_yaxis()\n",
    "sns.set(rc={'figure.figsize':(5,5)})\n",
    "sns.despine()"
   ]
  }
 ],
 "metadata": {
  "kernelspec": {
   "display_name": "Python 3 (ipykernel)",
   "language": "python",
   "name": "python3"
  },
  "language_info": {
   "codemirror_mode": {
    "name": "ipython",
    "version": 3
   },
   "file_extension": ".py",
   "mimetype": "text/x-python",
   "name": "python",
   "nbconvert_exporter": "python",
   "pygments_lexer": "ipython3",
   "version": "3.11.4"
  }
 },
 "nbformat": 4,
 "nbformat_minor": 5
}
