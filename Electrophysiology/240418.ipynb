{
 "cells": [
  {
   "cell_type": "markdown",
   "id": "02efbd7c",
   "metadata": {},
   "source": [
    "### 1. Library 반입"
   ]
  },
  {
   "cell_type": "code",
   "execution_count": 1,
   "id": "06cde140",
   "metadata": {},
   "outputs": [],
   "source": [
    "import pandas as pd\n",
    "from scipy import stats \n",
    "from statsmodels.formula.api import ols\n",
    "from statsmodels.stats.anova import anova_lm"
   ]
  },
  {
   "cell_type": "markdown",
   "id": "09a3eefc",
   "metadata": {},
   "source": [
    "### 2. Data 반입\n",
    "#### Importing Pre-DCS data"
   ]
  },
  {
   "cell_type": "code",
   "execution_count": 14,
   "id": "9d2dfd3b",
   "metadata": {},
   "outputs": [
    {
     "data": {
      "text/plain": [
       "['Cell',\n",
       " 'Baseline',\n",
       " 'NumberOfSpike',\n",
       " 'MeanFiringRate',\n",
       " 'TrainDuration',\n",
       " 'PB-AHP',\n",
       " 'APOnsetTime',\n",
       " 'InjectedCurrent']"
      ]
     },
     "execution_count": 14,
     "metadata": {},
     "output_type": "execute_result"
    }
   ],
   "source": [
    "names = ['Cell', 'Baseline', 'NumberOfSpike', 'MeanFiringRate', 'TrainDuration', 'PB-AHP', 'APOnsetTime', 'InjectedCurrent']\n",
    "names"
   ]
  },
  {
   "cell_type": "code",
   "execution_count": 21,
   "id": "a4119def",
   "metadata": {},
   "outputs": [
    {
     "data": {
      "text/plain": [
       "(                 Cell   Baseline  NumberOfSpike  MeanFiringRate  \\\n",
       " 0  220228_B6_PN_#01_B -70.485750            0.0             0.0   \n",
       " 1  220228_B6_PN_#02_B -68.434251            0.0             0.0   \n",
       " 2  220303_B6_PN_#02_B -72.334708            0.0             0.0   \n",
       " 3  220307_B6_PN_#03_B -69.615530            0.0             0.0   \n",
       " 4  220307_B6_PN_#04_B -69.637643            0.0             0.0   \n",
       " \n",
       "    TrainDuration    PB-AHP  APOnsetTime InjectedCurrent  \n",
       " 0            0.0  0.498137          0.0       Level_000  \n",
       " 1            0.0  1.176345          0.0       Level_000  \n",
       " 2            0.0  1.487313          0.0       Level_000  \n",
       " 3            0.0 -0.340628          0.0       Level_000  \n",
       " 4            0.0 -0.698434          0.0       Level_000  ,\n",
       " (120, 8))"
      ]
     },
     "execution_count": 21,
     "metadata": {},
     "output_type": "execute_result"
    }
   ],
   "source": [
    "df_pre = pd.read_csv('D:/DataAtCSBD/2022/2_DCS_MEF_effect/DCS_pair/Baseline/Depol.txt', sep=\"\\t\")\n",
    "df_pre.columns = names"
   ]
  },
  {
   "cell_type": "code",
   "execution_count": 30,
   "id": "9f5a4aae",
   "metadata": {},
   "outputs": [
    {
     "data": {
      "text/html": [
       "<div>\n",
       "<style scoped>\n",
       "    .dataframe tbody tr th:only-of-type {\n",
       "        vertical-align: middle;\n",
       "    }\n",
       "\n",
       "    .dataframe tbody tr th {\n",
       "        vertical-align: top;\n",
       "    }\n",
       "\n",
       "    .dataframe thead th {\n",
       "        text-align: right;\n",
       "    }\n",
       "</style>\n",
       "<table border=\"1\" class=\"dataframe\">\n",
       "  <thead>\n",
       "    <tr style=\"text-align: right;\">\n",
       "      <th></th>\n",
       "      <th>Cell</th>\n",
       "      <th>Baseline</th>\n",
       "      <th>NumberOfSpike</th>\n",
       "      <th>MeanFiringRate</th>\n",
       "      <th>TrainDuration</th>\n",
       "      <th>PB-AHP</th>\n",
       "      <th>APOnsetTime</th>\n",
       "      <th>InjectedCurrent</th>\n",
       "      <th>protocol</th>\n",
       "    </tr>\n",
       "  </thead>\n",
       "  <tbody>\n",
       "    <tr>\n",
       "      <th>0</th>\n",
       "      <td>220228_B6_PN_#01_B</td>\n",
       "      <td>-70.485750</td>\n",
       "      <td>0.0</td>\n",
       "      <td>0.0</td>\n",
       "      <td>0.0</td>\n",
       "      <td>0.498137</td>\n",
       "      <td>0.0</td>\n",
       "      <td>Level_000</td>\n",
       "      <td>pre</td>\n",
       "    </tr>\n",
       "    <tr>\n",
       "      <th>1</th>\n",
       "      <td>220228_B6_PN_#02_B</td>\n",
       "      <td>-68.434251</td>\n",
       "      <td>0.0</td>\n",
       "      <td>0.0</td>\n",
       "      <td>0.0</td>\n",
       "      <td>1.176345</td>\n",
       "      <td>0.0</td>\n",
       "      <td>Level_000</td>\n",
       "      <td>pre</td>\n",
       "    </tr>\n",
       "    <tr>\n",
       "      <th>2</th>\n",
       "      <td>220303_B6_PN_#02_B</td>\n",
       "      <td>-72.334708</td>\n",
       "      <td>0.0</td>\n",
       "      <td>0.0</td>\n",
       "      <td>0.0</td>\n",
       "      <td>1.487313</td>\n",
       "      <td>0.0</td>\n",
       "      <td>Level_000</td>\n",
       "      <td>pre</td>\n",
       "    </tr>\n",
       "    <tr>\n",
       "      <th>3</th>\n",
       "      <td>220307_B6_PN_#03_B</td>\n",
       "      <td>-69.615530</td>\n",
       "      <td>0.0</td>\n",
       "      <td>0.0</td>\n",
       "      <td>0.0</td>\n",
       "      <td>-0.340628</td>\n",
       "      <td>0.0</td>\n",
       "      <td>Level_000</td>\n",
       "      <td>pre</td>\n",
       "    </tr>\n",
       "    <tr>\n",
       "      <th>4</th>\n",
       "      <td>220307_B6_PN_#04_B</td>\n",
       "      <td>-69.637643</td>\n",
       "      <td>0.0</td>\n",
       "      <td>0.0</td>\n",
       "      <td>0.0</td>\n",
       "      <td>-0.698434</td>\n",
       "      <td>0.0</td>\n",
       "      <td>Level_000</td>\n",
       "      <td>pre</td>\n",
       "    </tr>\n",
       "  </tbody>\n",
       "</table>\n",
       "</div>"
      ],
      "text/plain": [
       "                 Cell   Baseline  NumberOfSpike  MeanFiringRate  \\\n",
       "0  220228_B6_PN_#01_B -70.485750            0.0             0.0   \n",
       "1  220228_B6_PN_#02_B -68.434251            0.0             0.0   \n",
       "2  220303_B6_PN_#02_B -72.334708            0.0             0.0   \n",
       "3  220307_B6_PN_#03_B -69.615530            0.0             0.0   \n",
       "4  220307_B6_PN_#04_B -69.637643            0.0             0.0   \n",
       "\n",
       "   TrainDuration    PB-AHP  APOnsetTime InjectedCurrent protocol  \n",
       "0            0.0  0.498137          0.0       Level_000      pre  \n",
       "1            0.0  1.176345          0.0       Level_000      pre  \n",
       "2            0.0  1.487313          0.0       Level_000      pre  \n",
       "3            0.0 -0.340628          0.0       Level_000      pre  \n",
       "4            0.0 -0.698434          0.0       Level_000      pre  "
      ]
     },
     "execution_count": 30,
     "metadata": {},
     "output_type": "execute_result"
    }
   ],
   "source": [
    "protocol = ['pre'] * 120\n",
    "df_protocol = pd.DataFrame({'protocol': protocol})\n",
    "df_pre = pd.concat([df_pre, df_protocol], axis=1)\n",
    "df_pre.head()"
   ]
  },
  {
   "cell_type": "markdown",
   "id": "69886437",
   "metadata": {},
   "source": [
    "#### Importing Post-DCS data"
   ]
  },
  {
   "cell_type": "code",
   "execution_count": 22,
   "id": "17e16f79",
   "metadata": {},
   "outputs": [
    {
     "data": {
      "text/plain": [
       "(                 Cell   Baseline  NumberOfSpike  MeanFiringRate  \\\n",
       " 0  220228_B6_PN_#01_D -69.741295            0.0             0.0   \n",
       " 1  220228_B6_PN_#02_D -69.827715            0.0             0.0   \n",
       " 2  220303_B6_PN_#02_D -71.726745            0.0             0.0   \n",
       " 3  220307_B6_PN_#03_D -69.054920            0.0             0.0   \n",
       " 4  220307_B6_PN_#04_D -71.923097            0.0             0.0   \n",
       " \n",
       "    TrainDuration    PB-AHP  APOnsetTime InjectedCurrent  \n",
       " 0            0.0 -0.100182          0.0       Level_000  \n",
       " 1            0.0  1.552900          0.0       Level_000  \n",
       " 2            0.0  1.545960          0.0       Level_000  \n",
       " 3            0.0  0.525158          0.0       Level_000  \n",
       " 4            0.0  0.434081          0.0       Level_000  ,\n",
       " (120, 8))"
      ]
     },
     "execution_count": 22,
     "metadata": {},
     "output_type": "execute_result"
    }
   ],
   "source": [
    "df_post = pd.read_csv(\"D:/DataAtCSBD/2022/2_DCS_MEF_effect/DCS_pair/DCS/Depol.txt\", sep='\\t', header=0, names=names)"
   ]
  },
  {
   "cell_type": "code",
   "execution_count": 29,
   "id": "bd470249",
   "metadata": {},
   "outputs": [
    {
     "data": {
      "text/html": [
       "<div>\n",
       "<style scoped>\n",
       "    .dataframe tbody tr th:only-of-type {\n",
       "        vertical-align: middle;\n",
       "    }\n",
       "\n",
       "    .dataframe tbody tr th {\n",
       "        vertical-align: top;\n",
       "    }\n",
       "\n",
       "    .dataframe thead th {\n",
       "        text-align: right;\n",
       "    }\n",
       "</style>\n",
       "<table border=\"1\" class=\"dataframe\">\n",
       "  <thead>\n",
       "    <tr style=\"text-align: right;\">\n",
       "      <th></th>\n",
       "      <th>Cell</th>\n",
       "      <th>Baseline</th>\n",
       "      <th>NumberOfSpike</th>\n",
       "      <th>MeanFiringRate</th>\n",
       "      <th>TrainDuration</th>\n",
       "      <th>PB-AHP</th>\n",
       "      <th>APOnsetTime</th>\n",
       "      <th>InjectedCurrent</th>\n",
       "      <th>protocol</th>\n",
       "    </tr>\n",
       "  </thead>\n",
       "  <tbody>\n",
       "    <tr>\n",
       "      <th>0</th>\n",
       "      <td>220228_B6_PN_#01_D</td>\n",
       "      <td>-69.741295</td>\n",
       "      <td>0.0</td>\n",
       "      <td>0.0</td>\n",
       "      <td>0.0</td>\n",
       "      <td>-0.100182</td>\n",
       "      <td>0.0</td>\n",
       "      <td>Level_000</td>\n",
       "      <td>post</td>\n",
       "    </tr>\n",
       "    <tr>\n",
       "      <th>1</th>\n",
       "      <td>220228_B6_PN_#02_D</td>\n",
       "      <td>-69.827715</td>\n",
       "      <td>0.0</td>\n",
       "      <td>0.0</td>\n",
       "      <td>0.0</td>\n",
       "      <td>1.552900</td>\n",
       "      <td>0.0</td>\n",
       "      <td>Level_000</td>\n",
       "      <td>post</td>\n",
       "    </tr>\n",
       "    <tr>\n",
       "      <th>2</th>\n",
       "      <td>220303_B6_PN_#02_D</td>\n",
       "      <td>-71.726745</td>\n",
       "      <td>0.0</td>\n",
       "      <td>0.0</td>\n",
       "      <td>0.0</td>\n",
       "      <td>1.545960</td>\n",
       "      <td>0.0</td>\n",
       "      <td>Level_000</td>\n",
       "      <td>post</td>\n",
       "    </tr>\n",
       "    <tr>\n",
       "      <th>3</th>\n",
       "      <td>220307_B6_PN_#03_D</td>\n",
       "      <td>-69.054920</td>\n",
       "      <td>0.0</td>\n",
       "      <td>0.0</td>\n",
       "      <td>0.0</td>\n",
       "      <td>0.525158</td>\n",
       "      <td>0.0</td>\n",
       "      <td>Level_000</td>\n",
       "      <td>post</td>\n",
       "    </tr>\n",
       "    <tr>\n",
       "      <th>4</th>\n",
       "      <td>220307_B6_PN_#04_D</td>\n",
       "      <td>-71.923097</td>\n",
       "      <td>0.0</td>\n",
       "      <td>0.0</td>\n",
       "      <td>0.0</td>\n",
       "      <td>0.434081</td>\n",
       "      <td>0.0</td>\n",
       "      <td>Level_000</td>\n",
       "      <td>post</td>\n",
       "    </tr>\n",
       "  </tbody>\n",
       "</table>\n",
       "</div>"
      ],
      "text/plain": [
       "                 Cell   Baseline  NumberOfSpike  MeanFiringRate  \\\n",
       "0  220228_B6_PN_#01_D -69.741295            0.0             0.0   \n",
       "1  220228_B6_PN_#02_D -69.827715            0.0             0.0   \n",
       "2  220303_B6_PN_#02_D -71.726745            0.0             0.0   \n",
       "3  220307_B6_PN_#03_D -69.054920            0.0             0.0   \n",
       "4  220307_B6_PN_#04_D -71.923097            0.0             0.0   \n",
       "\n",
       "   TrainDuration    PB-AHP  APOnsetTime InjectedCurrent protocol  \n",
       "0            0.0 -0.100182          0.0       Level_000     post  \n",
       "1            0.0  1.552900          0.0       Level_000     post  \n",
       "2            0.0  1.545960          0.0       Level_000     post  \n",
       "3            0.0  0.525158          0.0       Level_000     post  \n",
       "4            0.0  0.434081          0.0       Level_000     post  "
      ]
     },
     "execution_count": 29,
     "metadata": {},
     "output_type": "execute_result"
    }
   ],
   "source": [
    "protocol = ['post'] * 120\n",
    "df_protocol = pd.DataFrame({'protocol': protocol})\n",
    "df_post = pd.concat([df_post, df_protocol], axis=1)\n",
    "df_post.head()"
   ]
  },
  {
   "cell_type": "code",
   "execution_count": 31,
   "id": "75eaacaa",
   "metadata": {},
   "outputs": [
    {
     "data": {
      "text/plain": [
       "array(['220228_B6_PN_#01_D', '220228_B6_PN_#02_D', '220303_B6_PN_#02_D',\n",
       "       '220307_B6_PN_#03_D', '220307_B6_PN_#04_D', '220311_B6_PN_#01_D',\n",
       "       '220311_B6_PN_#02_D', '220311_B6_PN_#04_D', '220321_B6_PN_#02_D'],\n",
       "      dtype=object)"
      ]
     },
     "execution_count": 31,
     "metadata": {},
     "output_type": "execute_result"
    }
   ],
   "source": [
    "df_post.Cell.unique()"
   ]
  },
  {
   "cell_type": "markdown",
   "id": "6621cb8c",
   "metadata": {},
   "source": [
    "### 3. 정규성 검정\n",
    "#### 3.1. Group data 분할"
   ]
  },
  {
   "cell_type": "code",
   "execution_count": 36,
   "id": "adbec792",
   "metadata": {},
   "outputs": [],
   "source": [
    "df_M_WT=df[(df['Sex']=='Male')&(df['Genotype']=='WT')]\n",
    "df_M_HM=df[(df['Sex']=='Male')&(df['Genotype']=='HM')]\n",
    "df_F_WT=df[(df['Sex']=='Female')&(df['Genotype']=='WT')]\n",
    "df_F_HM=df[(df['Sex']=='Female')&(df['Genotype']=='HM')]"
   ]
  },
  {
   "cell_type": "markdown",
   "id": "229ba8a5",
   "metadata": {},
   "source": [
    "#### 3.2. Amplitude data에 대한 정규성 검정"
   ]
  },
  {
   "cell_type": "code",
   "execution_count": 37,
   "id": "e909adbc",
   "metadata": {},
   "outputs": [
    {
     "data": {
      "text/plain": [
       "(ShapiroResult(statistic=0.8285818099975586, pvalue=0.0051416330970823765),\n",
       " ShapiroResult(statistic=0.9588784575462341, pvalue=0.580128014087677),\n",
       " ShapiroResult(statistic=0.9640830159187317, pvalue=0.736049473285675),\n",
       " ShapiroResult(statistic=0.9430546760559082, pvalue=0.20891238749027252))"
      ]
     },
     "execution_count": 37,
     "metadata": {},
     "output_type": "execute_result"
    }
   ],
   "source": [
    "stats.shapiro(df_M_WT['Amplitude']),stats.shapiro(df_M_HM['Amplitude']),stats.shapiro(df_F_WT['Amplitude']),stats.shapiro(df_F_HM['Amplitude'])"
   ]
  },
  {
   "cell_type": "markdown",
   "id": "aac11e09",
   "metadata": {},
   "source": [
    "#### 3.3. Frequency data에 대한 정규성 검정"
   ]
  },
  {
   "cell_type": "code",
   "execution_count": 38,
   "id": "ebf4670b",
   "metadata": {},
   "outputs": [
    {
     "data": {
      "text/plain": [
       "(ShapiroResult(statistic=0.6981892585754395, pvalue=0.00011027670552721247),\n",
       " ShapiroResult(statistic=0.9219226837158203, pvalue=0.13981656730175018),\n",
       " ShapiroResult(statistic=0.9372907280921936, pvalue=0.3171420693397522),\n",
       " ShapiroResult(statistic=0.787955105304718, pvalue=0.00024735438637435436))"
      ]
     },
     "execution_count": 38,
     "metadata": {},
     "output_type": "execute_result"
    }
   ],
   "source": [
    "stats.shapiro(df_M_WT['Frequency']),stats.shapiro(df_M_HM['Frequency']),stats.shapiro(df_F_WT['Frequency']),stats.shapiro(df_F_HM['Frequency'])"
   ]
  },
  {
   "cell_type": "markdown",
   "id": "74a90c12",
   "metadata": {},
   "source": [
    "### 4. 등분산 검정\n",
    "#### 4.1. Amplitude data에 대한 등분산 검정"
   ]
  },
  {
   "cell_type": "code",
   "execution_count": 39,
   "id": "56040c81",
   "metadata": {},
   "outputs": [
    {
     "data": {
      "text/plain": [
       "BartlettResult(statistic=11.037121569084254, pvalue=0.011526829418126772)"
      ]
     },
     "execution_count": 39,
     "metadata": {},
     "output_type": "execute_result"
    }
   ],
   "source": [
    "stats.bartlett(df_M_WT['Amplitude'], \n",
    "               df_M_HM['Amplitude'], \n",
    "               df_F_WT['Amplitude'], \n",
    "               df_F_HM['Amplitude'])"
   ]
  },
  {
   "cell_type": "markdown",
   "id": "e60c9253",
   "metadata": {},
   "source": [
    "#### 4.2. Frequency data에 대한 등분산 검정"
   ]
  },
  {
   "cell_type": "code",
   "execution_count": 40,
   "id": "59601d12",
   "metadata": {},
   "outputs": [
    {
     "data": {
      "text/plain": [
       "BartlettResult(statistic=10.510591849823903, pvalue=0.01468921839673509)"
      ]
     },
     "execution_count": 40,
     "metadata": {},
     "output_type": "execute_result"
    }
   ],
   "source": [
    "stats.bartlett(df_M_WT['Frequency'], \n",
    "               df_M_HM['Frequency'], \n",
    "               df_F_WT['Frequency'], \n",
    "               df_F_HM['Frequency'])"
   ]
  },
  {
   "cell_type": "markdown",
   "id": "f92848dc",
   "metadata": {},
   "source": [
    "### 5. 1-way ANOVA \n",
    "#### 5.1. Amplitude data에 대한 1-way ANOVA"
   ]
  },
  {
   "cell_type": "code",
   "execution_count": 41,
   "id": "24024651",
   "metadata": {},
   "outputs": [
    {
     "data": {
      "text/plain": [
       "F_onewayResult(statistic=0.7643569847605557, pvalue=0.5178499613570902)"
      ]
     },
     "execution_count": 41,
     "metadata": {},
     "output_type": "execute_result"
    }
   ],
   "source": [
    "stats.f_oneway(df_M_WT['Amplitude'], \n",
    "               df_M_HM['Amplitude'],\n",
    "               df_F_WT['Amplitude'], \n",
    "               df_F_HM['Amplitude'])"
   ]
  },
  {
   "cell_type": "markdown",
   "id": "5f18cf15",
   "metadata": {},
   "source": [
    "#### 5.2. Frequency data에 대한 1-way ANOVA"
   ]
  },
  {
   "cell_type": "code",
   "execution_count": 42,
   "id": "7731715d",
   "metadata": {},
   "outputs": [
    {
     "data": {
      "text/plain": [
       "F_onewayResult(statistic=5.731497108024772, pvalue=0.0014475563821714067)"
      ]
     },
     "execution_count": 42,
     "metadata": {},
     "output_type": "execute_result"
    }
   ],
   "source": [
    "stats.f_oneway(df_M_WT['Frequency'], \n",
    "               df_M_HM['Frequency'],\n",
    "               df_F_WT['Frequency'], \n",
    "               df_F_HM['Frequency'])"
   ]
  },
  {
   "cell_type": "markdown",
   "id": "f357093d",
   "metadata": {},
   "source": [
    "### 6. 2-way ANOVA\n",
    "#### 6.1. Amplitude data에 대한 2-way ANOVA"
   ]
  },
  {
   "cell_type": "code",
   "execution_count": 43,
   "id": "0c284cb1",
   "metadata": {},
   "outputs": [
    {
     "data": {
      "text/html": [
       "<div>\n",
       "<style scoped>\n",
       "    .dataframe tbody tr th:only-of-type {\n",
       "        vertical-align: middle;\n",
       "    }\n",
       "\n",
       "    .dataframe tbody tr th {\n",
       "        vertical-align: top;\n",
       "    }\n",
       "\n",
       "    .dataframe thead th {\n",
       "        text-align: right;\n",
       "    }\n",
       "</style>\n",
       "<table border=\"1\" class=\"dataframe\">\n",
       "  <thead>\n",
       "    <tr style=\"text-align: right;\">\n",
       "      <th></th>\n",
       "      <th>df</th>\n",
       "      <th>sum_sq</th>\n",
       "      <th>mean_sq</th>\n",
       "      <th>F</th>\n",
       "      <th>PR(&gt;F)</th>\n",
       "    </tr>\n",
       "  </thead>\n",
       "  <tbody>\n",
       "    <tr>\n",
       "      <th>C(Sex)</th>\n",
       "      <td>1.0</td>\n",
       "      <td>121.344431</td>\n",
       "      <td>121.344431</td>\n",
       "      <td>0.541563</td>\n",
       "      <td>0.464244</td>\n",
       "    </tr>\n",
       "    <tr>\n",
       "      <th>C(Genotype)</th>\n",
       "      <td>1.0</td>\n",
       "      <td>391.928380</td>\n",
       "      <td>391.928380</td>\n",
       "      <td>1.749187</td>\n",
       "      <td>0.190284</td>\n",
       "    </tr>\n",
       "    <tr>\n",
       "      <th>C(Sex):C(Genotype)</th>\n",
       "      <td>1.0</td>\n",
       "      <td>0.520044</td>\n",
       "      <td>0.520044</td>\n",
       "      <td>0.002321</td>\n",
       "      <td>0.961713</td>\n",
       "    </tr>\n",
       "    <tr>\n",
       "      <th>Residual</th>\n",
       "      <td>70.0</td>\n",
       "      <td>15684.425183</td>\n",
       "      <td>224.063217</td>\n",
       "      <td>NaN</td>\n",
       "      <td>NaN</td>\n",
       "    </tr>\n",
       "  </tbody>\n",
       "</table>\n",
       "</div>"
      ],
      "text/plain": [
       "                      df        sum_sq     mean_sq         F    PR(>F)\n",
       "C(Sex)               1.0    121.344431  121.344431  0.541563  0.464244\n",
       "C(Genotype)          1.0    391.928380  391.928380  1.749187  0.190284\n",
       "C(Sex):C(Genotype)   1.0      0.520044    0.520044  0.002321  0.961713\n",
       "Residual            70.0  15684.425183  224.063217       NaN       NaN"
      ]
     },
     "execution_count": 43,
     "metadata": {},
     "output_type": "execute_result"
    }
   ],
   "source": [
    "model = ols('Amplitude~C(Sex)+C(Genotype)+C(Sex):C(Genotype)', df).fit()\n",
    "anova_lm(model)"
   ]
  },
  {
   "cell_type": "markdown",
   "id": "f4dddeee",
   "metadata": {},
   "source": [
    "#### 6.2. Frequency data에 대한 2-way ANOVA"
   ]
  },
  {
   "cell_type": "code",
   "execution_count": 44,
   "id": "a829723c",
   "metadata": {},
   "outputs": [
    {
     "data": {
      "text/html": [
       "<div>\n",
       "<style scoped>\n",
       "    .dataframe tbody tr th:only-of-type {\n",
       "        vertical-align: middle;\n",
       "    }\n",
       "\n",
       "    .dataframe tbody tr th {\n",
       "        vertical-align: top;\n",
       "    }\n",
       "\n",
       "    .dataframe thead th {\n",
       "        text-align: right;\n",
       "    }\n",
       "</style>\n",
       "<table border=\"1\" class=\"dataframe\">\n",
       "  <thead>\n",
       "    <tr style=\"text-align: right;\">\n",
       "      <th></th>\n",
       "      <th>df</th>\n",
       "      <th>sum_sq</th>\n",
       "      <th>mean_sq</th>\n",
       "      <th>F</th>\n",
       "      <th>PR(&gt;F)</th>\n",
       "    </tr>\n",
       "  </thead>\n",
       "  <tbody>\n",
       "    <tr>\n",
       "      <th>C(Sex)</th>\n",
       "      <td>1.0</td>\n",
       "      <td>168.723674</td>\n",
       "      <td>168.723674</td>\n",
       "      <td>14.102035</td>\n",
       "      <td>0.000355</td>\n",
       "    </tr>\n",
       "    <tr>\n",
       "      <th>C(Genotype)</th>\n",
       "      <td>1.0</td>\n",
       "      <td>6.657070</td>\n",
       "      <td>6.657070</td>\n",
       "      <td>0.556402</td>\n",
       "      <td>0.458211</td>\n",
       "    </tr>\n",
       "    <tr>\n",
       "      <th>C(Sex):C(Genotype)</th>\n",
       "      <td>1.0</td>\n",
       "      <td>30.342594</td>\n",
       "      <td>30.342594</td>\n",
       "      <td>2.536054</td>\n",
       "      <td>0.115779</td>\n",
       "    </tr>\n",
       "    <tr>\n",
       "      <th>Residual</th>\n",
       "      <td>70.0</td>\n",
       "      <td>837.514377</td>\n",
       "      <td>11.964491</td>\n",
       "      <td>NaN</td>\n",
       "      <td>NaN</td>\n",
       "    </tr>\n",
       "  </tbody>\n",
       "</table>\n",
       "</div>"
      ],
      "text/plain": [
       "                      df      sum_sq     mean_sq          F    PR(>F)\n",
       "C(Sex)               1.0  168.723674  168.723674  14.102035  0.000355\n",
       "C(Genotype)          1.0    6.657070    6.657070   0.556402  0.458211\n",
       "C(Sex):C(Genotype)   1.0   30.342594   30.342594   2.536054  0.115779\n",
       "Residual            70.0  837.514377   11.964491        NaN       NaN"
      ]
     },
     "execution_count": 44,
     "metadata": {},
     "output_type": "execute_result"
    }
   ],
   "source": [
    "model2 = ols('Frequency~C(Sex)+C(Genotype)+C(Sex):C(Genotype)', df).fit()\n",
    "anova_lm(model2)"
   ]
  },
  {
   "cell_type": "code",
   "execution_count": null,
   "id": "d22df008",
   "metadata": {},
   "outputs": [],
   "source": []
  }
 ],
 "metadata": {
  "kernelspec": {
   "display_name": "Python 3 (ipykernel)",
   "language": "python",
   "name": "python3"
  },
  "language_info": {
   "codemirror_mode": {
    "name": "ipython",
    "version": 3
   },
   "file_extension": ".py",
   "mimetype": "text/x-python",
   "name": "python",
   "nbconvert_exporter": "python",
   "pygments_lexer": "ipython3",
   "version": "3.11.5"
  }
 },
 "nbformat": 4,
 "nbformat_minor": 5
}
