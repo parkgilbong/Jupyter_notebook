{
 "cells": [
  {
   "cell_type": "markdown",
   "id": "02efbd7c",
   "metadata": {},
   "source": [
    "### 1. Library 반입"
   ]
  },
  {
   "cell_type": "code",
   "execution_count": 34,
   "id": "06cde140",
   "metadata": {},
   "outputs": [],
   "source": [
    "import pandas as pd\n",
    "from scipy import stats \n",
    "from statsmodels.formula.api import ols\n",
    "from statsmodels.stats.anova import anova_lm"
   ]
  },
  {
   "cell_type": "markdown",
   "id": "09a3eefc",
   "metadata": {},
   "source": [
    "### 2. Data 반입"
   ]
  },
  {
   "cell_type": "code",
   "execution_count": 35,
   "id": "a4119def",
   "metadata": {},
   "outputs": [
    {
     "data": {
      "text/html": [
       "<div>\n",
       "<style scoped>\n",
       "    .dataframe tbody tr th:only-of-type {\n",
       "        vertical-align: middle;\n",
       "    }\n",
       "\n",
       "    .dataframe tbody tr th {\n",
       "        vertical-align: top;\n",
       "    }\n",
       "\n",
       "    .dataframe thead th {\n",
       "        text-align: right;\n",
       "    }\n",
       "</style>\n",
       "<table border=\"1\" class=\"dataframe\">\n",
       "  <thead>\n",
       "    <tr style=\"text-align: right;\">\n",
       "      <th></th>\n",
       "      <th>Sex</th>\n",
       "      <th>Genotype</th>\n",
       "      <th>Amplitude</th>\n",
       "      <th>Frequency</th>\n",
       "      <th>Cell_ID</th>\n",
       "    </tr>\n",
       "  </thead>\n",
       "  <tbody>\n",
       "    <tr>\n",
       "      <th>0</th>\n",
       "      <td>Male</td>\n",
       "      <td>WT</td>\n",
       "      <td>49.24</td>\n",
       "      <td>0.69</td>\n",
       "      <td>220822_WT_M_#06</td>\n",
       "    </tr>\n",
       "    <tr>\n",
       "      <th>1</th>\n",
       "      <td>Male</td>\n",
       "      <td>WT</td>\n",
       "      <td>48.16</td>\n",
       "      <td>0.37</td>\n",
       "      <td>220822_WT_M_#07</td>\n",
       "    </tr>\n",
       "    <tr>\n",
       "      <th>2</th>\n",
       "      <td>Male</td>\n",
       "      <td>WT</td>\n",
       "      <td>42.23</td>\n",
       "      <td>1.82</td>\n",
       "      <td>220822_WT_M_#08</td>\n",
       "    </tr>\n",
       "    <tr>\n",
       "      <th>3</th>\n",
       "      <td>Male</td>\n",
       "      <td>WT</td>\n",
       "      <td>57.32</td>\n",
       "      <td>1.11</td>\n",
       "      <td>220822_WT_M_#09</td>\n",
       "    </tr>\n",
       "    <tr>\n",
       "      <th>4</th>\n",
       "      <td>Male</td>\n",
       "      <td>WT</td>\n",
       "      <td>56.78</td>\n",
       "      <td>1.90</td>\n",
       "      <td>220822_WT_M_#13</td>\n",
       "    </tr>\n",
       "  </tbody>\n",
       "</table>\n",
       "</div>"
      ],
      "text/plain": [
       "    Sex Genotype  Amplitude  Frequency          Cell_ID\n",
       "0  Male       WT      49.24       0.69  220822_WT_M_#06\n",
       "1  Male       WT      48.16       0.37  220822_WT_M_#07\n",
       "2  Male       WT      42.23       1.82  220822_WT_M_#08\n",
       "3  Male       WT      57.32       1.11  220822_WT_M_#09\n",
       "4  Male       WT      56.78       1.90  220822_WT_M_#13"
      ]
     },
     "execution_count": 35,
     "metadata": {},
     "output_type": "execute_result"
    }
   ],
   "source": [
    "df = pd.read_csv('./Df4.csv')\n",
    "df.head()"
   ]
  },
  {
   "cell_type": "markdown",
   "id": "6621cb8c",
   "metadata": {},
   "source": [
    "### 3. 정규성 검정\n",
    "#### 3.1. Group data 분할"
   ]
  },
  {
   "cell_type": "code",
   "execution_count": 36,
   "id": "adbec792",
   "metadata": {},
   "outputs": [],
   "source": [
    "df_M_WT=df[(df['Sex']=='Male')&(df['Genotype']=='WT')]\n",
    "df_M_HM=df[(df['Sex']=='Male')&(df['Genotype']=='HM')]\n",
    "df_F_WT=df[(df['Sex']=='Female')&(df['Genotype']=='WT')]\n",
    "df_F_HM=df[(df['Sex']=='Female')&(df['Genotype']=='HM')]"
   ]
  },
  {
   "cell_type": "markdown",
   "id": "229ba8a5",
   "metadata": {},
   "source": [
    "#### 3.2. Amplitude data에 대한 정규성 검정"
   ]
  },
  {
   "cell_type": "code",
   "execution_count": 37,
   "id": "e909adbc",
   "metadata": {},
   "outputs": [
    {
     "data": {
      "text/plain": [
       "(ShapiroResult(statistic=0.8285818099975586, pvalue=0.0051416330970823765),\n",
       " ShapiroResult(statistic=0.9588784575462341, pvalue=0.580128014087677),\n",
       " ShapiroResult(statistic=0.9640830159187317, pvalue=0.736049473285675),\n",
       " ShapiroResult(statistic=0.9430546760559082, pvalue=0.20891238749027252))"
      ]
     },
     "execution_count": 37,
     "metadata": {},
     "output_type": "execute_result"
    }
   ],
   "source": [
    "stats.shapiro(df_M_WT['Amplitude']),stats.shapiro(df_M_HM['Amplitude']),stats.shapiro(df_F_WT['Amplitude']),stats.shapiro(df_F_HM['Amplitude'])"
   ]
  },
  {
   "cell_type": "markdown",
   "id": "aac11e09",
   "metadata": {},
   "source": [
    "#### 3.3. Frequency data에 대한 정규성 검정"
   ]
  },
  {
   "cell_type": "code",
   "execution_count": 38,
   "id": "ebf4670b",
   "metadata": {},
   "outputs": [
    {
     "data": {
      "text/plain": [
       "(ShapiroResult(statistic=0.6981892585754395, pvalue=0.00011027670552721247),\n",
       " ShapiroResult(statistic=0.9219226837158203, pvalue=0.13981656730175018),\n",
       " ShapiroResult(statistic=0.9372907280921936, pvalue=0.3171420693397522),\n",
       " ShapiroResult(statistic=0.787955105304718, pvalue=0.00024735438637435436))"
      ]
     },
     "execution_count": 38,
     "metadata": {},
     "output_type": "execute_result"
    }
   ],
   "source": [
    "stats.shapiro(df_M_WT['Frequency']),stats.shapiro(df_M_HM['Frequency']),stats.shapiro(df_F_WT['Frequency']),stats.shapiro(df_F_HM['Frequency'])"
   ]
  },
  {
   "cell_type": "markdown",
   "id": "74a90c12",
   "metadata": {},
   "source": [
    "### 4. 등분산 검정\n",
    "#### 4.1. Amplitude data에 대한 등분산 검정"
   ]
  },
  {
   "cell_type": "code",
   "execution_count": 39,
   "id": "56040c81",
   "metadata": {},
   "outputs": [
    {
     "data": {
      "text/plain": [
       "BartlettResult(statistic=11.037121569084254, pvalue=0.011526829418126772)"
      ]
     },
     "execution_count": 39,
     "metadata": {},
     "output_type": "execute_result"
    }
   ],
   "source": [
    "stats.bartlett(df_M_WT['Amplitude'], \n",
    "               df_M_HM['Amplitude'], \n",
    "               df_F_WT['Amplitude'], \n",
    "               df_F_HM['Amplitude'])"
   ]
  },
  {
   "cell_type": "markdown",
   "id": "e60c9253",
   "metadata": {},
   "source": [
    "#### 4.2. Frequency data에 대한 등분산 검정"
   ]
  },
  {
   "cell_type": "code",
   "execution_count": 40,
   "id": "59601d12",
   "metadata": {},
   "outputs": [
    {
     "data": {
      "text/plain": [
       "BartlettResult(statistic=10.510591849823903, pvalue=0.01468921839673509)"
      ]
     },
     "execution_count": 40,
     "metadata": {},
     "output_type": "execute_result"
    }
   ],
   "source": [
    "stats.bartlett(df_M_WT['Frequency'], \n",
    "               df_M_HM['Frequency'], \n",
    "               df_F_WT['Frequency'], \n",
    "               df_F_HM['Frequency'])"
   ]
  },
  {
   "cell_type": "markdown",
   "id": "f92848dc",
   "metadata": {},
   "source": [
    "### 5. 1-way ANOVA \n",
    "#### 5.1. Amplitude data에 대한 1-way ANOVA"
   ]
  },
  {
   "cell_type": "code",
   "execution_count": 41,
   "id": "24024651",
   "metadata": {},
   "outputs": [
    {
     "data": {
      "text/plain": [
       "F_onewayResult(statistic=0.7643569847605557, pvalue=0.5178499613570902)"
      ]
     },
     "execution_count": 41,
     "metadata": {},
     "output_type": "execute_result"
    }
   ],
   "source": [
    "stats.f_oneway(df_M_WT['Amplitude'], \n",
    "               df_M_HM['Amplitude'],\n",
    "               df_F_WT['Amplitude'], \n",
    "               df_F_HM['Amplitude'])"
   ]
  },
  {
   "cell_type": "markdown",
   "id": "5f18cf15",
   "metadata": {},
   "source": [
    "#### 5.2. Frequency data에 대한 1-way ANOVA"
   ]
  },
  {
   "cell_type": "code",
   "execution_count": 42,
   "id": "7731715d",
   "metadata": {},
   "outputs": [
    {
     "data": {
      "text/plain": [
       "F_onewayResult(statistic=5.731497108024772, pvalue=0.0014475563821714067)"
      ]
     },
     "execution_count": 42,
     "metadata": {},
     "output_type": "execute_result"
    }
   ],
   "source": [
    "stats.f_oneway(df_M_WT['Frequency'], \n",
    "               df_M_HM['Frequency'],\n",
    "               df_F_WT['Frequency'], \n",
    "               df_F_HM['Frequency'])"
   ]
  },
  {
   "cell_type": "markdown",
   "id": "f357093d",
   "metadata": {},
   "source": [
    "### 6. 2-way ANOVA\n",
    "#### 6.1. Amplitude data에 대한 2-way ANOVA"
   ]
  },
  {
   "cell_type": "code",
   "execution_count": 43,
   "id": "0c284cb1",
   "metadata": {},
   "outputs": [
    {
     "data": {
      "text/html": [
       "<div>\n",
       "<style scoped>\n",
       "    .dataframe tbody tr th:only-of-type {\n",
       "        vertical-align: middle;\n",
       "    }\n",
       "\n",
       "    .dataframe tbody tr th {\n",
       "        vertical-align: top;\n",
       "    }\n",
       "\n",
       "    .dataframe thead th {\n",
       "        text-align: right;\n",
       "    }\n",
       "</style>\n",
       "<table border=\"1\" class=\"dataframe\">\n",
       "  <thead>\n",
       "    <tr style=\"text-align: right;\">\n",
       "      <th></th>\n",
       "      <th>df</th>\n",
       "      <th>sum_sq</th>\n",
       "      <th>mean_sq</th>\n",
       "      <th>F</th>\n",
       "      <th>PR(&gt;F)</th>\n",
       "    </tr>\n",
       "  </thead>\n",
       "  <tbody>\n",
       "    <tr>\n",
       "      <th>C(Sex)</th>\n",
       "      <td>1.0</td>\n",
       "      <td>121.344431</td>\n",
       "      <td>121.344431</td>\n",
       "      <td>0.541563</td>\n",
       "      <td>0.464244</td>\n",
       "    </tr>\n",
       "    <tr>\n",
       "      <th>C(Genotype)</th>\n",
       "      <td>1.0</td>\n",
       "      <td>391.928380</td>\n",
       "      <td>391.928380</td>\n",
       "      <td>1.749187</td>\n",
       "      <td>0.190284</td>\n",
       "    </tr>\n",
       "    <tr>\n",
       "      <th>C(Sex):C(Genotype)</th>\n",
       "      <td>1.0</td>\n",
       "      <td>0.520044</td>\n",
       "      <td>0.520044</td>\n",
       "      <td>0.002321</td>\n",
       "      <td>0.961713</td>\n",
       "    </tr>\n",
       "    <tr>\n",
       "      <th>Residual</th>\n",
       "      <td>70.0</td>\n",
       "      <td>15684.425183</td>\n",
       "      <td>224.063217</td>\n",
       "      <td>NaN</td>\n",
       "      <td>NaN</td>\n",
       "    </tr>\n",
       "  </tbody>\n",
       "</table>\n",
       "</div>"
      ],
      "text/plain": [
       "                      df        sum_sq     mean_sq         F    PR(>F)\n",
       "C(Sex)               1.0    121.344431  121.344431  0.541563  0.464244\n",
       "C(Genotype)          1.0    391.928380  391.928380  1.749187  0.190284\n",
       "C(Sex):C(Genotype)   1.0      0.520044    0.520044  0.002321  0.961713\n",
       "Residual            70.0  15684.425183  224.063217       NaN       NaN"
      ]
     },
     "execution_count": 43,
     "metadata": {},
     "output_type": "execute_result"
    }
   ],
   "source": [
    "model = ols('Amplitude~C(Sex)+C(Genotype)+C(Sex):C(Genotype)', df).fit()\n",
    "anova_lm(model)"
   ]
  },
  {
   "cell_type": "markdown",
   "id": "f4dddeee",
   "metadata": {},
   "source": [
    "#### 6.2. Frequency data에 대한 2-way ANOVA"
   ]
  },
  {
   "cell_type": "code",
   "execution_count": 44,
   "id": "a829723c",
   "metadata": {},
   "outputs": [
    {
     "data": {
      "text/html": [
       "<div>\n",
       "<style scoped>\n",
       "    .dataframe tbody tr th:only-of-type {\n",
       "        vertical-align: middle;\n",
       "    }\n",
       "\n",
       "    .dataframe tbody tr th {\n",
       "        vertical-align: top;\n",
       "    }\n",
       "\n",
       "    .dataframe thead th {\n",
       "        text-align: right;\n",
       "    }\n",
       "</style>\n",
       "<table border=\"1\" class=\"dataframe\">\n",
       "  <thead>\n",
       "    <tr style=\"text-align: right;\">\n",
       "      <th></th>\n",
       "      <th>df</th>\n",
       "      <th>sum_sq</th>\n",
       "      <th>mean_sq</th>\n",
       "      <th>F</th>\n",
       "      <th>PR(&gt;F)</th>\n",
       "    </tr>\n",
       "  </thead>\n",
       "  <tbody>\n",
       "    <tr>\n",
       "      <th>C(Sex)</th>\n",
       "      <td>1.0</td>\n",
       "      <td>168.723674</td>\n",
       "      <td>168.723674</td>\n",
       "      <td>14.102035</td>\n",
       "      <td>0.000355</td>\n",
       "    </tr>\n",
       "    <tr>\n",
       "      <th>C(Genotype)</th>\n",
       "      <td>1.0</td>\n",
       "      <td>6.657070</td>\n",
       "      <td>6.657070</td>\n",
       "      <td>0.556402</td>\n",
       "      <td>0.458211</td>\n",
       "    </tr>\n",
       "    <tr>\n",
       "      <th>C(Sex):C(Genotype)</th>\n",
       "      <td>1.0</td>\n",
       "      <td>30.342594</td>\n",
       "      <td>30.342594</td>\n",
       "      <td>2.536054</td>\n",
       "      <td>0.115779</td>\n",
       "    </tr>\n",
       "    <tr>\n",
       "      <th>Residual</th>\n",
       "      <td>70.0</td>\n",
       "      <td>837.514377</td>\n",
       "      <td>11.964491</td>\n",
       "      <td>NaN</td>\n",
       "      <td>NaN</td>\n",
       "    </tr>\n",
       "  </tbody>\n",
       "</table>\n",
       "</div>"
      ],
      "text/plain": [
       "                      df      sum_sq     mean_sq          F    PR(>F)\n",
       "C(Sex)               1.0  168.723674  168.723674  14.102035  0.000355\n",
       "C(Genotype)          1.0    6.657070    6.657070   0.556402  0.458211\n",
       "C(Sex):C(Genotype)   1.0   30.342594   30.342594   2.536054  0.115779\n",
       "Residual            70.0  837.514377   11.964491        NaN       NaN"
      ]
     },
     "execution_count": 44,
     "metadata": {},
     "output_type": "execute_result"
    }
   ],
   "source": [
    "model2 = ols('Frequency~C(Sex)+C(Genotype)+C(Sex):C(Genotype)', df).fit()\n",
    "anova_lm(model2)"
   ]
  },
  {
   "cell_type": "code",
   "execution_count": null,
   "id": "d22df008",
   "metadata": {},
   "outputs": [],
   "source": []
  }
 ],
 "metadata": {
  "kernelspec": {
   "display_name": "Python 3 (ipykernel)",
   "language": "python",
   "name": "python3"
  },
  "language_info": {
   "codemirror_mode": {
    "name": "ipython",
    "version": 3
   },
   "file_extension": ".py",
   "mimetype": "text/x-python",
   "name": "python",
   "nbconvert_exporter": "python",
   "pygments_lexer": "ipython3",
   "version": "3.11.5"
  }
 },
 "nbformat": 4,
 "nbformat_minor": 5
}
