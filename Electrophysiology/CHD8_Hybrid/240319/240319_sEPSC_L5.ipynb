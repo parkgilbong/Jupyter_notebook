{
 "cells": [
  {
   "cell_type": "markdown",
   "id": "55af1843",
   "metadata": {},
   "source": [
    "### 1. Library 반입"
   ]
  },
  {
   "cell_type": "code",
   "execution_count": 12,
   "id": "06cde140",
   "metadata": {},
   "outputs": [],
   "source": [
    "import pandas as pd\n",
    "from scipy import stats \n",
    "from statsmodels.formula.api import ols\n",
    "from statsmodels.stats.anova import anova_lm"
   ]
  },
  {
   "cell_type": "markdown",
   "id": "2dda6bf4",
   "metadata": {},
   "source": [
    "### 2. Data 반입"
   ]
  },
  {
   "cell_type": "code",
   "execution_count": 13,
   "id": "a4119def",
   "metadata": {},
   "outputs": [
    {
     "data": {
      "text/html": [
       "<div>\n",
       "<style scoped>\n",
       "    .dataframe tbody tr th:only-of-type {\n",
       "        vertical-align: middle;\n",
       "    }\n",
       "\n",
       "    .dataframe tbody tr th {\n",
       "        vertical-align: top;\n",
       "    }\n",
       "\n",
       "    .dataframe thead th {\n",
       "        text-align: right;\n",
       "    }\n",
       "</style>\n",
       "<table border=\"1\" class=\"dataframe\">\n",
       "  <thead>\n",
       "    <tr style=\"text-align: right;\">\n",
       "      <th></th>\n",
       "      <th>Sex</th>\n",
       "      <th>Genotype</th>\n",
       "      <th>Amplitude</th>\n",
       "      <th>Frequency</th>\n",
       "      <th>Cell_ID</th>\n",
       "    </tr>\n",
       "  </thead>\n",
       "  <tbody>\n",
       "    <tr>\n",
       "      <th>0</th>\n",
       "      <td>Male</td>\n",
       "      <td>WT</td>\n",
       "      <td>22.09</td>\n",
       "      <td>1.96</td>\n",
       "      <td>220519_WT_M_#03</td>\n",
       "    </tr>\n",
       "    <tr>\n",
       "      <th>1</th>\n",
       "      <td>Male</td>\n",
       "      <td>WT</td>\n",
       "      <td>18.93</td>\n",
       "      <td>2.66</td>\n",
       "      <td>220519_WT_M_#08</td>\n",
       "    </tr>\n",
       "    <tr>\n",
       "      <th>2</th>\n",
       "      <td>Male</td>\n",
       "      <td>WT</td>\n",
       "      <td>16.57</td>\n",
       "      <td>2.35</td>\n",
       "      <td>220519_WT_M_#11</td>\n",
       "    </tr>\n",
       "    <tr>\n",
       "      <th>3</th>\n",
       "      <td>Male</td>\n",
       "      <td>WT</td>\n",
       "      <td>14.12</td>\n",
       "      <td>1.85</td>\n",
       "      <td>220519_WT_M_#12</td>\n",
       "    </tr>\n",
       "    <tr>\n",
       "      <th>4</th>\n",
       "      <td>Male</td>\n",
       "      <td>WT</td>\n",
       "      <td>24.97</td>\n",
       "      <td>1.42</td>\n",
       "      <td>220614_WT_M_#01</td>\n",
       "    </tr>\n",
       "  </tbody>\n",
       "</table>\n",
       "</div>"
      ],
      "text/plain": [
       "    Sex Genotype  Amplitude  Frequency          Cell_ID\n",
       "0  Male       WT      22.09       1.96  220519_WT_M_#03\n",
       "1  Male       WT      18.93       2.66  220519_WT_M_#08\n",
       "2  Male       WT      16.57       2.35  220519_WT_M_#11\n",
       "3  Male       WT      14.12       1.85  220519_WT_M_#12\n",
       "4  Male       WT      24.97       1.42  220614_WT_M_#01"
      ]
     },
     "execution_count": 13,
     "metadata": {},
     "output_type": "execute_result"
    }
   ],
   "source": [
    "df = pd.read_csv('./Df2.csv')\n",
    "df.head()"
   ]
  },
  {
   "cell_type": "markdown",
   "id": "c998f55b",
   "metadata": {},
   "source": [
    "### 3. 정규성 검정\n",
    "#### 3.1. Group data 분할"
   ]
  },
  {
   "cell_type": "code",
   "execution_count": 14,
   "id": "adbec792",
   "metadata": {},
   "outputs": [],
   "source": [
    "df_M_WT=df[(df['Sex']=='Male')&(df['Genotype']=='WT')]\n",
    "df_M_HM=df[(df['Sex']=='Male')&(df['Genotype']=='HM')]\n",
    "df_F_WT=df[(df['Sex']=='Female')&(df['Genotype']=='WT')]\n",
    "df_F_HM=df[(df['Sex']=='Female')&(df['Genotype']=='HM')]"
   ]
  },
  {
   "cell_type": "markdown",
   "id": "1f7b5b49",
   "metadata": {},
   "source": [
    "#### 3.2. Amplitude data에 대한 정규성 검정"
   ]
  },
  {
   "cell_type": "code",
   "execution_count": 15,
   "id": "883ab851",
   "metadata": {},
   "outputs": [
    {
     "data": {
      "text/plain": [
       "(ShapiroResult(statistic=0.925338625907898, pvalue=0.12556752562522888),\n",
       " ShapiroResult(statistic=0.9258108139038086, pvalue=0.2090829759836197),\n",
       " ShapiroResult(statistic=0.8458581566810608, pvalue=0.019521910697221756),\n",
       " ShapiroResult(statistic=0.8869489431381226, pvalue=0.0730624794960022))"
      ]
     },
     "execution_count": 15,
     "metadata": {},
     "output_type": "execute_result"
    }
   ],
   "source": [
    "stats.shapiro(df_M_WT['Amplitude']),stats.shapiro(df_M_HM['Amplitude']),stats.shapiro(df_F_WT['Amplitude']),stats.shapiro(df_F_HM['Amplitude'])"
   ]
  },
  {
   "cell_type": "markdown",
   "id": "c621aa7b",
   "metadata": {},
   "source": [
    "#### 3.3. Frequency data에 대한 정규성 검정"
   ]
  },
  {
   "cell_type": "code",
   "execution_count": 16,
   "id": "cc41a692",
   "metadata": {},
   "outputs": [
    {
     "data": {
      "text/plain": [
       "(ShapiroResult(statistic=0.7325950860977173, pvalue=0.00010010497499024495),\n",
       " ShapiroResult(statistic=0.9026151895523071, pvalue=0.08851422369480133),\n",
       " ShapiroResult(statistic=0.8592836260795593, pvalue=0.029760761186480522),\n",
       " ShapiroResult(statistic=0.8539639711380005, pvalue=0.0251516941934824))"
      ]
     },
     "execution_count": 16,
     "metadata": {},
     "output_type": "execute_result"
    }
   ],
   "source": [
    "stats.shapiro(df_M_WT['Frequency']),stats.shapiro(df_M_HM['Frequency']),stats.shapiro(df_F_WT['Frequency']),stats.shapiro(df_F_HM['Frequency'])"
   ]
  },
  {
   "cell_type": "markdown",
   "id": "4c9a4343",
   "metadata": {},
   "source": [
    "### 4. 등분산 검정\n",
    "#### 4.1. Amplitude data에 대한 등분산 검정"
   ]
  },
  {
   "cell_type": "code",
   "execution_count": 17,
   "id": "9202dfe2",
   "metadata": {},
   "outputs": [
    {
     "data": {
      "text/plain": [
       "BartlettResult(statistic=5.105914003550764, pvalue=0.16420386712243215)"
      ]
     },
     "execution_count": 17,
     "metadata": {},
     "output_type": "execute_result"
    }
   ],
   "source": [
    "stats.bartlett(df_M_WT['Amplitude'], \n",
    "               df_M_HM['Amplitude'], \n",
    "               df_F_WT['Amplitude'], \n",
    "               df_F_HM['Amplitude'])"
   ]
  },
  {
   "cell_type": "markdown",
   "id": "bee1f15f",
   "metadata": {},
   "source": [
    "#### 4.2. Frequency data에 대한 등분산 검정"
   ]
  },
  {
   "cell_type": "code",
   "execution_count": 18,
   "id": "d6e73b2b",
   "metadata": {},
   "outputs": [
    {
     "data": {
      "text/plain": [
       "BartlettResult(statistic=3.7469625802521547, pvalue=0.29011583731435386)"
      ]
     },
     "execution_count": 18,
     "metadata": {},
     "output_type": "execute_result"
    }
   ],
   "source": [
    "stats.bartlett(df_M_WT['Frequency'], \n",
    "               df_M_HM['Frequency'], \n",
    "               df_F_WT['Frequency'], \n",
    "               df_F_HM['Frequency'])"
   ]
  },
  {
   "cell_type": "markdown",
   "id": "d52640d4",
   "metadata": {},
   "source": [
    "### 5. 1-way ANOVA \n",
    "#### 5.1. Amplitude data에 대한 1-way ANOVA"
   ]
  },
  {
   "cell_type": "code",
   "execution_count": 19,
   "id": "24024651",
   "metadata": {},
   "outputs": [
    {
     "data": {
      "text/plain": [
       "F_onewayResult(statistic=0.26992159301920216, pvalue=0.8468345961476628)"
      ]
     },
     "execution_count": 19,
     "metadata": {},
     "output_type": "execute_result"
    }
   ],
   "source": [
    "stats.f_oneway(df_M_WT['Amplitude'], \n",
    "               df_M_HM['Amplitude'],\n",
    "               df_F_WT['Amplitude'], \n",
    "               df_F_HM['Amplitude'])"
   ]
  },
  {
   "cell_type": "markdown",
   "id": "e74a3040",
   "metadata": {},
   "source": [
    "#### 5.2. Frequency data에 대한 1-way ANOVA"
   ]
  },
  {
   "cell_type": "code",
   "execution_count": 20,
   "id": "7731715d",
   "metadata": {},
   "outputs": [
    {
     "data": {
      "text/plain": [
       "F_onewayResult(statistic=0.2396118234799542, pvalue=0.8683786552029849)"
      ]
     },
     "execution_count": 20,
     "metadata": {},
     "output_type": "execute_result"
    }
   ],
   "source": [
    "stats.f_oneway(df_M_WT['Frequency'], \n",
    "               df_M_HM['Frequency'],\n",
    "               df_F_WT['Frequency'], \n",
    "               df_F_HM['Frequency'])"
   ]
  },
  {
   "cell_type": "markdown",
   "id": "6a5f97d6",
   "metadata": {},
   "source": [
    "### 6. 2-way ANOVA\n",
    "#### 6.1. Amplitude data에 대한 2-way ANOVA"
   ]
  },
  {
   "cell_type": "code",
   "execution_count": 21,
   "id": "0c284cb1",
   "metadata": {},
   "outputs": [
    {
     "data": {
      "text/html": [
       "<div>\n",
       "<style scoped>\n",
       "    .dataframe tbody tr th:only-of-type {\n",
       "        vertical-align: middle;\n",
       "    }\n",
       "\n",
       "    .dataframe tbody tr th {\n",
       "        vertical-align: top;\n",
       "    }\n",
       "\n",
       "    .dataframe thead th {\n",
       "        text-align: right;\n",
       "    }\n",
       "</style>\n",
       "<table border=\"1\" class=\"dataframe\">\n",
       "  <thead>\n",
       "    <tr style=\"text-align: right;\">\n",
       "      <th></th>\n",
       "      <th>df</th>\n",
       "      <th>sum_sq</th>\n",
       "      <th>mean_sq</th>\n",
       "      <th>F</th>\n",
       "      <th>PR(&gt;F)</th>\n",
       "    </tr>\n",
       "  </thead>\n",
       "  <tbody>\n",
       "    <tr>\n",
       "      <th>C(Sex)</th>\n",
       "      <td>1.0</td>\n",
       "      <td>0.087659</td>\n",
       "      <td>0.087659</td>\n",
       "      <td>0.011548</td>\n",
       "      <td>0.914782</td>\n",
       "    </tr>\n",
       "    <tr>\n",
       "      <th>C(Genotype)</th>\n",
       "      <td>1.0</td>\n",
       "      <td>3.739081</td>\n",
       "      <td>3.739081</td>\n",
       "      <td>0.492573</td>\n",
       "      <td>0.485496</td>\n",
       "    </tr>\n",
       "    <tr>\n",
       "      <th>C(Sex):C(Genotype)</th>\n",
       "      <td>1.0</td>\n",
       "      <td>2.320123</td>\n",
       "      <td>2.320123</td>\n",
       "      <td>0.305644</td>\n",
       "      <td>0.582419</td>\n",
       "    </tr>\n",
       "    <tr>\n",
       "      <th>Residual</th>\n",
       "      <td>60.0</td>\n",
       "      <td>455.455437</td>\n",
       "      <td>7.590924</td>\n",
       "      <td>NaN</td>\n",
       "      <td>NaN</td>\n",
       "    </tr>\n",
       "  </tbody>\n",
       "</table>\n",
       "</div>"
      ],
      "text/plain": [
       "                      df      sum_sq   mean_sq         F    PR(>F)\n",
       "C(Sex)               1.0    0.087659  0.087659  0.011548  0.914782\n",
       "C(Genotype)          1.0    3.739081  3.739081  0.492573  0.485496\n",
       "C(Sex):C(Genotype)   1.0    2.320123  2.320123  0.305644  0.582419\n",
       "Residual            60.0  455.455437  7.590924       NaN       NaN"
      ]
     },
     "execution_count": 21,
     "metadata": {},
     "output_type": "execute_result"
    }
   ],
   "source": [
    "model = ols('Amplitude~C(Sex)+C(Genotype)+C(Sex):C(Genotype)', df).fit()\n",
    "anova_lm(model)"
   ]
  },
  {
   "cell_type": "markdown",
   "id": "ef98359f",
   "metadata": {},
   "source": [
    "#### 6.2. Frequency data에 대한 2-way ANOVA"
   ]
  },
  {
   "cell_type": "code",
   "execution_count": 22,
   "id": "a829723c",
   "metadata": {},
   "outputs": [
    {
     "data": {
      "text/html": [
       "<div>\n",
       "<style scoped>\n",
       "    .dataframe tbody tr th:only-of-type {\n",
       "        vertical-align: middle;\n",
       "    }\n",
       "\n",
       "    .dataframe tbody tr th {\n",
       "        vertical-align: top;\n",
       "    }\n",
       "\n",
       "    .dataframe thead th {\n",
       "        text-align: right;\n",
       "    }\n",
       "</style>\n",
       "<table border=\"1\" class=\"dataframe\">\n",
       "  <thead>\n",
       "    <tr style=\"text-align: right;\">\n",
       "      <th></th>\n",
       "      <th>df</th>\n",
       "      <th>sum_sq</th>\n",
       "      <th>mean_sq</th>\n",
       "      <th>F</th>\n",
       "      <th>PR(&gt;F)</th>\n",
       "    </tr>\n",
       "  </thead>\n",
       "  <tbody>\n",
       "    <tr>\n",
       "      <th>C(Sex)</th>\n",
       "      <td>1.0</td>\n",
       "      <td>0.852840</td>\n",
       "      <td>0.852840</td>\n",
       "      <td>0.168950</td>\n",
       "      <td>0.682511</td>\n",
       "    </tr>\n",
       "    <tr>\n",
       "      <th>C(Genotype)</th>\n",
       "      <td>1.0</td>\n",
       "      <td>2.489169</td>\n",
       "      <td>2.489169</td>\n",
       "      <td>0.493113</td>\n",
       "      <td>0.485257</td>\n",
       "    </tr>\n",
       "    <tr>\n",
       "      <th>C(Sex):C(Genotype)</th>\n",
       "      <td>1.0</td>\n",
       "      <td>0.286579</td>\n",
       "      <td>0.286579</td>\n",
       "      <td>0.056772</td>\n",
       "      <td>0.812484</td>\n",
       "    </tr>\n",
       "    <tr>\n",
       "      <th>Residual</th>\n",
       "      <td>60.0</td>\n",
       "      <td>302.872113</td>\n",
       "      <td>5.047869</td>\n",
       "      <td>NaN</td>\n",
       "      <td>NaN</td>\n",
       "    </tr>\n",
       "  </tbody>\n",
       "</table>\n",
       "</div>"
      ],
      "text/plain": [
       "                      df      sum_sq   mean_sq         F    PR(>F)\n",
       "C(Sex)               1.0    0.852840  0.852840  0.168950  0.682511\n",
       "C(Genotype)          1.0    2.489169  2.489169  0.493113  0.485257\n",
       "C(Sex):C(Genotype)   1.0    0.286579  0.286579  0.056772  0.812484\n",
       "Residual            60.0  302.872113  5.047869       NaN       NaN"
      ]
     },
     "execution_count": 22,
     "metadata": {},
     "output_type": "execute_result"
    }
   ],
   "source": [
    "model2 = ols('Frequency~C(Sex)+C(Genotype)+C(Sex):C(Genotype)', df).fit()\n",
    "anova_lm(model2)"
   ]
  },
  {
   "cell_type": "code",
   "execution_count": null,
   "id": "d22df008",
   "metadata": {},
   "outputs": [],
   "source": []
  }
 ],
 "metadata": {
  "kernelspec": {
   "display_name": "Python 3 (ipykernel)",
   "language": "python",
   "name": "python3"
  },
  "language_info": {
   "codemirror_mode": {
    "name": "ipython",
    "version": 3
   },
   "file_extension": ".py",
   "mimetype": "text/x-python",
   "name": "python",
   "nbconvert_exporter": "python",
   "pygments_lexer": "ipython3",
   "version": "3.11.5"
  }
 },
 "nbformat": 4,
 "nbformat_minor": 5
}
