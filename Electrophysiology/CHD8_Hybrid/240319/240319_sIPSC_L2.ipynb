{
 "cells": [
  {
   "cell_type": "markdown",
   "id": "39ff7e18",
   "metadata": {},
   "source": [
    "### 1. Library 반입"
   ]
  },
  {
   "cell_type": "code",
   "execution_count": 23,
   "id": "06cde140",
   "metadata": {},
   "outputs": [],
   "source": [
    "import pandas as pd\n",
    "from scipy import stats \n",
    "from statsmodels.formula.api import ols\n",
    "from statsmodels.stats.anova import anova_lm"
   ]
  },
  {
   "cell_type": "markdown",
   "id": "d22dcabe",
   "metadata": {},
   "source": [
    "### 2. Data 반입"
   ]
  },
  {
   "cell_type": "code",
   "execution_count": 24,
   "id": "a4119def",
   "metadata": {},
   "outputs": [
    {
     "data": {
      "text/html": [
       "<div>\n",
       "<style scoped>\n",
       "    .dataframe tbody tr th:only-of-type {\n",
       "        vertical-align: middle;\n",
       "    }\n",
       "\n",
       "    .dataframe tbody tr th {\n",
       "        vertical-align: top;\n",
       "    }\n",
       "\n",
       "    .dataframe thead th {\n",
       "        text-align: right;\n",
       "    }\n",
       "</style>\n",
       "<table border=\"1\" class=\"dataframe\">\n",
       "  <thead>\n",
       "    <tr style=\"text-align: right;\">\n",
       "      <th></th>\n",
       "      <th>Sex</th>\n",
       "      <th>Genotype</th>\n",
       "      <th>Amplitude</th>\n",
       "      <th>Frequency</th>\n",
       "      <th>Cell_ID</th>\n",
       "    </tr>\n",
       "  </thead>\n",
       "  <tbody>\n",
       "    <tr>\n",
       "      <th>0</th>\n",
       "      <td>Male</td>\n",
       "      <td>WT</td>\n",
       "      <td>44.06</td>\n",
       "      <td>0.74</td>\n",
       "      <td>220822_WT_M_#02</td>\n",
       "    </tr>\n",
       "    <tr>\n",
       "      <th>1</th>\n",
       "      <td>Male</td>\n",
       "      <td>WT</td>\n",
       "      <td>31.33</td>\n",
       "      <td>0.74</td>\n",
       "      <td>220822_WT_M_#03</td>\n",
       "    </tr>\n",
       "    <tr>\n",
       "      <th>2</th>\n",
       "      <td>Male</td>\n",
       "      <td>WT</td>\n",
       "      <td>38.63</td>\n",
       "      <td>1.50</td>\n",
       "      <td>220822_WT_M_#04</td>\n",
       "    </tr>\n",
       "    <tr>\n",
       "      <th>3</th>\n",
       "      <td>Male</td>\n",
       "      <td>WT</td>\n",
       "      <td>43.29</td>\n",
       "      <td>1.22</td>\n",
       "      <td>220822_WT_M_#05</td>\n",
       "    </tr>\n",
       "    <tr>\n",
       "      <th>4</th>\n",
       "      <td>Male</td>\n",
       "      <td>WT</td>\n",
       "      <td>46.93</td>\n",
       "      <td>1.64</td>\n",
       "      <td>220822_WT_M_#10</td>\n",
       "    </tr>\n",
       "  </tbody>\n",
       "</table>\n",
       "</div>"
      ],
      "text/plain": [
       "    Sex Genotype  Amplitude  Frequency          Cell_ID\n",
       "0  Male       WT      44.06       0.74  220822_WT_M_#02\n",
       "1  Male       WT      31.33       0.74  220822_WT_M_#03\n",
       "2  Male       WT      38.63       1.50  220822_WT_M_#04\n",
       "3  Male       WT      43.29       1.22  220822_WT_M_#05\n",
       "4  Male       WT      46.93       1.64  220822_WT_M_#10"
      ]
     },
     "execution_count": 24,
     "metadata": {},
     "output_type": "execute_result"
    }
   ],
   "source": [
    "df = pd.read_csv('./Df3.csv')\n",
    "df.head()"
   ]
  },
  {
   "cell_type": "markdown",
   "id": "dd057104",
   "metadata": {},
   "source": [
    "### 3. 정규성 검정\n",
    "#### 3.1. Group data 분할"
   ]
  },
  {
   "cell_type": "code",
   "execution_count": 25,
   "id": "adbec792",
   "metadata": {},
   "outputs": [],
   "source": [
    "df_M_WT=df[(df['Sex']=='Male')&(df['Genotype']=='WT')]\n",
    "df_M_HM=df[(df['Sex']=='Male')&(df['Genotype']=='HM')]\n",
    "df_F_WT=df[(df['Sex']=='Female')&(df['Genotype']=='WT')]\n",
    "df_F_HM=df[(df['Sex']=='Female')&(df['Genotype']=='HM')]"
   ]
  },
  {
   "cell_type": "markdown",
   "id": "4234da96",
   "metadata": {},
   "source": [
    "#### 3.2. Amplitude data에 대한 정규성 검정"
   ]
  },
  {
   "cell_type": "code",
   "execution_count": 26,
   "id": "681faf9f",
   "metadata": {},
   "outputs": [
    {
     "data": {
      "text/plain": [
       "(ShapiroResult(statistic=0.9275552034378052, pvalue=0.17585569620132446),\n",
       " ShapiroResult(statistic=0.9425902962684631, pvalue=0.32072290778160095),\n",
       " ShapiroResult(statistic=0.6638517379760742, pvalue=1.0083410415973049e-05),\n",
       " ShapiroResult(statistic=0.9245233535766602, pvalue=0.0735853835940361))"
      ]
     },
     "execution_count": 26,
     "metadata": {},
     "output_type": "execute_result"
    }
   ],
   "source": [
    "stats.shapiro(df_M_WT['Amplitude']),stats.shapiro(df_M_HM['Amplitude']),stats.shapiro(df_F_WT['Amplitude']),stats.shapiro(df_F_HM['Amplitude'])"
   ]
  },
  {
   "cell_type": "markdown",
   "id": "f0d8d54e",
   "metadata": {},
   "source": [
    "#### 3.3. Frequency data에 대한 정규성 검정"
   ]
  },
  {
   "cell_type": "code",
   "execution_count": 27,
   "id": "fe638adf",
   "metadata": {},
   "outputs": [
    {
     "data": {
      "text/plain": [
       "(ShapiroResult(statistic=0.6791349649429321, pvalue=4.61376148450654e-05),\n",
       " ShapiroResult(statistic=0.9074060916900635, pvalue=0.07744553685188293),\n",
       " ShapiroResult(statistic=0.8882588148117065, pvalue=0.020853102207183838),\n",
       " ShapiroResult(statistic=0.8691349029541016, pvalue=0.005059569142758846))"
      ]
     },
     "execution_count": 27,
     "metadata": {},
     "output_type": "execute_result"
    }
   ],
   "source": [
    "stats.shapiro(df_M_WT['Frequency']),stats.shapiro(df_M_HM['Frequency']),stats.shapiro(df_F_WT['Frequency']),stats.shapiro(df_F_HM['Frequency'])"
   ]
  },
  {
   "cell_type": "markdown",
   "id": "b6df6c7c",
   "metadata": {},
   "source": [
    "### 4. 등분산 검정\n",
    "#### 4.1. Amplitude data에 대한 등분산 검정"
   ]
  },
  {
   "cell_type": "code",
   "execution_count": 28,
   "id": "0be32d63",
   "metadata": {},
   "outputs": [
    {
     "data": {
      "text/plain": [
       "BartlettResult(statistic=37.080097438058004, pvalue=4.425284575166763e-08)"
      ]
     },
     "execution_count": 28,
     "metadata": {},
     "output_type": "execute_result"
    }
   ],
   "source": [
    "stats.bartlett(df_M_WT['Amplitude'], \n",
    "               df_M_HM['Amplitude'], \n",
    "               df_F_WT['Amplitude'], \n",
    "               df_F_HM['Amplitude'])"
   ]
  },
  {
   "cell_type": "markdown",
   "id": "c05a3fff",
   "metadata": {},
   "source": [
    "#### 4.2. Frequency data에 대한 등분산 검정"
   ]
  },
  {
   "cell_type": "code",
   "execution_count": 29,
   "id": "3b5eef4e",
   "metadata": {},
   "outputs": [
    {
     "data": {
      "text/plain": [
       "BartlettResult(statistic=10.595139242449628, pvalue=0.014129208414897577)"
      ]
     },
     "execution_count": 29,
     "metadata": {},
     "output_type": "execute_result"
    }
   ],
   "source": [
    "stats.bartlett(df_M_WT['Frequency'], \n",
    "               df_M_HM['Frequency'], \n",
    "               df_F_WT['Frequency'], \n",
    "               df_F_HM['Frequency'])"
   ]
  },
  {
   "cell_type": "markdown",
   "id": "22befbe8",
   "metadata": {},
   "source": [
    "### 5. 1-way ANOVA \n",
    "#### 5.1. Amplitude data에 대한 1-way ANOVA"
   ]
  },
  {
   "cell_type": "code",
   "execution_count": 30,
   "id": "24024651",
   "metadata": {},
   "outputs": [
    {
     "data": {
      "text/plain": [
       "F_onewayResult(statistic=2.421437151257458, pvalue=0.07233646863603667)"
      ]
     },
     "execution_count": 30,
     "metadata": {},
     "output_type": "execute_result"
    }
   ],
   "source": [
    "stats.f_oneway(df_M_WT['Amplitude'], \n",
    "               df_M_HM['Amplitude'],\n",
    "               df_F_WT['Amplitude'], \n",
    "               df_F_HM['Amplitude'])"
   ]
  },
  {
   "cell_type": "markdown",
   "id": "ad40aef7",
   "metadata": {},
   "source": [
    "#### 5.2. Frequency data에 대한 1-way ANOVA"
   ]
  },
  {
   "cell_type": "code",
   "execution_count": 31,
   "id": "7731715d",
   "metadata": {},
   "outputs": [
    {
     "data": {
      "text/plain": [
       "F_onewayResult(statistic=0.8099859160066722, pvalue=0.49218152714308416)"
      ]
     },
     "execution_count": 31,
     "metadata": {},
     "output_type": "execute_result"
    }
   ],
   "source": [
    "stats.f_oneway(df_M_WT['Frequency'], \n",
    "               df_M_HM['Frequency'],\n",
    "               df_F_WT['Frequency'], \n",
    "               df_F_HM['Frequency'])"
   ]
  },
  {
   "cell_type": "markdown",
   "id": "42326b73",
   "metadata": {},
   "source": [
    "### 6. 2-way ANOVA\n",
    "#### 6.1. Amplitude data에 대한 2-way ANOVA"
   ]
  },
  {
   "cell_type": "code",
   "execution_count": 32,
   "id": "0c284cb1",
   "metadata": {},
   "outputs": [
    {
     "data": {
      "text/html": [
       "<div>\n",
       "<style scoped>\n",
       "    .dataframe tbody tr th:only-of-type {\n",
       "        vertical-align: middle;\n",
       "    }\n",
       "\n",
       "    .dataframe tbody tr th {\n",
       "        vertical-align: top;\n",
       "    }\n",
       "\n",
       "    .dataframe thead th {\n",
       "        text-align: right;\n",
       "    }\n",
       "</style>\n",
       "<table border=\"1\" class=\"dataframe\">\n",
       "  <thead>\n",
       "    <tr style=\"text-align: right;\">\n",
       "      <th></th>\n",
       "      <th>df</th>\n",
       "      <th>sum_sq</th>\n",
       "      <th>mean_sq</th>\n",
       "      <th>F</th>\n",
       "      <th>PR(&gt;F)</th>\n",
       "    </tr>\n",
       "  </thead>\n",
       "  <tbody>\n",
       "    <tr>\n",
       "      <th>C(Sex)</th>\n",
       "      <td>1.0</td>\n",
       "      <td>3712.449176</td>\n",
       "      <td>3712.449176</td>\n",
       "      <td>5.535360</td>\n",
       "      <td>0.021191</td>\n",
       "    </tr>\n",
       "    <tr>\n",
       "      <th>C(Genotype)</th>\n",
       "      <td>1.0</td>\n",
       "      <td>26.700702</td>\n",
       "      <td>26.700702</td>\n",
       "      <td>0.039811</td>\n",
       "      <td>0.842376</td>\n",
       "    </tr>\n",
       "    <tr>\n",
       "      <th>C(Sex):C(Genotype)</th>\n",
       "      <td>1.0</td>\n",
       "      <td>1132.870127</td>\n",
       "      <td>1132.870127</td>\n",
       "      <td>1.689140</td>\n",
       "      <td>0.197592</td>\n",
       "    </tr>\n",
       "    <tr>\n",
       "      <th>Residual</th>\n",
       "      <td>77.0</td>\n",
       "      <td>51642.270951</td>\n",
       "      <td>670.678844</td>\n",
       "      <td>NaN</td>\n",
       "      <td>NaN</td>\n",
       "    </tr>\n",
       "  </tbody>\n",
       "</table>\n",
       "</div>"
      ],
      "text/plain": [
       "                      df        sum_sq      mean_sq         F    PR(>F)\n",
       "C(Sex)               1.0   3712.449176  3712.449176  5.535360  0.021191\n",
       "C(Genotype)          1.0     26.700702    26.700702  0.039811  0.842376\n",
       "C(Sex):C(Genotype)   1.0   1132.870127  1132.870127  1.689140  0.197592\n",
       "Residual            77.0  51642.270951   670.678844       NaN       NaN"
      ]
     },
     "execution_count": 32,
     "metadata": {},
     "output_type": "execute_result"
    }
   ],
   "source": [
    "model = ols('Amplitude~C(Sex)+C(Genotype)+C(Sex):C(Genotype)', df).fit()\n",
    "anova_lm(model)"
   ]
  },
  {
   "cell_type": "markdown",
   "id": "4538865e",
   "metadata": {},
   "source": [
    "#### 6.2. Frequency data에 대한 2-way ANOVA"
   ]
  },
  {
   "cell_type": "code",
   "execution_count": 33,
   "id": "a829723c",
   "metadata": {},
   "outputs": [
    {
     "data": {
      "text/html": [
       "<div>\n",
       "<style scoped>\n",
       "    .dataframe tbody tr th:only-of-type {\n",
       "        vertical-align: middle;\n",
       "    }\n",
       "\n",
       "    .dataframe tbody tr th {\n",
       "        vertical-align: top;\n",
       "    }\n",
       "\n",
       "    .dataframe thead th {\n",
       "        text-align: right;\n",
       "    }\n",
       "</style>\n",
       "<table border=\"1\" class=\"dataframe\">\n",
       "  <thead>\n",
       "    <tr style=\"text-align: right;\">\n",
       "      <th></th>\n",
       "      <th>df</th>\n",
       "      <th>sum_sq</th>\n",
       "      <th>mean_sq</th>\n",
       "      <th>F</th>\n",
       "      <th>PR(&gt;F)</th>\n",
       "    </tr>\n",
       "  </thead>\n",
       "  <tbody>\n",
       "    <tr>\n",
       "      <th>C(Sex)</th>\n",
       "      <td>1.0</td>\n",
       "      <td>10.719734</td>\n",
       "      <td>10.719734</td>\n",
       "      <td>2.314185</td>\n",
       "      <td>0.132295</td>\n",
       "    </tr>\n",
       "    <tr>\n",
       "      <th>C(Genotype)</th>\n",
       "      <td>1.0</td>\n",
       "      <td>0.526334</td>\n",
       "      <td>0.526334</td>\n",
       "      <td>0.113625</td>\n",
       "      <td>0.736971</td>\n",
       "    </tr>\n",
       "    <tr>\n",
       "      <th>C(Sex):C(Genotype)</th>\n",
       "      <td>1.0</td>\n",
       "      <td>0.009945</td>\n",
       "      <td>0.009945</td>\n",
       "      <td>0.002147</td>\n",
       "      <td>0.963163</td>\n",
       "    </tr>\n",
       "    <tr>\n",
       "      <th>Residual</th>\n",
       "      <td>77.0</td>\n",
       "      <td>356.678212</td>\n",
       "      <td>4.632185</td>\n",
       "      <td>NaN</td>\n",
       "      <td>NaN</td>\n",
       "    </tr>\n",
       "  </tbody>\n",
       "</table>\n",
       "</div>"
      ],
      "text/plain": [
       "                      df      sum_sq    mean_sq         F    PR(>F)\n",
       "C(Sex)               1.0   10.719734  10.719734  2.314185  0.132295\n",
       "C(Genotype)          1.0    0.526334   0.526334  0.113625  0.736971\n",
       "C(Sex):C(Genotype)   1.0    0.009945   0.009945  0.002147  0.963163\n",
       "Residual            77.0  356.678212   4.632185       NaN       NaN"
      ]
     },
     "execution_count": 33,
     "metadata": {},
     "output_type": "execute_result"
    }
   ],
   "source": [
    "model2 = ols('Frequency~C(Sex)+C(Genotype)+C(Sex):C(Genotype)', df).fit()\n",
    "anova_lm(model2)"
   ]
  },
  {
   "cell_type": "code",
   "execution_count": null,
   "id": "d22df008",
   "metadata": {},
   "outputs": [],
   "source": []
  }
 ],
 "metadata": {
  "kernelspec": {
   "display_name": "Python 3 (ipykernel)",
   "language": "python",
   "name": "python3"
  },
  "language_info": {
   "codemirror_mode": {
    "name": "ipython",
    "version": 3
   },
   "file_extension": ".py",
   "mimetype": "text/x-python",
   "name": "python",
   "nbconvert_exporter": "python",
   "pygments_lexer": "ipython3",
   "version": "3.11.5"
  }
 },
 "nbformat": 4,
 "nbformat_minor": 5
}
