{
 "cells": [
  {
   "cell_type": "markdown",
   "metadata": {},
   "source": [
    "## Digital Labnote for IE project"
   ]
  },
  {
   "cell_type": "markdown",
   "metadata": {},
   "source": [
    "### Behavioral test (Figure 1) "
   ]
  },
  {
   "cell_type": "markdown",
   "metadata": {},
   "source": [
    "    1. Load OKR Gain table from Google Drive "
   ]
  },
  {
   "cell_type": "code",
   "execution_count": 12,
   "metadata": {},
   "outputs": [],
   "source": [
    "OKR_Gain <- read.delim(file=\"G:/My Drive/Experimental Data/Flocculus_Ex vivo/OKR Gain.txt\", \n",
    "                       header=T, \n",
    "                       sep='\\t', \n",
    "                       stringsAsFactors = F)"
   ]
  },
  {
   "cell_type": "code",
   "execution_count": 13,
   "metadata": {},
   "outputs": [],
   "source": [
    "colnames(OKR_Gain)  <- c(\"pre\", \"post\", \"delta\")"
   ]
  },
  {
   "cell_type": "code",
   "execution_count": 14,
   "metadata": {},
   "outputs": [
    {
     "data": {
      "text/html": [
       "<table>\n",
       "<caption>A data.frame: 9 × 3</caption>\n",
       "<thead>\n",
       "\t<tr><th scope=col>pre</th><th scope=col>post</th><th scope=col>delta</th></tr>\n",
       "\t<tr><th scope=col>&lt;dbl&gt;</th><th scope=col>&lt;dbl&gt;</th><th scope=col>&lt;dbl&gt;</th></tr>\n",
       "</thead>\n",
       "<tbody>\n",
       "\t<tr><td>0.304</td><td>0.433</td><td>0.129</td></tr>\n",
       "\t<tr><td>0.320</td><td>0.640</td><td>0.320</td></tr>\n",
       "\t<tr><td>0.195</td><td>0.668</td><td>0.473</td></tr>\n",
       "\t<tr><td>0.275</td><td>0.768</td><td>0.493</td></tr>\n",
       "\t<tr><td>0.198</td><td>0.314</td><td>0.116</td></tr>\n",
       "\t<tr><td>0.267</td><td>0.805</td><td>0.538</td></tr>\n",
       "\t<tr><td>0.246</td><td>0.595</td><td>0.349</td></tr>\n",
       "\t<tr><td>0.320</td><td>0.625</td><td>0.305</td></tr>\n",
       "\t<tr><td>0.315</td><td>0.655</td><td>0.340</td></tr>\n",
       "</tbody>\n",
       "</table>\n"
      ],
      "text/latex": [
       "A data.frame: 9 × 3\n",
       "\\begin{tabular}{lll}\n",
       " pre & post & delta\\\\\n",
       " <dbl> & <dbl> & <dbl>\\\\\n",
       "\\hline\n",
       "\t 0.304 & 0.433 & 0.129\\\\\n",
       "\t 0.320 & 0.640 & 0.320\\\\\n",
       "\t 0.195 & 0.668 & 0.473\\\\\n",
       "\t 0.275 & 0.768 & 0.493\\\\\n",
       "\t 0.198 & 0.314 & 0.116\\\\\n",
       "\t 0.267 & 0.805 & 0.538\\\\\n",
       "\t 0.246 & 0.595 & 0.349\\\\\n",
       "\t 0.320 & 0.625 & 0.305\\\\\n",
       "\t 0.315 & 0.655 & 0.340\\\\\n",
       "\\end{tabular}\n"
      ],
      "text/markdown": [
       "\n",
       "A data.frame: 9 × 3\n",
       "\n",
       "| pre &lt;dbl&gt; | post &lt;dbl&gt; | delta &lt;dbl&gt; |\n",
       "|---|---|---|\n",
       "| 0.304 | 0.433 | 0.129 |\n",
       "| 0.320 | 0.640 | 0.320 |\n",
       "| 0.195 | 0.668 | 0.473 |\n",
       "| 0.275 | 0.768 | 0.493 |\n",
       "| 0.198 | 0.314 | 0.116 |\n",
       "| 0.267 | 0.805 | 0.538 |\n",
       "| 0.246 | 0.595 | 0.349 |\n",
       "| 0.320 | 0.625 | 0.305 |\n",
       "| 0.315 | 0.655 | 0.340 |\n",
       "\n"
      ],
      "text/plain": [
       "  pre   post  delta\n",
       "1 0.304 0.433 0.129\n",
       "2 0.320 0.640 0.320\n",
       "3 0.195 0.668 0.473\n",
       "4 0.275 0.768 0.493\n",
       "5 0.198 0.314 0.116\n",
       "6 0.267 0.805 0.538\n",
       "7 0.246 0.595 0.349\n",
       "8 0.320 0.625 0.305\n",
       "9 0.315 0.655 0.340"
      ]
     },
     "metadata": {},
     "output_type": "display_data"
    }
   ],
   "source": [
    "OKR_Gain"
   ]
  },
  {
   "cell_type": "markdown",
   "metadata": {},
   "source": [
    "    2. Descriptive Statistics"
   ]
  },
  {
   "cell_type": "code",
   "execution_count": 15,
   "metadata": {},
   "outputs": [
    {
     "name": "stderr",
     "output_type": "stream",
     "text": [
      "\n",
      "Attaching package: 'psych'\n",
      "\n",
      "\n",
      "The following objects are masked from 'package:ggplot2':\n",
      "\n",
      "    %+%, alpha\n",
      "\n",
      "\n"
     ]
    },
    {
     "data": {
      "text/html": [
       "<table>\n",
       "<caption>A psych: 3 × 13</caption>\n",
       "<thead>\n",
       "\t<tr><th></th><th scope=col>vars</th><th scope=col>n</th><th scope=col>mean</th><th scope=col>sd</th><th scope=col>median</th><th scope=col>trimmed</th><th scope=col>mad</th><th scope=col>min</th><th scope=col>max</th><th scope=col>range</th><th scope=col>skew</th><th scope=col>kurtosis</th><th scope=col>se</th></tr>\n",
       "\t<tr><th></th><th scope=col>&lt;int&gt;</th><th scope=col>&lt;dbl&gt;</th><th scope=col>&lt;dbl&gt;</th><th scope=col>&lt;dbl&gt;</th><th scope=col>&lt;dbl&gt;</th><th scope=col>&lt;dbl&gt;</th><th scope=col>&lt;dbl&gt;</th><th scope=col>&lt;dbl&gt;</th><th scope=col>&lt;dbl&gt;</th><th scope=col>&lt;dbl&gt;</th><th scope=col>&lt;dbl&gt;</th><th scope=col>&lt;dbl&gt;</th><th scope=col>&lt;dbl&gt;</th></tr>\n",
       "</thead>\n",
       "<tbody>\n",
       "\t<tr><th scope=row>pre</th><td>1</td><td>9</td><td>0.2711111</td><td>0.04948344</td><td>0.275</td><td>0.2711111</td><td>0.0593040</td><td>0.195</td><td>0.320</td><td>0.125</td><td>-0.4527580</td><td>-1.5390788</td><td>0.01649448</td></tr>\n",
       "\t<tr><th scope=row>post</th><td>2</td><td>9</td><td>0.6114444</td><td>0.15356360</td><td>0.640</td><td>0.6114444</td><td>0.0667170</td><td>0.314</td><td>0.805</td><td>0.491</td><td>-0.6328194</td><td>-0.8300669</td><td>0.05118787</td></tr>\n",
       "\t<tr><th scope=row>delta</th><td>3</td><td>9</td><td>0.3403333</td><td>0.14862032</td><td>0.340</td><td>0.3403333</td><td>0.1971858</td><td>0.116</td><td>0.538</td><td>0.422</td><td>-0.2424679</td><td>-1.4265961</td><td>0.04954011</td></tr>\n",
       "</tbody>\n",
       "</table>\n"
      ],
      "text/latex": [
       "A psych: 3 × 13\n",
       "\\begin{tabular}{r|lllllllllllll}\n",
       "  & vars & n & mean & sd & median & trimmed & mad & min & max & range & skew & kurtosis & se\\\\\n",
       "  & <int> & <dbl> & <dbl> & <dbl> & <dbl> & <dbl> & <dbl> & <dbl> & <dbl> & <dbl> & <dbl> & <dbl> & <dbl>\\\\\n",
       "\\hline\n",
       "\tpre & 1 & 9 & 0.2711111 & 0.04948344 & 0.275 & 0.2711111 & 0.0593040 & 0.195 & 0.320 & 0.125 & -0.4527580 & -1.5390788 & 0.01649448\\\\\n",
       "\tpost & 2 & 9 & 0.6114444 & 0.15356360 & 0.640 & 0.6114444 & 0.0667170 & 0.314 & 0.805 & 0.491 & -0.6328194 & -0.8300669 & 0.05118787\\\\\n",
       "\tdelta & 3 & 9 & 0.3403333 & 0.14862032 & 0.340 & 0.3403333 & 0.1971858 & 0.116 & 0.538 & 0.422 & -0.2424679 & -1.4265961 & 0.04954011\\\\\n",
       "\\end{tabular}\n"
      ],
      "text/markdown": [
       "\n",
       "A psych: 3 × 13\n",
       "\n",
       "| <!--/--> | vars &lt;int&gt; | n &lt;dbl&gt; | mean &lt;dbl&gt; | sd &lt;dbl&gt; | median &lt;dbl&gt; | trimmed &lt;dbl&gt; | mad &lt;dbl&gt; | min &lt;dbl&gt; | max &lt;dbl&gt; | range &lt;dbl&gt; | skew &lt;dbl&gt; | kurtosis &lt;dbl&gt; | se &lt;dbl&gt; |\n",
       "|---|---|---|---|---|---|---|---|---|---|---|---|---|---|\n",
       "| pre | 1 | 9 | 0.2711111 | 0.04948344 | 0.275 | 0.2711111 | 0.0593040 | 0.195 | 0.320 | 0.125 | -0.4527580 | -1.5390788 | 0.01649448 |\n",
       "| post | 2 | 9 | 0.6114444 | 0.15356360 | 0.640 | 0.6114444 | 0.0667170 | 0.314 | 0.805 | 0.491 | -0.6328194 | -0.8300669 | 0.05118787 |\n",
       "| delta | 3 | 9 | 0.3403333 | 0.14862032 | 0.340 | 0.3403333 | 0.1971858 | 0.116 | 0.538 | 0.422 | -0.2424679 | -1.4265961 | 0.04954011 |\n",
       "\n"
      ],
      "text/plain": [
       "      vars n mean      sd         median trimmed   mad       min   max   range\n",
       "pre   1    9 0.2711111 0.04948344 0.275  0.2711111 0.0593040 0.195 0.320 0.125\n",
       "post  2    9 0.6114444 0.15356360 0.640  0.6114444 0.0667170 0.314 0.805 0.491\n",
       "delta 3    9 0.3403333 0.14862032 0.340  0.3403333 0.1971858 0.116 0.538 0.422\n",
       "      skew       kurtosis   se        \n",
       "pre   -0.4527580 -1.5390788 0.01649448\n",
       "post  -0.6328194 -0.8300669 0.05118787\n",
       "delta -0.2424679 -1.4265961 0.04954011"
      ]
     },
     "metadata": {},
     "output_type": "display_data"
    }
   ],
   "source": [
    "library(psych) # to use 'describe' function\n",
    "describe(OKR_Gain)"
   ]
  },
  {
   "cell_type": "markdown",
   "metadata": {},
   "source": [
    "    3. Perform paired t-test"
   ]
  },
  {
   "cell_type": "code",
   "execution_count": 16,
   "metadata": {},
   "outputs": [
    {
     "data": {
      "text/plain": [
       "\n",
       "\tPaired t-test\n",
       "\n",
       "data:  OKR_Gain$pre and OKR_Gain$post\n",
       "t = -6.8699, df = 8, p-value = 0.0001284\n",
       "alternative hypothesis: true difference in means is not equal to 0\n",
       "95 percent confidence interval:\n",
       " -0.4545730 -0.2260936\n",
       "sample estimates:\n",
       "mean of the differences \n",
       "             -0.3403333 \n"
      ]
     },
     "metadata": {},
     "output_type": "display_data"
    }
   ],
   "source": [
    "t.test(x = OKR_Gain$pre, y = OKR_Gain$post, paired = T)"
   ]
  },
  {
   "cell_type": "markdown",
   "metadata": {},
   "source": [
    "-------------"
   ]
  },
  {
   "cell_type": "markdown",
   "metadata": {},
   "source": [
    "### Mean Firing Rate (Figure 3) "
   ]
  },
  {
   "cell_type": "markdown",
   "metadata": {},
   "source": [
    "    1. Load mean firing rate table from Google drive"
   ]
  },
  {
   "cell_type": "code",
   "execution_count": 17,
   "metadata": {},
   "outputs": [],
   "source": [
    "MFR <- read.delim(file=\"G:/My Drive/Experimental Data/Flocculus_Ex vivo/MFR_TG.txt\", \n",
    "                  sep='\\t', \n",
    "                  stringsAsFactors = T, \n",
    "                  header=T)"
   ]
  },
  {
   "cell_type": "code",
   "execution_count": 18,
   "metadata": {},
   "outputs": [
    {
     "data": {
      "text/html": [
       "<table>\n",
       "<caption>A data.frame: 6 × 4</caption>\n",
       "<thead>\n",
       "\t<tr><th></th><th scope=col>AnimalID</th><th scope=col>Protocol</th><th scope=col>Gain</th><th scope=col>Trial</th></tr>\n",
       "\t<tr><th></th><th scope=col>&lt;fct&gt;</th><th scope=col>&lt;fct&gt;</th><th scope=col>&lt;dbl&gt;</th><th scope=col>&lt;fct&gt;</th></tr>\n",
       "</thead>\n",
       "<tbody>\n",
       "\t<tr><th scope=row>1</th><td>150216_HC_YG_#01_tt</td><td>HC_Tonic</td><td>58.26657</td><td>+100 pA</td></tr>\n",
       "\t<tr><th scope=row>2</th><td>150216_HC_YG_#02_tt</td><td>HC_Tonic</td><td>21.26528</td><td>+100 pA</td></tr>\n",
       "\t<tr><th scope=row>3</th><td>150216_HC_YG_#03_tt</td><td>HC_Tonic</td><td> 0.00000</td><td>+100 pA</td></tr>\n",
       "\t<tr><th scope=row>4</th><td>150216_HC_YG_#05_tt</td><td>HC_Tonic</td><td> 0.00000</td><td>+100 pA</td></tr>\n",
       "\t<tr><th scope=row>5</th><td>150216_HC_YG_#06_tt</td><td>HC_Tonic</td><td> 0.00000</td><td>+100 pA</td></tr>\n",
       "\t<tr><th scope=row>6</th><td>150216_HC_YG_#09_tt</td><td>HC_Tonic</td><td>36.90037</td><td>+100 pA</td></tr>\n",
       "</tbody>\n",
       "</table>\n"
      ],
      "text/latex": [
       "A data.frame: 6 × 4\n",
       "\\begin{tabular}{r|llll}\n",
       "  & AnimalID & Protocol & Gain & Trial\\\\\n",
       "  & <fct> & <fct> & <dbl> & <fct>\\\\\n",
       "\\hline\n",
       "\t1 & 150216\\_HC\\_YG\\_\\#01\\_tt & HC\\_Tonic & 58.26657 & +100 pA\\\\\n",
       "\t2 & 150216\\_HC\\_YG\\_\\#02\\_tt & HC\\_Tonic & 21.26528 & +100 pA\\\\\n",
       "\t3 & 150216\\_HC\\_YG\\_\\#03\\_tt & HC\\_Tonic &  0.00000 & +100 pA\\\\\n",
       "\t4 & 150216\\_HC\\_YG\\_\\#05\\_tt & HC\\_Tonic &  0.00000 & +100 pA\\\\\n",
       "\t5 & 150216\\_HC\\_YG\\_\\#06\\_tt & HC\\_Tonic &  0.00000 & +100 pA\\\\\n",
       "\t6 & 150216\\_HC\\_YG\\_\\#09\\_tt & HC\\_Tonic & 36.90037 & +100 pA\\\\\n",
       "\\end{tabular}\n"
      ],
      "text/markdown": [
       "\n",
       "A data.frame: 6 × 4\n",
       "\n",
       "| <!--/--> | AnimalID &lt;fct&gt; | Protocol &lt;fct&gt; | Gain &lt;dbl&gt; | Trial &lt;fct&gt; |\n",
       "|---|---|---|---|---|\n",
       "| 1 | 150216_HC_YG_#01_tt | HC_Tonic | 58.26657 | +100 pA |\n",
       "| 2 | 150216_HC_YG_#02_tt | HC_Tonic | 21.26528 | +100 pA |\n",
       "| 3 | 150216_HC_YG_#03_tt | HC_Tonic |  0.00000 | +100 pA |\n",
       "| 4 | 150216_HC_YG_#05_tt | HC_Tonic |  0.00000 | +100 pA |\n",
       "| 5 | 150216_HC_YG_#06_tt | HC_Tonic |  0.00000 | +100 pA |\n",
       "| 6 | 150216_HC_YG_#09_tt | HC_Tonic | 36.90037 | +100 pA |\n",
       "\n"
      ],
      "text/plain": [
       "  AnimalID            Protocol Gain     Trial  \n",
       "1 150216_HC_YG_#01_tt HC_Tonic 58.26657 +100 pA\n",
       "2 150216_HC_YG_#02_tt HC_Tonic 21.26528 +100 pA\n",
       "3 150216_HC_YG_#03_tt HC_Tonic  0.00000 +100 pA\n",
       "4 150216_HC_YG_#05_tt HC_Tonic  0.00000 +100 pA\n",
       "5 150216_HC_YG_#06_tt HC_Tonic  0.00000 +100 pA\n",
       "6 150216_HC_YG_#09_tt HC_Tonic 36.90037 +100 pA"
      ]
     },
     "metadata": {},
     "output_type": "display_data"
    }
   ],
   "source": [
    "head(MFR)"
   ]
  },
  {
   "cell_type": "code",
   "execution_count": 40,
   "metadata": {},
   "outputs": [
    {
     "data": {
      "text/html": [
       "<table>\n",
       "<caption>A tibble: 4 × 4</caption>\n",
       "<thead>\n",
       "\t<tr><th scope=col>Protocol</th><th scope=col>count</th><th scope=col>mean</th><th scope=col>sd</th></tr>\n",
       "\t<tr><th scope=col>&lt;fct&gt;</th><th scope=col>&lt;int&gt;</th><th scope=col>&lt;dbl&gt;</th><th scope=col>&lt;dbl&gt;</th></tr>\n",
       "</thead>\n",
       "<tbody>\n",
       "\t<tr><td>HC_Gap  </td><td>156</td><td>73.60251</td><td>62.69520</td></tr>\n",
       "\t<tr><td>HC_Tonic</td><td>696</td><td>91.21502</td><td>68.59827</td></tr>\n",
       "\t<tr><td>OL_Gap  </td><td>144</td><td>61.49726</td><td>51.72032</td></tr>\n",
       "\t<tr><td>OL_Tonic</td><td>492</td><td>77.15679</td><td>63.20868</td></tr>\n",
       "</tbody>\n",
       "</table>\n"
      ],
      "text/latex": [
       "A tibble: 4 × 4\n",
       "\\begin{tabular}{llll}\n",
       " Protocol & count & mean & sd\\\\\n",
       " <fct> & <int> & <dbl> & <dbl>\\\\\n",
       "\\hline\n",
       "\t HC\\_Gap   & 156 & 73.60251 & 62.69520\\\\\n",
       "\t HC\\_Tonic & 696 & 91.21502 & 68.59827\\\\\n",
       "\t OL\\_Gap   & 144 & 61.49726 & 51.72032\\\\\n",
       "\t OL\\_Tonic & 492 & 77.15679 & 63.20868\\\\\n",
       "\\end{tabular}\n"
      ],
      "text/markdown": [
       "\n",
       "A tibble: 4 × 4\n",
       "\n",
       "| Protocol &lt;fct&gt; | count &lt;int&gt; | mean &lt;dbl&gt; | sd &lt;dbl&gt; |\n",
       "|---|---|---|---|\n",
       "| HC_Gap   | 156 | 73.60251 | 62.69520 |\n",
       "| HC_Tonic | 696 | 91.21502 | 68.59827 |\n",
       "| OL_Gap   | 144 | 61.49726 | 51.72032 |\n",
       "| OL_Tonic | 492 | 77.15679 | 63.20868 |\n",
       "\n"
      ],
      "text/plain": [
       "  Protocol count mean     sd      \n",
       "1 HC_Gap   156   73.60251 62.69520\n",
       "2 HC_Tonic 696   91.21502 68.59827\n",
       "3 OL_Gap   144   61.49726 51.72032\n",
       "4 OL_Tonic 492   77.15679 63.20868"
      ]
     },
     "metadata": {},
     "output_type": "display_data"
    }
   ],
   "source": [
    "library(dplyr)\n",
    "group_by(MFR, Protocol)  %>%\n",
    "    summarise(count = n(), \n",
    "              mean = mean(Gain, na.rm=T), \n",
    "              sd =sd(Gain, na.rm=T))"
   ]
  },
  {
   "cell_type": "code",
   "execution_count": 36,
   "metadata": {},
   "outputs": [],
   "source": [
    "library(lme4) #for generation of Linear Mixed Model\n",
    "library(nlme) #for generation of Linear Mixed Model\n",
    "library(multcomp)\n",
    "library(tidyverse) #for data manipulation and visualization\n",
    "library(ggpubr) #for creating easily publication ready plots\n",
    "library(rstatix) # provides pipe-friendly R functions for easy statistical analyses\n",
    "library(lmerTest)\n",
    "library(psycho)"
   ]
  },
  {
   "cell_type": "markdown",
   "metadata": {},
   "source": [
    "    2. Generate Linear Mixed Model"
   ]
  },
  {
   "cell_type": "code",
   "execution_count": 20,
   "metadata": {},
   "outputs": [],
   "source": [
    "LMM.model <- lme(Gain ~ Protocol, \n",
    "                 random = ~1|AnimalID, \n",
    "                 data=MFR, \n",
    "                 na.action = \"na.omit\")"
   ]
  },
  {
   "cell_type": "code",
   "execution_count": 21,
   "metadata": {},
   "outputs": [
    {
     "data": {
      "text/html": [
       "<table>\n",
       "<caption>A anova.lme: 2 × 4</caption>\n",
       "<thead>\n",
       "\t<tr><th></th><th scope=col>numDF</th><th scope=col>denDF</th><th scope=col>F-value</th><th scope=col>p-value</th></tr>\n",
       "\t<tr><th></th><th scope=col>&lt;int&gt;</th><th scope=col>&lt;dbl&gt;</th><th scope=col>&lt;dbl&gt;</th><th scope=col>&lt;dbl&gt;</th></tr>\n",
       "</thead>\n",
       "<tbody>\n",
       "\t<tr><th scope=row>(Intercept)</th><td>1</td><td>1364</td><td>689.169278</td><td>0.0000000</td></tr>\n",
       "\t<tr><th scope=row>Protocol</th><td>3</td><td> 120</td><td>  3.275965</td><td>0.0234902</td></tr>\n",
       "</tbody>\n",
       "</table>\n"
      ],
      "text/latex": [
       "A anova.lme: 2 × 4\n",
       "\\begin{tabular}{r|llll}\n",
       "  & numDF & denDF & F-value & p-value\\\\\n",
       "  & <int> & <dbl> & <dbl> & <dbl>\\\\\n",
       "\\hline\n",
       "\t(Intercept) & 1 & 1364 & 689.169278 & 0.0000000\\\\\n",
       "\tProtocol & 3 &  120 &   3.275965 & 0.0234902\\\\\n",
       "\\end{tabular}\n"
      ],
      "text/markdown": [
       "\n",
       "A anova.lme: 2 × 4\n",
       "\n",
       "| <!--/--> | numDF &lt;int&gt; | denDF &lt;dbl&gt; | F-value &lt;dbl&gt; | p-value &lt;dbl&gt; |\n",
       "|---|---|---|---|---|\n",
       "| (Intercept) | 1 | 1364 | 689.169278 | 0.0000000 |\n",
       "| Protocol | 3 |  120 |   3.275965 | 0.0234902 |\n",
       "\n"
      ],
      "text/plain": [
       "            numDF denDF F-value    p-value  \n",
       "(Intercept) 1     1364  689.169278 0.0000000\n",
       "Protocol    3      120    3.275965 0.0234902"
      ]
     },
     "metadata": {},
     "output_type": "display_data"
    }
   ],
   "source": [
    "anova(LMM.model)"
   ]
  },
  {
   "cell_type": "code",
   "execution_count": 22,
   "metadata": {},
   "outputs": [],
   "source": [
    "comp.Protocol <- glht(LMM.model, linfct = mcp(Protocol=\"Tukey\"))"
   ]
  },
  {
   "cell_type": "code",
   "execution_count": 23,
   "metadata": {},
   "outputs": [
    {
     "data": {
      "text/plain": [
       "\n",
       "\t Simultaneous Tests for General Linear Hypotheses\n",
       "\n",
       "Multiple Comparisons of Means: Tukey Contrasts\n",
       "\n",
       "\n",
       "Fit: lme.formula(fixed = Gain ~ Protocol, data = MFR, random = ~1 | \n",
       "    AnimalID, na.action = \"na.omit\")\n",
       "\n",
       "Linear Hypotheses:\n",
       "                         Estimate Std. Error z value Pr(>|z|)  \n",
       "HC_Tonic - HC_Gap == 0     17.613     10.653   1.653   0.3370  \n",
       "OL_Gap - HC_Gap == 0      -12.105     13.898  -0.871   0.8129  \n",
       "OL_Tonic - HC_Gap == 0      3.554     11.050   0.322   0.9879  \n",
       "OL_Gap - HC_Tonic == 0    -29.718     11.010  -2.699   0.0334 *\n",
       "OL_Tonic - HC_Tonic == 0  -14.058      7.084  -1.985   0.1850  \n",
       "OL_Tonic - OL_Gap == 0     15.660     11.394   1.374   0.5033  \n",
       "---\n",
       "Signif. codes:  0 '***' 0.001 '**' 0.01 '*' 0.05 '.' 0.1 ' ' 1\n",
       "(Adjusted p values reported -- single-step method)\n"
      ]
     },
     "metadata": {},
     "output_type": "display_data"
    }
   ],
   "source": [
    "summary(comp.Protocol)"
   ]
  },
  {
   "cell_type": "markdown",
   "metadata": {},
   "source": [
    "    3. Computation of Two-way repeated measures ANOVA"
   ]
  },
  {
   "cell_type": "code",
   "execution_count": 29,
   "metadata": {},
   "outputs": [
    {
     "data": {
      "text/html": [
       "<table>\n",
       "<caption>A anova: 3 × 6</caption>\n",
       "<thead>\n",
       "\t<tr><th></th><th scope=col>Sum Sq</th><th scope=col>Mean Sq</th><th scope=col>NumDF</th><th scope=col>DenDF</th><th scope=col>F value</th><th scope=col>Pr(&gt;F)</th></tr>\n",
       "\t<tr><th></th><th scope=col>&lt;dbl&gt;</th><th scope=col>&lt;dbl&gt;</th><th scope=col>&lt;int&gt;</th><th scope=col>&lt;dbl&gt;</th><th scope=col>&lt;dbl&gt;</th><th scope=col>&lt;dbl&gt;</th></tr>\n",
       "</thead>\n",
       "<tbody>\n",
       "\t<tr><th scope=row>Protocol</th><td>   4517.844</td><td>  1505.948</td><td> 3</td><td> 120</td><td>  3.275963</td><td>0.023490262</td></tr>\n",
       "\t<tr><th scope=row>Trial</th><td>2248609.516</td><td>204419.047</td><td>11</td><td>1320</td><td>444.682872</td><td>0.000000000</td></tr>\n",
       "\t<tr><th scope=row>Protocol:Trial</th><td>  27524.871</td><td>   834.087</td><td>33</td><td>1320</td><td>  1.814431</td><td>0.003356381</td></tr>\n",
       "</tbody>\n",
       "</table>\n"
      ],
      "text/latex": [
       "A anova: 3 × 6\n",
       "\\begin{tabular}{r|llllll}\n",
       "  & Sum Sq & Mean Sq & NumDF & DenDF & F value & Pr(>F)\\\\\n",
       "  & <dbl> & <dbl> & <int> & <dbl> & <dbl> & <dbl>\\\\\n",
       "\\hline\n",
       "\tProtocol &    4517.844 &   1505.948 &  3 &  120 &   3.275963 & 0.023490262\\\\\n",
       "\tTrial & 2248609.516 & 204419.047 & 11 & 1320 & 444.682872 & 0.000000000\\\\\n",
       "\tProtocol:Trial &   27524.871 &    834.087 & 33 & 1320 &   1.814431 & 0.003356381\\\\\n",
       "\\end{tabular}\n"
      ],
      "text/markdown": [
       "\n",
       "A anova: 3 × 6\n",
       "\n",
       "| <!--/--> | Sum Sq &lt;dbl&gt; | Mean Sq &lt;dbl&gt; | NumDF &lt;int&gt; | DenDF &lt;dbl&gt; | F value &lt;dbl&gt; | Pr(&gt;F) &lt;dbl&gt; |\n",
       "|---|---|---|---|---|---|---|\n",
       "| Protocol |    4517.844 |   1505.948 |  3 |  120 |   3.275963 | 0.023490262 |\n",
       "| Trial | 2248609.516 | 204419.047 | 11 | 1320 | 444.682872 | 0.000000000 |\n",
       "| Protocol:Trial |   27524.871 |    834.087 | 33 | 1320 |   1.814431 | 0.003356381 |\n",
       "\n"
      ],
      "text/plain": [
       "               Sum Sq      Mean Sq    NumDF DenDF F value    Pr(>F)     \n",
       "Protocol          4517.844   1505.948  3     120    3.275963 0.023490262\n",
       "Trial          2248609.516 204419.047 11    1320  444.682872 0.000000000\n",
       "Protocol:Trial   27524.871    834.087 33    1320    1.814431 0.003356381"
      ]
     },
     "metadata": {},
     "output_type": "display_data"
    }
   ],
   "source": [
    "fit  <- lmer(Gain ~ Protocol*Trial +(1|AnimalID), data=MFR)\n",
    "anova(fit)\n"
   ]
  },
  {
   "cell_type": "markdown",
   "metadata": {},
   "source": [
    "### PB-AHP (Figure 3)"
   ]
  },
  {
   "cell_type": "markdown",
   "metadata": {},
   "source": [
    "    1. Load PB-AHP table from Google Drive"
   ]
  },
  {
   "cell_type": "code",
   "execution_count": 25,
   "metadata": {},
   "outputs": [],
   "source": [
    "PB.AHP <- read.delim(file=\"G:/My Drive/Experimental Data/Flocculus_Ex vivo/PBAHP_TG.txt\", \n",
    "                  sep='\\t', \n",
    "                  stringsAsFactors = T, \n",
    "                  header=T)"
   ]
  },
  {
   "cell_type": "code",
   "execution_count": 26,
   "metadata": {},
   "outputs": [
    {
     "data": {
      "text/html": [
       "<table>\n",
       "<caption>A data.frame: 6 × 4</caption>\n",
       "<thead>\n",
       "\t<tr><th></th><th scope=col>AnimalID</th><th scope=col>Protocol</th><th scope=col>Gain</th><th scope=col>Trial</th></tr>\n",
       "\t<tr><th></th><th scope=col>&lt;fct&gt;</th><th scope=col>&lt;fct&gt;</th><th scope=col>&lt;dbl&gt;</th><th scope=col>&lt;fct&gt;</th></tr>\n",
       "</thead>\n",
       "<tbody>\n",
       "\t<tr><th scope=row>1</th><td>150216_HC_YG_#01_tt</td><td>HC_Tonic</td><td>9.696228</td><td>+100 pA</td></tr>\n",
       "\t<tr><th scope=row>2</th><td>150216_HC_YG_#03_tt</td><td>HC_Tonic</td><td>2.198822</td><td>+100 pA</td></tr>\n",
       "\t<tr><th scope=row>3</th><td>150216_HC_YG_#05_tt</td><td>HC_Tonic</td><td>2.721176</td><td>+100 pA</td></tr>\n",
       "\t<tr><th scope=row>4</th><td>150216_HC_YG_#06_tt</td><td>HC_Tonic</td><td>3.528900</td><td>+100 pA</td></tr>\n",
       "\t<tr><th scope=row>5</th><td>150216_HC_YG_#09_tt</td><td>HC_Tonic</td><td>4.742615</td><td>+100 pA</td></tr>\n",
       "\t<tr><th scope=row>6</th><td>150216_HC_YG_#10_tt</td><td>HC_Tonic</td><td>9.523437</td><td>+100 pA</td></tr>\n",
       "</tbody>\n",
       "</table>\n"
      ],
      "text/latex": [
       "A data.frame: 6 × 4\n",
       "\\begin{tabular}{r|llll}\n",
       "  & AnimalID & Protocol & Gain & Trial\\\\\n",
       "  & <fct> & <fct> & <dbl> & <fct>\\\\\n",
       "\\hline\n",
       "\t1 & 150216\\_HC\\_YG\\_\\#01\\_tt & HC\\_Tonic & 9.696228 & +100 pA\\\\\n",
       "\t2 & 150216\\_HC\\_YG\\_\\#03\\_tt & HC\\_Tonic & 2.198822 & +100 pA\\\\\n",
       "\t3 & 150216\\_HC\\_YG\\_\\#05\\_tt & HC\\_Tonic & 2.721176 & +100 pA\\\\\n",
       "\t4 & 150216\\_HC\\_YG\\_\\#06\\_tt & HC\\_Tonic & 3.528900 & +100 pA\\\\\n",
       "\t5 & 150216\\_HC\\_YG\\_\\#09\\_tt & HC\\_Tonic & 4.742615 & +100 pA\\\\\n",
       "\t6 & 150216\\_HC\\_YG\\_\\#10\\_tt & HC\\_Tonic & 9.523437 & +100 pA\\\\\n",
       "\\end{tabular}\n"
      ],
      "text/markdown": [
       "\n",
       "A data.frame: 6 × 4\n",
       "\n",
       "| <!--/--> | AnimalID &lt;fct&gt; | Protocol &lt;fct&gt; | Gain &lt;dbl&gt; | Trial &lt;fct&gt; |\n",
       "|---|---|---|---|---|\n",
       "| 1 | 150216_HC_YG_#01_tt | HC_Tonic | 9.696228 | +100 pA |\n",
       "| 2 | 150216_HC_YG_#03_tt | HC_Tonic | 2.198822 | +100 pA |\n",
       "| 3 | 150216_HC_YG_#05_tt | HC_Tonic | 2.721176 | +100 pA |\n",
       "| 4 | 150216_HC_YG_#06_tt | HC_Tonic | 3.528900 | +100 pA |\n",
       "| 5 | 150216_HC_YG_#09_tt | HC_Tonic | 4.742615 | +100 pA |\n",
       "| 6 | 150216_HC_YG_#10_tt | HC_Tonic | 9.523437 | +100 pA |\n",
       "\n"
      ],
      "text/plain": [
       "  AnimalID            Protocol Gain     Trial  \n",
       "1 150216_HC_YG_#01_tt HC_Tonic 9.696228 +100 pA\n",
       "2 150216_HC_YG_#03_tt HC_Tonic 2.198822 +100 pA\n",
       "3 150216_HC_YG_#05_tt HC_Tonic 2.721176 +100 pA\n",
       "4 150216_HC_YG_#06_tt HC_Tonic 3.528900 +100 pA\n",
       "5 150216_HC_YG_#09_tt HC_Tonic 4.742615 +100 pA\n",
       "6 150216_HC_YG_#10_tt HC_Tonic 9.523437 +100 pA"
      ]
     },
     "metadata": {},
     "output_type": "display_data"
    }
   ],
   "source": [
    "head(PB.AHP)"
   ]
  },
  {
   "cell_type": "markdown",
   "metadata": {},
   "source": [
    "    2. Generate Linear Mixed Model"
   ]
  },
  {
   "cell_type": "code",
   "execution_count": 51,
   "metadata": {},
   "outputs": [],
   "source": [
    "LMM1.model <- lme(Gain ~ Protocol*Trial, \n",
    "                 random = ~1|AnimalID, \n",
    "                 data=PB.AHP, \n",
    "                 na.action = \"na.omit\")"
   ]
  },
  {
   "cell_type": "code",
   "execution_count": 52,
   "metadata": {},
   "outputs": [
    {
     "data": {
      "text/html": [
       "<table>\n",
       "<caption>A anova.lme: 4 × 4</caption>\n",
       "<thead>\n",
       "\t<tr><th></th><th scope=col>numDF</th><th scope=col>denDF</th><th scope=col>F-value</th><th scope=col>p-value</th></tr>\n",
       "\t<tr><th></th><th scope=col>&lt;int&gt;</th><th scope=col>&lt;dbl&gt;</th><th scope=col>&lt;dbl&gt;</th><th scope=col>&lt;dbl&gt;</th></tr>\n",
       "</thead>\n",
       "<tbody>\n",
       "\t<tr><th scope=row>(Intercept)</th><td> 1</td><td>1276</td><td>675.686774</td><td>0.0000000000</td></tr>\n",
       "\t<tr><th scope=row>Protocol</th><td> 3</td><td> 116</td><td>  1.244433</td><td>0.2969159533</td></tr>\n",
       "\t<tr><th scope=row>Trial</th><td>11</td><td>1276</td><td>134.518427</td><td>0.0000000000</td></tr>\n",
       "\t<tr><th scope=row>Protocol:Trial</th><td>33</td><td>1276</td><td>  2.146290</td><td>0.0001933045</td></tr>\n",
       "</tbody>\n",
       "</table>\n"
      ],
      "text/latex": [
       "A anova.lme: 4 × 4\n",
       "\\begin{tabular}{r|llll}\n",
       "  & numDF & denDF & F-value & p-value\\\\\n",
       "  & <int> & <dbl> & <dbl> & <dbl>\\\\\n",
       "\\hline\n",
       "\t(Intercept) &  1 & 1276 & 675.686774 & 0.0000000000\\\\\n",
       "\tProtocol &  3 &  116 &   1.244433 & 0.2969159533\\\\\n",
       "\tTrial & 11 & 1276 & 134.518427 & 0.0000000000\\\\\n",
       "\tProtocol:Trial & 33 & 1276 &   2.146290 & 0.0001933045\\\\\n",
       "\\end{tabular}\n"
      ],
      "text/markdown": [
       "\n",
       "A anova.lme: 4 × 4\n",
       "\n",
       "| <!--/--> | numDF &lt;int&gt; | denDF &lt;dbl&gt; | F-value &lt;dbl&gt; | p-value &lt;dbl&gt; |\n",
       "|---|---|---|---|---|\n",
       "| (Intercept) |  1 | 1276 | 675.686774 | 0.0000000000 |\n",
       "| Protocol |  3 |  116 |   1.244433 | 0.2969159533 |\n",
       "| Trial | 11 | 1276 | 134.518427 | 0.0000000000 |\n",
       "| Protocol:Trial | 33 | 1276 |   2.146290 | 0.0001933045 |\n",
       "\n"
      ],
      "text/plain": [
       "               numDF denDF F-value    p-value     \n",
       "(Intercept)     1    1276  675.686774 0.0000000000\n",
       "Protocol        3     116    1.244433 0.2969159533\n",
       "Trial          11    1276  134.518427 0.0000000000\n",
       "Protocol:Trial 33    1276    2.146290 0.0001933045"
      ]
     },
     "metadata": {},
     "output_type": "display_data"
    }
   ],
   "source": [
    "anova(LMM1.model)"
   ]
  },
  {
   "cell_type": "code",
   "execution_count": 60,
   "metadata": {},
   "outputs": [
    {
     "name": "stderr",
     "output_type": "stream",
     "text": [
      "Warning message in mcp2matrix(model, linfct = linfct):\n",
      "\"covariate interactions found -- default contrast might be inappropriate\"\n"
     ]
    }
   ],
   "source": [
    "comp.Protocol <- glht(LMM1.model, linfct = mcp(Protocol=\"Tukey\"))"
   ]
  },
  {
   "cell_type": "code",
   "execution_count": 61,
   "metadata": {
    "scrolled": true
   },
   "outputs": [
    {
     "data": {
      "text/plain": [
       "\n",
       "\t Simultaneous Tests for General Linear Hypotheses\n",
       "\n",
       "Multiple Comparisons of Means: Tukey Contrasts\n",
       "\n",
       "\n",
       "Fit: lme.formula(fixed = Gain ~ Protocol * Trial, data = PB.AHP, random = ~1 | \n",
       "    AnimalID, na.action = \"na.omit\")\n",
       "\n",
       "Linear Hypotheses:\n",
       "                         Estimate Std. Error z value Pr(>|z|)\n",
       "HC_Tonic - HC_Gap == 0     0.6041     1.1081   0.545    0.946\n",
       "OL_Gap - HC_Gap == 0      -0.3710     1.4385  -0.258    0.994\n",
       "OL_Tonic - HC_Gap == 0     0.1420     1.1472   0.124    0.999\n",
       "OL_Gap - HC_Tonic == 0    -0.9750     1.1449  -0.852    0.823\n",
       "OL_Tonic - HC_Tonic == 0  -0.4620     0.7467  -0.619    0.923\n",
       "OL_Tonic - OL_Gap == 0     0.5130     1.1827   0.434    0.971\n",
       "(Adjusted p values reported -- single-step method)\n"
      ]
     },
     "metadata": {},
     "output_type": "display_data"
    }
   ],
   "source": [
    "summary(comp.Protocol)"
   ]
  },
  {
   "cell_type": "markdown",
   "metadata": {},
   "source": [
    "-------------------------"
   ]
  },
  {
   "cell_type": "markdown",
   "metadata": {},
   "source": [
    "### Single AP Analysis"
   ]
  },
  {
   "cell_type": "markdown",
   "metadata": {},
   "source": [
    "### 1. AP Threshold"
   ]
  },
  {
   "cell_type": "markdown",
   "metadata": {},
   "source": [
    "    1. Load AP threshold table"
   ]
  },
  {
   "cell_type": "code",
   "execution_count": 50,
   "metadata": {},
   "outputs": [
    {
     "data": {
      "text/html": [
       "<table>\n",
       "<caption>A data.frame: 6 × 2</caption>\n",
       "<thead>\n",
       "\t<tr><th></th><th scope=col>Group</th><th scope=col>AP_threshold</th></tr>\n",
       "\t<tr><th></th><th scope=col>&lt;fct&gt;</th><th scope=col>&lt;dbl&gt;</th></tr>\n",
       "</thead>\n",
       "<tbody>\n",
       "\t<tr><th scope=row>1</th><td>WT_Tonic</td><td>-40.64941</td></tr>\n",
       "\t<tr><th scope=row>2</th><td>WT_Tonic</td><td>-33.05054</td></tr>\n",
       "\t<tr><th scope=row>3</th><td>WT_Tonic</td><td>-38.60474</td></tr>\n",
       "\t<tr><th scope=row>4</th><td>WT_Tonic</td><td>-21.39282</td></tr>\n",
       "\t<tr><th scope=row>5</th><td>WT_Tonic</td><td>-41.50391</td></tr>\n",
       "\t<tr><th scope=row>6</th><td>WT_Tonic</td><td>-34.48486</td></tr>\n",
       "</tbody>\n",
       "</table>\n"
      ],
      "text/latex": [
       "A data.frame: 6 × 2\n",
       "\\begin{tabular}{r|ll}\n",
       "  & Group & AP\\_threshold\\\\\n",
       "  & <fct> & <dbl>\\\\\n",
       "\\hline\n",
       "\t1 & WT\\_Tonic & -40.64941\\\\\n",
       "\t2 & WT\\_Tonic & -33.05054\\\\\n",
       "\t3 & WT\\_Tonic & -38.60474\\\\\n",
       "\t4 & WT\\_Tonic & -21.39282\\\\\n",
       "\t5 & WT\\_Tonic & -41.50391\\\\\n",
       "\t6 & WT\\_Tonic & -34.48486\\\\\n",
       "\\end{tabular}\n"
      ],
      "text/markdown": [
       "\n",
       "A data.frame: 6 × 2\n",
       "\n",
       "| <!--/--> | Group &lt;fct&gt; | AP_threshold &lt;dbl&gt; |\n",
       "|---|---|---|\n",
       "| 1 | WT_Tonic | -40.64941 |\n",
       "| 2 | WT_Tonic | -33.05054 |\n",
       "| 3 | WT_Tonic | -38.60474 |\n",
       "| 4 | WT_Tonic | -21.39282 |\n",
       "| 5 | WT_Tonic | -41.50391 |\n",
       "| 6 | WT_Tonic | -34.48486 |\n",
       "\n"
      ],
      "text/plain": [
       "  Group    AP_threshold\n",
       "1 WT_Tonic -40.64941   \n",
       "2 WT_Tonic -33.05054   \n",
       "3 WT_Tonic -38.60474   \n",
       "4 WT_Tonic -21.39282   \n",
       "5 WT_Tonic -41.50391   \n",
       "6 WT_Tonic -34.48486   "
      ]
     },
     "metadata": {},
     "output_type": "display_data"
    }
   ],
   "source": [
    "AP_threshold <- read.delim(file=\"G:/My Drive/Experimental Data/Flocculus_Ex vivo/AP threshold.txt\")\n",
    "head(AP_threhold)"
   ]
  },
  {
   "cell_type": "markdown",
   "metadata": {},
   "source": [
    "    2. Visualize AP threshold data"
   ]
  },
  {
   "cell_type": "code",
   "execution_count": 51,
   "metadata": {},
   "outputs": [],
   "source": [
    "library(\"ggpubr\")"
   ]
  },
  {
   "cell_type": "code",
   "execution_count": 53,
   "metadata": {},
   "outputs": [
    {
     "data": {
      "image/png": "[encoded data removed]",
      "text/plain": [
       "plot without title"
      ]
     },
     "metadata": {
      "image/png": {
       "height": 420,
       "width": 420
      }
     },
     "output_type": "display_data"
    }
   ],
   "source": [
    "ggboxplot(AP_threshold, \n",
    "          x=\"Group\", \n",
    "          y=\"AP_threshold\", \n",
    "          color=\"Group\", \n",
    "          order = c(\"WT_Tonic\", \"OL_Tonic\", \"WT_Gap\", \"OL_Gap\", \"WT_Initial\", \"OL_Initial\"),\n",
    "          ylab=\"AP Threshold (mV)\", xlab=\"\")"
   ]
  },
  {
   "cell_type": "markdown",
   "metadata": {},
   "source": [
    "    3. Compute one-way ANOVA"
   ]
  },
  {
   "cell_type": "code",
   "execution_count": 55,
   "metadata": {},
   "outputs": [
    {
     "data": {
      "text/plain": [
       "             Df Sum Sq Mean Sq F value   Pr(>F)    \n",
       "Group         5   3558   711.7   8.034 1.01e-06 ***\n",
       "Residuals   147  13022    88.6                     \n",
       "---\n",
       "Signif. codes:  0 '***' 0.001 '**' 0.01 '*' 0.05 '.' 0.1 ' ' 1"
      ]
     },
     "metadata": {},
     "output_type": "display_data"
    }
   ],
   "source": [
    "res.aov <- aov(AP_threshold~Group, data=AP_threshold)\n",
    "summary(res.aov)"
   ]
  },
  {
   "cell_type": "markdown",
   "metadata": {},
   "source": [
    "    If ANOVA test is significant, we can compute Tukey HSD (Tukey Honest Significant Differences) for performing mutiple pairwise-comparison between the means of groups."
   ]
  },
  {
   "cell_type": "code",
   "execution_count": 58,
   "metadata": {},
   "outputs": [
    {
     "data": {
      "text/plain": [
       "  Tukey multiple comparisons of means\n",
       "    95% family-wise confidence level\n",
       "\n",
       "Fit: aov(formula = AP_threshold ~ Group, data = AP_threshold)\n",
       "\n",
       "$Group\n",
       "                            diff        lwr         upr     p adj\n",
       "OL_Initial-OL_Gap      -1.968021 -12.659897  8.72385585 0.9948106\n",
       "OL_Tonic-OL_Gap        -8.928426 -17.873892  0.01703947 0.0507456\n",
       "WT_Gap-OL_Gap          -3.352043 -14.232061  7.52797460 0.9484706\n",
       "WT_Initial-OL_Gap       3.057692  -7.071054 13.18643690 0.9526585\n",
       "WT_Tonic-OL_Gap       -10.209947 -18.855479 -1.56441460 0.0106584\n",
       "OL_Tonic-OL_Initial    -6.960406 -15.400062  1.47925086 0.1695565\n",
       "WT_Gap-OL_Initial      -1.384023 -11.852128  9.08408289 0.9989281\n",
       "WT_Initial-OL_Initial   5.025712  -4.659221 14.71064517 0.6657932\n",
       "WT_Tonic-OL_Initial    -8.241926 -16.362989 -0.12086273 0.0444902\n",
       "WT_Gap-OL_Tonic         5.576383  -3.100389 14.25315456 0.4335783\n",
       "WT_Initial-OL_Tonic    11.986118   4.272295 19.69994039 0.0002073\n",
       "WT_Tonic-OL_Tonic      -1.281520  -6.907958  4.34491726 0.9861541\n",
       "WT_Initial-WT_Gap       6.409735  -3.482509 16.30197872 0.4240903\n",
       "WT_Tonic-WT_Gap        -6.857903 -15.225115  1.50930832 0.1749170\n",
       "WT_Tonic-WT_Initial   -13.267638 -20.631532 -5.90374469 0.0000095\n"
      ]
     },
     "metadata": {},
     "output_type": "display_data"
    }
   ],
   "source": [
    "TukeyHSD(res.aov)"
   ]
  },
  {
   "cell_type": "code",
   "execution_count": null,
   "metadata": {},
   "outputs": [],
   "source": []
  }
 ],
 "metadata": {
  "kernelspec": {
   "display_name": "R",
   "language": "R",
   "name": "ir"
  },
  "language_info": {
   "codemirror_mode": "r",
   "file_extension": ".r",
   "mimetype": "text/x-r-source",
   "name": "R",
   "pygments_lexer": "r",
   "version": "3.6.3"
  }
 },
 "nbformat": 4,
 "nbformat_minor": 4
}
