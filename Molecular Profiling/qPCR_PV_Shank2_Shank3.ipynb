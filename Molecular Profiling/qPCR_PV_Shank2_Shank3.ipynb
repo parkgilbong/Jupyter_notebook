{
 "cells": [
  {
   "cell_type": "markdown",
   "id": "cad42f91",
   "metadata": {},
   "source": [
    "<hr>\n",
    "\n",
    "* Model: **Shank3 conventional WT/KO** (4 pairs)\n",
    "* Age: Adult (>P12W) \n",
    "* Sex: Male\n",
    "* Region: PFC\n",
    "* Performer: KSB\n",
    "* Recording: \n",
    "* Analysis:\n",
    "\n",
    "<hr>"
   ]
  },
  {
   "cell_type": "code",
   "execution_count": 25,
   "id": "6a5b97cc",
   "metadata": {},
   "outputs": [],
   "source": [
    "shank3wt = [0.9980777, 0.7849958, 0.8876547, 1.39718]\n",
    "shank3ko = [1.06688, 1.914335, 1.49418, 1.1046817]"
   ]
  },
  {
   "cell_type": "code",
   "execution_count": 27,
   "id": "1aeca284",
   "metadata": {},
   "outputs": [
    {
     "data": {
      "text/plain": [
       "TtestResult(statistic=-1.5800475279773645, pvalue=0.9174113215590766, df=6.0)"
      ]
     },
     "execution_count": 27,
     "metadata": {},
     "output_type": "execute_result"
    }
   ],
   "source": [
    "from scipy import stats\n",
    "stats.ttest_ind(shank3wt, \n",
    "                shank3ko, \n",
    "                equal_var=True,\n",
    "                alternative='greater')"
   ]
  },
  {
   "cell_type": "markdown",
   "id": "2d097741",
   "metadata": {},
   "source": [
    "<br>\n"
   ]
  },
  {
   "cell_type": "markdown",
   "id": "b347c1b8",
   "metadata": {},
   "source": [
    "<hr>\n",
    "\n",
    "* Model: **Shank2 WT/KO** (4 pairs)\n",
    "* Age: Adult (>P12W) \n",
    "* Sex: Male and Female\n",
    "* Region: PFC\n",
    "* Performer: KCM\n",
    "* Recording: \n",
    "* Analysis:\n",
    "\n",
    "<hr>"
   ]
  },
  {
   "cell_type": "code",
   "execution_count": 28,
   "id": "3b2c1b46",
   "metadata": {},
   "outputs": [],
   "source": [
    "shank2ko_male = [0.679, 0.74, 0.839, 0.793]\n",
    "shank2ko_female = [0.937, 0.789, 0.784, 0.483]"
   ]
  },
  {
   "cell_type": "code",
   "execution_count": 29,
   "id": "b86cdfd7",
   "metadata": {},
   "outputs": [
    {
     "data": {
      "text/plain": [
       "TtestResult(statistic=-6.882174195128095, pvalue=0.003141966373978541, df=3)"
      ]
     },
     "execution_count": 29,
     "metadata": {},
     "output_type": "execute_result"
    }
   ],
   "source": [
    "##### t-test using male data #####\n",
    "stats.ttest_1samp(shank2ko_male, \n",
    "                  popmean = 1.0, \n",
    "                  alternative = 'less')"
   ]
  },
  {
   "cell_type": "code",
   "execution_count": 30,
   "id": "ae598eff",
   "metadata": {},
   "outputs": [
    {
     "data": {
      "text/plain": [
       "TtestResult(statistic=-2.642413645969009, pvalue=0.03874774932544617, df=3)"
      ]
     },
     "execution_count": 30,
     "metadata": {},
     "output_type": "execute_result"
    }
   ],
   "source": [
    "##### t-test using female data #####\n",
    "stats.ttest_1samp(shank2ko_female,\n",
    "                 popmean = 1.0,\n",
    "                 alternative = 'less')"
   ]
  },
  {
   "cell_type": "code",
   "execution_count": 31,
   "id": "c836d1fd",
   "metadata": {},
   "outputs": [
    {
     "data": {
      "text/plain": [
       "TtestResult(statistic=-5.20423158659493, pvalue=0.0006235991350808958, df=7)"
      ]
     },
     "execution_count": 31,
     "metadata": {},
     "output_type": "execute_result"
    }
   ],
   "source": [
    "##### t-test using total data #####\n",
    "shank2ko_total = shank2ko_male + shank2ko_female\n",
    "stats.ttest_1samp(shank2ko_total,\n",
    "                 popmean = 1.0,\n",
    "                 alternative = 'less')"
   ]
  }
 ],
 "metadata": {
  "kernelspec": {
   "display_name": "Python 3 (ipykernel)",
   "language": "python",
   "name": "python3"
  },
  "language_info": {
   "codemirror_mode": {
    "name": "ipython",
    "version": 3
   },
   "file_extension": ".py",
   "mimetype": "text/x-python",
   "name": "python",
   "nbconvert_exporter": "python",
   "pygments_lexer": "ipython3",
   "version": "3.11.5"
  }
 },
 "nbformat": 4,
 "nbformat_minor": 5
}
