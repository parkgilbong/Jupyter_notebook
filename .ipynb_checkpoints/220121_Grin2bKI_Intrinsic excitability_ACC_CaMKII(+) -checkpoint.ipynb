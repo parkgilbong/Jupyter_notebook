{
 "cells": [
  {
   "cell_type": "markdown",
   "id": "89de0830",
   "metadata": {},
   "source": [
    "Project: Grin2b KI"
   ]
  },
  {
   "cell_type": "markdown",
   "id": "df05e890",
   "metadata": {},
   "source": [
    "0. Load packages "
   ]
  },
  {
   "cell_type": "code",
   "execution_count": 4,
   "id": "737e52e2",
   "metadata": {},
   "outputs": [
    {
     "name": "stderr",
     "output_type": "stream",
     "text": [
      "also installing the dependencies 'bit', 'fs', 'rappdirs', 'bit64', 'progress', 'processx', 'xfun', 'blob', 'lifecycle', 'glue', 'data.table', 'gargle', 'ids', 'rematch2', 'vroom', 'tzdb', 'callr', 'knitr', 'withr', 'broom', 'cli', 'crayon', 'dbplyr', 'dplyr', 'dtplyr', 'forcats', 'googledrive', 'googlesheets4', 'ggplot2', 'haven', 'hms', 'httr', 'jsonlite', 'lubridate', 'magrittr', 'modelr', 'pillar', 'purrr', 'readr', 'reprex', 'rlang', 'rstudioapi', 'rvest', 'tibble', 'tidyr', 'xml2', 'ggsignif', 'tidyselect'\n",
      "\n"
     ]
    },
    {
     "name": "stdout",
     "output_type": "stream",
     "text": [
      "\n",
      "  There are binary versions available but the source versions are later:\n",
      "              binary source needs_compilation\n",
      "fs             1.5.0  1.5.2              TRUE\n",
      "xfun            0.22   0.29              TRUE\n",
      "blob           1.2.1  1.2.2             FALSE\n",
      "lifecycle      1.0.0  1.0.1             FALSE\n",
      "glue           1.4.2  1.6.1              TRUE\n",
      "data.table    1.14.0 1.14.2              TRUE\n",
      "gargle         1.1.0  1.2.0             FALSE\n",
      "vroom          1.4.0  1.5.7              TRUE\n",
      "tzdb           0.1.1  0.2.0              TRUE\n",
      "knitr           1.33   1.37             FALSE\n",
      "withr          2.4.2  2.4.3             FALSE\n",
      "broom          0.7.6 0.7.11             FALSE\n",
      "cli            2.5.0  3.1.1              TRUE\n",
      "crayon         1.4.1  1.4.2             FALSE\n",
      "dplyr          1.0.6  1.0.7              TRUE\n",
      "dtplyr         1.1.0  1.2.1             FALSE\n",
      "googledrive    1.0.1  2.0.0             FALSE\n",
      "googlesheets4  0.3.0  1.0.0             FALSE\n",
      "ggplot2        3.3.3  3.3.5             FALSE\n",
      "haven          2.4.1  2.4.3              TRUE\n",
      "hms            1.0.0  1.1.1             FALSE\n",
      "jsonlite       1.7.2  1.7.3              TRUE\n",
      "lubridate     1.7.10  1.8.0              TRUE\n",
      "pillar         1.6.0  1.6.4             FALSE\n",
      "readr          1.4.0  2.1.1              TRUE\n",
      "reprex         2.0.0  2.0.1             FALSE\n",
      "rlang         0.4.11 0.4.12              TRUE\n",
      "rvest          1.0.0  1.0.2             FALSE\n",
      "tibble         3.1.1  3.1.6              TRUE\n",
      "tidyr          1.1.3  1.1.4              TRUE\n",
      "xml2           1.3.2  1.3.3              TRUE\n",
      "ggsignif       0.6.1  0.6.3             FALSE\n",
      "\n",
      "  Binaries will be installed\n",
      "package 'bit' successfully unpacked and MD5 sums checked\n",
      "package 'fs' successfully unpacked and MD5 sums checked\n",
      "package 'rappdirs' successfully unpacked and MD5 sums checked\n",
      "package 'bit64' successfully unpacked and MD5 sums checked\n",
      "package 'progress' successfully unpacked and MD5 sums checked\n",
      "package 'processx' successfully unpacked and MD5 sums checked\n",
      "package 'xfun' successfully unpacked and MD5 sums checked\n",
      "package 'glue' successfully unpacked and MD5 sums checked\n"
     ]
    },
    {
     "name": "stderr",
     "output_type": "stream",
     "text": [
      "Warning message:\n",
      "\"cannot remove prior installation of package 'glue'\"Warning message in file.copy(savedcopy, lib, recursive = TRUE):\n",
      "\"C:\\Users\\KimYG\\anaconda3\\Lib\\R\\library\\00LOCK\\glue\\libs\\x64\\glue.dll를 C:\\Users\\KimYG\\anaconda3\\Lib\\R\\library\\glue\\libs\\x64\\glue.dll로 복사하는데 문제가 발생했습니다: Permission denied\"Warning message:\n",
      "\"restored 'glue'\""
     ]
    },
    {
     "name": "stdout",
     "output_type": "stream",
     "text": [
      "package 'data.table' successfully unpacked and MD5 sums checked\n",
      "package 'ids' successfully unpacked and MD5 sums checked\n",
      "package 'rematch2' successfully unpacked and MD5 sums checked\n",
      "package 'vroom' successfully unpacked and MD5 sums checked\n",
      "package 'tzdb' successfully unpacked and MD5 sums checked\n",
      "package 'callr' successfully unpacked and MD5 sums checked\n",
      "package 'cli' successfully unpacked and MD5 sums checked\n",
      "package 'dbplyr' successfully unpacked and MD5 sums checked\n",
      "package 'dplyr' successfully unpacked and MD5 sums checked\n",
      "package 'forcats' successfully unpacked and MD5 sums checked\n",
      "package 'haven' successfully unpacked and MD5 sums checked\n",
      "package 'httr' successfully unpacked and MD5 sums checked\n",
      "package 'jsonlite' successfully unpacked and MD5 sums checked\n"
     ]
    },
    {
     "name": "stderr",
     "output_type": "stream",
     "text": [
      "Warning message:\n",
      "\"cannot remove prior installation of package 'jsonlite'\"Warning message in file.copy(savedcopy, lib, recursive = TRUE):\n",
      "\"C:\\Users\\KimYG\\anaconda3\\Lib\\R\\library\\00LOCK\\jsonlite\\libs\\x64\\jsonlite.dll를 C:\\Users\\KimYG\\anaconda3\\Lib\\R\\library\\jsonlite\\libs\\x64\\jsonlite.dll로 복사하는데 문제가 발생했습니다: Permission denied\"Warning message:\n",
      "\"restored 'jsonlite'\""
     ]
    },
    {
     "name": "stdout",
     "output_type": "stream",
     "text": [
      "package 'lubridate' successfully unpacked and MD5 sums checked\n",
      "package 'magrittr' successfully unpacked and MD5 sums checked\n",
      "package 'modelr' successfully unpacked and MD5 sums checked\n",
      "package 'purrr' successfully unpacked and MD5 sums checked\n",
      "package 'readr' successfully unpacked and MD5 sums checked\n",
      "package 'rlang' successfully unpacked and MD5 sums checked\n"
     ]
    },
    {
     "name": "stderr",
     "output_type": "stream",
     "text": [
      "Warning message:\n",
      "\"cannot remove prior installation of package 'rlang'\"Warning message in file.copy(savedcopy, lib, recursive = TRUE):\n",
      "\"C:\\Users\\KimYG\\anaconda3\\Lib\\R\\library\\00LOCK\\rlang\\libs\\x64\\rlang.dll를 C:\\Users\\KimYG\\anaconda3\\Lib\\R\\library\\rlang\\libs\\x64\\rlang.dll로 복사하는데 문제가 발생했습니다: Permission denied\"Warning message:\n",
      "\"restored 'rlang'\""
     ]
    },
    {
     "name": "stdout",
     "output_type": "stream",
     "text": [
      "package 'rstudioapi' successfully unpacked and MD5 sums checked\n",
      "package 'tibble' successfully unpacked and MD5 sums checked\n",
      "package 'tidyr' successfully unpacked and MD5 sums checked\n",
      "package 'xml2' successfully unpacked and MD5 sums checked\n",
      "package 'tidyselect' successfully unpacked and MD5 sums checked\n",
      "package 'tidyverse' successfully unpacked and MD5 sums checked\n",
      "package 'ggpubr' successfully unpacked and MD5 sums checked\n",
      "package 'rstatix' successfully unpacked and MD5 sums checked\n",
      "\n",
      "The downloaded binary packages are in\n",
      "\tC:\\Users\\KimYG\\AppData\\Local\\Temp\\RtmpKaAtSu\\downloaded_packages\n"
     ]
    },
    {
     "name": "stderr",
     "output_type": "stream",
     "text": [
      "installing the source packages 'blob', 'lifecycle', 'gargle', 'knitr', 'withr', 'broom', 'crayon', 'dtplyr', 'googledrive', 'googlesheets4', 'ggplot2', 'hms', 'pillar', 'reprex', 'rvest', 'ggsignif'\n",
      "\n",
      "Warning message in install.packages(c(\"tidyverse\", \"ggpubr\", \"rstatix\")):\n",
      "\"installation of package 'blob' had non-zero exit status\"Warning message in install.packages(c(\"tidyverse\", \"ggpubr\", \"rstatix\")):\n",
      "\"installation of package 'lifecycle' had non-zero exit status\"Warning message in install.packages(c(\"tidyverse\", \"ggpubr\", \"rstatix\")):\n",
      "\"installation of package 'knitr' had non-zero exit status\"Warning message in install.packages(c(\"tidyverse\", \"ggpubr\", \"rstatix\")):\n",
      "\"installation of package 'gargle' had non-zero exit status\"Warning message in install.packages(c(\"tidyverse\", \"ggpubr\", \"rstatix\")):\n",
      "\"installation of package 'dtplyr' had non-zero exit status\"Warning message in install.packages(c(\"tidyverse\", \"ggpubr\", \"rstatix\")):\n",
      "\"installation of package 'ggplot2' had non-zero exit status\"Warning message in install.packages(c(\"tidyverse\", \"ggpubr\", \"rstatix\")):\n",
      "\"installation of package 'hms' had non-zero exit status\"Warning message in install.packages(c(\"tidyverse\", \"ggpubr\", \"rstatix\")):\n",
      "\"installation of package 'pillar' had non-zero exit status\"Warning message in install.packages(c(\"tidyverse\", \"ggpubr\", \"rstatix\")):\n",
      "\"installation of package 'reprex' had non-zero exit status\"Warning message in install.packages(c(\"tidyverse\", \"ggpubr\", \"rstatix\")):\n",
      "\"installation of package 'rvest' had non-zero exit status\"Warning message in install.packages(c(\"tidyverse\", \"ggpubr\", \"rstatix\")):\n",
      "\"installation of package 'broom' had non-zero exit status\"Warning message in install.packages(c(\"tidyverse\", \"ggpubr\", \"rstatix\")):\n",
      "\"installation of package 'googledrive' had non-zero exit status\"Warning message in install.packages(c(\"tidyverse\", \"ggpubr\", \"rstatix\")):\n",
      "\"installation of package 'ggsignif' had non-zero exit status\"Warning message in install.packages(c(\"tidyverse\", \"ggpubr\", \"rstatix\")):\n",
      "\"installation of package 'googlesheets4' had non-zero exit status\""
     ]
    }
   ],
   "source": [
    "install.packages(c(\"tidyverse\", \"ggpubr\", \"rstatix\"))"
   ]
  },
  {
   "cell_type": "code",
   "execution_count": 5,
   "id": "7c2d53c4",
   "metadata": {},
   "outputs": [
    {
     "name": "stderr",
     "output_type": "stream",
     "text": [
      "Warning message:\n",
      "\"package 'tidyverse' was built under R version 3.6.3\""
     ]
    },
    {
     "ename": "ERROR",
     "evalue": "Error: package or namespace load failed for 'tidyverse' in loadNamespace(j <- i[[1L]], c(lib.loc, .libPaths()), versionCheck = vI[[j]]):\n namespace 'broom' 0.5.2 is being loaded, but >= 0.7.6 is required\n",
     "output_type": "error",
     "traceback": [
      "Error: package or namespace load failed for 'tidyverse' in loadNamespace(j <- i[[1L]], c(lib.loc, .libPaths()), versionCheck = vI[[j]]):\n namespace 'broom' 0.5.2 is being loaded, but >= 0.7.6 is required\nTraceback:\n",
      "1. library(tidyverse)",
      "2. tryCatch({\n .     attr(package, \"LibPath\") <- which.lib.loc\n .     ns <- loadNamespace(package, lib.loc)\n .     env <- attachNamespace(ns, pos = pos, deps, exclude, include.only)\n . }, error = function(e) {\n .     P <- if (!is.null(cc <- conditionCall(e))) \n .         paste(\" in\", deparse(cc)[1L])\n .     else \"\"\n .     msg <- gettextf(\"package or namespace load failed for %s%s:\\n %s\", \n .         sQuote(package), P, conditionMessage(e))\n .     if (logical.return) \n .         message(paste(\"Error:\", msg), domain = NA)\n .     else stop(msg, call. = FALSE, domain = NA)\n . })",
      "3. tryCatchList(expr, classes, parentenv, handlers)",
      "4. tryCatchOne(expr, names, parentenv, handlers[[1L]])",
      "5. value[[3L]](cond)",
      "6. stop(msg, call. = FALSE, domain = NA)"
     ]
    }
   ],
   "source": [
    "library(tidyverse)"
   ]
  },
  {
   "cell_type": "code",
   "execution_count": 6,
   "id": "0318368a",
   "metadata": {},
   "outputs": [
    {
     "name": "stderr",
     "output_type": "stream",
     "text": [
      "Warning message:\n",
      "\"package 'ggpubr' was built under R version 3.6.3\"Loading required package: ggplot2\n",
      "Error: package or namespace load failed for 'ggplot2' in loadNamespace(i, c(lib.loc, .libPaths()), versionCheck = vI[[i]]):\n",
      " there is no package called 'lifecycle'\n"
     ]
    },
    {
     "ename": "ERROR",
     "evalue": "Error: package 'ggplot2' could not be loaded\n",
     "output_type": "error",
     "traceback": [
      "Error: package 'ggplot2' could not be loaded\nTraceback:\n",
      "1. library(ggpubr)",
      "2. .getRequiredPackages2(pkgInfo, quietly = quietly)",
      "3. stop(gettextf(\"package %s could not be loaded\", sQuote(pkg)), \n .     call. = FALSE, domain = NA)"
     ]
    }
   ],
   "source": [
    "library(ggpubr)"
   ]
  },
  {
   "cell_type": "code",
   "execution_count": 7,
   "id": "6f22273c",
   "metadata": {},
   "outputs": [
    {
     "name": "stderr",
     "output_type": "stream",
     "text": [
      "Warning message:\n",
      "\"package 'rstatix' was built under R version 3.6.3\""
     ]
    },
    {
     "ename": "ERROR",
     "evalue": "Error: package or namespace load failed for 'rstatix' in loadNamespace(j <- i[[1L]], c(lib.loc, .libPaths()), versionCheck = vI[[j]]):\n namespace 'broom' 0.5.2 is being loaded, but >= 0.7.4 is required\n",
     "output_type": "error",
     "traceback": [
      "Error: package or namespace load failed for 'rstatix' in loadNamespace(j <- i[[1L]], c(lib.loc, .libPaths()), versionCheck = vI[[j]]):\n namespace 'broom' 0.5.2 is being loaded, but >= 0.7.4 is required\nTraceback:\n",
      "1. library(rstatix)",
      "2. tryCatch({\n .     attr(package, \"LibPath\") <- which.lib.loc\n .     ns <- loadNamespace(package, lib.loc)\n .     env <- attachNamespace(ns, pos = pos, deps, exclude, include.only)\n . }, error = function(e) {\n .     P <- if (!is.null(cc <- conditionCall(e))) \n .         paste(\" in\", deparse(cc)[1L])\n .     else \"\"\n .     msg <- gettextf(\"package or namespace load failed for %s%s:\\n %s\", \n .         sQuote(package), P, conditionMessage(e))\n .     if (logical.return) \n .         message(paste(\"Error:\", msg), domain = NA)\n .     else stop(msg, call. = FALSE, domain = NA)\n . })",
      "3. tryCatchList(expr, classes, parentenv, handlers)",
      "4. tryCatchOne(expr, names, parentenv, handlers[[1L]])",
      "5. value[[3L]](cond)",
      "6. stop(msg, call. = FALSE, domain = NA)"
     ]
    }
   ],
   "source": [
    "library(rstatix)"
   ]
  },
  {
   "cell_type": "markdown",
   "id": "70a46711",
   "metadata": {},
   "source": [
    "1. Load depolarizing-current injection data from Google drive"
   ]
  },
  {
   "cell_type": "code",
   "execution_count": 13,
   "id": "67e1bec8",
   "metadata": {},
   "outputs": [],
   "source": [
    "table <- read.delim(file=\"I:/내 드라이브/CSBD life/2_Data/2022/Summary/WT/Depol.txt\",\n",
    "                   header=T,\n",
    "                   sep='\\t')"
   ]
  },
  {
   "cell_type": "code",
   "execution_count": 14,
   "id": "2f489bd4",
   "metadata": {},
   "outputs": [],
   "source": [
    "colnames(table) <- c(\"id\", \"Baseline\",\"NOS\", \"MFR\", \"TD\", \"PBAHP\", \"AP_Onset\", \"Injected Current\")"
   ]
  },
  {
   "cell_type": "code",
   "execution_count": 15,
   "id": "2e1895fc",
   "metadata": {},
   "outputs": [
    {
     "data": {
      "text/html": [
       "<table>\n",
       "<thead><tr><th scope=col>id</th><th scope=col>Baseline</th><th scope=col>NOS</th><th scope=col>MFR</th><th scope=col>TD</th><th scope=col>PBAHP</th><th scope=col>AP_Onset</th><th scope=col>Injected Current</th></tr></thead>\n",
       "<tbody>\n",
       "\t<tr><td>220114_WT_PY_#01</td><td>-71.27454       </td><td>0               </td><td>0               </td><td>0               </td><td> 0.594361       </td><td>0               </td><td>Level_000       </td></tr>\n",
       "\t<tr><td>220114_WT_PY_#02</td><td>-69.60961       </td><td>0               </td><td>0               </td><td>0               </td><td> 0.153577       </td><td>0               </td><td>Level_000       </td></tr>\n",
       "\t<tr><td>220114_WT_PY_#03</td><td>-68.90996       </td><td>0               </td><td>0               </td><td>0               </td><td> 1.066849       </td><td>0               </td><td>Level_000       </td></tr>\n",
       "\t<tr><td>220114_WT_PY_#04</td><td>-69.64780       </td><td>0               </td><td>0               </td><td>0               </td><td>-0.098242       </td><td>0               </td><td>Level_000       </td></tr>\n",
       "\t<tr><td>220114_WT_PY_#06</td><td>-71.76034       </td><td>0               </td><td>0               </td><td>0               </td><td> 0.261148       </td><td>0               </td><td>Level_000       </td></tr>\n",
       "\t<tr><td>220114_WT_PY_#07</td><td>-70.38800       </td><td>0               </td><td>0               </td><td>0               </td><td> 0.138127       </td><td>0               </td><td>Level_000       </td></tr>\n",
       "</tbody>\n",
       "</table>\n"
      ],
      "text/latex": [
       "\\begin{tabular}{r|llllllll}\n",
       " id & Baseline & NOS & MFR & TD & PBAHP & AP\\_Onset & Injected Current\\\\\n",
       "\\hline\n",
       "\t 220114\\_WT\\_PY\\_\\#01 & -71.27454                & 0                        & 0                        & 0                        &  0.594361                & 0                        & Level\\_000             \\\\\n",
       "\t 220114\\_WT\\_PY\\_\\#02 & -69.60961                & 0                        & 0                        & 0                        &  0.153577                & 0                        & Level\\_000             \\\\\n",
       "\t 220114\\_WT\\_PY\\_\\#03 & -68.90996                & 0                        & 0                        & 0                        &  1.066849                & 0                        & Level\\_000             \\\\\n",
       "\t 220114\\_WT\\_PY\\_\\#04 & -69.64780                & 0                        & 0                        & 0                        & -0.098242                & 0                        & Level\\_000             \\\\\n",
       "\t 220114\\_WT\\_PY\\_\\#06 & -71.76034                & 0                        & 0                        & 0                        &  0.261148                & 0                        & Level\\_000             \\\\\n",
       "\t 220114\\_WT\\_PY\\_\\#07 & -70.38800                & 0                        & 0                        & 0                        &  0.138127                & 0                        & Level\\_000             \\\\\n",
       "\\end{tabular}\n"
      ],
      "text/markdown": [
       "\n",
       "| id | Baseline | NOS | MFR | TD | PBAHP | AP_Onset | Injected Current |\n",
       "|---|---|---|---|---|---|---|---|\n",
       "| 220114_WT_PY_#01 | -71.27454        | 0                | 0                | 0                |  0.594361        | 0                | Level_000        |\n",
       "| 220114_WT_PY_#02 | -69.60961        | 0                | 0                | 0                |  0.153577        | 0                | Level_000        |\n",
       "| 220114_WT_PY_#03 | -68.90996        | 0                | 0                | 0                |  1.066849        | 0                | Level_000        |\n",
       "| 220114_WT_PY_#04 | -69.64780        | 0                | 0                | 0                | -0.098242        | 0                | Level_000        |\n",
       "| 220114_WT_PY_#06 | -71.76034        | 0                | 0                | 0                |  0.261148        | 0                | Level_000        |\n",
       "| 220114_WT_PY_#07 | -70.38800        | 0                | 0                | 0                |  0.138127        | 0                | Level_000        |\n",
       "\n"
      ],
      "text/plain": [
       "  id               Baseline  NOS MFR TD PBAHP     AP_Onset Injected Current\n",
       "1 220114_WT_PY_#01 -71.27454 0   0   0   0.594361 0        Level_000       \n",
       "2 220114_WT_PY_#02 -69.60961 0   0   0   0.153577 0        Level_000       \n",
       "3 220114_WT_PY_#03 -68.90996 0   0   0   1.066849 0        Level_000       \n",
       "4 220114_WT_PY_#04 -69.64780 0   0   0  -0.098242 0        Level_000       \n",
       "5 220114_WT_PY_#06 -71.76034 0   0   0   0.261148 0        Level_000       \n",
       "6 220114_WT_PY_#07 -70.38800 0   0   0   0.138127 0        Level_000       "
      ]
     },
     "metadata": {},
     "output_type": "display_data"
    },
    {
     "name": "stdout",
     "output_type": "stream",
     "text": [
      "'data.frame':\t252 obs. of  8 variables:\n",
      " $ id              : Factor w/ 21 levels \"220114_WT_PY_#01\",..: 1 2 3 4 5 6 7 8 9 10 ...\n",
      " $ Baseline        : num  -71.3 -69.6 -68.9 -69.6 -71.8 ...\n",
      " $ NOS             : num  0 0 0 0 0 0 0 0 0 0 ...\n",
      " $ MFR             : num  0 0 0 0 0 0 0 0 0 0 ...\n",
      " $ TD              : num  0 0 0 0 0 0 0 0 0 0 ...\n",
      " $ PBAHP           : num  0.5944 0.1536 1.0668 -0.0982 0.2611 ...\n",
      " $ AP_Onset        : num  0 0 0 0 0 0 0 0 0 0 ...\n",
      " $ Injected Current: Factor w/ 12 levels \"Level_000\",\"Level_001\",..: 1 1 1 1 1 1 1 1 1 1 ...\n"
     ]
    }
   ],
   "source": [
    "head(table)\n",
    "str(table)"
   ]
  },
  {
   "cell_type": "code",
   "execution_count": 16,
   "id": "1fb03508",
   "metadata": {},
   "outputs": [],
   "source": [
    "table$group  <- c(\"WT\")"
   ]
  },
  {
   "cell_type": "code",
   "execution_count": 17,
   "id": "64336d63",
   "metadata": {},
   "outputs": [
    {
     "data": {
      "text/html": [
       "<table>\n",
       "<thead><tr><th scope=col>id</th><th scope=col>Baseline</th><th scope=col>NOS</th><th scope=col>MFR</th><th scope=col>TD</th><th scope=col>PBAHP</th><th scope=col>AP_Onset</th><th scope=col>Injected Current</th><th scope=col>group</th></tr></thead>\n",
       "<tbody>\n",
       "\t<tr><td>220114_WT_PY_#01</td><td>-71.27454       </td><td>0               </td><td>0               </td><td>0               </td><td> 0.594361       </td><td>0               </td><td>Level_000       </td><td>WT              </td></tr>\n",
       "\t<tr><td>220114_WT_PY_#02</td><td>-69.60961       </td><td>0               </td><td>0               </td><td>0               </td><td> 0.153577       </td><td>0               </td><td>Level_000       </td><td>WT              </td></tr>\n",
       "\t<tr><td>220114_WT_PY_#03</td><td>-68.90996       </td><td>0               </td><td>0               </td><td>0               </td><td> 1.066849       </td><td>0               </td><td>Level_000       </td><td>WT              </td></tr>\n",
       "\t<tr><td>220114_WT_PY_#04</td><td>-69.64780       </td><td>0               </td><td>0               </td><td>0               </td><td>-0.098242       </td><td>0               </td><td>Level_000       </td><td>WT              </td></tr>\n",
       "\t<tr><td>220114_WT_PY_#06</td><td>-71.76034       </td><td>0               </td><td>0               </td><td>0               </td><td> 0.261148       </td><td>0               </td><td>Level_000       </td><td>WT              </td></tr>\n",
       "\t<tr><td>220114_WT_PY_#07</td><td>-70.38800       </td><td>0               </td><td>0               </td><td>0               </td><td> 0.138127       </td><td>0               </td><td>Level_000       </td><td>WT              </td></tr>\n",
       "</tbody>\n",
       "</table>\n"
      ],
      "text/latex": [
       "\\begin{tabular}{r|lllllllll}\n",
       " id & Baseline & NOS & MFR & TD & PBAHP & AP\\_Onset & Injected Current & group\\\\\n",
       "\\hline\n",
       "\t 220114\\_WT\\_PY\\_\\#01 & -71.27454                & 0                        & 0                        & 0                        &  0.594361                & 0                        & Level\\_000              & WT                      \\\\\n",
       "\t 220114\\_WT\\_PY\\_\\#02 & -69.60961                & 0                        & 0                        & 0                        &  0.153577                & 0                        & Level\\_000              & WT                      \\\\\n",
       "\t 220114\\_WT\\_PY\\_\\#03 & -68.90996                & 0                        & 0                        & 0                        &  1.066849                & 0                        & Level\\_000              & WT                      \\\\\n",
       "\t 220114\\_WT\\_PY\\_\\#04 & -69.64780                & 0                        & 0                        & 0                        & -0.098242                & 0                        & Level\\_000              & WT                      \\\\\n",
       "\t 220114\\_WT\\_PY\\_\\#06 & -71.76034                & 0                        & 0                        & 0                        &  0.261148                & 0                        & Level\\_000              & WT                      \\\\\n",
       "\t 220114\\_WT\\_PY\\_\\#07 & -70.38800                & 0                        & 0                        & 0                        &  0.138127                & 0                        & Level\\_000              & WT                      \\\\\n",
       "\\end{tabular}\n"
      ],
      "text/markdown": [
       "\n",
       "| id | Baseline | NOS | MFR | TD | PBAHP | AP_Onset | Injected Current | group |\n",
       "|---|---|---|---|---|---|---|---|---|\n",
       "| 220114_WT_PY_#01 | -71.27454        | 0                | 0                | 0                |  0.594361        | 0                | Level_000        | WT               |\n",
       "| 220114_WT_PY_#02 | -69.60961        | 0                | 0                | 0                |  0.153577        | 0                | Level_000        | WT               |\n",
       "| 220114_WT_PY_#03 | -68.90996        | 0                | 0                | 0                |  1.066849        | 0                | Level_000        | WT               |\n",
       "| 220114_WT_PY_#04 | -69.64780        | 0                | 0                | 0                | -0.098242        | 0                | Level_000        | WT               |\n",
       "| 220114_WT_PY_#06 | -71.76034        | 0                | 0                | 0                |  0.261148        | 0                | Level_000        | WT               |\n",
       "| 220114_WT_PY_#07 | -70.38800        | 0                | 0                | 0                |  0.138127        | 0                | Level_000        | WT               |\n",
       "\n"
      ],
      "text/plain": [
       "  id               Baseline  NOS MFR TD PBAHP     AP_Onset Injected Current\n",
       "1 220114_WT_PY_#01 -71.27454 0   0   0   0.594361 0        Level_000       \n",
       "2 220114_WT_PY_#02 -69.60961 0   0   0   0.153577 0        Level_000       \n",
       "3 220114_WT_PY_#03 -68.90996 0   0   0   1.066849 0        Level_000       \n",
       "4 220114_WT_PY_#04 -69.64780 0   0   0  -0.098242 0        Level_000       \n",
       "5 220114_WT_PY_#06 -71.76034 0   0   0   0.261148 0        Level_000       \n",
       "6 220114_WT_PY_#07 -70.38800 0   0   0   0.138127 0        Level_000       \n",
       "  group\n",
       "1 WT   \n",
       "2 WT   \n",
       "3 WT   \n",
       "4 WT   \n",
       "5 WT   \n",
       "6 WT   "
      ]
     },
     "metadata": {},
     "output_type": "display_data"
    }
   ],
   "source": [
    "head(table)"
   ]
  },
  {
   "cell_type": "code",
   "execution_count": 8,
   "id": "83ce63ab",
   "metadata": {},
   "outputs": [],
   "source": [
    "table2 <- read.delim(file=\"I:/내 드라이브/CSBD life/2_Data/2022/Summary/KI/Depol.txt\", \n",
    "                    header=T,\n",
    "                    sep='\\t')"
   ]
  },
  {
   "cell_type": "code",
   "execution_count": 9,
   "id": "d9a751fa",
   "metadata": {},
   "outputs": [],
   "source": [
    "colnames(table2) <- c(\"id\", \"Baseline\",\"NOS\", \"MFR\", \"TD\", \"PBAHP\", \"AP_Onset\", \"Injected Current\" )"
   ]
  },
  {
   "cell_type": "code",
   "execution_count": 10,
   "id": "332adc29",
   "metadata": {},
   "outputs": [
    {
     "data": {
      "text/html": [
       "<table>\n",
       "<thead><tr><th scope=col>id</th><th scope=col>Baseline</th><th scope=col>NOS</th><th scope=col>MFR</th><th scope=col>TD</th><th scope=col>PBAHP</th><th scope=col>AP_Onset</th><th scope=col>Injected Current</th></tr></thead>\n",
       "<tbody>\n",
       "\t<tr><td>220113_KI_PY_#01</td><td>-69.35269       </td><td>0               </td><td> 0.00000        </td><td>0.0000          </td><td>0.502043        </td><td> 0.00           </td><td>Level_000       </td></tr>\n",
       "\t<tr><td>220113_KI_PY_#03</td><td>-69.78117       </td><td>0               </td><td> 0.00000        </td><td>0.0000          </td><td>0.195640        </td><td> 0.00           </td><td>Level_000       </td></tr>\n",
       "\t<tr><td>220113_KI_PY_#04</td><td>-69.36068       </td><td>0               </td><td> 0.00000        </td><td>0.0000          </td><td>0.402507        </td><td> 0.00           </td><td>Level_000       </td></tr>\n",
       "\t<tr><td>220117_KI_PY_#02</td><td>-68.34714       </td><td>0               </td><td> 0.00000        </td><td>0.0000          </td><td>0.836205        </td><td> 0.00           </td><td>Level_000       </td></tr>\n",
       "\t<tr><td>220117_KI_PY_#05</td><td>-72.37250       </td><td>0               </td><td> 0.00000        </td><td>0.0000          </td><td>0.350893        </td><td> 0.00           </td><td>Level_000       </td></tr>\n",
       "\t<tr><td>220117_KI_PY_#06</td><td>-69.30002       </td><td>4               </td><td>11.80289        </td><td>0.3389          </td><td>0.005396        </td><td>77.45           </td><td>Level_000       </td></tr>\n",
       "</tbody>\n",
       "</table>\n"
      ],
      "text/latex": [
       "\\begin{tabular}{r|llllllll}\n",
       " id & Baseline & NOS & MFR & TD & PBAHP & AP\\_Onset & Injected Current\\\\\n",
       "\\hline\n",
       "\t 220113\\_KI\\_PY\\_\\#01 & -69.35269                & 0                        &  0.00000                 & 0.0000                   & 0.502043                 &  0.00                    & Level\\_000             \\\\\n",
       "\t 220113\\_KI\\_PY\\_\\#03 & -69.78117                & 0                        &  0.00000                 & 0.0000                   & 0.195640                 &  0.00                    & Level\\_000             \\\\\n",
       "\t 220113\\_KI\\_PY\\_\\#04 & -69.36068                & 0                        &  0.00000                 & 0.0000                   & 0.402507                 &  0.00                    & Level\\_000             \\\\\n",
       "\t 220117\\_KI\\_PY\\_\\#02 & -68.34714                & 0                        &  0.00000                 & 0.0000                   & 0.836205                 &  0.00                    & Level\\_000             \\\\\n",
       "\t 220117\\_KI\\_PY\\_\\#05 & -72.37250                & 0                        &  0.00000                 & 0.0000                   & 0.350893                 &  0.00                    & Level\\_000             \\\\\n",
       "\t 220117\\_KI\\_PY\\_\\#06 & -69.30002                & 4                        & 11.80289                 & 0.3389                   & 0.005396                 & 77.45                    & Level\\_000             \\\\\n",
       "\\end{tabular}\n"
      ],
      "text/markdown": [
       "\n",
       "| id | Baseline | NOS | MFR | TD | PBAHP | AP_Onset | Injected Current |\n",
       "|---|---|---|---|---|---|---|---|\n",
       "| 220113_KI_PY_#01 | -69.35269        | 0                |  0.00000         | 0.0000           | 0.502043         |  0.00            | Level_000        |\n",
       "| 220113_KI_PY_#03 | -69.78117        | 0                |  0.00000         | 0.0000           | 0.195640         |  0.00            | Level_000        |\n",
       "| 220113_KI_PY_#04 | -69.36068        | 0                |  0.00000         | 0.0000           | 0.402507         |  0.00            | Level_000        |\n",
       "| 220117_KI_PY_#02 | -68.34714        | 0                |  0.00000         | 0.0000           | 0.836205         |  0.00            | Level_000        |\n",
       "| 220117_KI_PY_#05 | -72.37250        | 0                |  0.00000         | 0.0000           | 0.350893         |  0.00            | Level_000        |\n",
       "| 220117_KI_PY_#06 | -69.30002        | 4                | 11.80289         | 0.3389           | 0.005396         | 77.45            | Level_000        |\n",
       "\n"
      ],
      "text/plain": [
       "  id               Baseline  NOS MFR      TD     PBAHP    AP_Onset\n",
       "1 220113_KI_PY_#01 -69.35269 0    0.00000 0.0000 0.502043  0.00   \n",
       "2 220113_KI_PY_#03 -69.78117 0    0.00000 0.0000 0.195640  0.00   \n",
       "3 220113_KI_PY_#04 -69.36068 0    0.00000 0.0000 0.402507  0.00   \n",
       "4 220117_KI_PY_#02 -68.34714 0    0.00000 0.0000 0.836205  0.00   \n",
       "5 220117_KI_PY_#05 -72.37250 0    0.00000 0.0000 0.350893  0.00   \n",
       "6 220117_KI_PY_#06 -69.30002 4   11.80289 0.3389 0.005396 77.45   \n",
       "  Injected Current\n",
       "1 Level_000       \n",
       "2 Level_000       \n",
       "3 Level_000       \n",
       "4 Level_000       \n",
       "5 Level_000       \n",
       "6 Level_000       "
      ]
     },
     "metadata": {},
     "output_type": "display_data"
    },
    {
     "name": "stdout",
     "output_type": "stream",
     "text": [
      "'data.frame':\t228 obs. of  8 variables:\n",
      " $ id              : Factor w/ 19 levels \"220113_KI_PY_#01\",..: 1 2 3 4 5 6 7 8 9 10 ...\n",
      " $ Baseline        : num  -69.4 -69.8 -69.4 -68.3 -72.4 ...\n",
      " $ NOS             : num  0 0 0 0 0 4 0 0 0 0 ...\n",
      " $ MFR             : num  0 0 0 0 0 ...\n",
      " $ TD              : num  0 0 0 0 0 ...\n",
      " $ PBAHP           : num  0.502 0.196 0.403 0.836 0.351 ...\n",
      " $ AP_Onset        : num  0 0 0 0 0 ...\n",
      " $ Injected Current: Factor w/ 12 levels \"Level_000\",\"Level_001\",..: 1 1 1 1 1 1 1 1 1 1 ...\n"
     ]
    }
   ],
   "source": [
    "head(table2)\n",
    "str(table2)"
   ]
  },
  {
   "cell_type": "code",
   "execution_count": 11,
   "id": "3a7019c6",
   "metadata": {},
   "outputs": [],
   "source": [
    "table2$group <- c(\"KI\")"
   ]
  },
  {
   "cell_type": "code",
   "execution_count": 12,
   "id": "54bdc295",
   "metadata": {},
   "outputs": [
    {
     "data": {
      "text/html": [
       "<table>\n",
       "<thead><tr><th scope=col>id</th><th scope=col>Baseline</th><th scope=col>NOS</th><th scope=col>MFR</th><th scope=col>TD</th><th scope=col>PBAHP</th><th scope=col>AP_Onset</th><th scope=col>Injected Current</th><th scope=col>group</th></tr></thead>\n",
       "<tbody>\n",
       "\t<tr><td>220113_KI_PY_#01</td><td>-69.35269       </td><td>0               </td><td> 0.00000        </td><td>0.0000          </td><td>0.502043        </td><td> 0.00           </td><td>Level_000       </td><td>KI              </td></tr>\n",
       "\t<tr><td>220113_KI_PY_#03</td><td>-69.78117       </td><td>0               </td><td> 0.00000        </td><td>0.0000          </td><td>0.195640        </td><td> 0.00           </td><td>Level_000       </td><td>KI              </td></tr>\n",
       "\t<tr><td>220113_KI_PY_#04</td><td>-69.36068       </td><td>0               </td><td> 0.00000        </td><td>0.0000          </td><td>0.402507        </td><td> 0.00           </td><td>Level_000       </td><td>KI              </td></tr>\n",
       "\t<tr><td>220117_KI_PY_#02</td><td>-68.34714       </td><td>0               </td><td> 0.00000        </td><td>0.0000          </td><td>0.836205        </td><td> 0.00           </td><td>Level_000       </td><td>KI              </td></tr>\n",
       "\t<tr><td>220117_KI_PY_#05</td><td>-72.37250       </td><td>0               </td><td> 0.00000        </td><td>0.0000          </td><td>0.350893        </td><td> 0.00           </td><td>Level_000       </td><td>KI              </td></tr>\n",
       "\t<tr><td>220117_KI_PY_#06</td><td>-69.30002       </td><td>4               </td><td>11.80289        </td><td>0.3389          </td><td>0.005396        </td><td>77.45           </td><td>Level_000       </td><td>KI              </td></tr>\n",
       "</tbody>\n",
       "</table>\n"
      ],
      "text/latex": [
       "\\begin{tabular}{r|lllllllll}\n",
       " id & Baseline & NOS & MFR & TD & PBAHP & AP\\_Onset & Injected Current & group\\\\\n",
       "\\hline\n",
       "\t 220113\\_KI\\_PY\\_\\#01 & -69.35269                & 0                        &  0.00000                 & 0.0000                   & 0.502043                 &  0.00                    & Level\\_000              & KI                      \\\\\n",
       "\t 220113\\_KI\\_PY\\_\\#03 & -69.78117                & 0                        &  0.00000                 & 0.0000                   & 0.195640                 &  0.00                    & Level\\_000              & KI                      \\\\\n",
       "\t 220113\\_KI\\_PY\\_\\#04 & -69.36068                & 0                        &  0.00000                 & 0.0000                   & 0.402507                 &  0.00                    & Level\\_000              & KI                      \\\\\n",
       "\t 220117\\_KI\\_PY\\_\\#02 & -68.34714                & 0                        &  0.00000                 & 0.0000                   & 0.836205                 &  0.00                    & Level\\_000              & KI                      \\\\\n",
       "\t 220117\\_KI\\_PY\\_\\#05 & -72.37250                & 0                        &  0.00000                 & 0.0000                   & 0.350893                 &  0.00                    & Level\\_000              & KI                      \\\\\n",
       "\t 220117\\_KI\\_PY\\_\\#06 & -69.30002                & 4                        & 11.80289                 & 0.3389                   & 0.005396                 & 77.45                    & Level\\_000              & KI                      \\\\\n",
       "\\end{tabular}\n"
      ],
      "text/markdown": [
       "\n",
       "| id | Baseline | NOS | MFR | TD | PBAHP | AP_Onset | Injected Current | group |\n",
       "|---|---|---|---|---|---|---|---|---|\n",
       "| 220113_KI_PY_#01 | -69.35269        | 0                |  0.00000         | 0.0000           | 0.502043         |  0.00            | Level_000        | KI               |\n",
       "| 220113_KI_PY_#03 | -69.78117        | 0                |  0.00000         | 0.0000           | 0.195640         |  0.00            | Level_000        | KI               |\n",
       "| 220113_KI_PY_#04 | -69.36068        | 0                |  0.00000         | 0.0000           | 0.402507         |  0.00            | Level_000        | KI               |\n",
       "| 220117_KI_PY_#02 | -68.34714        | 0                |  0.00000         | 0.0000           | 0.836205         |  0.00            | Level_000        | KI               |\n",
       "| 220117_KI_PY_#05 | -72.37250        | 0                |  0.00000         | 0.0000           | 0.350893         |  0.00            | Level_000        | KI               |\n",
       "| 220117_KI_PY_#06 | -69.30002        | 4                | 11.80289         | 0.3389           | 0.005396         | 77.45            | Level_000        | KI               |\n",
       "\n"
      ],
      "text/plain": [
       "  id               Baseline  NOS MFR      TD     PBAHP    AP_Onset\n",
       "1 220113_KI_PY_#01 -69.35269 0    0.00000 0.0000 0.502043  0.00   \n",
       "2 220113_KI_PY_#03 -69.78117 0    0.00000 0.0000 0.195640  0.00   \n",
       "3 220113_KI_PY_#04 -69.36068 0    0.00000 0.0000 0.402507  0.00   \n",
       "4 220117_KI_PY_#02 -68.34714 0    0.00000 0.0000 0.836205  0.00   \n",
       "5 220117_KI_PY_#05 -72.37250 0    0.00000 0.0000 0.350893  0.00   \n",
       "6 220117_KI_PY_#06 -69.30002 4   11.80289 0.3389 0.005396 77.45   \n",
       "  Injected Current group\n",
       "1 Level_000        KI   \n",
       "2 Level_000        KI   \n",
       "3 Level_000        KI   \n",
       "4 Level_000        KI   \n",
       "5 Level_000        KI   \n",
       "6 Level_000        KI   "
      ]
     },
     "metadata": {},
     "output_type": "display_data"
    }
   ],
   "source": [
    "head(table2)"
   ]
  },
  {
   "cell_type": "code",
   "execution_count": null,
   "id": "604f60dd",
   "metadata": {},
   "outputs": [],
   "source": []
  }
 ],
 "metadata": {
  "kernelspec": {
   "display_name": "R 4.0.0",
   "language": "R",
   "name": "ir35"
  },
  "language_info": {
   "codemirror_mode": "r",
   "file_extension": ".r",
   "mimetype": "text/x-r-source",
   "name": "R",
   "pygments_lexer": "r",
   "version": "3.6.1"
  }
 },
 "nbformat": 4,
 "nbformat_minor": 5
}
