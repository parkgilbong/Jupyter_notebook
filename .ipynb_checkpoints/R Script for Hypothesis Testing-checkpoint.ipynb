{
 "cells": [
  {
   "cell_type": "markdown",
   "metadata": {},
   "source": [
    "# R script for statistics "
   ]
  },
  {
   "cell_type": "markdown",
   "metadata": {},
   "source": [
    "## 1. Wilcoxon-Mann-whitney test "
   ]
  },
  {
   "cell_type": "markdown",
   "metadata": {},
   "source": [
    "    1. load data-set 1, Copy from clipboard"
   ]
  },
  {
   "cell_type": "code",
   "execution_count": 18,
   "metadata": {},
   "outputs": [
    {
     "data": {
      "text/html": [
       "<table>\n",
       "<thead><tr><th scope=col>V1</th><th scope=col>V2</th><th scope=col>V3</th></tr></thead>\n",
       "<tbody>\n",
       "\t<tr><td>0.2823  </td><td>13.03473</td><td>1       </td></tr>\n",
       "\t<tr><td>0.4756  </td><td>10.56486</td><td>1       </td></tr>\n",
       "\t<tr><td>1.6979  </td><td>10.58619</td><td>1       </td></tr>\n",
       "\t<tr><td>2.9793  </td><td>12.95108</td><td>1       </td></tr>\n",
       "\t<tr><td>3.4470  </td><td>11.40776</td><td>1       </td></tr>\n",
       "\t<tr><td>4.3775  </td><td>37.19345</td><td>1       </td></tr>\n",
       "</tbody>\n",
       "</table>\n"
      ],
      "text/latex": [
       "\\begin{tabular}{r|lll}\n",
       " V1 & V2 & V3\\\\\n",
       "\\hline\n",
       "\t 0.2823   & 13.03473 & 1       \\\\\n",
       "\t 0.4756   & 10.56486 & 1       \\\\\n",
       "\t 1.6979   & 10.58619 & 1       \\\\\n",
       "\t 2.9793   & 12.95108 & 1       \\\\\n",
       "\t 3.4470   & 11.40776 & 1       \\\\\n",
       "\t 4.3775   & 37.19345 & 1       \\\\\n",
       "\\end{tabular}\n"
      ],
      "text/markdown": [
       "\n",
       "| V1 | V2 | V3 |\n",
       "|---|---|---|\n",
       "| 0.2823   | 13.03473 | 1        |\n",
       "| 0.4756   | 10.56486 | 1        |\n",
       "| 1.6979   | 10.58619 | 1        |\n",
       "| 2.9793   | 12.95108 | 1        |\n",
       "| 3.4470   | 11.40776 | 1        |\n",
       "| 4.3775   | 37.19345 | 1        |\n",
       "\n"
      ],
      "text/plain": [
       "  V1     V2       V3\n",
       "1 0.2823 13.03473 1 \n",
       "2 0.4756 10.56486 1 \n",
       "3 1.6979 10.58619 1 \n",
       "4 2.9793 12.95108 1 \n",
       "5 3.4470 11.40776 1 \n",
       "6 4.3775 37.19345 1 "
      ]
     },
     "metadata": {},
     "output_type": "display_data"
    }
   ],
   "source": [
    "df1 <- read.delim(\"clipboard\", header = F, stringsAsFactors = F)\n",
    "head(df1)"
   ]
  },
  {
   "cell_type": "markdown",
   "metadata": {},
   "source": [
    "    2. load data-set 2, Copy from clipboard"
   ]
  },
  {
   "cell_type": "code",
   "execution_count": 17,
   "metadata": {},
   "outputs": [
    {
     "data": {
      "text/html": [
       "<table>\n",
       "<thead><tr><th scope=col>V1</th><th scope=col>V2</th><th scope=col>V3</th></tr></thead>\n",
       "<tbody>\n",
       "\t<tr><td>2.0572  </td><td>10.36504</td><td>0       </td></tr>\n",
       "\t<tr><td>2.5935  </td><td>13.51447</td><td>0       </td></tr>\n",
       "\t<tr><td>3.9757  </td><td>10.08180</td><td>0       </td></tr>\n",
       "\t<tr><td>4.0993  </td><td>20.12271</td><td>0       </td></tr>\n",
       "\t<tr><td>7.3003  </td><td>10.70504</td><td>0       </td></tr>\n",
       "\t<tr><td>8.4286  </td><td>13.55934</td><td>0       </td></tr>\n",
       "</tbody>\n",
       "</table>\n"
      ],
      "text/latex": [
       "\\begin{tabular}{r|lll}\n",
       " V1 & V2 & V3\\\\\n",
       "\\hline\n",
       "\t 2.0572   & 10.36504 & 0       \\\\\n",
       "\t 2.5935   & 13.51447 & 0       \\\\\n",
       "\t 3.9757   & 10.08180 & 0       \\\\\n",
       "\t 4.0993   & 20.12271 & 0       \\\\\n",
       "\t 7.3003   & 10.70504 & 0       \\\\\n",
       "\t 8.4286   & 13.55934 & 0       \\\\\n",
       "\\end{tabular}\n"
      ],
      "text/markdown": [
       "\n",
       "| V1 | V2 | V3 |\n",
       "|---|---|---|\n",
       "| 2.0572   | 10.36504 | 0        |\n",
       "| 2.5935   | 13.51447 | 0        |\n",
       "| 3.9757   | 10.08180 | 0        |\n",
       "| 4.0993   | 20.12271 | 0        |\n",
       "| 7.3003   | 10.70504 | 0        |\n",
       "| 8.4286   | 13.55934 | 0        |\n",
       "\n"
      ],
      "text/plain": [
       "  V1     V2       V3\n",
       "1 2.0572 10.36504 0 \n",
       "2 2.5935 13.51447 0 \n",
       "3 3.9757 10.08180 0 \n",
       "4 4.0993 20.12271 0 \n",
       "5 7.3003 10.70504 0 \n",
       "6 8.4286 13.55934 0 "
      ]
     },
     "metadata": {},
     "output_type": "display_data"
    }
   ],
   "source": [
    "df2 <- read.delim(\"clipboard\", header = F, stringsAsFactors = F) \n",
    "head(df2)"
   ]
  },
  {
   "cell_type": "markdown",
   "metadata": {},
   "source": [
    "    3. Perform Wilcoxon-Mann-Whitney test "
   ]
  },
  {
   "cell_type": "code",
   "execution_count": 20,
   "metadata": {},
   "outputs": [
    {
     "data": {
      "text/plain": [
       "\n",
       "\tWilcoxon rank sum test with continuity correction\n",
       "\n",
       "data:  df1$V2 and df2$V2\n",
       "W = 86855, p-value = 4.772e-16\n",
       "alternative hypothesis: true location shift is not equal to 0\n"
      ]
     },
     "metadata": {},
     "output_type": "display_data"
    }
   ],
   "source": [
    "w.result <- wilcox.test(df1$V2, df2$V2, paired = F)\n",
    "w.result"
   ]
  },
  {
   "cell_type": "markdown",
   "metadata": {},
   "source": [
    "*****"
   ]
  },
  {
   "cell_type": "markdown",
   "metadata": {},
   "source": [
    "## 2. Independent T-test"
   ]
  },
  {
   "cell_type": "code",
   "execution_count": 26,
   "metadata": {},
   "outputs": [
    {
     "data": {
      "text/html": [
       "<style>\n",
       ".list-inline {list-style: none; margin:0; padding: 0}\n",
       ".list-inline>li {display: inline-block}\n",
       ".list-inline>li:not(:last-child)::after {content: \"\\00b7\"; padding: 0 .5ex}\n",
       "</style>\n",
       "<ol class=list-inline><li>23</li><li>1</li></ol>\n"
      ],
      "text/latex": [
       "\\begin{enumerate*}\n",
       "\\item 23\n",
       "\\item 1\n",
       "\\end{enumerate*}\n"
      ],
      "text/markdown": [
       "1. 23\n",
       "2. 1\n",
       "\n",
       "\n"
      ],
      "text/plain": [
       "[1] 23  1"
      ]
     },
     "metadata": {},
     "output_type": "display_data"
    },
    {
     "data": {
      "text/html": [
       "<table>\n",
       "<caption>A data.frame: 6 × 1</caption>\n",
       "<thead>\n",
       "\t<tr><th></th><th scope=col>V1</th></tr>\n",
       "\t<tr><th></th><th scope=col>&lt;chr&gt;</th></tr>\n",
       "</thead>\n",
       "<tbody>\n",
       "\t<tr><th scope=row>1</th><td>33.00492</td></tr>\n",
       "\t<tr><th scope=row>2</th><td>30.01625</td></tr>\n",
       "\t<tr><th scope=row>3</th><td>36.80786</td></tr>\n",
       "\t<tr><th scope=row>4</th><td>45.62793</td></tr>\n",
       "\t<tr><th scope=row>5</th><td>17.58783</td></tr>\n",
       "\t<tr><th scope=row>6</th><td>27.49066</td></tr>\n",
       "</tbody>\n",
       "</table>\n"
      ],
      "text/latex": [
       "A data.frame: 6 × 1\n",
       "\\begin{tabular}{r|l}\n",
       "  & V1\\\\\n",
       "  & <chr>\\\\\n",
       "\\hline\n",
       "\t1 & 33.00492\\\\\n",
       "\t2 & 30.01625\\\\\n",
       "\t3 & 36.80786\\\\\n",
       "\t4 & 45.62793\\\\\n",
       "\t5 & 17.58783\\\\\n",
       "\t6 & 27.49066\\\\\n",
       "\\end{tabular}\n"
      ],
      "text/markdown": [
       "\n",
       "A data.frame: 6 × 1\n",
       "\n",
       "| <!--/--> | V1 &lt;chr&gt; |\n",
       "|---|---|\n",
       "| 1 | 33.00492 |\n",
       "| 2 | 30.01625 |\n",
       "| 3 | 36.80786 |\n",
       "| 4 | 45.62793 |\n",
       "| 5 | 17.58783 |\n",
       "| 6 | 27.49066 |\n",
       "\n"
      ],
      "text/plain": [
       "  V1      \n",
       "1 33.00492\n",
       "2 30.01625\n",
       "3 36.80786\n",
       "4 45.62793\n",
       "5 17.58783\n",
       "6 27.49066"
      ]
     },
     "metadata": {},
     "output_type": "display_data"
    }
   ],
   "source": [
    "df1 <- read.delim(\"clipboard\", header=F, stringsAsFactors = F)\n",
    "dim(df1)\n",
    "head(df1)"
   ]
  },
  {
   "cell_type": "code",
   "execution_count": 24,
   "metadata": {},
   "outputs": [
    {
     "data": {
      "text/html": [
       "<style>\n",
       ".list-inline {list-style: none; margin:0; padding: 0}\n",
       ".list-inline>li {display: inline-block}\n",
       ".list-inline>li:not(:last-child)::after {content: \"\\00b7\"; padding: 0 .5ex}\n",
       "</style>\n",
       "<ol class=list-inline><li>21</li><li>1</li></ol>\n"
      ],
      "text/latex": [
       "\\begin{enumerate*}\n",
       "\\item 21\n",
       "\\item 1\n",
       "\\end{enumerate*}\n"
      ],
      "text/markdown": [
       "1. 21\n",
       "2. 1\n",
       "\n",
       "\n"
      ],
      "text/plain": [
       "[1] 21  1"
      ]
     },
     "metadata": {},
     "output_type": "display_data"
    },
    {
     "data": {
      "text/html": [
       "<table>\n",
       "<caption>A data.frame: 6 × 1</caption>\n",
       "<thead>\n",
       "\t<tr><th></th><th scope=col>V1</th></tr>\n",
       "\t<tr><th></th><th scope=col>&lt;dbl&gt;</th></tr>\n",
       "</thead>\n",
       "<tbody>\n",
       "\t<tr><th scope=row>1</th><td>0.06897</td></tr>\n",
       "\t<tr><th scope=row>2</th><td>0.08304</td></tr>\n",
       "\t<tr><th scope=row>3</th><td>0.06228</td></tr>\n",
       "\t<tr><th scope=row>4</th><td>0.06489</td></tr>\n",
       "\t<tr><th scope=row>5</th><td>0.08267</td></tr>\n",
       "\t<tr><th scope=row>6</th><td>0.05234</td></tr>\n",
       "</tbody>\n",
       "</table>\n"
      ],
      "text/latex": [
       "A data.frame: 6 × 1\n",
       "\\begin{tabular}{r|l}\n",
       "  & V1\\\\\n",
       "  & <dbl>\\\\\n",
       "\\hline\n",
       "\t1 & 0.06897\\\\\n",
       "\t2 & 0.08304\\\\\n",
       "\t3 & 0.06228\\\\\n",
       "\t4 & 0.06489\\\\\n",
       "\t5 & 0.08267\\\\\n",
       "\t6 & 0.05234\\\\\n",
       "\\end{tabular}\n"
      ],
      "text/markdown": [
       "\n",
       "A data.frame: 6 × 1\n",
       "\n",
       "| <!--/--> | V1 &lt;dbl&gt; |\n",
       "|---|---|\n",
       "| 1 | 0.06897 |\n",
       "| 2 | 0.08304 |\n",
       "| 3 | 0.06228 |\n",
       "| 4 | 0.06489 |\n",
       "| 5 | 0.08267 |\n",
       "| 6 | 0.05234 |\n",
       "\n"
      ],
      "text/plain": [
       "  V1     \n",
       "1 0.06897\n",
       "2 0.08304\n",
       "3 0.06228\n",
       "4 0.06489\n",
       "5 0.08267\n",
       "6 0.05234"
      ]
     },
     "metadata": {},
     "output_type": "display_data"
    }
   ],
   "source": [
    "df2 <- read.delim(\"clipboard\", header=F, stringsAsFactors=F)\n",
    "dim(df2)\n",
    "head(df2)"
   ]
  },
  {
   "cell_type": "markdown",
   "metadata": {},
   "source": [
    "    to evaluate the sample variences of the two groups. If p-value is greater than 0.05, then two variences are homogeneous. In this case, student's t-test will be performed. If p-value is less than 0.05, Welch two sample t-test will be performed.  "
   ]
  },
  {
   "cell_type": "code",
   "execution_count": 22,
   "metadata": {},
   "outputs": [
    {
     "data": {
      "text/plain": [
       "\n",
       "\tF test to compare two variances\n",
       "\n",
       "data:  df1$V1 and df2$V1\n",
       "F = 0.75451, num df = 26, denom df = 20, p-value = 0.4941\n",
       "alternative hypothesis: true ratio of variances is not equal to 1\n",
       "95 percent confidence interval:\n",
       " 0.3163382 1.7171760\n",
       "sample estimates:\n",
       "ratio of variances \n",
       "          0.754511 \n"
      ]
     },
     "metadata": {},
     "output_type": "display_data"
    }
   ],
   "source": [
    "var.result <- var.test(df1$V1, df2$V1) \n",
    "var.result"
   ]
  },
  {
   "cell_type": "markdown",
   "metadata": {},
   "source": [
    "    Perform t-test (paired, independent)"
   ]
  },
  {
   "cell_type": "code",
   "execution_count": 23,
   "metadata": {
    "scrolled": true
   },
   "outputs": [
    {
     "data": {
      "text/plain": [
       "\n",
       "\tTwo Sample t-test\n",
       "\n",
       "data:  df1$V1 and df2$V1\n",
       "t = -1.347, df = 46, p-value = 0.1846\n",
       "alternative hypothesis: true difference in means is not equal to 0\n",
       "95 percent confidence interval:\n",
       " -0.015148201  0.003001957\n",
       "sample estimates:\n",
       " mean of x  mean of y \n",
       "0.04721593 0.05328905 \n"
      ]
     },
     "metadata": {},
     "output_type": "display_data"
    }
   ],
   "source": [
    "t.test <- if(var.result$p.value >= 0.05) {\n",
    "    t.test(df1$V1, df2$V1, alternative = c(\"two.sided\"), paired = F, var.equal = T)\n",
    "    } else {\n",
    "    t.test(df1$V1, df2$V1, alternative = c(\"two.sided\"), paired = F, var.equal = F)\n",
    "    }\n",
    "t.test"
   ]
  },
  {
   "cell_type": "markdown",
   "metadata": {},
   "source": [
    "*****"
   ]
  },
  {
   "cell_type": "markdown",
   "metadata": {},
   "source": [
    "## 3. Two-sample Kolmogorov-Smirnov Test"
   ]
  },
  {
   "cell_type": "markdown",
   "metadata": {},
   "source": [
    "    1. load data-set 1 from clipboard"
   ]
  },
  {
   "cell_type": "code",
   "execution_count": 2,
   "metadata": {},
   "outputs": [
    {
     "data": {
      "text/html": [
       "<table>\n",
       "<thead><tr><th scope=col>V1</th></tr></thead>\n",
       "<tbody>\n",
       "\t<tr><td>0.032</td></tr>\n",
       "\t<tr><td>0.029</td></tr>\n",
       "\t<tr><td>0.032</td></tr>\n",
       "\t<tr><td>0.032</td></tr>\n",
       "\t<tr><td>0.033</td></tr>\n",
       "\t<tr><td>0.032</td></tr>\n",
       "</tbody>\n",
       "</table>\n"
      ],
      "text/latex": [
       "\\begin{tabular}{r|l}\n",
       " V1\\\\\n",
       "\\hline\n",
       "\t 0.032\\\\\n",
       "\t 0.029\\\\\n",
       "\t 0.032\\\\\n",
       "\t 0.032\\\\\n",
       "\t 0.033\\\\\n",
       "\t 0.032\\\\\n",
       "\\end{tabular}\n"
      ],
      "text/markdown": [
       "\n",
       "| V1 |\n",
       "|---|\n",
       "| 0.032 |\n",
       "| 0.029 |\n",
       "| 0.032 |\n",
       "| 0.032 |\n",
       "| 0.033 |\n",
       "| 0.032 |\n",
       "\n"
      ],
      "text/plain": [
       "  V1   \n",
       "1 0.032\n",
       "2 0.029\n",
       "3 0.032\n",
       "4 0.032\n",
       "5 0.033\n",
       "6 0.032"
      ]
     },
     "metadata": {},
     "output_type": "display_data"
    }
   ],
   "source": [
    "df1 <- read.delim(\"clipboard\", header = F, stringsAsFactors = F)\n",
    "head(df1)"
   ]
  },
  {
   "cell_type": "markdown",
   "metadata": {},
   "source": [
    "    2. load data-set 2 from clipboard"
   ]
  },
  {
   "cell_type": "code",
   "execution_count": 6,
   "metadata": {},
   "outputs": [
    {
     "data": {
      "text/html": [
       "<table>\n",
       "<thead><tr><th scope=col>V1</th></tr></thead>\n",
       "<tbody>\n",
       "\t<tr><td>0.073</td></tr>\n",
       "\t<tr><td>0.073</td></tr>\n",
       "\t<tr><td>0.071</td></tr>\n",
       "\t<tr><td>0.069</td></tr>\n",
       "\t<tr><td>0.069</td></tr>\n",
       "\t<tr><td>0.067</td></tr>\n",
       "</tbody>\n",
       "</table>\n"
      ],
      "text/latex": [
       "\\begin{tabular}{r|l}\n",
       " V1\\\\\n",
       "\\hline\n",
       "\t 0.073\\\\\n",
       "\t 0.073\\\\\n",
       "\t 0.071\\\\\n",
       "\t 0.069\\\\\n",
       "\t 0.069\\\\\n",
       "\t 0.067\\\\\n",
       "\\end{tabular}\n"
      ],
      "text/markdown": [
       "\n",
       "| V1 |\n",
       "|---|\n",
       "| 0.073 |\n",
       "| 0.073 |\n",
       "| 0.071 |\n",
       "| 0.069 |\n",
       "| 0.069 |\n",
       "| 0.067 |\n",
       "\n"
      ],
      "text/plain": [
       "  V1   \n",
       "1 0.073\n",
       "2 0.073\n",
       "3 0.071\n",
       "4 0.069\n",
       "5 0.069\n",
       "6 0.067"
      ]
     },
     "metadata": {},
     "output_type": "display_data"
    }
   ],
   "source": [
    "df2 <-　read.delim(\"clipboard\", header = F, stringsAsFactors = F)\n",
    "head(df2)"
   ]
  },
  {
   "cell_type": "markdown",
   "metadata": {},
   "source": [
    "Perform two-sample KS test"
   ]
  },
  {
   "cell_type": "code",
   "execution_count": 9,
   "metadata": {},
   "outputs": [
    {
     "name": "stderr",
     "output_type": "stream",
     "text": [
      "Warning message in ks.test(df1$V1, df2$V1):\n",
      "\"p-value will be approximate in the presence of ties\""
     ]
    },
    {
     "data": {
      "text/plain": [
       "\n",
       "\tTwo-sample Kolmogorov-Smirnov test\n",
       "\n",
       "data:  df1$V1 and df2$V1\n",
       "D = 0.15422, p-value < 2.2e-16\n",
       "alternative hypothesis: two-sided\n"
      ]
     },
     "metadata": {},
     "output_type": "display_data"
    }
   ],
   "source": [
    "ks.test(df1$V1, df2$V1)"
   ]
  }
 ],
 "metadata": {
  "kernelspec": {
   "display_name": "R",
   "language": "R",
   "name": "ir"
  },
  "language_info": {
   "codemirror_mode": "r",
   "file_extension": ".r",
   "mimetype": "text/x-r-source",
   "name": "R",
   "pygments_lexer": "r",
   "version": "3.6.3"
  }
 },
 "nbformat": 4,
 "nbformat_minor": 2
}
