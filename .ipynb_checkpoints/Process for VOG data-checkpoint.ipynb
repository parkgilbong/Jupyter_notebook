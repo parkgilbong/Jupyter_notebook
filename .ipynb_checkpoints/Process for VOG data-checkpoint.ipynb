{
 "cells": [
  {
   "cell_type": "markdown",
   "metadata": {},
   "source": [
    "## Figure preparation for VOR/OKR data"
   ]
  },
  {
   "cell_type": "markdown",
   "metadata": {},
   "source": [
    "### Loading packages"
   ]
  },
  {
   "cell_type": "code",
   "execution_count": 7,
   "metadata": {},
   "outputs": [],
   "source": [
    "library(tidyverse) #for data manipulation and visualization\n",
    "library(ggpubr) #for creating easily publication ready plots\n",
    "library(reshape)\n",
    "library(ggplot2)"
   ]
  },
  {
   "cell_type": "markdown",
   "metadata": {},
   "source": [
    "### Import VOG data from VOG data Retriever"
   ]
  },
  {
   "cell_type": "code",
   "execution_count": 24,
   "metadata": {},
   "outputs": [
    {
     "data": {
      "text/html": [
       "<table>\n",
       "<caption>A data.frame: 36 × 8</caption>\n",
       "<thead>\n",
       "\t<tr><th scope=col>G01_292_OL</th><th scope=col>G01_293_OL</th><th scope=col>G01_901_OL</th><th scope=col>G01_902_OL</th><th scope=col>G01_903_OL</th><th scope=col>Mean</th><th scope=col>S.D</th><th scope=col>S.E.M</th></tr>\n",
       "\t<tr><th scope=col>&lt;chr&gt;</th><th scope=col>&lt;chr&gt;</th><th scope=col>&lt;chr&gt;</th><th scope=col>&lt;chr&gt;</th><th scope=col>&lt;chr&gt;</th><th scope=col>&lt;chr&gt;</th><th scope=col>&lt;chr&gt;</th><th scope=col>&lt;chr&gt;</th></tr>\n",
       "</thead>\n",
       "<tbody>\n",
       "\t<tr><td>0.217  </td><td>0.404  </td><td>0.347  </td><td>0.289  </td><td>0.452 </td><td>0.342  </td><td>0.093</td><td>0.041</td></tr>\n",
       "\t<tr><td>0.326  </td><td>0.397  </td><td>0.45   </td><td>0.445  </td><td>0.631 </td><td>0.45   </td><td>0.113</td><td>0.05 </td></tr>\n",
       "\t<tr><td>0.36   </td><td>0.434  </td><td>0.513  </td><td>0.537  </td><td>0.664 </td><td>0.502  </td><td>0.114</td><td>0.051</td></tr>\n",
       "\t<tr><td>0.381  </td><td>0.551  </td><td>0.582  </td><td>0.585  </td><td>0.657 </td><td>0.551  </td><td>0.103</td><td>0.046</td></tr>\n",
       "\t<tr><td>0.293  </td><td>0.28   </td><td>0.19   </td><td>0.423  </td><td>0.511 </td><td>0.3394 </td><td>0.127</td><td>0.057</td></tr>\n",
       "\t<tr><td>-----  </td><td>-----  </td><td>-----  </td><td>-----  </td><td>----- </td><td>-----  </td><td>-----</td><td>-----</td></tr>\n",
       "\t<tr><td>NaN    </td><td>NaN    </td><td>NaN    </td><td>NaN    </td><td>NaN   </td><td>NaN    </td><td>NaN  </td><td>NaN  </td></tr>\n",
       "\t<tr><td>NaN    </td><td>NaN    </td><td>NaN    </td><td>NaN    </td><td>NaN   </td><td>NaN    </td><td>NaN  </td><td>NaN  </td></tr>\n",
       "\t<tr><td>NaN    </td><td>NaN    </td><td>NaN    </td><td>NaN    </td><td>NaN   </td><td>NaN    </td><td>NaN  </td><td>NaN  </td></tr>\n",
       "\t<tr><td>NaN    </td><td>NaN    </td><td>NaN    </td><td>NaN    </td><td>NaN   </td><td>NaN    </td><td>NaN  </td><td>NaN  </td></tr>\n",
       "\t<tr><td>NaN    </td><td>NaN    </td><td>NaN    </td><td>NaN    </td><td>NaN   </td><td>NaN    </td><td>NaN  </td><td>NaN  </td></tr>\n",
       "\t<tr><td>-----  </td><td>-----  </td><td>-----  </td><td>-----  </td><td>----- </td><td>-----  </td><td>-----</td><td>-----</td></tr>\n",
       "\t<tr><td>NaN    </td><td>NaN    </td><td>NaN    </td><td>NaN    </td><td>NaN   </td><td>NaN    </td><td>NaN  </td><td>NaN  </td></tr>\n",
       "\t<tr><td>NaN    </td><td>NaN    </td><td>NaN    </td><td>NaN    </td><td>NaN   </td><td>NaN    </td><td>NaN  </td><td>NaN  </td></tr>\n",
       "\t<tr><td>NaN    </td><td>NaN    </td><td>NaN    </td><td>NaN    </td><td>NaN   </td><td>NaN    </td><td>NaN  </td><td>NaN  </td></tr>\n",
       "\t<tr><td>NaN    </td><td>NaN    </td><td>NaN    </td><td>NaN    </td><td>NaN   </td><td>NaN    </td><td>NaN  </td><td>NaN  </td></tr>\n",
       "\t<tr><td>NaN    </td><td>NaN    </td><td>NaN    </td><td>NaN    </td><td>NaN   </td><td>NaN    </td><td>NaN  </td><td>NaN  </td></tr>\n",
       "\t<tr><td>-----  </td><td>-----  </td><td>-----  </td><td>-----  </td><td>----- </td><td>-----  </td><td>-----</td><td>-----</td></tr>\n",
       "\t<tr><td>-25.14 </td><td>-12.967</td><td>-14.733</td><td>-21.213</td><td>-21.67</td><td>-19.145</td><td>5.105</td><td>2.283</td></tr>\n",
       "\t<tr><td>-13.343</td><td>-11.827</td><td>-7.557 </td><td>-7     </td><td>-8.927</td><td>-9.731 </td><td>2.751</td><td>1.23 </td></tr>\n",
       "\t<tr><td>-11.367</td><td>-6.927 </td><td>-7.44  </td><td>-6.987 </td><td>-8.647</td><td>-8.274 </td><td>1.862</td><td>0.833</td></tr>\n",
       "\t<tr><td>-5.737 </td><td>-4.2   </td><td>-6.067 </td><td>-7.153 </td><td>-8.547</td><td>-6.341 </td><td>1.624</td><td>0.726</td></tr>\n",
       "\t<tr><td>-13.526</td><td>-13.519</td><td>-3.061 </td><td>-7.8263</td><td>-6.481</td><td>-8.883 </td><td>4.578</td><td>2.047</td></tr>\n",
       "\t<tr><td>-----  </td><td>-----  </td><td>-----  </td><td>-----  </td><td>----- </td><td>-----  </td><td>-----</td><td>-----</td></tr>\n",
       "\t<tr><td>NaN    </td><td>NaN    </td><td>NaN    </td><td>NaN    </td><td>NaN   </td><td>NaN    </td><td>NaN  </td><td>NaN  </td></tr>\n",
       "\t<tr><td>NaN    </td><td>NaN    </td><td>NaN    </td><td>NaN    </td><td>NaN   </td><td>NaN    </td><td>NaN  </td><td>NaN  </td></tr>\n",
       "\t<tr><td>NaN    </td><td>NaN    </td><td>NaN    </td><td>NaN    </td><td>NaN   </td><td>NaN    </td><td>NaN  </td><td>NaN  </td></tr>\n",
       "\t<tr><td>NaN    </td><td>NaN    </td><td>NaN    </td><td>NaN    </td><td>NaN   </td><td>NaN    </td><td>NaN  </td><td>NaN  </td></tr>\n",
       "\t<tr><td>NaN    </td><td>NaN    </td><td>NaN    </td><td>NaN    </td><td>NaN   </td><td>NaN    </td><td>NaN  </td><td>NaN  </td></tr>\n",
       "\t<tr><td>-----  </td><td>-----  </td><td>-----  </td><td>-----  </td><td>----- </td><td>-----  </td><td>-----</td><td>-----</td></tr>\n",
       "\t<tr><td>NaN    </td><td>NaN    </td><td>NaN    </td><td>NaN    </td><td>NaN   </td><td>NaN    </td><td>NaN  </td><td>NaN  </td></tr>\n",
       "\t<tr><td>NaN    </td><td>NaN    </td><td>NaN    </td><td>NaN    </td><td>NaN   </td><td>NaN    </td><td>NaN  </td><td>NaN  </td></tr>\n",
       "\t<tr><td>NaN    </td><td>NaN    </td><td>NaN    </td><td>NaN    </td><td>NaN   </td><td>NaN    </td><td>NaN  </td><td>NaN  </td></tr>\n",
       "\t<tr><td>NaN    </td><td>NaN    </td><td>NaN    </td><td>NaN    </td><td>NaN   </td><td>NaN    </td><td>NaN  </td><td>NaN  </td></tr>\n",
       "\t<tr><td>NaN    </td><td>NaN    </td><td>NaN    </td><td>NaN    </td><td>NaN   </td><td>NaN    </td><td>NaN  </td><td>NaN  </td></tr>\n",
       "\t<tr><td>-----  </td><td>-----  </td><td>-----  </td><td>-----  </td><td>----- </td><td>-----  </td><td>-----</td><td>-----</td></tr>\n",
       "</tbody>\n",
       "</table>\n"
      ],
      "text/latex": [
       "A data.frame: 36 × 8\n",
       "\\begin{tabular}{llllllll}\n",
       " G01\\_292\\_OL & G01\\_293\\_OL & G01\\_901\\_OL & G01\\_902\\_OL & G01\\_903\\_OL & Mean & S.D & S.E.M\\\\\n",
       " <chr> & <chr> & <chr> & <chr> & <chr> & <chr> & <chr> & <chr>\\\\\n",
       "\\hline\n",
       "\t 0.217   & 0.404   & 0.347   & 0.289   & 0.452  & 0.342   & 0.093 & 0.041\\\\\n",
       "\t 0.326   & 0.397   & 0.45    & 0.445   & 0.631  & 0.45    & 0.113 & 0.05 \\\\\n",
       "\t 0.36    & 0.434   & 0.513   & 0.537   & 0.664  & 0.502   & 0.114 & 0.051\\\\\n",
       "\t 0.381   & 0.551   & 0.582   & 0.585   & 0.657  & 0.551   & 0.103 & 0.046\\\\\n",
       "\t 0.293   & 0.28    & 0.19    & 0.423   & 0.511  & 0.3394  & 0.127 & 0.057\\\\\n",
       "\t -----   & -----   & -----   & -----   & -----  & -----   & ----- & -----\\\\\n",
       "\t NaN     & NaN     & NaN     & NaN     & NaN    & NaN     & NaN   & NaN  \\\\\n",
       "\t NaN     & NaN     & NaN     & NaN     & NaN    & NaN     & NaN   & NaN  \\\\\n",
       "\t NaN     & NaN     & NaN     & NaN     & NaN    & NaN     & NaN   & NaN  \\\\\n",
       "\t NaN     & NaN     & NaN     & NaN     & NaN    & NaN     & NaN   & NaN  \\\\\n",
       "\t NaN     & NaN     & NaN     & NaN     & NaN    & NaN     & NaN   & NaN  \\\\\n",
       "\t -----   & -----   & -----   & -----   & -----  & -----   & ----- & -----\\\\\n",
       "\t NaN     & NaN     & NaN     & NaN     & NaN    & NaN     & NaN   & NaN  \\\\\n",
       "\t NaN     & NaN     & NaN     & NaN     & NaN    & NaN     & NaN   & NaN  \\\\\n",
       "\t NaN     & NaN     & NaN     & NaN     & NaN    & NaN     & NaN   & NaN  \\\\\n",
       "\t NaN     & NaN     & NaN     & NaN     & NaN    & NaN     & NaN   & NaN  \\\\\n",
       "\t NaN     & NaN     & NaN     & NaN     & NaN    & NaN     & NaN   & NaN  \\\\\n",
       "\t -----   & -----   & -----   & -----   & -----  & -----   & ----- & -----\\\\\n",
       "\t -25.14  & -12.967 & -14.733 & -21.213 & -21.67 & -19.145 & 5.105 & 2.283\\\\\n",
       "\t -13.343 & -11.827 & -7.557  & -7      & -8.927 & -9.731  & 2.751 & 1.23 \\\\\n",
       "\t -11.367 & -6.927  & -7.44   & -6.987  & -8.647 & -8.274  & 1.862 & 0.833\\\\\n",
       "\t -5.737  & -4.2    & -6.067  & -7.153  & -8.547 & -6.341  & 1.624 & 0.726\\\\\n",
       "\t -13.526 & -13.519 & -3.061  & -7.8263 & -6.481 & -8.883  & 4.578 & 2.047\\\\\n",
       "\t -----   & -----   & -----   & -----   & -----  & -----   & ----- & -----\\\\\n",
       "\t NaN     & NaN     & NaN     & NaN     & NaN    & NaN     & NaN   & NaN  \\\\\n",
       "\t NaN     & NaN     & NaN     & NaN     & NaN    & NaN     & NaN   & NaN  \\\\\n",
       "\t NaN     & NaN     & NaN     & NaN     & NaN    & NaN     & NaN   & NaN  \\\\\n",
       "\t NaN     & NaN     & NaN     & NaN     & NaN    & NaN     & NaN   & NaN  \\\\\n",
       "\t NaN     & NaN     & NaN     & NaN     & NaN    & NaN     & NaN   & NaN  \\\\\n",
       "\t -----   & -----   & -----   & -----   & -----  & -----   & ----- & -----\\\\\n",
       "\t NaN     & NaN     & NaN     & NaN     & NaN    & NaN     & NaN   & NaN  \\\\\n",
       "\t NaN     & NaN     & NaN     & NaN     & NaN    & NaN     & NaN   & NaN  \\\\\n",
       "\t NaN     & NaN     & NaN     & NaN     & NaN    & NaN     & NaN   & NaN  \\\\\n",
       "\t NaN     & NaN     & NaN     & NaN     & NaN    & NaN     & NaN   & NaN  \\\\\n",
       "\t NaN     & NaN     & NaN     & NaN     & NaN    & NaN     & NaN   & NaN  \\\\\n",
       "\t -----   & -----   & -----   & -----   & -----  & -----   & ----- & -----\\\\\n",
       "\\end{tabular}\n"
      ],
      "text/markdown": [
       "\n",
       "A data.frame: 36 × 8\n",
       "\n",
       "| G01_292_OL &lt;chr&gt; | G01_293_OL &lt;chr&gt; | G01_901_OL &lt;chr&gt; | G01_902_OL &lt;chr&gt; | G01_903_OL &lt;chr&gt; | Mean &lt;chr&gt; | S.D &lt;chr&gt; | S.E.M &lt;chr&gt; |\n",
       "|---|---|---|---|---|---|---|---|\n",
       "| 0.217   | 0.404   | 0.347   | 0.289   | 0.452  | 0.342   | 0.093 | 0.041 |\n",
       "| 0.326   | 0.397   | 0.45    | 0.445   | 0.631  | 0.45    | 0.113 | 0.05  |\n",
       "| 0.36    | 0.434   | 0.513   | 0.537   | 0.664  | 0.502   | 0.114 | 0.051 |\n",
       "| 0.381   | 0.551   | 0.582   | 0.585   | 0.657  | 0.551   | 0.103 | 0.046 |\n",
       "| 0.293   | 0.28    | 0.19    | 0.423   | 0.511  | 0.3394  | 0.127 | 0.057 |\n",
       "| -----   | -----   | -----   | -----   | -----  | -----   | ----- | ----- |\n",
       "| NaN     | NaN     | NaN     | NaN     | NaN    | NaN     | NaN   | NaN   |\n",
       "| NaN     | NaN     | NaN     | NaN     | NaN    | NaN     | NaN   | NaN   |\n",
       "| NaN     | NaN     | NaN     | NaN     | NaN    | NaN     | NaN   | NaN   |\n",
       "| NaN     | NaN     | NaN     | NaN     | NaN    | NaN     | NaN   | NaN   |\n",
       "| NaN     | NaN     | NaN     | NaN     | NaN    | NaN     | NaN   | NaN   |\n",
       "| -----   | -----   | -----   | -----   | -----  | -----   | ----- | ----- |\n",
       "| NaN     | NaN     | NaN     | NaN     | NaN    | NaN     | NaN   | NaN   |\n",
       "| NaN     | NaN     | NaN     | NaN     | NaN    | NaN     | NaN   | NaN   |\n",
       "| NaN     | NaN     | NaN     | NaN     | NaN    | NaN     | NaN   | NaN   |\n",
       "| NaN     | NaN     | NaN     | NaN     | NaN    | NaN     | NaN   | NaN   |\n",
       "| NaN     | NaN     | NaN     | NaN     | NaN    | NaN     | NaN   | NaN   |\n",
       "| -----   | -----   | -----   | -----   | -----  | -----   | ----- | ----- |\n",
       "| -25.14  | -12.967 | -14.733 | -21.213 | -21.67 | -19.145 | 5.105 | 2.283 |\n",
       "| -13.343 | -11.827 | -7.557  | -7      | -8.927 | -9.731  | 2.751 | 1.23  |\n",
       "| -11.367 | -6.927  | -7.44   | -6.987  | -8.647 | -8.274  | 1.862 | 0.833 |\n",
       "| -5.737  | -4.2    | -6.067  | -7.153  | -8.547 | -6.341  | 1.624 | 0.726 |\n",
       "| -13.526 | -13.519 | -3.061  | -7.8263 | -6.481 | -8.883  | 4.578 | 2.047 |\n",
       "| -----   | -----   | -----   | -----   | -----  | -----   | ----- | ----- |\n",
       "| NaN     | NaN     | NaN     | NaN     | NaN    | NaN     | NaN   | NaN   |\n",
       "| NaN     | NaN     | NaN     | NaN     | NaN    | NaN     | NaN   | NaN   |\n",
       "| NaN     | NaN     | NaN     | NaN     | NaN    | NaN     | NaN   | NaN   |\n",
       "| NaN     | NaN     | NaN     | NaN     | NaN    | NaN     | NaN   | NaN   |\n",
       "| NaN     | NaN     | NaN     | NaN     | NaN    | NaN     | NaN   | NaN   |\n",
       "| -----   | -----   | -----   | -----   | -----  | -----   | ----- | ----- |\n",
       "| NaN     | NaN     | NaN     | NaN     | NaN    | NaN     | NaN   | NaN   |\n",
       "| NaN     | NaN     | NaN     | NaN     | NaN    | NaN     | NaN   | NaN   |\n",
       "| NaN     | NaN     | NaN     | NaN     | NaN    | NaN     | NaN   | NaN   |\n",
       "| NaN     | NaN     | NaN     | NaN     | NaN    | NaN     | NaN   | NaN   |\n",
       "| NaN     | NaN     | NaN     | NaN     | NaN    | NaN     | NaN   | NaN   |\n",
       "| -----   | -----   | -----   | -----   | -----  | -----   | ----- | ----- |\n",
       "\n"
      ],
      "text/plain": [
       "   G01_292_OL G01_293_OL G01_901_OL G01_902_OL G01_903_OL Mean    S.D   S.E.M\n",
       "1  0.217      0.404      0.347      0.289      0.452      0.342   0.093 0.041\n",
       "2  0.326      0.397      0.45       0.445      0.631      0.45    0.113 0.05 \n",
       "3  0.36       0.434      0.513      0.537      0.664      0.502   0.114 0.051\n",
       "4  0.381      0.551      0.582      0.585      0.657      0.551   0.103 0.046\n",
       "5  0.293      0.28       0.19       0.423      0.511      0.3394  0.127 0.057\n",
       "6  -----      -----      -----      -----      -----      -----   ----- -----\n",
       "7  NaN        NaN        NaN        NaN        NaN        NaN     NaN   NaN  \n",
       "8  NaN        NaN        NaN        NaN        NaN        NaN     NaN   NaN  \n",
       "9  NaN        NaN        NaN        NaN        NaN        NaN     NaN   NaN  \n",
       "10 NaN        NaN        NaN        NaN        NaN        NaN     NaN   NaN  \n",
       "11 NaN        NaN        NaN        NaN        NaN        NaN     NaN   NaN  \n",
       "12 -----      -----      -----      -----      -----      -----   ----- -----\n",
       "13 NaN        NaN        NaN        NaN        NaN        NaN     NaN   NaN  \n",
       "14 NaN        NaN        NaN        NaN        NaN        NaN     NaN   NaN  \n",
       "15 NaN        NaN        NaN        NaN        NaN        NaN     NaN   NaN  \n",
       "16 NaN        NaN        NaN        NaN        NaN        NaN     NaN   NaN  \n",
       "17 NaN        NaN        NaN        NaN        NaN        NaN     NaN   NaN  \n",
       "18 -----      -----      -----      -----      -----      -----   ----- -----\n",
       "19 -25.14     -12.967    -14.733    -21.213    -21.67     -19.145 5.105 2.283\n",
       "20 -13.343    -11.827    -7.557     -7         -8.927     -9.731  2.751 1.23 \n",
       "21 -11.367    -6.927     -7.44      -6.987     -8.647     -8.274  1.862 0.833\n",
       "22 -5.737     -4.2       -6.067     -7.153     -8.547     -6.341  1.624 0.726\n",
       "23 -13.526    -13.519    -3.061     -7.8263    -6.481     -8.883  4.578 2.047\n",
       "24 -----      -----      -----      -----      -----      -----   ----- -----\n",
       "25 NaN        NaN        NaN        NaN        NaN        NaN     NaN   NaN  \n",
       "26 NaN        NaN        NaN        NaN        NaN        NaN     NaN   NaN  \n",
       "27 NaN        NaN        NaN        NaN        NaN        NaN     NaN   NaN  \n",
       "28 NaN        NaN        NaN        NaN        NaN        NaN     NaN   NaN  \n",
       "29 NaN        NaN        NaN        NaN        NaN        NaN     NaN   NaN  \n",
       "30 -----      -----      -----      -----      -----      -----   ----- -----\n",
       "31 NaN        NaN        NaN        NaN        NaN        NaN     NaN   NaN  \n",
       "32 NaN        NaN        NaN        NaN        NaN        NaN     NaN   NaN  \n",
       "33 NaN        NaN        NaN        NaN        NaN        NaN     NaN   NaN  \n",
       "34 NaN        NaN        NaN        NaN        NaN        NaN     NaN   NaN  \n",
       "35 NaN        NaN        NaN        NaN        NaN        NaN     NaN   NaN  \n",
       "36 -----      -----      -----      -----      -----      -----   ----- -----"
      ]
     },
     "metadata": {},
     "output_type": "display_data"
    }
   ],
   "source": [
    "VOG.data <- read.delim(\"clipboard\", sep = '\\t', stringsAsFactors = F, header = T)\n",
    "VOG.data"
   ]
  },
  {
   "cell_type": "markdown",
   "metadata": {},
   "source": [
    "### Remove the separators in dataframe"
   ]
  },
  {
   "cell_type": "code",
   "execution_count": 60,
   "metadata": {},
   "outputs": [
    {
     "data": {
      "text/html": [
       "<style>\n",
       ".list-inline {list-style: none; margin:0; padding: 0}\n",
       ".list-inline>li {display: inline-block}\n",
       ".list-inline>li:not(:last-child)::after {content: \"\\00b7\"; padding: 0 .5ex}\n",
       "</style>\n",
       "<ol class=list-inline><li>30</li><li>8</li></ol>\n"
      ],
      "text/latex": [
       "\\begin{enumerate*}\n",
       "\\item 30\n",
       "\\item 8\n",
       "\\end{enumerate*}\n"
      ],
      "text/markdown": [
       "1. 30\n",
       "2. 8\n",
       "\n",
       "\n"
      ],
      "text/plain": [
       "[1] 30  8"
      ]
     },
     "metadata": {},
     "output_type": "display_data"
    }
   ],
   "source": [
    "VOG.data2 <- VOG.data[-c(6,12,18,24,30,36),]\n",
    "dim(VOG.data2)"
   ]
  },
  {
   "cell_type": "markdown",
   "metadata": {},
   "source": [
    "### Add type (Gain or Phase), protocol (OKR or dVOR or lVOR), stimulu condition (frequency)"
   ]
  },
  {
   "cell_type": "code",
   "execution_count": 61,
   "metadata": {},
   "outputs": [
    {
     "data": {
      "text/html": [
       "<style>\n",
       ".list-inline {list-style: none; margin:0; padding: 0}\n",
       ".list-inline>li {display: inline-block}\n",
       ".list-inline>li:not(:last-child)::after {content: \"\\00b7\"; padding: 0 .5ex}\n",
       "</style>\n",
       "<ol class=list-inline><li>0 min</li><li>15 min</li><li>30 min</li><li>45 min</li><li>24 hr</li><li>0 min</li><li>15 min</li><li>30 min</li><li>45 min</li><li>24 hr</li><li>0 min</li><li>15 min</li><li>30 min</li><li>45 min</li><li>24 hr</li><li>0 min</li><li>15 min</li><li>30 min</li><li>45 min</li><li>24 hr</li><li>0 min</li><li>15 min</li><li>30 min</li><li>45 min</li><li>24 hr</li><li>0 min</li><li>15 min</li><li>30 min</li><li>45 min</li><li>24 hr</li></ol>\n",
       "\n",
       "<details>\n",
       "\t<summary style=display:list-item;cursor:pointer>\n",
       "\t\t<strong>Levels</strong>:\n",
       "\t</summary>\n",
       "\t<style>\n",
       "\t.list-inline {list-style: none; margin:0; padding: 0}\n",
       "\t.list-inline>li {display: inline-block}\n",
       "\t.list-inline>li:not(:last-child)::after {content: \"\\00b7\"; padding: 0 .5ex}\n",
       "\t</style>\n",
       "\t<ol class=list-inline><li>'0 min'</li><li>'15 min'</li><li>'30 min'</li><li>'45 min'</li><li>'24 hr'</li></ol>\n",
       "</details>"
      ],
      "text/latex": [
       "\\begin{enumerate*}\n",
       "\\item 0 min\n",
       "\\item 15 min\n",
       "\\item 30 min\n",
       "\\item 45 min\n",
       "\\item 24 hr\n",
       "\\item 0 min\n",
       "\\item 15 min\n",
       "\\item 30 min\n",
       "\\item 45 min\n",
       "\\item 24 hr\n",
       "\\item 0 min\n",
       "\\item 15 min\n",
       "\\item 30 min\n",
       "\\item 45 min\n",
       "\\item 24 hr\n",
       "\\item 0 min\n",
       "\\item 15 min\n",
       "\\item 30 min\n",
       "\\item 45 min\n",
       "\\item 24 hr\n",
       "\\item 0 min\n",
       "\\item 15 min\n",
       "\\item 30 min\n",
       "\\item 45 min\n",
       "\\item 24 hr\n",
       "\\item 0 min\n",
       "\\item 15 min\n",
       "\\item 30 min\n",
       "\\item 45 min\n",
       "\\item 24 hr\n",
       "\\end{enumerate*}\n",
       "\n",
       "\\emph{Levels}: \\begin{enumerate*}\n",
       "\\item '0 min'\n",
       "\\item '15 min'\n",
       "\\item '30 min'\n",
       "\\item '45 min'\n",
       "\\item '24 hr'\n",
       "\\end{enumerate*}\n"
      ],
      "text/markdown": [
       "1. 0 min\n",
       "2. 15 min\n",
       "3. 30 min\n",
       "4. 45 min\n",
       "5. 24 hr\n",
       "6. 0 min\n",
       "7. 15 min\n",
       "8. 30 min\n",
       "9. 45 min\n",
       "10. 24 hr\n",
       "11. 0 min\n",
       "12. 15 min\n",
       "13. 30 min\n",
       "14. 45 min\n",
       "15. 24 hr\n",
       "16. 0 min\n",
       "17. 15 min\n",
       "18. 30 min\n",
       "19. 45 min\n",
       "20. 24 hr\n",
       "21. 0 min\n",
       "22. 15 min\n",
       "23. 30 min\n",
       "24. 45 min\n",
       "25. 24 hr\n",
       "26. 0 min\n",
       "27. 15 min\n",
       "28. 30 min\n",
       "29. 45 min\n",
       "30. 24 hr\n",
       "\n",
       "\n",
       "\n",
       "**Levels**: 1. '0 min'\n",
       "2. '15 min'\n",
       "3. '30 min'\n",
       "4. '45 min'\n",
       "5. '24 hr'\n",
       "\n",
       "\n"
      ],
      "text/plain": [
       " [1] 0 min  15 min 30 min 45 min 24 hr  0 min  15 min 30 min 45 min 24 hr \n",
       "[11] 0 min  15 min 30 min 45 min 24 hr  0 min  15 min 30 min 45 min 24 hr \n",
       "[21] 0 min  15 min 30 min 45 min 24 hr  0 min  15 min 30 min 45 min 24 hr \n",
       "Levels: 0 min < 15 min < 30 min < 45 min < 24 hr"
      ]
     },
     "metadata": {},
     "output_type": "display_data"
    },
    {
     "data": {
      "text/html": [
       "<table>\n",
       "<caption>A data.frame: 6 × 11</caption>\n",
       "<thead>\n",
       "\t<tr><th></th><th scope=col>type</th><th scope=col>protocol</th><th scope=col>condition</th><th scope=col>G01_292_OL</th><th scope=col>G01_293_OL</th><th scope=col>G01_901_OL</th><th scope=col>G01_902_OL</th><th scope=col>G01_903_OL</th><th scope=col>Mean</th><th scope=col>S.D</th><th scope=col>S.E.M</th></tr>\n",
       "\t<tr><th></th><th scope=col>&lt;fct&gt;</th><th scope=col>&lt;fct&gt;</th><th scope=col>&lt;fct&gt;</th><th scope=col>&lt;chr&gt;</th><th scope=col>&lt;chr&gt;</th><th scope=col>&lt;chr&gt;</th><th scope=col>&lt;chr&gt;</th><th scope=col>&lt;chr&gt;</th><th scope=col>&lt;chr&gt;</th><th scope=col>&lt;chr&gt;</th><th scope=col>&lt;chr&gt;</th></tr>\n",
       "</thead>\n",
       "<tbody>\n",
       "\t<tr><th scope=row>1</th><td>Gain</td><td>OKR </td><td>0 min </td><td>0.217</td><td>0.404</td><td>0.347</td><td>0.289</td><td>0.452</td><td>0.342 </td><td>0.093</td><td>0.041</td></tr>\n",
       "\t<tr><th scope=row>2</th><td>Gain</td><td>OKR </td><td>15 min</td><td>0.326</td><td>0.397</td><td>0.45 </td><td>0.445</td><td>0.631</td><td>0.45  </td><td>0.113</td><td>0.05 </td></tr>\n",
       "\t<tr><th scope=row>3</th><td>Gain</td><td>OKR </td><td>30 min</td><td>0.36 </td><td>0.434</td><td>0.513</td><td>0.537</td><td>0.664</td><td>0.502 </td><td>0.114</td><td>0.051</td></tr>\n",
       "\t<tr><th scope=row>4</th><td>Gain</td><td>OKR </td><td>45 min</td><td>0.381</td><td>0.551</td><td>0.582</td><td>0.585</td><td>0.657</td><td>0.551 </td><td>0.103</td><td>0.046</td></tr>\n",
       "\t<tr><th scope=row>5</th><td>Gain</td><td>OKR </td><td>24 hr </td><td>0.293</td><td>0.28 </td><td>0.19 </td><td>0.423</td><td>0.511</td><td>0.3394</td><td>0.127</td><td>0.057</td></tr>\n",
       "\t<tr><th scope=row>7</th><td>Gain</td><td>dVOR</td><td>0 min </td><td>NaN  </td><td>NaN  </td><td>NaN  </td><td>NaN  </td><td>NaN  </td><td>NaN   </td><td>NaN  </td><td>NaN  </td></tr>\n",
       "</tbody>\n",
       "</table>\n"
      ],
      "text/latex": [
       "A data.frame: 6 × 11\n",
       "\\begin{tabular}{r|lllllllllll}\n",
       "  & type & protocol & condition & G01\\_292\\_OL & G01\\_293\\_OL & G01\\_901\\_OL & G01\\_902\\_OL & G01\\_903\\_OL & Mean & S.D & S.E.M\\\\\n",
       "  & <fct> & <fct> & <fct> & <chr> & <chr> & <chr> & <chr> & <chr> & <chr> & <chr> & <chr>\\\\\n",
       "\\hline\n",
       "\t1 & Gain & OKR  & 0 min  & 0.217 & 0.404 & 0.347 & 0.289 & 0.452 & 0.342  & 0.093 & 0.041\\\\\n",
       "\t2 & Gain & OKR  & 15 min & 0.326 & 0.397 & 0.45  & 0.445 & 0.631 & 0.45   & 0.113 & 0.05 \\\\\n",
       "\t3 & Gain & OKR  & 30 min & 0.36  & 0.434 & 0.513 & 0.537 & 0.664 & 0.502  & 0.114 & 0.051\\\\\n",
       "\t4 & Gain & OKR  & 45 min & 0.381 & 0.551 & 0.582 & 0.585 & 0.657 & 0.551  & 0.103 & 0.046\\\\\n",
       "\t5 & Gain & OKR  & 24 hr  & 0.293 & 0.28  & 0.19  & 0.423 & 0.511 & 0.3394 & 0.127 & 0.057\\\\\n",
       "\t7 & Gain & dVOR & 0 min  & NaN   & NaN   & NaN   & NaN   & NaN   & NaN    & NaN   & NaN  \\\\\n",
       "\\end{tabular}\n"
      ],
      "text/markdown": [
       "\n",
       "A data.frame: 6 × 11\n",
       "\n",
       "| <!--/--> | type &lt;fct&gt; | protocol &lt;fct&gt; | condition &lt;fct&gt; | G01_292_OL &lt;chr&gt; | G01_293_OL &lt;chr&gt; | G01_901_OL &lt;chr&gt; | G01_902_OL &lt;chr&gt; | G01_903_OL &lt;chr&gt; | Mean &lt;chr&gt; | S.D &lt;chr&gt; | S.E.M &lt;chr&gt; |\n",
       "|---|---|---|---|---|---|---|---|---|---|---|---|\n",
       "| 1 | Gain | OKR  | 0 min  | 0.217 | 0.404 | 0.347 | 0.289 | 0.452 | 0.342  | 0.093 | 0.041 |\n",
       "| 2 | Gain | OKR  | 15 min | 0.326 | 0.397 | 0.45  | 0.445 | 0.631 | 0.45   | 0.113 | 0.05  |\n",
       "| 3 | Gain | OKR  | 30 min | 0.36  | 0.434 | 0.513 | 0.537 | 0.664 | 0.502  | 0.114 | 0.051 |\n",
       "| 4 | Gain | OKR  | 45 min | 0.381 | 0.551 | 0.582 | 0.585 | 0.657 | 0.551  | 0.103 | 0.046 |\n",
       "| 5 | Gain | OKR  | 24 hr  | 0.293 | 0.28  | 0.19  | 0.423 | 0.511 | 0.3394 | 0.127 | 0.057 |\n",
       "| 7 | Gain | dVOR | 0 min  | NaN   | NaN   | NaN   | NaN   | NaN   | NaN    | NaN   | NaN   |\n",
       "\n"
      ],
      "text/plain": [
       "  type protocol condition G01_292_OL G01_293_OL G01_901_OL G01_902_OL\n",
       "1 Gain OKR      0 min     0.217      0.404      0.347      0.289     \n",
       "2 Gain OKR      15 min    0.326      0.397      0.45       0.445     \n",
       "3 Gain OKR      30 min    0.36       0.434      0.513      0.537     \n",
       "4 Gain OKR      45 min    0.381      0.551      0.582      0.585     \n",
       "5 Gain OKR      24 hr     0.293      0.28       0.19       0.423     \n",
       "7 Gain dVOR     0 min     NaN        NaN        NaN        NaN       \n",
       "  G01_903_OL Mean   S.D   S.E.M\n",
       "1 0.452      0.342  0.093 0.041\n",
       "2 0.631      0.45   0.113 0.05 \n",
       "3 0.664      0.502  0.114 0.051\n",
       "4 0.657      0.551  0.103 0.046\n",
       "5 0.511      0.3394 0.127 0.057\n",
       "7 NaN        NaN    NaN   NaN  "
      ]
     },
     "metadata": {},
     "output_type": "display_data"
    }
   ],
   "source": [
    "type <- rep(c(\"Gain\", \"Phase\"), each=(dim(VOG.data2)[1])/2)\n",
    "protocol <- rep(rep(c(\"OKR\", \"dVOR\", \"lVOR\"), each=5),2)\n",
    "condition <- rep(c(\"0 min\", \"15 min\", \"30 min\",\"45 min\",\"24 hr\"), 6) #rep(c(\"0.1Hz\", \"0.25Hz\", \"0.5Hz\",\"1.0Hz\"), 6)\n",
    "\n",
    "VOG.data2 <- cbind(type, protocol, condition, VOG.data2)\n",
    "head(VOG.data2)"
   ]
  },
  {
   "cell_type": "markdown",
   "metadata": {},
   "source": [
    "### Drop rows containing unmeasured protocol(s) "
   ]
  },
  {
   "cell_type": "code",
   "execution_count": 62,
   "metadata": {},
   "outputs": [
    {
     "data": {
      "text/html": [
       "<table>\n",
       "<caption>A data.frame: 10 × 11</caption>\n",
       "<thead>\n",
       "\t<tr><th scope=col>type</th><th scope=col>protocol</th><th scope=col>condition</th><th scope=col>G01_292_OL</th><th scope=col>G01_293_OL</th><th scope=col>G01_901_OL</th><th scope=col>G01_902_OL</th><th scope=col>G01_903_OL</th><th scope=col>Mean</th><th scope=col>S.D</th><th scope=col>S.E.M</th></tr>\n",
       "\t<tr><th scope=col>&lt;fct&gt;</th><th scope=col>&lt;fct&gt;</th><th scope=col>&lt;fct&gt;</th><th scope=col>&lt;chr&gt;</th><th scope=col>&lt;chr&gt;</th><th scope=col>&lt;chr&gt;</th><th scope=col>&lt;chr&gt;</th><th scope=col>&lt;chr&gt;</th><th scope=col>&lt;chr&gt;</th><th scope=col>&lt;chr&gt;</th><th scope=col>&lt;chr&gt;</th></tr>\n",
       "</thead>\n",
       "<tbody>\n",
       "\t<tr><td>Gain </td><td>OKR</td><td>0 min </td><td>0.217  </td><td>0.404  </td><td>0.347  </td><td>0.289  </td><td>0.452 </td><td>0.342  </td><td>0.093</td><td>0.041</td></tr>\n",
       "\t<tr><td>Gain </td><td>OKR</td><td>15 min</td><td>0.326  </td><td>0.397  </td><td>0.45   </td><td>0.445  </td><td>0.631 </td><td>0.45   </td><td>0.113</td><td>0.05 </td></tr>\n",
       "\t<tr><td>Gain </td><td>OKR</td><td>30 min</td><td>0.36   </td><td>0.434  </td><td>0.513  </td><td>0.537  </td><td>0.664 </td><td>0.502  </td><td>0.114</td><td>0.051</td></tr>\n",
       "\t<tr><td>Gain </td><td>OKR</td><td>45 min</td><td>0.381  </td><td>0.551  </td><td>0.582  </td><td>0.585  </td><td>0.657 </td><td>0.551  </td><td>0.103</td><td>0.046</td></tr>\n",
       "\t<tr><td>Gain </td><td>OKR</td><td>24 hr </td><td>0.293  </td><td>0.28   </td><td>0.19   </td><td>0.423  </td><td>0.511 </td><td>0.3394 </td><td>0.127</td><td>0.057</td></tr>\n",
       "\t<tr><td>Phase</td><td>OKR</td><td>0 min </td><td>-25.14 </td><td>-12.967</td><td>-14.733</td><td>-21.213</td><td>-21.67</td><td>-19.145</td><td>5.105</td><td>2.283</td></tr>\n",
       "\t<tr><td>Phase</td><td>OKR</td><td>15 min</td><td>-13.343</td><td>-11.827</td><td>-7.557 </td><td>-7     </td><td>-8.927</td><td>-9.731 </td><td>2.751</td><td>1.23 </td></tr>\n",
       "\t<tr><td>Phase</td><td>OKR</td><td>30 min</td><td>-11.367</td><td>-6.927 </td><td>-7.44  </td><td>-6.987 </td><td>-8.647</td><td>-8.274 </td><td>1.862</td><td>0.833</td></tr>\n",
       "\t<tr><td>Phase</td><td>OKR</td><td>45 min</td><td>-5.737 </td><td>-4.2   </td><td>-6.067 </td><td>-7.153 </td><td>-8.547</td><td>-6.341 </td><td>1.624</td><td>0.726</td></tr>\n",
       "\t<tr><td>Phase</td><td>OKR</td><td>24 hr </td><td>-13.526</td><td>-13.519</td><td>-3.061 </td><td>-7.8263</td><td>-6.481</td><td>-8.883 </td><td>4.578</td><td>2.047</td></tr>\n",
       "</tbody>\n",
       "</table>\n"
      ],
      "text/latex": [
       "A data.frame: 10 × 11\n",
       "\\begin{tabular}{lllllllllll}\n",
       " type & protocol & condition & G01\\_292\\_OL & G01\\_293\\_OL & G01\\_901\\_OL & G01\\_902\\_OL & G01\\_903\\_OL & Mean & S.D & S.E.M\\\\\n",
       " <fct> & <fct> & <fct> & <chr> & <chr> & <chr> & <chr> & <chr> & <chr> & <chr> & <chr>\\\\\n",
       "\\hline\n",
       "\t Gain  & OKR & 0 min  & 0.217   & 0.404   & 0.347   & 0.289   & 0.452  & 0.342   & 0.093 & 0.041\\\\\n",
       "\t Gain  & OKR & 15 min & 0.326   & 0.397   & 0.45    & 0.445   & 0.631  & 0.45    & 0.113 & 0.05 \\\\\n",
       "\t Gain  & OKR & 30 min & 0.36    & 0.434   & 0.513   & 0.537   & 0.664  & 0.502   & 0.114 & 0.051\\\\\n",
       "\t Gain  & OKR & 45 min & 0.381   & 0.551   & 0.582   & 0.585   & 0.657  & 0.551   & 0.103 & 0.046\\\\\n",
       "\t Gain  & OKR & 24 hr  & 0.293   & 0.28    & 0.19    & 0.423   & 0.511  & 0.3394  & 0.127 & 0.057\\\\\n",
       "\t Phase & OKR & 0 min  & -25.14  & -12.967 & -14.733 & -21.213 & -21.67 & -19.145 & 5.105 & 2.283\\\\\n",
       "\t Phase & OKR & 15 min & -13.343 & -11.827 & -7.557  & -7      & -8.927 & -9.731  & 2.751 & 1.23 \\\\\n",
       "\t Phase & OKR & 30 min & -11.367 & -6.927  & -7.44   & -6.987  & -8.647 & -8.274  & 1.862 & 0.833\\\\\n",
       "\t Phase & OKR & 45 min & -5.737  & -4.2    & -6.067  & -7.153  & -8.547 & -6.341  & 1.624 & 0.726\\\\\n",
       "\t Phase & OKR & 24 hr  & -13.526 & -13.519 & -3.061  & -7.8263 & -6.481 & -8.883  & 4.578 & 2.047\\\\\n",
       "\\end{tabular}\n"
      ],
      "text/markdown": [
       "\n",
       "A data.frame: 10 × 11\n",
       "\n",
       "| type &lt;fct&gt; | protocol &lt;fct&gt; | condition &lt;fct&gt; | G01_292_OL &lt;chr&gt; | G01_293_OL &lt;chr&gt; | G01_901_OL &lt;chr&gt; | G01_902_OL &lt;chr&gt; | G01_903_OL &lt;chr&gt; | Mean &lt;chr&gt; | S.D &lt;chr&gt; | S.E.M &lt;chr&gt; |\n",
       "|---|---|---|---|---|---|---|---|---|---|---|\n",
       "| Gain  | OKR | 0 min  | 0.217   | 0.404   | 0.347   | 0.289   | 0.452  | 0.342   | 0.093 | 0.041 |\n",
       "| Gain  | OKR | 15 min | 0.326   | 0.397   | 0.45    | 0.445   | 0.631  | 0.45    | 0.113 | 0.05  |\n",
       "| Gain  | OKR | 30 min | 0.36    | 0.434   | 0.513   | 0.537   | 0.664  | 0.502   | 0.114 | 0.051 |\n",
       "| Gain  | OKR | 45 min | 0.381   | 0.551   | 0.582   | 0.585   | 0.657  | 0.551   | 0.103 | 0.046 |\n",
       "| Gain  | OKR | 24 hr  | 0.293   | 0.28    | 0.19    | 0.423   | 0.511  | 0.3394  | 0.127 | 0.057 |\n",
       "| Phase | OKR | 0 min  | -25.14  | -12.967 | -14.733 | -21.213 | -21.67 | -19.145 | 5.105 | 2.283 |\n",
       "| Phase | OKR | 15 min | -13.343 | -11.827 | -7.557  | -7      | -8.927 | -9.731  | 2.751 | 1.23  |\n",
       "| Phase | OKR | 30 min | -11.367 | -6.927  | -7.44   | -6.987  | -8.647 | -8.274  | 1.862 | 0.833 |\n",
       "| Phase | OKR | 45 min | -5.737  | -4.2    | -6.067  | -7.153  | -8.547 | -6.341  | 1.624 | 0.726 |\n",
       "| Phase | OKR | 24 hr  | -13.526 | -13.519 | -3.061  | -7.8263 | -6.481 | -8.883  | 4.578 | 2.047 |\n",
       "\n"
      ],
      "text/plain": [
       "   type  protocol condition G01_292_OL G01_293_OL G01_901_OL G01_902_OL\n",
       "1  Gain  OKR      0 min     0.217      0.404      0.347      0.289     \n",
       "2  Gain  OKR      15 min    0.326      0.397      0.45       0.445     \n",
       "3  Gain  OKR      30 min    0.36       0.434      0.513      0.537     \n",
       "4  Gain  OKR      45 min    0.381      0.551      0.582      0.585     \n",
       "5  Gain  OKR      24 hr     0.293      0.28       0.19       0.423     \n",
       "6  Phase OKR      0 min     -25.14     -12.967    -14.733    -21.213   \n",
       "7  Phase OKR      15 min    -13.343    -11.827    -7.557     -7        \n",
       "8  Phase OKR      30 min    -11.367    -6.927     -7.44      -6.987    \n",
       "9  Phase OKR      45 min    -5.737     -4.2       -6.067     -7.153    \n",
       "10 Phase OKR      24 hr     -13.526    -13.519    -3.061     -7.8263   \n",
       "   G01_903_OL Mean    S.D   S.E.M\n",
       "1  0.452      0.342   0.093 0.041\n",
       "2  0.631      0.45    0.113 0.05 \n",
       "3  0.664      0.502   0.114 0.051\n",
       "4  0.657      0.551   0.103 0.046\n",
       "5  0.511      0.3394  0.127 0.057\n",
       "6  -21.67     -19.145 5.105 2.283\n",
       "7  -8.927     -9.731  2.751 1.23 \n",
       "8  -8.647     -8.274  1.862 0.833\n",
       "9  -8.547     -6.341  1.624 0.726\n",
       "10 -6.481     -8.883  4.578 2.047"
      ]
     },
     "metadata": {},
     "output_type": "display_data"
    }
   ],
   "source": [
    "VOG.data3 <- filter(VOG.data2, G01_292_OL!=\"NaN\")\n",
    "VOG.data3"
   ]
  },
  {
   "cell_type": "markdown",
   "metadata": {},
   "source": [
    "### Drop columns containing discriptive statistics"
   ]
  },
  {
   "cell_type": "code",
   "execution_count": 63,
   "metadata": {},
   "outputs": [
    {
     "data": {
      "text/html": [
       "<table>\n",
       "<caption>A data.frame: 10 × 8</caption>\n",
       "<thead>\n",
       "\t<tr><th scope=col>type</th><th scope=col>protocol</th><th scope=col>condition</th><th scope=col>G01_292_OL</th><th scope=col>G01_293_OL</th><th scope=col>G01_901_OL</th><th scope=col>G01_902_OL</th><th scope=col>G01_903_OL</th></tr>\n",
       "\t<tr><th scope=col>&lt;fct&gt;</th><th scope=col>&lt;fct&gt;</th><th scope=col>&lt;fct&gt;</th><th scope=col>&lt;chr&gt;</th><th scope=col>&lt;chr&gt;</th><th scope=col>&lt;chr&gt;</th><th scope=col>&lt;chr&gt;</th><th scope=col>&lt;chr&gt;</th></tr>\n",
       "</thead>\n",
       "<tbody>\n",
       "\t<tr><td>Gain </td><td>OKR</td><td>0 min </td><td>0.217  </td><td>0.404  </td><td>0.347  </td><td>0.289  </td><td>0.452 </td></tr>\n",
       "\t<tr><td>Gain </td><td>OKR</td><td>15 min</td><td>0.326  </td><td>0.397  </td><td>0.45   </td><td>0.445  </td><td>0.631 </td></tr>\n",
       "\t<tr><td>Gain </td><td>OKR</td><td>30 min</td><td>0.36   </td><td>0.434  </td><td>0.513  </td><td>0.537  </td><td>0.664 </td></tr>\n",
       "\t<tr><td>Gain </td><td>OKR</td><td>45 min</td><td>0.381  </td><td>0.551  </td><td>0.582  </td><td>0.585  </td><td>0.657 </td></tr>\n",
       "\t<tr><td>Gain </td><td>OKR</td><td>24 hr </td><td>0.293  </td><td>0.28   </td><td>0.19   </td><td>0.423  </td><td>0.511 </td></tr>\n",
       "\t<tr><td>Phase</td><td>OKR</td><td>0 min </td><td>-25.14 </td><td>-12.967</td><td>-14.733</td><td>-21.213</td><td>-21.67</td></tr>\n",
       "\t<tr><td>Phase</td><td>OKR</td><td>15 min</td><td>-13.343</td><td>-11.827</td><td>-7.557 </td><td>-7     </td><td>-8.927</td></tr>\n",
       "\t<tr><td>Phase</td><td>OKR</td><td>30 min</td><td>-11.367</td><td>-6.927 </td><td>-7.44  </td><td>-6.987 </td><td>-8.647</td></tr>\n",
       "\t<tr><td>Phase</td><td>OKR</td><td>45 min</td><td>-5.737 </td><td>-4.2   </td><td>-6.067 </td><td>-7.153 </td><td>-8.547</td></tr>\n",
       "\t<tr><td>Phase</td><td>OKR</td><td>24 hr </td><td>-13.526</td><td>-13.519</td><td>-3.061 </td><td>-7.8263</td><td>-6.481</td></tr>\n",
       "</tbody>\n",
       "</table>\n"
      ],
      "text/latex": [
       "A data.frame: 10 × 8\n",
       "\\begin{tabular}{llllllll}\n",
       " type & protocol & condition & G01\\_292\\_OL & G01\\_293\\_OL & G01\\_901\\_OL & G01\\_902\\_OL & G01\\_903\\_OL\\\\\n",
       " <fct> & <fct> & <fct> & <chr> & <chr> & <chr> & <chr> & <chr>\\\\\n",
       "\\hline\n",
       "\t Gain  & OKR & 0 min  & 0.217   & 0.404   & 0.347   & 0.289   & 0.452 \\\\\n",
       "\t Gain  & OKR & 15 min & 0.326   & 0.397   & 0.45    & 0.445   & 0.631 \\\\\n",
       "\t Gain  & OKR & 30 min & 0.36    & 0.434   & 0.513   & 0.537   & 0.664 \\\\\n",
       "\t Gain  & OKR & 45 min & 0.381   & 0.551   & 0.582   & 0.585   & 0.657 \\\\\n",
       "\t Gain  & OKR & 24 hr  & 0.293   & 0.28    & 0.19    & 0.423   & 0.511 \\\\\n",
       "\t Phase & OKR & 0 min  & -25.14  & -12.967 & -14.733 & -21.213 & -21.67\\\\\n",
       "\t Phase & OKR & 15 min & -13.343 & -11.827 & -7.557  & -7      & -8.927\\\\\n",
       "\t Phase & OKR & 30 min & -11.367 & -6.927  & -7.44   & -6.987  & -8.647\\\\\n",
       "\t Phase & OKR & 45 min & -5.737  & -4.2    & -6.067  & -7.153  & -8.547\\\\\n",
       "\t Phase & OKR & 24 hr  & -13.526 & -13.519 & -3.061  & -7.8263 & -6.481\\\\\n",
       "\\end{tabular}\n"
      ],
      "text/markdown": [
       "\n",
       "A data.frame: 10 × 8\n",
       "\n",
       "| type &lt;fct&gt; | protocol &lt;fct&gt; | condition &lt;fct&gt; | G01_292_OL &lt;chr&gt; | G01_293_OL &lt;chr&gt; | G01_901_OL &lt;chr&gt; | G01_902_OL &lt;chr&gt; | G01_903_OL &lt;chr&gt; |\n",
       "|---|---|---|---|---|---|---|---|\n",
       "| Gain  | OKR | 0 min  | 0.217   | 0.404   | 0.347   | 0.289   | 0.452  |\n",
       "| Gain  | OKR | 15 min | 0.326   | 0.397   | 0.45    | 0.445   | 0.631  |\n",
       "| Gain  | OKR | 30 min | 0.36    | 0.434   | 0.513   | 0.537   | 0.664  |\n",
       "| Gain  | OKR | 45 min | 0.381   | 0.551   | 0.582   | 0.585   | 0.657  |\n",
       "| Gain  | OKR | 24 hr  | 0.293   | 0.28    | 0.19    | 0.423   | 0.511  |\n",
       "| Phase | OKR | 0 min  | -25.14  | -12.967 | -14.733 | -21.213 | -21.67 |\n",
       "| Phase | OKR | 15 min | -13.343 | -11.827 | -7.557  | -7      | -8.927 |\n",
       "| Phase | OKR | 30 min | -11.367 | -6.927  | -7.44   | -6.987  | -8.647 |\n",
       "| Phase | OKR | 45 min | -5.737  | -4.2    | -6.067  | -7.153  | -8.547 |\n",
       "| Phase | OKR | 24 hr  | -13.526 | -13.519 | -3.061  | -7.8263 | -6.481 |\n",
       "\n"
      ],
      "text/plain": [
       "   type  protocol condition G01_292_OL G01_293_OL G01_901_OL G01_902_OL\n",
       "1  Gain  OKR      0 min     0.217      0.404      0.347      0.289     \n",
       "2  Gain  OKR      15 min    0.326      0.397      0.45       0.445     \n",
       "3  Gain  OKR      30 min    0.36       0.434      0.513      0.537     \n",
       "4  Gain  OKR      45 min    0.381      0.551      0.582      0.585     \n",
       "5  Gain  OKR      24 hr     0.293      0.28       0.19       0.423     \n",
       "6  Phase OKR      0 min     -25.14     -12.967    -14.733    -21.213   \n",
       "7  Phase OKR      15 min    -13.343    -11.827    -7.557     -7        \n",
       "8  Phase OKR      30 min    -11.367    -6.927     -7.44      -6.987    \n",
       "9  Phase OKR      45 min    -5.737     -4.2       -6.067     -7.153    \n",
       "10 Phase OKR      24 hr     -13.526    -13.519    -3.061     -7.8263   \n",
       "   G01_903_OL\n",
       "1  0.452     \n",
       "2  0.631     \n",
       "3  0.664     \n",
       "4  0.657     \n",
       "5  0.511     \n",
       "6  -21.67    \n",
       "7  -8.927    \n",
       "8  -8.647    \n",
       "9  -8.547    \n",
       "10 -6.481    "
      ]
     },
     "metadata": {},
     "output_type": "display_data"
    }
   ],
   "source": [
    "VOG.data3 <- VOG.data3[,1:(dim(VOG.data3)[2]-3)]\n",
    "VOG.data3"
   ]
  },
  {
   "cell_type": "markdown",
   "metadata": {},
   "source": [
    "### Covert from wide-format to long-format "
   ]
  },
  {
   "cell_type": "code",
   "execution_count": 64,
   "metadata": {},
   "outputs": [
    {
     "data": {
      "text/html": [
       "<table>\n",
       "<caption>A data.frame: 6 × 5</caption>\n",
       "<thead>\n",
       "\t<tr><th></th><th scope=col>id</th><th scope=col>type</th><th scope=col>protocol</th><th scope=col>condition</th><th scope=col>value</th></tr>\n",
       "\t<tr><th></th><th scope=col>&lt;fct&gt;</th><th scope=col>&lt;fct&gt;</th><th scope=col>&lt;fct&gt;</th><th scope=col>&lt;fct&gt;</th><th scope=col>&lt;dbl&gt;</th></tr>\n",
       "</thead>\n",
       "<tbody>\n",
       "\t<tr><th scope=row>1</th><td>G01_292_OL</td><td>Gain </td><td>OKR</td><td>0 min </td><td>  0.217</td></tr>\n",
       "\t<tr><th scope=row>2</th><td>G01_292_OL</td><td>Gain </td><td>OKR</td><td>15 min</td><td>  0.326</td></tr>\n",
       "\t<tr><th scope=row>3</th><td>G01_292_OL</td><td>Gain </td><td>OKR</td><td>30 min</td><td>  0.360</td></tr>\n",
       "\t<tr><th scope=row>4</th><td>G01_292_OL</td><td>Gain </td><td>OKR</td><td>45 min</td><td>  0.381</td></tr>\n",
       "\t<tr><th scope=row>5</th><td>G01_292_OL</td><td>Gain </td><td>OKR</td><td>24 hr </td><td>  0.293</td></tr>\n",
       "\t<tr><th scope=row>6</th><td>G01_292_OL</td><td>Phase</td><td>OKR</td><td>0 min </td><td>-25.140</td></tr>\n",
       "</tbody>\n",
       "</table>\n"
      ],
      "text/latex": [
       "A data.frame: 6 × 5\n",
       "\\begin{tabular}{r|lllll}\n",
       "  & id & type & protocol & condition & value\\\\\n",
       "  & <fct> & <fct> & <fct> & <fct> & <dbl>\\\\\n",
       "\\hline\n",
       "\t1 & G01\\_292\\_OL & Gain  & OKR & 0 min  &   0.217\\\\\n",
       "\t2 & G01\\_292\\_OL & Gain  & OKR & 15 min &   0.326\\\\\n",
       "\t3 & G01\\_292\\_OL & Gain  & OKR & 30 min &   0.360\\\\\n",
       "\t4 & G01\\_292\\_OL & Gain  & OKR & 45 min &   0.381\\\\\n",
       "\t5 & G01\\_292\\_OL & Gain  & OKR & 24 hr  &   0.293\\\\\n",
       "\t6 & G01\\_292\\_OL & Phase & OKR & 0 min  & -25.140\\\\\n",
       "\\end{tabular}\n"
      ],
      "text/markdown": [
       "\n",
       "A data.frame: 6 × 5\n",
       "\n",
       "| <!--/--> | id &lt;fct&gt; | type &lt;fct&gt; | protocol &lt;fct&gt; | condition &lt;fct&gt; | value &lt;dbl&gt; |\n",
       "|---|---|---|---|---|---|\n",
       "| 1 | G01_292_OL | Gain  | OKR | 0 min  |   0.217 |\n",
       "| 2 | G01_292_OL | Gain  | OKR | 15 min |   0.326 |\n",
       "| 3 | G01_292_OL | Gain  | OKR | 30 min |   0.360 |\n",
       "| 4 | G01_292_OL | Gain  | OKR | 45 min |   0.381 |\n",
       "| 5 | G01_292_OL | Gain  | OKR | 24 hr  |   0.293 |\n",
       "| 6 | G01_292_OL | Phase | OKR | 0 min  | -25.140 |\n",
       "\n"
      ],
      "text/plain": [
       "  id         type  protocol condition value  \n",
       "1 G01_292_OL Gain  OKR      0 min       0.217\n",
       "2 G01_292_OL Gain  OKR      15 min      0.326\n",
       "3 G01_292_OL Gain  OKR      30 min      0.360\n",
       "4 G01_292_OL Gain  OKR      45 min      0.381\n",
       "5 G01_292_OL Gain  OKR      24 hr       0.293\n",
       "6 G01_292_OL Phase OKR      0 min     -25.140"
      ]
     },
     "metadata": {},
     "output_type": "display_data"
    }
   ],
   "source": [
    "long.format.VOG.data <- melt(VOG.data3, id.vars = c(\"type\",\"protocol\",\"condition\"))\n",
    "long.format.VOG.data <- long.format.VOG.data %>% select(variable, type, protocol, condition, value) \n",
    "colnames(long.format.VOG.data)  <- c(\"id\", \"type\", \"protocol\",\"condition\", \"value\")\n",
    "long.format.VOG.data$value <- as.numeric(as.character(long.format.VOG.data$value))\n",
    "head(long.format.VOG.data)"
   ]
  },
  {
   "cell_type": "markdown",
   "metadata": {},
   "source": [
    "### Prepare Gain and Phase tables"
   ]
  },
  {
   "cell_type": "code",
   "execution_count": 67,
   "metadata": {},
   "outputs": [
    {
     "name": "stdout",
     "output_type": "stream",
     "text": [
      "'data.frame':\t25 obs. of  5 variables:\n",
      " $ id       : Factor w/ 5 levels \"G01_292_OL\",\"G01_293_OL\",..: 1 1 1 1 1 2 2 2 2 2 ...\n",
      " $ type     : Factor w/ 2 levels \"Gain\",\"Phase\": 1 1 1 1 1 1 1 1 1 1 ...\n",
      " $ protocol : Factor w/ 3 levels \"dVOR\",\"lVOR\",..: 3 3 3 3 3 3 3 3 3 3 ...\n",
      " $ condition: Factor w/ 5 levels \"0 min\",\"15 min\",..: 1 2 4 5 3 1 2 4 5 3 ...\n",
      " $ value    : num  0.217 0.326 0.36 0.381 0.293 0.404 0.397 0.434 0.551 0.28 ...\n",
      "'data.frame':\t25 obs. of  5 variables:\n",
      " $ id       : Factor w/ 5 levels \"G01_292_OL\",\"G01_293_OL\",..: 1 1 1 1 1 2 2 2 2 2 ...\n",
      " $ type     : Factor w/ 2 levels \"Gain\",\"Phase\": 2 2 2 2 2 2 2 2 2 2 ...\n",
      " $ protocol : Factor w/ 3 levels \"dVOR\",\"lVOR\",..: 3 3 3 3 3 3 3 3 3 3 ...\n",
      " $ condition: Factor w/ 5 levels \"0 min\",\"15 min\",..: 1 2 4 5 3 1 2 4 5 3 ...\n",
      " $ value    : num  -25.14 -13.34 -11.37 -5.74 -13.53 ...\n"
     ]
    }
   ],
   "source": [
    "Gain.table <- long.format.VOG.data %>% filter(type==\"Gain\")\n",
    "str(Gain.table)\n",
    "Phase.table <- long.format.VOG.data  %>% filter(type==\"Phase\")\n",
    "str(Phase.table)"
   ]
  },
  {
   "cell_type": "markdown",
   "metadata": {},
   "source": [
    "### Result Figures"
   ]
  },
  {
   "cell_type": "code",
   "execution_count": 70,
   "metadata": {},
   "outputs": [
    {
     "data": {
      "image/png": "[encoded data removed]",
      "text/plain": [
       "plot without title"
      ]
     },
     "metadata": {
      "image/png": {
       "height": 420,
       "width": 420
      }
     },
     "output_type": "display_data"
    },
    {
     "data": {
      "image/png": "[encoded data removed]",
      "text/plain": [
       "plot without title"
      ]
     },
     "metadata": {
      "image/png": {
       "height": 420,
       "width": 420
      }
     },
     "output_type": "display_data"
    }
   ],
   "source": [
    "g <- ggplot(Gain.table, aes(x=condition, y=value, color=id)) + theme_bw() + ylab(\"Gain\") + xlab(\"Time\")\n",
    "g <- g + geom_point(shape=1, size=7)\n",
    "g <- g + theme(axis.title.x=element_text(face=\"bold\",size=20),\n",
    "          axis.text.x=element_text(angle=30,size=16),\n",
    "          axis.title.y=element_text(face=\"bold\",size=20),\n",
    "          axis.text.y=element_text(size=16)) \n",
    "g + scale_x_discrete(limits=c(\"0 min\",\"15 min\", \"30 min\", \"45 min\", \"24 hr\")) #Change order of x axis manually\n",
    "p <- ggplot(Phase.table, aes(x=condition, y=value, color=id)) + theme_bw() + ylab(\"Phase(deg)\") + xlab(\"Time\")\n",
    "p <- p + geom_point(shape=1, size=7)\n",
    "p <- p + theme(axis.title.x=element_text(face=\"bold\",size=20),\n",
    "          axis.text.x=element_text(angle=30,size=16),\n",
    "          axis.title.y=element_text(face=\"bold\",size=20),\n",
    "          axis.text.y=element_text(size=16))\n",
    "p + scale_x_discrete(limits=c(\"0 min\",\"15 min\", \"30 min\", \"45 min\", \"24 hr\"))"
   ]
  },
  {
   "cell_type": "code",
   "execution_count": 74,
   "metadata": {},
   "outputs": [
    {
     "data": {
      "image/png": "[encoded data removed]",
      "text/plain": [
       "plot without title"
      ]
     },
     "metadata": {
      "image/png": {
       "height": 420,
       "width": 420
      }
     },
     "output_type": "display_data"
    }
   ],
   "source": [
    "g1 <- ggplot(Gain.table, aes(x=condition, y=value)) + geom_boxplot()\n",
    "g1 + scale_x_discrete(limits=c(\"0 min\", \"15 min\", \"30 min\", \"45 min\", \"24 hr\"))"
   ]
  },
  {
   "cell_type": "code",
   "execution_count": null,
   "metadata": {},
   "outputs": [],
   "source": []
  }
 ],
 "metadata": {
  "kernelspec": {
   "display_name": "R",
   "language": "R",
   "name": "ir"
  },
  "language_info": {
   "codemirror_mode": "r",
   "file_extension": ".r",
   "mimetype": "text/x-r-source",
   "name": "R",
   "pygments_lexer": "r",
   "version": "3.6.3"
  }
 },
 "nbformat": 4,
 "nbformat_minor": 4
}
