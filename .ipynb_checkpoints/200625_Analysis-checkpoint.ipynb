{
 "cells": [
  {
   "cell_type": "markdown",
   "metadata": {},
   "source": [
    "## Figure preparation for VOR/OKR data"
   ]
  },
  {
   "cell_type": "markdown",
   "metadata": {},
   "source": [
    "### Loading packages"
   ]
  },
  {
   "cell_type": "code",
   "execution_count": 1,
   "metadata": {},
   "outputs": [
    {
     "name": "stderr",
     "output_type": "stream",
     "text": [
      "Warning message:\n",
      "\"package 'tidyverse' was built under R version 3.4.3\"-- Attaching packages --------------------------------------- tidyverse 1.2.1 --\n",
      "v ggplot2 2.2.1     v purrr   0.2.4\n",
      "v tibble  1.4.1     v dplyr   0.7.4\n",
      "v tidyr   0.7.2     v stringr 1.3.0\n",
      "v readr   1.1.1     v forcats 0.2.0\n",
      "Warning message:\n",
      "\"package 'tibble' was built under R version 3.4.3\"Warning message:\n",
      "\"package 'tidyr' was built under R version 3.4.2\"Warning message:\n",
      "\"package 'readr' was built under R version 3.4.3\"Warning message:\n",
      "\"package 'purrr' was built under R version 3.4.2\"Warning message:\n",
      "\"package 'dplyr' was built under R version 3.4.3\"Warning message:\n",
      "\"package 'stringr' was built under R version 3.4.3\"Warning message:\n",
      "\"package 'forcats' was built under R version 3.4.2\"-- Conflicts ------------------------------------------ tidyverse_conflicts() --\n",
      "x dplyr::filter() masks stats::filter()\n",
      "x dplyr::lag()    masks stats::lag()\n",
      "Warning message:\n",
      "\"package 'ggpubr' was built under R version 3.4.2\"Loading required package: magrittr\n",
      "\n",
      "Attaching package: 'magrittr'\n",
      "\n",
      "The following object is masked from 'package:purrr':\n",
      "\n",
      "    set_names\n",
      "\n",
      "The following object is masked from 'package:tidyr':\n",
      "\n",
      "    extract\n",
      "\n",
      "Warning message:\n",
      "\"package 'reshape' was built under R version 3.4.2\"\n",
      "Attaching package: 'reshape'\n",
      "\n",
      "The following object is masked from 'package:dplyr':\n",
      "\n",
      "    rename\n",
      "\n",
      "The following objects are masked from 'package:tidyr':\n",
      "\n",
      "    expand, smiths\n",
      "\n"
     ]
    }
   ],
   "source": [
    "library(tidyverse) #for data manipulation and visualization\n",
    "library(ggpubr) #for creating easily publication ready plots\n",
    "library(reshape)\n",
    "library(ggplot2)"
   ]
  },
  {
   "cell_type": "markdown",
   "metadata": {},
   "source": [
    "### Import VOG data from VOG data Retriever"
   ]
  },
  {
   "cell_type": "code",
   "execution_count": 2,
   "metadata": {},
   "outputs": [
    {
     "data": {
      "text/html": [
       "<table>\n",
       "<thead><tr><th scope=col>G01_292_OL</th><th scope=col>G01_293_OL</th><th scope=col>G01_901_OL</th><th scope=col>G01_902_OL</th><th scope=col>G01_903_OL</th><th scope=col>Mean</th><th scope=col>S.D</th><th scope=col>S.E.M</th></tr></thead>\n",
       "<tbody>\n",
       "\t<tr><td>0.217  </td><td>0.404  </td><td>0.347  </td><td>0.289  </td><td>0.452  </td><td>0.342  </td><td>0.093  </td><td>0.041  </td></tr>\n",
       "\t<tr><td>0.326  </td><td>0.397  </td><td>0.45   </td><td>0.445  </td><td>0.631  </td><td>0.45   </td><td>0.113  </td><td>0.05   </td></tr>\n",
       "\t<tr><td>0.36   </td><td>0.434  </td><td>0.513  </td><td>0.537  </td><td>0.664  </td><td>0.502  </td><td>0.114  </td><td>0.051  </td></tr>\n",
       "\t<tr><td>0.381  </td><td>0.551  </td><td>0.582  </td><td>0.585  </td><td>0.657  </td><td>0.551  </td><td>0.103  </td><td>0.046  </td></tr>\n",
       "\t<tr><td>0.293  </td><td>0.28   </td><td>0.19   </td><td>0.423  </td><td>0.511  </td><td>0.3394 </td><td>0.127  </td><td>0.057  </td></tr>\n",
       "\t<tr><td>-----  </td><td>-----  </td><td>-----  </td><td>-----  </td><td>-----  </td><td>-----  </td><td>-----  </td><td>-----  </td></tr>\n",
       "\t<tr><td>NaN    </td><td>NaN    </td><td>NaN    </td><td>NaN    </td><td>NaN    </td><td>NaN    </td><td>NaN    </td><td>NaN    </td></tr>\n",
       "\t<tr><td>NaN    </td><td>NaN    </td><td>NaN    </td><td>NaN    </td><td>NaN    </td><td>NaN    </td><td>NaN    </td><td>NaN    </td></tr>\n",
       "\t<tr><td>NaN    </td><td>NaN    </td><td>NaN    </td><td>NaN    </td><td>NaN    </td><td>NaN    </td><td>NaN    </td><td>NaN    </td></tr>\n",
       "\t<tr><td>NaN    </td><td>NaN    </td><td>NaN    </td><td>NaN    </td><td>NaN    </td><td>NaN    </td><td>NaN    </td><td>NaN    </td></tr>\n",
       "\t<tr><td>NaN    </td><td>NaN    </td><td>NaN    </td><td>NaN    </td><td>NaN    </td><td>NaN    </td><td>NaN    </td><td>NaN    </td></tr>\n",
       "\t<tr><td>-----  </td><td>-----  </td><td>-----  </td><td>-----  </td><td>-----  </td><td>-----  </td><td>-----  </td><td>-----  </td></tr>\n",
       "\t<tr><td>NaN    </td><td>NaN    </td><td>NaN    </td><td>NaN    </td><td>NaN    </td><td>NaN    </td><td>NaN    </td><td>NaN    </td></tr>\n",
       "\t<tr><td>NaN    </td><td>NaN    </td><td>NaN    </td><td>NaN    </td><td>NaN    </td><td>NaN    </td><td>NaN    </td><td>NaN    </td></tr>\n",
       "\t<tr><td>NaN    </td><td>NaN    </td><td>NaN    </td><td>NaN    </td><td>NaN    </td><td>NaN    </td><td>NaN    </td><td>NaN    </td></tr>\n",
       "\t<tr><td>NaN    </td><td>NaN    </td><td>NaN    </td><td>NaN    </td><td>NaN    </td><td>NaN    </td><td>NaN    </td><td>NaN    </td></tr>\n",
       "\t<tr><td>NaN    </td><td>NaN    </td><td>NaN    </td><td>NaN    </td><td>NaN    </td><td>NaN    </td><td>NaN    </td><td>NaN    </td></tr>\n",
       "\t<tr><td>-----  </td><td>-----  </td><td>-----  </td><td>-----  </td><td>-----  </td><td>-----  </td><td>-----  </td><td>-----  </td></tr>\n",
       "\t<tr><td>-25.14 </td><td>-12.967</td><td>-14.733</td><td>-21.213</td><td>-21.67 </td><td>-19.145</td><td>5.105  </td><td>2.283  </td></tr>\n",
       "\t<tr><td>-13.343</td><td>-11.827</td><td>-7.557 </td><td>-7     </td><td>-8.927 </td><td>-9.731 </td><td>2.751  </td><td>1.23   </td></tr>\n",
       "\t<tr><td>-11.367</td><td>-6.927 </td><td>-7.44  </td><td>-6.987 </td><td>-8.647 </td><td>-8.274 </td><td>1.862  </td><td>0.833  </td></tr>\n",
       "\t<tr><td>-5.737 </td><td>-4.2   </td><td>-6.067 </td><td>-7.153 </td><td>-8.547 </td><td>-6.341 </td><td>1.624  </td><td>0.726  </td></tr>\n",
       "\t<tr><td>-13.526</td><td>-13.519</td><td>-3.061 </td><td>-7.8263</td><td>-6.481 </td><td>-8.883 </td><td>4.578  </td><td>2.047  </td></tr>\n",
       "\t<tr><td>-----  </td><td>-----  </td><td>-----  </td><td>-----  </td><td>-----  </td><td>-----  </td><td>-----  </td><td>-----  </td></tr>\n",
       "\t<tr><td>NaN    </td><td>NaN    </td><td>NaN    </td><td>NaN    </td><td>NaN    </td><td>NaN    </td><td>NaN    </td><td>NaN    </td></tr>\n",
       "\t<tr><td>NaN    </td><td>NaN    </td><td>NaN    </td><td>NaN    </td><td>NaN    </td><td>NaN    </td><td>NaN    </td><td>NaN    </td></tr>\n",
       "\t<tr><td>NaN    </td><td>NaN    </td><td>NaN    </td><td>NaN    </td><td>NaN    </td><td>NaN    </td><td>NaN    </td><td>NaN    </td></tr>\n",
       "\t<tr><td>NaN    </td><td>NaN    </td><td>NaN    </td><td>NaN    </td><td>NaN    </td><td>NaN    </td><td>NaN    </td><td>NaN    </td></tr>\n",
       "\t<tr><td>NaN    </td><td>NaN    </td><td>NaN    </td><td>NaN    </td><td>NaN    </td><td>NaN    </td><td>NaN    </td><td>NaN    </td></tr>\n",
       "\t<tr><td>-----  </td><td>-----  </td><td>-----  </td><td>-----  </td><td>-----  </td><td>-----  </td><td>-----  </td><td>-----  </td></tr>\n",
       "\t<tr><td>NaN    </td><td>NaN    </td><td>NaN    </td><td>NaN    </td><td>NaN    </td><td>NaN    </td><td>NaN    </td><td>NaN    </td></tr>\n",
       "\t<tr><td>NaN    </td><td>NaN    </td><td>NaN    </td><td>NaN    </td><td>NaN    </td><td>NaN    </td><td>NaN    </td><td>NaN    </td></tr>\n",
       "\t<tr><td>NaN    </td><td>NaN    </td><td>NaN    </td><td>NaN    </td><td>NaN    </td><td>NaN    </td><td>NaN    </td><td>NaN    </td></tr>\n",
       "\t<tr><td>NaN    </td><td>NaN    </td><td>NaN    </td><td>NaN    </td><td>NaN    </td><td>NaN    </td><td>NaN    </td><td>NaN    </td></tr>\n",
       "\t<tr><td>NaN    </td><td>NaN    </td><td>NaN    </td><td>NaN    </td><td>NaN    </td><td>NaN    </td><td>NaN    </td><td>NaN    </td></tr>\n",
       "\t<tr><td>-----  </td><td>-----  </td><td>-----  </td><td>-----  </td><td>-----  </td><td>-----  </td><td>-----  </td><td>-----  </td></tr>\n",
       "</tbody>\n",
       "</table>\n"
      ],
      "text/latex": [
       "\\begin{tabular}{r|llllllll}\n",
       " G01\\_292\\_OL & G01\\_293\\_OL & G01\\_901\\_OL & G01\\_902\\_OL & G01\\_903\\_OL & Mean & S.D & S.E.M\\\\\n",
       "\\hline\n",
       "\t 0.217   & 0.404   & 0.347   & 0.289   & 0.452   & 0.342   & 0.093   & 0.041  \\\\\n",
       "\t 0.326   & 0.397   & 0.45    & 0.445   & 0.631   & 0.45    & 0.113   & 0.05   \\\\\n",
       "\t 0.36    & 0.434   & 0.513   & 0.537   & 0.664   & 0.502   & 0.114   & 0.051  \\\\\n",
       "\t 0.381   & 0.551   & 0.582   & 0.585   & 0.657   & 0.551   & 0.103   & 0.046  \\\\\n",
       "\t 0.293   & 0.28    & 0.19    & 0.423   & 0.511   & 0.3394  & 0.127   & 0.057  \\\\\n",
       "\t -----   & -----   & -----   & -----   & -----   & -----   & -----   & -----  \\\\\n",
       "\t NaN     & NaN     & NaN     & NaN     & NaN     & NaN     & NaN     & NaN    \\\\\n",
       "\t NaN     & NaN     & NaN     & NaN     & NaN     & NaN     & NaN     & NaN    \\\\\n",
       "\t NaN     & NaN     & NaN     & NaN     & NaN     & NaN     & NaN     & NaN    \\\\\n",
       "\t NaN     & NaN     & NaN     & NaN     & NaN     & NaN     & NaN     & NaN    \\\\\n",
       "\t NaN     & NaN     & NaN     & NaN     & NaN     & NaN     & NaN     & NaN    \\\\\n",
       "\t -----   & -----   & -----   & -----   & -----   & -----   & -----   & -----  \\\\\n",
       "\t NaN     & NaN     & NaN     & NaN     & NaN     & NaN     & NaN     & NaN    \\\\\n",
       "\t NaN     & NaN     & NaN     & NaN     & NaN     & NaN     & NaN     & NaN    \\\\\n",
       "\t NaN     & NaN     & NaN     & NaN     & NaN     & NaN     & NaN     & NaN    \\\\\n",
       "\t NaN     & NaN     & NaN     & NaN     & NaN     & NaN     & NaN     & NaN    \\\\\n",
       "\t NaN     & NaN     & NaN     & NaN     & NaN     & NaN     & NaN     & NaN    \\\\\n",
       "\t -----   & -----   & -----   & -----   & -----   & -----   & -----   & -----  \\\\\n",
       "\t -25.14  & -12.967 & -14.733 & -21.213 & -21.67  & -19.145 & 5.105   & 2.283  \\\\\n",
       "\t -13.343 & -11.827 & -7.557  & -7      & -8.927  & -9.731  & 2.751   & 1.23   \\\\\n",
       "\t -11.367 & -6.927  & -7.44   & -6.987  & -8.647  & -8.274  & 1.862   & 0.833  \\\\\n",
       "\t -5.737  & -4.2    & -6.067  & -7.153  & -8.547  & -6.341  & 1.624   & 0.726  \\\\\n",
       "\t -13.526 & -13.519 & -3.061  & -7.8263 & -6.481  & -8.883  & 4.578   & 2.047  \\\\\n",
       "\t -----   & -----   & -----   & -----   & -----   & -----   & -----   & -----  \\\\\n",
       "\t NaN     & NaN     & NaN     & NaN     & NaN     & NaN     & NaN     & NaN    \\\\\n",
       "\t NaN     & NaN     & NaN     & NaN     & NaN     & NaN     & NaN     & NaN    \\\\\n",
       "\t NaN     & NaN     & NaN     & NaN     & NaN     & NaN     & NaN     & NaN    \\\\\n",
       "\t NaN     & NaN     & NaN     & NaN     & NaN     & NaN     & NaN     & NaN    \\\\\n",
       "\t NaN     & NaN     & NaN     & NaN     & NaN     & NaN     & NaN     & NaN    \\\\\n",
       "\t -----   & -----   & -----   & -----   & -----   & -----   & -----   & -----  \\\\\n",
       "\t NaN     & NaN     & NaN     & NaN     & NaN     & NaN     & NaN     & NaN    \\\\\n",
       "\t NaN     & NaN     & NaN     & NaN     & NaN     & NaN     & NaN     & NaN    \\\\\n",
       "\t NaN     & NaN     & NaN     & NaN     & NaN     & NaN     & NaN     & NaN    \\\\\n",
       "\t NaN     & NaN     & NaN     & NaN     & NaN     & NaN     & NaN     & NaN    \\\\\n",
       "\t NaN     & NaN     & NaN     & NaN     & NaN     & NaN     & NaN     & NaN    \\\\\n",
       "\t -----   & -----   & -----   & -----   & -----   & -----   & -----   & -----  \\\\\n",
       "\\end{tabular}\n"
      ],
      "text/markdown": [
       "\n",
       "G01_292_OL | G01_293_OL | G01_901_OL | G01_902_OL | G01_903_OL | Mean | S.D | S.E.M | \n",
       "|---|---|---|---|---|---|---|---|---|---|---|---|---|---|---|---|---|---|---|---|---|---|---|---|---|---|---|---|---|---|---|---|---|---|---|---|\n",
       "| 0.217   | 0.404   | 0.347   | 0.289   | 0.452   | 0.342   | 0.093   | 0.041   | \n",
       "| 0.326   | 0.397   | 0.45    | 0.445   | 0.631   | 0.45    | 0.113   | 0.05    | \n",
       "| 0.36    | 0.434   | 0.513   | 0.537   | 0.664   | 0.502   | 0.114   | 0.051   | \n",
       "| 0.381   | 0.551   | 0.582   | 0.585   | 0.657   | 0.551   | 0.103   | 0.046   | \n",
       "| 0.293   | 0.28    | 0.19    | 0.423   | 0.511   | 0.3394  | 0.127   | 0.057   | \n",
       "| -----   | -----   | -----   | -----   | -----   | -----   | -----   | -----   | \n",
       "| NaN     | NaN     | NaN     | NaN     | NaN     | NaN     | NaN     | NaN     | \n",
       "| NaN     | NaN     | NaN     | NaN     | NaN     | NaN     | NaN     | NaN     | \n",
       "| NaN     | NaN     | NaN     | NaN     | NaN     | NaN     | NaN     | NaN     | \n",
       "| NaN     | NaN     | NaN     | NaN     | NaN     | NaN     | NaN     | NaN     | \n",
       "| NaN     | NaN     | NaN     | NaN     | NaN     | NaN     | NaN     | NaN     | \n",
       "| -----   | -----   | -----   | -----   | -----   | -----   | -----   | -----   | \n",
       "| NaN     | NaN     | NaN     | NaN     | NaN     | NaN     | NaN     | NaN     | \n",
       "| NaN     | NaN     | NaN     | NaN     | NaN     | NaN     | NaN     | NaN     | \n",
       "| NaN     | NaN     | NaN     | NaN     | NaN     | NaN     | NaN     | NaN     | \n",
       "| NaN     | NaN     | NaN     | NaN     | NaN     | NaN     | NaN     | NaN     | \n",
       "| NaN     | NaN     | NaN     | NaN     | NaN     | NaN     | NaN     | NaN     | \n",
       "| -----   | -----   | -----   | -----   | -----   | -----   | -----   | -----   | \n",
       "| -25.14  | -12.967 | -14.733 | -21.213 | -21.67  | -19.145 | 5.105   | 2.283   | \n",
       "| -13.343 | -11.827 | -7.557  | -7      | -8.927  | -9.731  | 2.751   | 1.23    | \n",
       "| -11.367 | -6.927  | -7.44   | -6.987  | -8.647  | -8.274  | 1.862   | 0.833   | \n",
       "| -5.737  | -4.2    | -6.067  | -7.153  | -8.547  | -6.341  | 1.624   | 0.726   | \n",
       "| -13.526 | -13.519 | -3.061  | -7.8263 | -6.481  | -8.883  | 4.578   | 2.047   | \n",
       "| -----   | -----   | -----   | -----   | -----   | -----   | -----   | -----   | \n",
       "| NaN     | NaN     | NaN     | NaN     | NaN     | NaN     | NaN     | NaN     | \n",
       "| NaN     | NaN     | NaN     | NaN     | NaN     | NaN     | NaN     | NaN     | \n",
       "| NaN     | NaN     | NaN     | NaN     | NaN     | NaN     | NaN     | NaN     | \n",
       "| NaN     | NaN     | NaN     | NaN     | NaN     | NaN     | NaN     | NaN     | \n",
       "| NaN     | NaN     | NaN     | NaN     | NaN     | NaN     | NaN     | NaN     | \n",
       "| -----   | -----   | -----   | -----   | -----   | -----   | -----   | -----   | \n",
       "| NaN     | NaN     | NaN     | NaN     | NaN     | NaN     | NaN     | NaN     | \n",
       "| NaN     | NaN     | NaN     | NaN     | NaN     | NaN     | NaN     | NaN     | \n",
       "| NaN     | NaN     | NaN     | NaN     | NaN     | NaN     | NaN     | NaN     | \n",
       "| NaN     | NaN     | NaN     | NaN     | NaN     | NaN     | NaN     | NaN     | \n",
       "| NaN     | NaN     | NaN     | NaN     | NaN     | NaN     | NaN     | NaN     | \n",
       "| -----   | -----   | -----   | -----   | -----   | -----   | -----   | -----   | \n",
       "\n",
       "\n"
      ],
      "text/plain": [
       "   G01_292_OL G01_293_OL G01_901_OL G01_902_OL G01_903_OL Mean    S.D   S.E.M\n",
       "1  0.217      0.404      0.347      0.289      0.452      0.342   0.093 0.041\n",
       "2  0.326      0.397      0.45       0.445      0.631      0.45    0.113 0.05 \n",
       "3  0.36       0.434      0.513      0.537      0.664      0.502   0.114 0.051\n",
       "4  0.381      0.551      0.582      0.585      0.657      0.551   0.103 0.046\n",
       "5  0.293      0.28       0.19       0.423      0.511      0.3394  0.127 0.057\n",
       "6  -----      -----      -----      -----      -----      -----   ----- -----\n",
       "7  NaN        NaN        NaN        NaN        NaN        NaN     NaN   NaN  \n",
       "8  NaN        NaN        NaN        NaN        NaN        NaN     NaN   NaN  \n",
       "9  NaN        NaN        NaN        NaN        NaN        NaN     NaN   NaN  \n",
       "10 NaN        NaN        NaN        NaN        NaN        NaN     NaN   NaN  \n",
       "11 NaN        NaN        NaN        NaN        NaN        NaN     NaN   NaN  \n",
       "12 -----      -----      -----      -----      -----      -----   ----- -----\n",
       "13 NaN        NaN        NaN        NaN        NaN        NaN     NaN   NaN  \n",
       "14 NaN        NaN        NaN        NaN        NaN        NaN     NaN   NaN  \n",
       "15 NaN        NaN        NaN        NaN        NaN        NaN     NaN   NaN  \n",
       "16 NaN        NaN        NaN        NaN        NaN        NaN     NaN   NaN  \n",
       "17 NaN        NaN        NaN        NaN        NaN        NaN     NaN   NaN  \n",
       "18 -----      -----      -----      -----      -----      -----   ----- -----\n",
       "19 -25.14     -12.967    -14.733    -21.213    -21.67     -19.145 5.105 2.283\n",
       "20 -13.343    -11.827    -7.557     -7         -8.927     -9.731  2.751 1.23 \n",
       "21 -11.367    -6.927     -7.44      -6.987     -8.647     -8.274  1.862 0.833\n",
       "22 -5.737     -4.2       -6.067     -7.153     -8.547     -6.341  1.624 0.726\n",
       "23 -13.526    -13.519    -3.061     -7.8263    -6.481     -8.883  4.578 2.047\n",
       "24 -----      -----      -----      -----      -----      -----   ----- -----\n",
       "25 NaN        NaN        NaN        NaN        NaN        NaN     NaN   NaN  \n",
       "26 NaN        NaN        NaN        NaN        NaN        NaN     NaN   NaN  \n",
       "27 NaN        NaN        NaN        NaN        NaN        NaN     NaN   NaN  \n",
       "28 NaN        NaN        NaN        NaN        NaN        NaN     NaN   NaN  \n",
       "29 NaN        NaN        NaN        NaN        NaN        NaN     NaN   NaN  \n",
       "30 -----      -----      -----      -----      -----      -----   ----- -----\n",
       "31 NaN        NaN        NaN        NaN        NaN        NaN     NaN   NaN  \n",
       "32 NaN        NaN        NaN        NaN        NaN        NaN     NaN   NaN  \n",
       "33 NaN        NaN        NaN        NaN        NaN        NaN     NaN   NaN  \n",
       "34 NaN        NaN        NaN        NaN        NaN        NaN     NaN   NaN  \n",
       "35 NaN        NaN        NaN        NaN        NaN        NaN     NaN   NaN  \n",
       "36 -----      -----      -----      -----      -----      -----   ----- -----"
      ]
     },
     "metadata": {},
     "output_type": "display_data"
    }
   ],
   "source": [
    "VOG.data <- read.delim(file=\"C:/Users/KimYG/Documents/GitHub/Jupyter_notebook/VOGdata.txt\", sep = '\\t', stringsAsFactors = F, header=T)\n",
    "#read.delim(\"clipboard\", sep = '\\t', stringsAsFactors = F, header = T)\n",
    "VOG.data"
   ]
  },
  {
   "cell_type": "markdown",
   "metadata": {},
   "source": [
    "### Remove the separators in dataframe"
   ]
  },
  {
   "cell_type": "code",
   "execution_count": 3,
   "metadata": {},
   "outputs": [
    {
     "data": {
      "text/html": [
       "<ol class=list-inline>\n",
       "\t<li>30</li>\n",
       "\t<li>8</li>\n",
       "</ol>\n"
      ],
      "text/latex": [
       "\\begin{enumerate*}\n",
       "\\item 30\n",
       "\\item 8\n",
       "\\end{enumerate*}\n"
      ],
      "text/markdown": [
       "1. 30\n",
       "2. 8\n",
       "\n",
       "\n"
      ],
      "text/plain": [
       "[1] 30  8"
      ]
     },
     "metadata": {},
     "output_type": "display_data"
    }
   ],
   "source": [
    "VOG.data2 <- VOG.data[-c(6,12,18,24,30,36),]\n",
    "dim(VOG.data2)"
   ]
  },
  {
   "cell_type": "markdown",
   "metadata": {},
   "source": [
    "### Add type (Gain or Phase), protocol (OKR or dVOR or lVOR), stimulu condition (frequency)"
   ]
  },
  {
   "cell_type": "code",
   "execution_count": 4,
   "metadata": {},
   "outputs": [
    {
     "data": {
      "text/html": [
       "<table>\n",
       "<thead><tr><th></th><th scope=col>type</th><th scope=col>protocol</th><th scope=col>condition</th><th scope=col>G01_292_OL</th><th scope=col>G01_293_OL</th><th scope=col>G01_901_OL</th><th scope=col>G01_902_OL</th><th scope=col>G01_903_OL</th><th scope=col>Mean</th><th scope=col>S.D</th><th scope=col>S.E.M</th></tr></thead>\n",
       "<tbody>\n",
       "\t<tr><th scope=row>1</th><td>Gain  </td><td>OKR   </td><td>0 min </td><td>0.217 </td><td>0.404 </td><td>0.347 </td><td>0.289 </td><td>0.452 </td><td>0.342 </td><td>0.093 </td><td>0.041 </td></tr>\n",
       "\t<tr><th scope=row>2</th><td>Gain  </td><td>OKR   </td><td>15 min</td><td>0.326 </td><td>0.397 </td><td>0.45  </td><td>0.445 </td><td>0.631 </td><td>0.45  </td><td>0.113 </td><td>0.05  </td></tr>\n",
       "\t<tr><th scope=row>3</th><td>Gain  </td><td>OKR   </td><td>30 min</td><td>0.36  </td><td>0.434 </td><td>0.513 </td><td>0.537 </td><td>0.664 </td><td>0.502 </td><td>0.114 </td><td>0.051 </td></tr>\n",
       "\t<tr><th scope=row>4</th><td>Gain  </td><td>OKR   </td><td>45 min</td><td>0.381 </td><td>0.551 </td><td>0.582 </td><td>0.585 </td><td>0.657 </td><td>0.551 </td><td>0.103 </td><td>0.046 </td></tr>\n",
       "\t<tr><th scope=row>5</th><td>Gain  </td><td>OKR   </td><td>24 hr </td><td>0.293 </td><td>0.28  </td><td>0.19  </td><td>0.423 </td><td>0.511 </td><td>0.3394</td><td>0.127 </td><td>0.057 </td></tr>\n",
       "\t<tr><th scope=row>7</th><td>Gain  </td><td>dVOR  </td><td>0 min </td><td>NaN   </td><td>NaN   </td><td>NaN   </td><td>NaN   </td><td>NaN   </td><td>NaN   </td><td>NaN   </td><td>NaN   </td></tr>\n",
       "</tbody>\n",
       "</table>\n"
      ],
      "text/latex": [
       "\\begin{tabular}{r|lllllllllll}\n",
       "  & type & protocol & condition & G01\\_292\\_OL & G01\\_293\\_OL & G01\\_901\\_OL & G01\\_902\\_OL & G01\\_903\\_OL & Mean & S.D & S.E.M\\\\\n",
       "\\hline\n",
       "\t1 & Gain   & OKR    & 0 min  & 0.217  & 0.404  & 0.347  & 0.289  & 0.452  & 0.342  & 0.093  & 0.041 \\\\\n",
       "\t2 & Gain   & OKR    & 15 min & 0.326  & 0.397  & 0.45   & 0.445  & 0.631  & 0.45   & 0.113  & 0.05  \\\\\n",
       "\t3 & Gain   & OKR    & 30 min & 0.36   & 0.434  & 0.513  & 0.537  & 0.664  & 0.502  & 0.114  & 0.051 \\\\\n",
       "\t4 & Gain   & OKR    & 45 min & 0.381  & 0.551  & 0.582  & 0.585  & 0.657  & 0.551  & 0.103  & 0.046 \\\\\n",
       "\t5 & Gain   & OKR    & 24 hr  & 0.293  & 0.28   & 0.19   & 0.423  & 0.511  & 0.3394 & 0.127  & 0.057 \\\\\n",
       "\t7 & Gain   & dVOR   & 0 min  & NaN    & NaN    & NaN    & NaN    & NaN    & NaN    & NaN    & NaN   \\\\\n",
       "\\end{tabular}\n"
      ],
      "text/markdown": [
       "\n",
       "| <!--/--> | type | protocol | condition | G01_292_OL | G01_293_OL | G01_901_OL | G01_902_OL | G01_903_OL | Mean | S.D | S.E.M | \n",
       "|---|---|---|---|---|---|\n",
       "| 1 | Gain   | OKR    | 0 min  | 0.217  | 0.404  | 0.347  | 0.289  | 0.452  | 0.342  | 0.093  | 0.041  | \n",
       "| 2 | Gain   | OKR    | 15 min | 0.326  | 0.397  | 0.45   | 0.445  | 0.631  | 0.45   | 0.113  | 0.05   | \n",
       "| 3 | Gain   | OKR    | 30 min | 0.36   | 0.434  | 0.513  | 0.537  | 0.664  | 0.502  | 0.114  | 0.051  | \n",
       "| 4 | Gain   | OKR    | 45 min | 0.381  | 0.551  | 0.582  | 0.585  | 0.657  | 0.551  | 0.103  | 0.046  | \n",
       "| 5 | Gain   | OKR    | 24 hr  | 0.293  | 0.28   | 0.19   | 0.423  | 0.511  | 0.3394 | 0.127  | 0.057  | \n",
       "| 7 | Gain   | dVOR   | 0 min  | NaN    | NaN    | NaN    | NaN    | NaN    | NaN    | NaN    | NaN    | \n",
       "\n",
       "\n"
      ],
      "text/plain": [
       "  type protocol condition G01_292_OL G01_293_OL G01_901_OL G01_902_OL\n",
       "1 Gain OKR      0 min     0.217      0.404      0.347      0.289     \n",
       "2 Gain OKR      15 min    0.326      0.397      0.45       0.445     \n",
       "3 Gain OKR      30 min    0.36       0.434      0.513      0.537     \n",
       "4 Gain OKR      45 min    0.381      0.551      0.582      0.585     \n",
       "5 Gain OKR      24 hr     0.293      0.28       0.19       0.423     \n",
       "7 Gain dVOR     0 min     NaN        NaN        NaN        NaN       \n",
       "  G01_903_OL Mean   S.D   S.E.M\n",
       "1 0.452      0.342  0.093 0.041\n",
       "2 0.631      0.45   0.113 0.05 \n",
       "3 0.664      0.502  0.114 0.051\n",
       "4 0.657      0.551  0.103 0.046\n",
       "5 0.511      0.3394 0.127 0.057\n",
       "7 NaN        NaN    NaN   NaN  "
      ]
     },
     "metadata": {},
     "output_type": "display_data"
    }
   ],
   "source": [
    "type <- rep(c(\"Gain\", \"Phase\"), each=(dim(VOG.data2)[1])/2)\n",
    "protocol <- rep(rep(c(\"OKR\", \"dVOR\", \"lVOR\"), each=5),2)\n",
    "condition <- rep(c(\"0 min\", \"15 min\", \"30 min\",\"45 min\",\"24 hr\"), 6) #rep(c(\"0.1Hz\", \"0.25Hz\", \"0.5Hz\",\"1.0Hz\"), 6)\n",
    "\n",
    "VOG.data2 <- cbind(type, protocol, condition, VOG.data2)\n",
    "head(VOG.data2)"
   ]
  },
  {
   "cell_type": "markdown",
   "metadata": {},
   "source": [
    "### Drop rows containing unmeasured protocol(s) "
   ]
  },
  {
   "cell_type": "code",
   "execution_count": 5,
   "metadata": {},
   "outputs": [
    {
     "data": {
      "text/html": [
       "<table>\n",
       "<thead><tr><th scope=col>type</th><th scope=col>protocol</th><th scope=col>condition</th><th scope=col>G01_292_OL</th><th scope=col>G01_293_OL</th><th scope=col>G01_901_OL</th><th scope=col>G01_902_OL</th><th scope=col>G01_903_OL</th><th scope=col>Mean</th><th scope=col>S.D</th><th scope=col>S.E.M</th></tr></thead>\n",
       "<tbody>\n",
       "\t<tr><td>Gain   </td><td>OKR    </td><td>0 min  </td><td>0.217  </td><td>0.404  </td><td>0.347  </td><td>0.289  </td><td>0.452  </td><td>0.342  </td><td>0.093  </td><td>0.041  </td></tr>\n",
       "\t<tr><td>Gain   </td><td>OKR    </td><td>15 min </td><td>0.326  </td><td>0.397  </td><td>0.45   </td><td>0.445  </td><td>0.631  </td><td>0.45   </td><td>0.113  </td><td>0.05   </td></tr>\n",
       "\t<tr><td>Gain   </td><td>OKR    </td><td>30 min </td><td>0.36   </td><td>0.434  </td><td>0.513  </td><td>0.537  </td><td>0.664  </td><td>0.502  </td><td>0.114  </td><td>0.051  </td></tr>\n",
       "\t<tr><td>Gain   </td><td>OKR    </td><td>45 min </td><td>0.381  </td><td>0.551  </td><td>0.582  </td><td>0.585  </td><td>0.657  </td><td>0.551  </td><td>0.103  </td><td>0.046  </td></tr>\n",
       "\t<tr><td>Gain   </td><td>OKR    </td><td>24 hr  </td><td>0.293  </td><td>0.28   </td><td>0.19   </td><td>0.423  </td><td>0.511  </td><td>0.3394 </td><td>0.127  </td><td>0.057  </td></tr>\n",
       "\t<tr><td>Phase  </td><td>OKR    </td><td>0 min  </td><td>-25.14 </td><td>-12.967</td><td>-14.733</td><td>-21.213</td><td>-21.67 </td><td>-19.145</td><td>5.105  </td><td>2.283  </td></tr>\n",
       "\t<tr><td>Phase  </td><td>OKR    </td><td>15 min </td><td>-13.343</td><td>-11.827</td><td>-7.557 </td><td>-7     </td><td>-8.927 </td><td>-9.731 </td><td>2.751  </td><td>1.23   </td></tr>\n",
       "\t<tr><td>Phase  </td><td>OKR    </td><td>30 min </td><td>-11.367</td><td>-6.927 </td><td>-7.44  </td><td>-6.987 </td><td>-8.647 </td><td>-8.274 </td><td>1.862  </td><td>0.833  </td></tr>\n",
       "\t<tr><td>Phase  </td><td>OKR    </td><td>45 min </td><td>-5.737 </td><td>-4.2   </td><td>-6.067 </td><td>-7.153 </td><td>-8.547 </td><td>-6.341 </td><td>1.624  </td><td>0.726  </td></tr>\n",
       "\t<tr><td>Phase  </td><td>OKR    </td><td>24 hr  </td><td>-13.526</td><td>-13.519</td><td>-3.061 </td><td>-7.8263</td><td>-6.481 </td><td>-8.883 </td><td>4.578  </td><td>2.047  </td></tr>\n",
       "</tbody>\n",
       "</table>\n"
      ],
      "text/latex": [
       "\\begin{tabular}{r|lllllllllll}\n",
       " type & protocol & condition & G01\\_292\\_OL & G01\\_293\\_OL & G01\\_901\\_OL & G01\\_902\\_OL & G01\\_903\\_OL & Mean & S.D & S.E.M\\\\\n",
       "\\hline\n",
       "\t Gain    & OKR     & 0 min   & 0.217   & 0.404   & 0.347   & 0.289   & 0.452   & 0.342   & 0.093   & 0.041  \\\\\n",
       "\t Gain    & OKR     & 15 min  & 0.326   & 0.397   & 0.45    & 0.445   & 0.631   & 0.45    & 0.113   & 0.05   \\\\\n",
       "\t Gain    & OKR     & 30 min  & 0.36    & 0.434   & 0.513   & 0.537   & 0.664   & 0.502   & 0.114   & 0.051  \\\\\n",
       "\t Gain    & OKR     & 45 min  & 0.381   & 0.551   & 0.582   & 0.585   & 0.657   & 0.551   & 0.103   & 0.046  \\\\\n",
       "\t Gain    & OKR     & 24 hr   & 0.293   & 0.28    & 0.19    & 0.423   & 0.511   & 0.3394  & 0.127   & 0.057  \\\\\n",
       "\t Phase   & OKR     & 0 min   & -25.14  & -12.967 & -14.733 & -21.213 & -21.67  & -19.145 & 5.105   & 2.283  \\\\\n",
       "\t Phase   & OKR     & 15 min  & -13.343 & -11.827 & -7.557  & -7      & -8.927  & -9.731  & 2.751   & 1.23   \\\\\n",
       "\t Phase   & OKR     & 30 min  & -11.367 & -6.927  & -7.44   & -6.987  & -8.647  & -8.274  & 1.862   & 0.833  \\\\\n",
       "\t Phase   & OKR     & 45 min  & -5.737  & -4.2    & -6.067  & -7.153  & -8.547  & -6.341  & 1.624   & 0.726  \\\\\n",
       "\t Phase   & OKR     & 24 hr   & -13.526 & -13.519 & -3.061  & -7.8263 & -6.481  & -8.883  & 4.578   & 2.047  \\\\\n",
       "\\end{tabular}\n"
      ],
      "text/markdown": [
       "\n",
       "type | protocol | condition | G01_292_OL | G01_293_OL | G01_901_OL | G01_902_OL | G01_903_OL | Mean | S.D | S.E.M | \n",
       "|---|---|---|---|---|---|---|---|---|---|\n",
       "| Gain    | OKR     | 0 min   | 0.217   | 0.404   | 0.347   | 0.289   | 0.452   | 0.342   | 0.093   | 0.041   | \n",
       "| Gain    | OKR     | 15 min  | 0.326   | 0.397   | 0.45    | 0.445   | 0.631   | 0.45    | 0.113   | 0.05    | \n",
       "| Gain    | OKR     | 30 min  | 0.36    | 0.434   | 0.513   | 0.537   | 0.664   | 0.502   | 0.114   | 0.051   | \n",
       "| Gain    | OKR     | 45 min  | 0.381   | 0.551   | 0.582   | 0.585   | 0.657   | 0.551   | 0.103   | 0.046   | \n",
       "| Gain    | OKR     | 24 hr   | 0.293   | 0.28    | 0.19    | 0.423   | 0.511   | 0.3394  | 0.127   | 0.057   | \n",
       "| Phase   | OKR     | 0 min   | -25.14  | -12.967 | -14.733 | -21.213 | -21.67  | -19.145 | 5.105   | 2.283   | \n",
       "| Phase   | OKR     | 15 min  | -13.343 | -11.827 | -7.557  | -7      | -8.927  | -9.731  | 2.751   | 1.23    | \n",
       "| Phase   | OKR     | 30 min  | -11.367 | -6.927  | -7.44   | -6.987  | -8.647  | -8.274  | 1.862   | 0.833   | \n",
       "| Phase   | OKR     | 45 min  | -5.737  | -4.2    | -6.067  | -7.153  | -8.547  | -6.341  | 1.624   | 0.726   | \n",
       "| Phase   | OKR     | 24 hr   | -13.526 | -13.519 | -3.061  | -7.8263 | -6.481  | -8.883  | 4.578   | 2.047   | \n",
       "\n",
       "\n"
      ],
      "text/plain": [
       "   type  protocol condition G01_292_OL G01_293_OL G01_901_OL G01_902_OL\n",
       "1  Gain  OKR      0 min     0.217      0.404      0.347      0.289     \n",
       "2  Gain  OKR      15 min    0.326      0.397      0.45       0.445     \n",
       "3  Gain  OKR      30 min    0.36       0.434      0.513      0.537     \n",
       "4  Gain  OKR      45 min    0.381      0.551      0.582      0.585     \n",
       "5  Gain  OKR      24 hr     0.293      0.28       0.19       0.423     \n",
       "6  Phase OKR      0 min     -25.14     -12.967    -14.733    -21.213   \n",
       "7  Phase OKR      15 min    -13.343    -11.827    -7.557     -7        \n",
       "8  Phase OKR      30 min    -11.367    -6.927     -7.44      -6.987    \n",
       "9  Phase OKR      45 min    -5.737     -4.2       -6.067     -7.153    \n",
       "10 Phase OKR      24 hr     -13.526    -13.519    -3.061     -7.8263   \n",
       "   G01_903_OL Mean    S.D   S.E.M\n",
       "1  0.452      0.342   0.093 0.041\n",
       "2  0.631      0.45    0.113 0.05 \n",
       "3  0.664      0.502   0.114 0.051\n",
       "4  0.657      0.551   0.103 0.046\n",
       "5  0.511      0.3394  0.127 0.057\n",
       "6  -21.67     -19.145 5.105 2.283\n",
       "7  -8.927     -9.731  2.751 1.23 \n",
       "8  -8.647     -8.274  1.862 0.833\n",
       "9  -8.547     -6.341  1.624 0.726\n",
       "10 -6.481     -8.883  4.578 2.047"
      ]
     },
     "metadata": {},
     "output_type": "display_data"
    }
   ],
   "source": [
    "VOG.data3 <- filter(VOG.data2, G01_292_OL!=\"NaN\")\n",
    "VOG.data3"
   ]
  },
  {
   "cell_type": "markdown",
   "metadata": {},
   "source": [
    "### Drop columns containing discriptive statistics"
   ]
  },
  {
   "cell_type": "code",
   "execution_count": 6,
   "metadata": {},
   "outputs": [
    {
     "data": {
      "text/html": [
       "<table>\n",
       "<thead><tr><th scope=col>type</th><th scope=col>protocol</th><th scope=col>condition</th><th scope=col>G01_292_OL</th><th scope=col>G01_293_OL</th><th scope=col>G01_901_OL</th><th scope=col>G01_902_OL</th><th scope=col>G01_903_OL</th></tr></thead>\n",
       "<tbody>\n",
       "\t<tr><td>Gain   </td><td>OKR    </td><td>0 min  </td><td>0.217  </td><td>0.404  </td><td>0.347  </td><td>0.289  </td><td>0.452  </td></tr>\n",
       "\t<tr><td>Gain   </td><td>OKR    </td><td>15 min </td><td>0.326  </td><td>0.397  </td><td>0.45   </td><td>0.445  </td><td>0.631  </td></tr>\n",
       "\t<tr><td>Gain   </td><td>OKR    </td><td>30 min </td><td>0.36   </td><td>0.434  </td><td>0.513  </td><td>0.537  </td><td>0.664  </td></tr>\n",
       "\t<tr><td>Gain   </td><td>OKR    </td><td>45 min </td><td>0.381  </td><td>0.551  </td><td>0.582  </td><td>0.585  </td><td>0.657  </td></tr>\n",
       "\t<tr><td>Gain   </td><td>OKR    </td><td>24 hr  </td><td>0.293  </td><td>0.28   </td><td>0.19   </td><td>0.423  </td><td>0.511  </td></tr>\n",
       "\t<tr><td>Phase  </td><td>OKR    </td><td>0 min  </td><td>-25.14 </td><td>-12.967</td><td>-14.733</td><td>-21.213</td><td>-21.67 </td></tr>\n",
       "\t<tr><td>Phase  </td><td>OKR    </td><td>15 min </td><td>-13.343</td><td>-11.827</td><td>-7.557 </td><td>-7     </td><td>-8.927 </td></tr>\n",
       "\t<tr><td>Phase  </td><td>OKR    </td><td>30 min </td><td>-11.367</td><td>-6.927 </td><td>-7.44  </td><td>-6.987 </td><td>-8.647 </td></tr>\n",
       "\t<tr><td>Phase  </td><td>OKR    </td><td>45 min </td><td>-5.737 </td><td>-4.2   </td><td>-6.067 </td><td>-7.153 </td><td>-8.547 </td></tr>\n",
       "\t<tr><td>Phase  </td><td>OKR    </td><td>24 hr  </td><td>-13.526</td><td>-13.519</td><td>-3.061 </td><td>-7.8263</td><td>-6.481 </td></tr>\n",
       "</tbody>\n",
       "</table>\n"
      ],
      "text/latex": [
       "\\begin{tabular}{r|llllllll}\n",
       " type & protocol & condition & G01\\_292\\_OL & G01\\_293\\_OL & G01\\_901\\_OL & G01\\_902\\_OL & G01\\_903\\_OL\\\\\n",
       "\\hline\n",
       "\t Gain    & OKR     & 0 min   & 0.217   & 0.404   & 0.347   & 0.289   & 0.452  \\\\\n",
       "\t Gain    & OKR     & 15 min  & 0.326   & 0.397   & 0.45    & 0.445   & 0.631  \\\\\n",
       "\t Gain    & OKR     & 30 min  & 0.36    & 0.434   & 0.513   & 0.537   & 0.664  \\\\\n",
       "\t Gain    & OKR     & 45 min  & 0.381   & 0.551   & 0.582   & 0.585   & 0.657  \\\\\n",
       "\t Gain    & OKR     & 24 hr   & 0.293   & 0.28    & 0.19    & 0.423   & 0.511  \\\\\n",
       "\t Phase   & OKR     & 0 min   & -25.14  & -12.967 & -14.733 & -21.213 & -21.67 \\\\\n",
       "\t Phase   & OKR     & 15 min  & -13.343 & -11.827 & -7.557  & -7      & -8.927 \\\\\n",
       "\t Phase   & OKR     & 30 min  & -11.367 & -6.927  & -7.44   & -6.987  & -8.647 \\\\\n",
       "\t Phase   & OKR     & 45 min  & -5.737  & -4.2    & -6.067  & -7.153  & -8.547 \\\\\n",
       "\t Phase   & OKR     & 24 hr   & -13.526 & -13.519 & -3.061  & -7.8263 & -6.481 \\\\\n",
       "\\end{tabular}\n"
      ],
      "text/markdown": [
       "\n",
       "type | protocol | condition | G01_292_OL | G01_293_OL | G01_901_OL | G01_902_OL | G01_903_OL | \n",
       "|---|---|---|---|---|---|---|---|---|---|\n",
       "| Gain    | OKR     | 0 min   | 0.217   | 0.404   | 0.347   | 0.289   | 0.452   | \n",
       "| Gain    | OKR     | 15 min  | 0.326   | 0.397   | 0.45    | 0.445   | 0.631   | \n",
       "| Gain    | OKR     | 30 min  | 0.36    | 0.434   | 0.513   | 0.537   | 0.664   | \n",
       "| Gain    | OKR     | 45 min  | 0.381   | 0.551   | 0.582   | 0.585   | 0.657   | \n",
       "| Gain    | OKR     | 24 hr   | 0.293   | 0.28    | 0.19    | 0.423   | 0.511   | \n",
       "| Phase   | OKR     | 0 min   | -25.14  | -12.967 | -14.733 | -21.213 | -21.67  | \n",
       "| Phase   | OKR     | 15 min  | -13.343 | -11.827 | -7.557  | -7      | -8.927  | \n",
       "| Phase   | OKR     | 30 min  | -11.367 | -6.927  | -7.44   | -6.987  | -8.647  | \n",
       "| Phase   | OKR     | 45 min  | -5.737  | -4.2    | -6.067  | -7.153  | -8.547  | \n",
       "| Phase   | OKR     | 24 hr   | -13.526 | -13.519 | -3.061  | -7.8263 | -6.481  | \n",
       "\n",
       "\n"
      ],
      "text/plain": [
       "   type  protocol condition G01_292_OL G01_293_OL G01_901_OL G01_902_OL\n",
       "1  Gain  OKR      0 min     0.217      0.404      0.347      0.289     \n",
       "2  Gain  OKR      15 min    0.326      0.397      0.45       0.445     \n",
       "3  Gain  OKR      30 min    0.36       0.434      0.513      0.537     \n",
       "4  Gain  OKR      45 min    0.381      0.551      0.582      0.585     \n",
       "5  Gain  OKR      24 hr     0.293      0.28       0.19       0.423     \n",
       "6  Phase OKR      0 min     -25.14     -12.967    -14.733    -21.213   \n",
       "7  Phase OKR      15 min    -13.343    -11.827    -7.557     -7        \n",
       "8  Phase OKR      30 min    -11.367    -6.927     -7.44      -6.987    \n",
       "9  Phase OKR      45 min    -5.737     -4.2       -6.067     -7.153    \n",
       "10 Phase OKR      24 hr     -13.526    -13.519    -3.061     -7.8263   \n",
       "   G01_903_OL\n",
       "1  0.452     \n",
       "2  0.631     \n",
       "3  0.664     \n",
       "4  0.657     \n",
       "5  0.511     \n",
       "6  -21.67    \n",
       "7  -8.927    \n",
       "8  -8.647    \n",
       "9  -8.547    \n",
       "10 -6.481    "
      ]
     },
     "metadata": {},
     "output_type": "display_data"
    }
   ],
   "source": [
    "VOG.data3 <- VOG.data3[,1:(dim(VOG.data3)[2]-3)]\n",
    "VOG.data3"
   ]
  },
  {
   "cell_type": "markdown",
   "metadata": {},
   "source": [
    "### Covert from wide-format to long-format "
   ]
  },
  {
   "cell_type": "code",
   "execution_count": 7,
   "metadata": {},
   "outputs": [
    {
     "data": {
      "text/html": [
       "<table>\n",
       "<thead><tr><th scope=col>id</th><th scope=col>type</th><th scope=col>protocol</th><th scope=col>condition</th><th scope=col>value</th></tr></thead>\n",
       "<tbody>\n",
       "\t<tr><td>G01_292_OL</td><td>Gain      </td><td>OKR       </td><td>0 min     </td><td>  0.217   </td></tr>\n",
       "\t<tr><td>G01_292_OL</td><td>Gain      </td><td>OKR       </td><td>15 min    </td><td>  0.326   </td></tr>\n",
       "\t<tr><td>G01_292_OL</td><td>Gain      </td><td>OKR       </td><td>30 min    </td><td>  0.360   </td></tr>\n",
       "\t<tr><td>G01_292_OL</td><td>Gain      </td><td>OKR       </td><td>45 min    </td><td>  0.381   </td></tr>\n",
       "\t<tr><td>G01_292_OL</td><td>Gain      </td><td>OKR       </td><td>24 hr     </td><td>  0.293   </td></tr>\n",
       "\t<tr><td>G01_292_OL</td><td>Phase     </td><td>OKR       </td><td>0 min     </td><td>-25.140   </td></tr>\n",
       "</tbody>\n",
       "</table>\n"
      ],
      "text/latex": [
       "\\begin{tabular}{r|lllll}\n",
       " id & type & protocol & condition & value\\\\\n",
       "\\hline\n",
       "\t G01\\_292\\_OL & Gain           & OKR            & 0 min          &   0.217       \\\\\n",
       "\t G01\\_292\\_OL & Gain           & OKR            & 15 min         &   0.326       \\\\\n",
       "\t G01\\_292\\_OL & Gain           & OKR            & 30 min         &   0.360       \\\\\n",
       "\t G01\\_292\\_OL & Gain           & OKR            & 45 min         &   0.381       \\\\\n",
       "\t G01\\_292\\_OL & Gain           & OKR            & 24 hr          &   0.293       \\\\\n",
       "\t G01\\_292\\_OL & Phase          & OKR            & 0 min          & -25.140       \\\\\n",
       "\\end{tabular}\n"
      ],
      "text/markdown": [
       "\n",
       "id | type | protocol | condition | value | \n",
       "|---|---|---|---|---|---|\n",
       "| G01_292_OL | Gain       | OKR        | 0 min      |   0.217    | \n",
       "| G01_292_OL | Gain       | OKR        | 15 min     |   0.326    | \n",
       "| G01_292_OL | Gain       | OKR        | 30 min     |   0.360    | \n",
       "| G01_292_OL | Gain       | OKR        | 45 min     |   0.381    | \n",
       "| G01_292_OL | Gain       | OKR        | 24 hr      |   0.293    | \n",
       "| G01_292_OL | Phase      | OKR        | 0 min      | -25.140    | \n",
       "\n",
       "\n"
      ],
      "text/plain": [
       "  id         type  protocol condition value  \n",
       "1 G01_292_OL Gain  OKR      0 min       0.217\n",
       "2 G01_292_OL Gain  OKR      15 min      0.326\n",
       "3 G01_292_OL Gain  OKR      30 min      0.360\n",
       "4 G01_292_OL Gain  OKR      45 min      0.381\n",
       "5 G01_292_OL Gain  OKR      24 hr       0.293\n",
       "6 G01_292_OL Phase OKR      0 min     -25.140"
      ]
     },
     "metadata": {},
     "output_type": "display_data"
    }
   ],
   "source": [
    "long.format.VOG.data <- melt(VOG.data3, id.vars = c(\"type\",\"protocol\",\"condition\"))\n",
    "long.format.VOG.data <- long.format.VOG.data %>% select(variable, type, protocol, condition, value) \n",
    "colnames(long.format.VOG.data)  <- c(\"id\", \"type\", \"protocol\",\"condition\", \"value\")\n",
    "long.format.VOG.data$value <- as.numeric(as.character(long.format.VOG.data$value))\n",
    "head(long.format.VOG.data)"
   ]
  },
  {
   "cell_type": "markdown",
   "metadata": {},
   "source": [
    "### Prepare Gain and Phase tables"
   ]
  },
  {
   "cell_type": "code",
   "execution_count": 8,
   "metadata": {},
   "outputs": [
    {
     "name": "stdout",
     "output_type": "stream",
     "text": [
      "'data.frame':\t25 obs. of  5 variables:\n",
      " $ id       : Factor w/ 5 levels \"G01_292_OL\",\"G01_293_OL\",..: 1 1 1 1 1 2 2 2 2 2 ...\n",
      " $ type     : Factor w/ 2 levels \"Gain\",\"Phase\": 1 1 1 1 1 1 1 1 1 1 ...\n",
      " $ protocol : Factor w/ 3 levels \"dVOR\",\"lVOR\",..: 3 3 3 3 3 3 3 3 3 3 ...\n",
      " $ condition: Factor w/ 5 levels \"0 min\",\"15 min\",..: 1 2 4 5 3 1 2 4 5 3 ...\n",
      " $ value    : num  0.217 0.326 0.36 0.381 0.293 0.404 0.397 0.434 0.551 0.28 ...\n",
      "'data.frame':\t25 obs. of  5 variables:\n",
      " $ id       : Factor w/ 5 levels \"G01_292_OL\",\"G01_293_OL\",..: 1 1 1 1 1 2 2 2 2 2 ...\n",
      " $ type     : Factor w/ 2 levels \"Gain\",\"Phase\": 2 2 2 2 2 2 2 2 2 2 ...\n",
      " $ protocol : Factor w/ 3 levels \"dVOR\",\"lVOR\",..: 3 3 3 3 3 3 3 3 3 3 ...\n",
      " $ condition: Factor w/ 5 levels \"0 min\",\"15 min\",..: 1 2 4 5 3 1 2 4 5 3 ...\n",
      " $ value    : num  -25.14 -13.34 -11.37 -5.74 -13.53 ...\n"
     ]
    }
   ],
   "source": [
    "Gain.table <- long.format.VOG.data %>% filter(type==\"Gain\")\n",
    "str(Gain.table)\n",
    "Phase.table <- long.format.VOG.data  %>% filter(type==\"Phase\")\n",
    "str(Phase.table)"
   ]
  },
  {
   "cell_type": "markdown",
   "metadata": {},
   "source": [
    "### Result Figures"
   ]
  },
  {
   "cell_type": "code",
   "execution_count": 9,
   "metadata": {},
   "outputs": [
    {
     "data": {},
     "metadata": {},
     "output_type": "display_data"
    },
    {
     "data": {},
     "metadata": {},
     "output_type": "display_data"
    },
    {
     "data": {
      "image/png": "[encoded data removed]",
      "text/plain": [
       "plot without title"
      ]
     },
     "metadata": {},
     "output_type": "display_data"
    },
    {
     "data": {
      "image/png": "[encoded data removed]",
      "text/plain": [
       "plot without title"
      ]
     },
     "metadata": {},
     "output_type": "display_data"
    }
   ],
   "source": [
    "g <- ggplot(Gain.table, aes(x=condition, y=value, color=id)) + theme_bw() + ylab(\"Gain\") + xlab(\"Time\")\n",
    "g <- g + geom_point(shape=1, size=7)\n",
    "g <- g + theme(axis.title.x=element_text(face=\"bold\",size=20),\n",
    "          axis.text.x=element_text(angle=30,size=16),\n",
    "          axis.title.y=element_text(face=\"bold\",size=20),\n",
    "          axis.text.y=element_text(size=16)) \n",
    "g + scale_x_discrete(limits=c(\"0 min\",\"15 min\", \"30 min\", \"45 min\", \"24 hr\")) #Change order of x axis manually\n",
    "p <- ggplot(Phase.table, aes(x=condition, y=value, color=id)) + theme_bw() + ylab(\"Phase(deg)\") + xlab(\"Time\")\n",
    "p <- p + geom_point(shape=1, size=7)\n",
    "p <- p + theme(axis.title.x=element_text(face=\"bold\",size=20),\n",
    "          axis.text.x=element_text(angle=30,size=16),\n",
    "          axis.title.y=element_text(face=\"bold\",size=20),\n",
    "          axis.text.y=element_text(size=16))\n",
    "p + scale_x_discrete(limits=c(\"0 min\",\"15 min\", \"30 min\", \"45 min\", \"24 hr\"))"
   ]
  },
  {
   "cell_type": "code",
   "execution_count": 10,
   "metadata": {},
   "outputs": [
    {
     "data": {},
     "metadata": {},
     "output_type": "display_data"
    },
    {
     "data": {
      "image/png": "[encoded data removed]",
      "text/plain": [
       "plot without title"
      ]
     },
     "metadata": {},
     "output_type": "display_data"
    }
   ],
   "source": [
    "g1 <- ggplot(Gain.table, aes(x=condition, y=value)) + geom_boxplot() + ylab(\"Gain\") + xlab(\"Time\")\n",
    "g1 + scale_x_discrete(limits=c(\"0 min\", \"15 min\", \"30 min\", \"45 min\", \"24 hr\")) + \n",
    "        theme(axis.title.x=element_text(face=\"bold\",size=20),\n",
    "              axis.text.x=element_text(angle=30,size=16),\n",
    "              axis.title.y=element_text(face=\"bold\",size=20),\n",
    "              axis.text.y=element_text(size=16))"
   ]
  },
  {
   "cell_type": "code",
   "execution_count": 11,
   "metadata": {},
   "outputs": [
    {
     "data": {},
     "metadata": {},
     "output_type": "display_data"
    },
    {
     "data": {
      "image/png": "[encoded data removed]",
      "text/plain": [
       "plot without title"
      ]
     },
     "metadata": {},
     "output_type": "display_data"
    }
   ],
   "source": [
    "p1 <- ggplot(Phase.table, aes(x=condition, y=value)) + geom_boxplot() + ylab(\"Phase (deg)\") + xlab(\"Time\")\n",
    "p1 + scale_x_discrete(limits=c(\"0 min\", \"15 min\", \"30 min\", \"45 min\", \"24 hr\")) + \n",
    "        theme(axis.title.x=element_text(face=\"bold\",size=20),\n",
    "              axis.text.x=element_text(angle=30,size=16),\n",
    "              axis.title.y=element_text(face=\"bold\",size=20),\n",
    "              axis.text.y=element_text(size=16))"
   ]
  },
  {
   "cell_type": "markdown",
   "metadata": {},
   "source": [
    "### Hypothesis Testing using Linear Mixed Model"
   ]
  },
  {
   "cell_type": "code",
   "execution_count": 12,
   "metadata": {},
   "outputs": [
    {
     "name": "stderr",
     "output_type": "stream",
     "text": [
      "Warning message:\n",
      "\"package 'lme4' was built under R version 3.4.4\"Loading required package: Matrix\n",
      "\n",
      "Attaching package: 'Matrix'\n",
      "\n",
      "The following object is masked from 'package:reshape':\n",
      "\n",
      "    expand\n",
      "\n",
      "The following object is masked from 'package:tidyr':\n",
      "\n",
      "    expand\n",
      "\n",
      "\n",
      "Attaching package: 'nlme'\n",
      "\n",
      "The following object is masked from 'package:lme4':\n",
      "\n",
      "    lmList\n",
      "\n",
      "The following object is masked from 'package:dplyr':\n",
      "\n",
      "    collapse\n",
      "\n",
      "Warning message:\n",
      "\"package 'multcomp' was built under R version 3.4.2\"Loading required package: mvtnorm\n",
      "Loading required package: survival\n",
      "Loading required package: TH.data\n",
      "Warning message:\n",
      "\"package 'TH.data' was built under R version 3.4.2\"Loading required package: MASS\n",
      "\n",
      "Attaching package: 'MASS'\n",
      "\n",
      "The following object is masked from 'package:dplyr':\n",
      "\n",
      "    select\n",
      "\n",
      "\n",
      "Attaching package: 'TH.data'\n",
      "\n",
      "The following object is masked from 'package:MASS':\n",
      "\n",
      "    geyser\n",
      "\n"
     ]
    }
   ],
   "source": [
    "library(lme4)\n",
    "library(nlme)\n",
    "library(multcomp)"
   ]
  },
  {
   "cell_type": "code",
   "execution_count": 13,
   "metadata": {},
   "outputs": [
    {
     "data": {
      "text/html": [
       "<table>\n",
       "<thead><tr><th></th><th scope=col>numDF</th><th scope=col>denDF</th><th scope=col>F-value</th><th scope=col>p-value</th></tr></thead>\n",
       "<tbody>\n",
       "\t<tr><th scope=row>(Intercept)</th><td>1           </td><td>16          </td><td>101.88361   </td><td>2.412053e-08</td></tr>\n",
       "\t<tr><th scope=row>condition</th><td>4           </td><td>16          </td><td> 12.57412   </td><td>8.136021e-05</td></tr>\n",
       "</tbody>\n",
       "</table>\n"
      ],
      "text/latex": [
       "\\begin{tabular}{r|llll}\n",
       "  & numDF & denDF & F-value & p-value\\\\\n",
       "\\hline\n",
       "\t(Intercept) & 1            & 16           & 101.88361    & 2.412053e-08\\\\\n",
       "\tcondition & 4            & 16           &  12.57412    & 8.136021e-05\\\\\n",
       "\\end{tabular}\n"
      ],
      "text/markdown": [
       "\n",
       "| <!--/--> | numDF | denDF | F-value | p-value | \n",
       "|---|---|\n",
       "| (Intercept) | 1            | 16           | 101.88361    | 2.412053e-08 | \n",
       "| condition | 4            | 16           |  12.57412    | 8.136021e-05 | \n",
       "\n",
       "\n"
      ],
      "text/plain": [
       "            numDF denDF F-value   p-value     \n",
       "(Intercept) 1     16    101.88361 2.412053e-08\n",
       "condition   4     16     12.57412 8.136021e-05"
      ]
     },
     "metadata": {},
     "output_type": "display_data"
    },
    {
     "data": {
      "text/html": [
       "<table>\n",
       "<thead><tr><th></th><th scope=col>numDF</th><th scope=col>denDF</th><th scope=col>F-value</th><th scope=col>p-value</th></tr></thead>\n",
       "<tbody>\n",
       "\t<tr><th scope=row>(Intercept)</th><td>1           </td><td>16          </td><td>114.3093    </td><td>1.074929e-08</td></tr>\n",
       "\t<tr><th scope=row>condition</th><td>4           </td><td>16          </td><td> 13.6526    </td><td>4.995420e-05</td></tr>\n",
       "</tbody>\n",
       "</table>\n"
      ],
      "text/latex": [
       "\\begin{tabular}{r|llll}\n",
       "  & numDF & denDF & F-value & p-value\\\\\n",
       "\\hline\n",
       "\t(Intercept) & 1            & 16           & 114.3093     & 1.074929e-08\\\\\n",
       "\tcondition & 4            & 16           &  13.6526     & 4.995420e-05\\\\\n",
       "\\end{tabular}\n"
      ],
      "text/markdown": [
       "\n",
       "| <!--/--> | numDF | denDF | F-value | p-value | \n",
       "|---|---|\n",
       "| (Intercept) | 1            | 16           | 114.3093     | 1.074929e-08 | \n",
       "| condition | 4            | 16           |  13.6526     | 4.995420e-05 | \n",
       "\n",
       "\n"
      ],
      "text/plain": [
       "            numDF denDF F-value  p-value     \n",
       "(Intercept) 1     16    114.3093 1.074929e-08\n",
       "condition   4     16     13.6526 4.995420e-05"
      ]
     },
     "metadata": {},
     "output_type": "display_data"
    }
   ],
   "source": [
    "LMM.Gain <- lme(value ~ condition, random=~1|id, data=Gain.table, na.action=\"na.omit\")\n",
    "LMM.Phase <- lme(value ~ condition, random=~1|id, data=Phase.table, na.action=\"na.omit\")\n",
    "\n",
    "av.Gain <- anova(LMM.Gain)\n",
    "av.Phase <- anova(LMM.Phase)\n",
    "\n",
    "av.Gain\n",
    "av.Phase"
   ]
  },
  {
   "cell_type": "code",
   "execution_count": 14,
   "metadata": {},
   "outputs": [
    {
     "data": {
      "text/plain": [
       "\n",
       "\t Simultaneous Tests for General Linear Hypotheses\n",
       "\n",
       "Multiple Comparisons of Means: Tukey Contrasts\n",
       "\n",
       "\n",
       "Fit: lme.formula(fixed = value ~ condition, data = Gain.table, random = ~1 | \n",
       "    id, na.action = \"na.omit\")\n",
       "\n",
       "Linear Hypotheses:\n",
       "                     Estimate Std. Error z value Pr(>|z|)    \n",
       "15 min - 0 min == 0   0.10800    0.03782   2.856   0.0349 *  \n",
       "24 hr - 0 min == 0   -0.00240    0.03782  -0.063   1.0000    \n",
       "30 min - 0 min == 0   0.15980    0.03782   4.225   <0.001 ***\n",
       "45 min - 0 min == 0   0.20940    0.03782   5.537   <0.001 ***\n",
       "24 hr - 15 min == 0  -0.11040    0.03782  -2.919   0.0290 *  \n",
       "30 min - 15 min == 0  0.05180    0.03782   1.370   0.6472    \n",
       "45 min - 15 min == 0  0.10140    0.03782   2.681   0.0568 .  \n",
       "30 min - 24 hr == 0   0.16220    0.03782   4.289   <0.001 ***\n",
       "45 min - 24 hr == 0   0.21180    0.03782   5.600   <0.001 ***\n",
       "45 min - 30 min == 0  0.04960    0.03782   1.312   0.6840    \n",
       "---\n",
       "Signif. codes:  0 '***' 0.001 '**' 0.01 '*' 0.05 '.' 0.1 ' ' 1\n",
       "(Adjusted p values reported -- single-step method)\n"
      ]
     },
     "metadata": {},
     "output_type": "display_data"
    }
   ],
   "source": [
    "comp.condition <- glht(LMM.Gain, linfct=mcp(condition=\"Tukey\"))\n",
    "\n",
    "summary(comp.condition)"
   ]
  },
  {
   "cell_type": "code",
   "execution_count": 15,
   "metadata": {},
   "outputs": [
    {
     "data": {
      "text/plain": [
       "\n",
       "\t Simultaneous Tests for General Linear Hypotheses\n",
       "\n",
       "Multiple Comparisons of Means: Tukey Contrasts\n",
       "\n",
       "\n",
       "Fit: lme.formula(fixed = value ~ condition, data = Phase.table, random = ~1 | \n",
       "    id, na.action = \"na.omit\")\n",
       "\n",
       "Linear Hypotheses:\n",
       "                     Estimate Std. Error z value Pr(>|z|)    \n",
       "15 min - 0 min == 0    9.4138     1.9155   4.914   <1e-04 ***\n",
       "24 hr - 0 min == 0    10.2619     1.9155   5.357   <1e-04 ***\n",
       "30 min - 0 min == 0   10.8710     1.9155   5.675   <1e-04 ***\n",
       "45 min - 0 min == 0   12.8038     1.9155   6.684   <1e-04 ***\n",
       "24 hr - 15 min == 0    0.8481     1.9155   0.443    0.992    \n",
       "30 min - 15 min == 0   1.4572     1.9155   0.761    0.942    \n",
       "45 min - 15 min == 0   3.3900     1.9155   1.770    0.391    \n",
       "30 min - 24 hr == 0    0.6091     1.9155   0.318    0.998    \n",
       "45 min - 24 hr == 0    2.5419     1.9155   1.327    0.674    \n",
       "45 min - 30 min == 0   1.9328     1.9155   1.009    0.851    \n",
       "---\n",
       "Signif. codes:  0 '***' 0.001 '**' 0.01 '*' 0.05 '.' 0.1 ' ' 1\n",
       "(Adjusted p values reported -- single-step method)\n"
      ]
     },
     "metadata": {},
     "output_type": "display_data"
    }
   ],
   "source": [
    "comp.condition2 <- glht(LMM.Phase, linfct=mcp(condition=\"Tukey\"))\n",
    "\n",
    "summary(comp.condition2)"
   ]
  },
  {
   "cell_type": "code",
   "execution_count": null,
   "metadata": {
    "collapsed": true
   },
   "outputs": [],
   "source": []
  }
 ],
 "metadata": {
  "anaconda-cloud": {},
  "kernelspec": {
   "display_name": "R",
   "language": "R",
   "name": "ir"
  },
  "language_info": {
   "codemirror_mode": "r",
   "file_extension": ".r",
   "mimetype": "text/x-r-source",
   "name": "R",
   "pygments_lexer": "r",
   "version": "3.4.1"
  }
 },
 "nbformat": 4,
 "nbformat_minor": 4
}
