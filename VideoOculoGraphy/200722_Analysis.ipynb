{
 "cells": [
  {
   "cell_type": "markdown",
   "metadata": {},
   "source": [
    "## Figure preparation for VOR/OKR data"
   ]
  },
  {
   "cell_type": "markdown",
   "metadata": {},
   "source": [
    "### Loading packages"
   ]
  },
  {
   "cell_type": "code",
   "execution_count": 1,
   "metadata": {},
   "outputs": [
    {
     "name": "stderr",
     "output_type": "stream",
     "text": [
      "Warning message:\n",
      "\"package 'tidyverse' was built under R version 3.4.3\"-- Attaching packages --------------------------------------- tidyverse 1.2.1 --\n",
      "v ggplot2 2.2.1     v purrr   0.2.4\n",
      "v tibble  1.4.1     v dplyr   0.7.4\n",
      "v tidyr   0.7.2     v stringr 1.3.0\n",
      "v readr   1.1.1     v forcats 0.2.0\n",
      "Warning message:\n",
      "\"package 'tibble' was built under R version 3.4.3\"Warning message:\n",
      "\"package 'tidyr' was built under R version 3.4.2\"Warning message:\n",
      "\"package 'readr' was built under R version 3.4.3\"Warning message:\n",
      "\"package 'purrr' was built under R version 3.4.2\"Warning message:\n",
      "\"package 'dplyr' was built under R version 3.4.3\"Warning message:\n",
      "\"package 'stringr' was built under R version 3.4.3\"Warning message:\n",
      "\"package 'forcats' was built under R version 3.4.2\"-- Conflicts ------------------------------------------ tidyverse_conflicts() --\n",
      "x dplyr::filter() masks stats::filter()\n",
      "x dplyr::lag()    masks stats::lag()\n",
      "Warning message:\n",
      "\"package 'ggpubr' was built under R version 3.4.2\"Loading required package: magrittr\n",
      "\n",
      "Attaching package: 'magrittr'\n",
      "\n",
      "The following object is masked from 'package:purrr':\n",
      "\n",
      "    set_names\n",
      "\n",
      "The following object is masked from 'package:tidyr':\n",
      "\n",
      "    extract\n",
      "\n",
      "Warning message:\n",
      "\"package 'reshape' was built under R version 3.4.2\"\n",
      "Attaching package: 'reshape'\n",
      "\n",
      "The following object is masked from 'package:dplyr':\n",
      "\n",
      "    rename\n",
      "\n",
      "The following objects are masked from 'package:tidyr':\n",
      "\n",
      "    expand, smiths\n",
      "\n"
     ]
    }
   ],
   "source": [
    "library(tidyverse) #for data manipulation and visualization\n",
    "library(ggpubr) #for creating easily publication ready plots\n",
    "library(reshape)\n",
    "library(ggplot2)"
   ]
  },
  {
   "cell_type": "markdown",
   "metadata": {},
   "source": [
    "### Import VOG data from VOG data Retriever"
   ]
  },
  {
   "cell_type": "code",
   "execution_count": 2,
   "metadata": {},
   "outputs": [
    {
     "data": {
      "text/html": [
       "<table>\n",
       "<thead><tr><th scope=col>G01_293_OL</th><th scope=col>G01_901_OL</th><th scope=col>G01_903_OL</th><th scope=col>G01_292_OL</th><th scope=col>G01_902_OL</th><th scope=col>Mean</th><th scope=col>S.D</th><th scope=col>S.E.M</th></tr></thead>\n",
       "<tbody>\n",
       "\t<tr><td>0.152  </td><td>0.187  </td><td>0.505  </td><td>0.301  </td><td>0.261  </td><td>0.281  </td><td>0.138  </td><td>0.062  </td></tr>\n",
       "\t<tr><td>0.292  </td><td>0.271  </td><td>0.625  </td><td>0.374  </td><td>0.396  </td><td>0.392  </td><td>0.141  </td><td>0.063  </td></tr>\n",
       "\t<tr><td>0.488  </td><td>0.415  </td><td>0.651  </td><td>0.545  </td><td>0.619  </td><td>0.544  </td><td>0.096  </td><td>0.043  </td></tr>\n",
       "\t<tr><td>0.463  </td><td>0.433  </td><td>0.692  </td><td>0.617  </td><td>0.687  </td><td>0.578  </td><td>0.123  </td><td>0.055  </td></tr>\n",
       "\t<tr><td>0.348  </td><td>0.478  </td><td>0.681  </td><td>0.479  </td><td>0.634  </td><td>0.524  </td><td>0.134  </td><td>0.06   </td></tr>\n",
       "\t<tr><td>-----  </td><td>-----  </td><td>-----  </td><td>-----  </td><td>-----  </td><td>-----  </td><td>-----  </td><td>-----  </td></tr>\n",
       "\t<tr><td>NaN    </td><td>NaN    </td><td>NaN    </td><td>NaN    </td><td>NaN    </td><td>NaN    </td><td>NaN    </td><td>NaN    </td></tr>\n",
       "\t<tr><td>NaN    </td><td>NaN    </td><td>NaN    </td><td>NaN    </td><td>NaN    </td><td>NaN    </td><td>NaN    </td><td>NaN    </td></tr>\n",
       "\t<tr><td>NaN    </td><td>NaN    </td><td>NaN    </td><td>NaN    </td><td>NaN    </td><td>NaN    </td><td>NaN    </td><td>NaN    </td></tr>\n",
       "\t<tr><td>NaN    </td><td>NaN    </td><td>NaN    </td><td>NaN    </td><td>NaN    </td><td>NaN    </td><td>NaN    </td><td>NaN    </td></tr>\n",
       "\t<tr><td>NaN    </td><td>NaN    </td><td>NaN    </td><td>NaN    </td><td>NaN    </td><td>NaN    </td><td>NaN    </td><td>NaN    </td></tr>\n",
       "\t<tr><td>-----  </td><td>-----  </td><td>-----  </td><td>-----  </td><td>-----  </td><td>-----  </td><td>-----  </td><td>-----  </td></tr>\n",
       "\t<tr><td>NaN    </td><td>NaN    </td><td>NaN    </td><td>NaN    </td><td>NaN    </td><td>NaN    </td><td>NaN    </td><td>NaN    </td></tr>\n",
       "\t<tr><td>NaN    </td><td>NaN    </td><td>NaN    </td><td>NaN    </td><td>NaN    </td><td>NaN    </td><td>NaN    </td><td>NaN    </td></tr>\n",
       "\t<tr><td>NaN    </td><td>NaN    </td><td>NaN    </td><td>NaN    </td><td>NaN    </td><td>NaN    </td><td>NaN    </td><td>NaN    </td></tr>\n",
       "\t<tr><td>NaN    </td><td>NaN    </td><td>NaN    </td><td>NaN    </td><td>NaN    </td><td>NaN    </td><td>NaN    </td><td>NaN    </td></tr>\n",
       "\t<tr><td>NaN    </td><td>NaN    </td><td>NaN    </td><td>NaN    </td><td>NaN    </td><td>NaN    </td><td>NaN    </td><td>NaN    </td></tr>\n",
       "\t<tr><td>-----  </td><td>-----  </td><td>-----  </td><td>-----  </td><td>-----  </td><td>-----  </td><td>-----  </td><td>-----  </td></tr>\n",
       "\t<tr><td>-20.497</td><td>-15.343</td><td>-19.683</td><td>-9.417 </td><td>-16.697</td><td>-16.327</td><td>4.402  </td><td>1.969  </td></tr>\n",
       "\t<tr><td>-6.207 </td><td>-2.99  </td><td>-7.907 </td><td>2.3    </td><td>-5.327 </td><td>-4.026 </td><td>3.956  </td><td>1.769  </td></tr>\n",
       "\t<tr><td>-7.92  </td><td>-1.653 </td><td>-8.813 </td><td>-2.62  </td><td>-5.547 </td><td>-5.311 </td><td>3.152  </td><td>1.41   </td></tr>\n",
       "\t<tr><td>-4.34  </td><td>1.683  </td><td>-5.527 </td><td>-6.367 </td><td>-6.373 </td><td>-4.185 </td><td>3.384  </td><td>1.513  </td></tr>\n",
       "\t<tr><td>-2.757 </td><td>-2.67  </td><td>-8.51  </td><td>-5.29  </td><td>-8.297 </td><td>-5.505 </td><td>2.849  </td><td>1.274  </td></tr>\n",
       "\t<tr><td>-----  </td><td>-----  </td><td>-----  </td><td>-----  </td><td>-----  </td><td>-----  </td><td>-----  </td><td>-----  </td></tr>\n",
       "\t<tr><td>NaN    </td><td>NaN    </td><td>NaN    </td><td>NaN    </td><td>NaN    </td><td>NaN    </td><td>NaN    </td><td>NaN    </td></tr>\n",
       "\t<tr><td>NaN    </td><td>NaN    </td><td>NaN    </td><td>NaN    </td><td>NaN    </td><td>NaN    </td><td>NaN    </td><td>NaN    </td></tr>\n",
       "\t<tr><td>NaN    </td><td>NaN    </td><td>NaN    </td><td>NaN    </td><td>NaN    </td><td>NaN    </td><td>NaN    </td><td>NaN    </td></tr>\n",
       "\t<tr><td>NaN    </td><td>NaN    </td><td>NaN    </td><td>NaN    </td><td>NaN    </td><td>NaN    </td><td>NaN    </td><td>NaN    </td></tr>\n",
       "\t<tr><td>NaN    </td><td>NaN    </td><td>NaN    </td><td>NaN    </td><td>NaN    </td><td>NaN    </td><td>NaN    </td><td>NaN    </td></tr>\n",
       "\t<tr><td>-----  </td><td>-----  </td><td>-----  </td><td>-----  </td><td>-----  </td><td>-----  </td><td>-----  </td><td>-----  </td></tr>\n",
       "\t<tr><td>NaN    </td><td>NaN    </td><td>NaN    </td><td>NaN    </td><td>NaN    </td><td>NaN    </td><td>NaN    </td><td>NaN    </td></tr>\n",
       "\t<tr><td>NaN    </td><td>NaN    </td><td>NaN    </td><td>NaN    </td><td>NaN    </td><td>NaN    </td><td>NaN    </td><td>NaN    </td></tr>\n",
       "\t<tr><td>NaN    </td><td>NaN    </td><td>NaN    </td><td>NaN    </td><td>NaN    </td><td>NaN    </td><td>NaN    </td><td>NaN    </td></tr>\n",
       "\t<tr><td>NaN    </td><td>NaN    </td><td>NaN    </td><td>NaN    </td><td>NaN    </td><td>NaN    </td><td>NaN    </td><td>NaN    </td></tr>\n",
       "\t<tr><td>NaN    </td><td>NaN    </td><td>NaN    </td><td>NaN    </td><td>NaN    </td><td>NaN    </td><td>NaN    </td><td>NaN    </td></tr>\n",
       "\t<tr><td>-----  </td><td>-----  </td><td>-----  </td><td>-----  </td><td>-----  </td><td>-----  </td><td>-----  </td><td>-----  </td></tr>\n",
       "</tbody>\n",
       "</table>\n"
      ],
      "text/latex": [
       "\\begin{tabular}{r|llllllll}\n",
       " G01\\_293\\_OL & G01\\_901\\_OL & G01\\_903\\_OL & G01\\_292\\_OL & G01\\_902\\_OL & Mean & S.D & S.E.M\\\\\n",
       "\\hline\n",
       "\t 0.152   & 0.187   & 0.505   & 0.301   & 0.261   & 0.281   & 0.138   & 0.062  \\\\\n",
       "\t 0.292   & 0.271   & 0.625   & 0.374   & 0.396   & 0.392   & 0.141   & 0.063  \\\\\n",
       "\t 0.488   & 0.415   & 0.651   & 0.545   & 0.619   & 0.544   & 0.096   & 0.043  \\\\\n",
       "\t 0.463   & 0.433   & 0.692   & 0.617   & 0.687   & 0.578   & 0.123   & 0.055  \\\\\n",
       "\t 0.348   & 0.478   & 0.681   & 0.479   & 0.634   & 0.524   & 0.134   & 0.06   \\\\\n",
       "\t -----   & -----   & -----   & -----   & -----   & -----   & -----   & -----  \\\\\n",
       "\t NaN     & NaN     & NaN     & NaN     & NaN     & NaN     & NaN     & NaN    \\\\\n",
       "\t NaN     & NaN     & NaN     & NaN     & NaN     & NaN     & NaN     & NaN    \\\\\n",
       "\t NaN     & NaN     & NaN     & NaN     & NaN     & NaN     & NaN     & NaN    \\\\\n",
       "\t NaN     & NaN     & NaN     & NaN     & NaN     & NaN     & NaN     & NaN    \\\\\n",
       "\t NaN     & NaN     & NaN     & NaN     & NaN     & NaN     & NaN     & NaN    \\\\\n",
       "\t -----   & -----   & -----   & -----   & -----   & -----   & -----   & -----  \\\\\n",
       "\t NaN     & NaN     & NaN     & NaN     & NaN     & NaN     & NaN     & NaN    \\\\\n",
       "\t NaN     & NaN     & NaN     & NaN     & NaN     & NaN     & NaN     & NaN    \\\\\n",
       "\t NaN     & NaN     & NaN     & NaN     & NaN     & NaN     & NaN     & NaN    \\\\\n",
       "\t NaN     & NaN     & NaN     & NaN     & NaN     & NaN     & NaN     & NaN    \\\\\n",
       "\t NaN     & NaN     & NaN     & NaN     & NaN     & NaN     & NaN     & NaN    \\\\\n",
       "\t -----   & -----   & -----   & -----   & -----   & -----   & -----   & -----  \\\\\n",
       "\t -20.497 & -15.343 & -19.683 & -9.417  & -16.697 & -16.327 & 4.402   & 1.969  \\\\\n",
       "\t -6.207  & -2.99   & -7.907  & 2.3     & -5.327  & -4.026  & 3.956   & 1.769  \\\\\n",
       "\t -7.92   & -1.653  & -8.813  & -2.62   & -5.547  & -5.311  & 3.152   & 1.41   \\\\\n",
       "\t -4.34   & 1.683   & -5.527  & -6.367  & -6.373  & -4.185  & 3.384   & 1.513  \\\\\n",
       "\t -2.757  & -2.67   & -8.51   & -5.29   & -8.297  & -5.505  & 2.849   & 1.274  \\\\\n",
       "\t -----   & -----   & -----   & -----   & -----   & -----   & -----   & -----  \\\\\n",
       "\t NaN     & NaN     & NaN     & NaN     & NaN     & NaN     & NaN     & NaN    \\\\\n",
       "\t NaN     & NaN     & NaN     & NaN     & NaN     & NaN     & NaN     & NaN    \\\\\n",
       "\t NaN     & NaN     & NaN     & NaN     & NaN     & NaN     & NaN     & NaN    \\\\\n",
       "\t NaN     & NaN     & NaN     & NaN     & NaN     & NaN     & NaN     & NaN    \\\\\n",
       "\t NaN     & NaN     & NaN     & NaN     & NaN     & NaN     & NaN     & NaN    \\\\\n",
       "\t -----   & -----   & -----   & -----   & -----   & -----   & -----   & -----  \\\\\n",
       "\t NaN     & NaN     & NaN     & NaN     & NaN     & NaN     & NaN     & NaN    \\\\\n",
       "\t NaN     & NaN     & NaN     & NaN     & NaN     & NaN     & NaN     & NaN    \\\\\n",
       "\t NaN     & NaN     & NaN     & NaN     & NaN     & NaN     & NaN     & NaN    \\\\\n",
       "\t NaN     & NaN     & NaN     & NaN     & NaN     & NaN     & NaN     & NaN    \\\\\n",
       "\t NaN     & NaN     & NaN     & NaN     & NaN     & NaN     & NaN     & NaN    \\\\\n",
       "\t -----   & -----   & -----   & -----   & -----   & -----   & -----   & -----  \\\\\n",
       "\\end{tabular}\n"
      ],
      "text/markdown": [
       "\n",
       "G01_293_OL | G01_901_OL | G01_903_OL | G01_292_OL | G01_902_OL | Mean | S.D | S.E.M | \n",
       "|---|---|---|---|---|---|---|---|---|---|---|---|---|---|---|---|---|---|---|---|---|---|---|---|---|---|---|---|---|---|---|---|---|---|---|---|\n",
       "| 0.152   | 0.187   | 0.505   | 0.301   | 0.261   | 0.281   | 0.138   | 0.062   | \n",
       "| 0.292   | 0.271   | 0.625   | 0.374   | 0.396   | 0.392   | 0.141   | 0.063   | \n",
       "| 0.488   | 0.415   | 0.651   | 0.545   | 0.619   | 0.544   | 0.096   | 0.043   | \n",
       "| 0.463   | 0.433   | 0.692   | 0.617   | 0.687   | 0.578   | 0.123   | 0.055   | \n",
       "| 0.348   | 0.478   | 0.681   | 0.479   | 0.634   | 0.524   | 0.134   | 0.06    | \n",
       "| -----   | -----   | -----   | -----   | -----   | -----   | -----   | -----   | \n",
       "| NaN     | NaN     | NaN     | NaN     | NaN     | NaN     | NaN     | NaN     | \n",
       "| NaN     | NaN     | NaN     | NaN     | NaN     | NaN     | NaN     | NaN     | \n",
       "| NaN     | NaN     | NaN     | NaN     | NaN     | NaN     | NaN     | NaN     | \n",
       "| NaN     | NaN     | NaN     | NaN     | NaN     | NaN     | NaN     | NaN     | \n",
       "| NaN     | NaN     | NaN     | NaN     | NaN     | NaN     | NaN     | NaN     | \n",
       "| -----   | -----   | -----   | -----   | -----   | -----   | -----   | -----   | \n",
       "| NaN     | NaN     | NaN     | NaN     | NaN     | NaN     | NaN     | NaN     | \n",
       "| NaN     | NaN     | NaN     | NaN     | NaN     | NaN     | NaN     | NaN     | \n",
       "| NaN     | NaN     | NaN     | NaN     | NaN     | NaN     | NaN     | NaN     | \n",
       "| NaN     | NaN     | NaN     | NaN     | NaN     | NaN     | NaN     | NaN     | \n",
       "| NaN     | NaN     | NaN     | NaN     | NaN     | NaN     | NaN     | NaN     | \n",
       "| -----   | -----   | -----   | -----   | -----   | -----   | -----   | -----   | \n",
       "| -20.497 | -15.343 | -19.683 | -9.417  | -16.697 | -16.327 | 4.402   | 1.969   | \n",
       "| -6.207  | -2.99   | -7.907  | 2.3     | -5.327  | -4.026  | 3.956   | 1.769   | \n",
       "| -7.92   | -1.653  | -8.813  | -2.62   | -5.547  | -5.311  | 3.152   | 1.41    | \n",
       "| -4.34   | 1.683   | -5.527  | -6.367  | -6.373  | -4.185  | 3.384   | 1.513   | \n",
       "| -2.757  | -2.67   | -8.51   | -5.29   | -8.297  | -5.505  | 2.849   | 1.274   | \n",
       "| -----   | -----   | -----   | -----   | -----   | -----   | -----   | -----   | \n",
       "| NaN     | NaN     | NaN     | NaN     | NaN     | NaN     | NaN     | NaN     | \n",
       "| NaN     | NaN     | NaN     | NaN     | NaN     | NaN     | NaN     | NaN     | \n",
       "| NaN     | NaN     | NaN     | NaN     | NaN     | NaN     | NaN     | NaN     | \n",
       "| NaN     | NaN     | NaN     | NaN     | NaN     | NaN     | NaN     | NaN     | \n",
       "| NaN     | NaN     | NaN     | NaN     | NaN     | NaN     | NaN     | NaN     | \n",
       "| -----   | -----   | -----   | -----   | -----   | -----   | -----   | -----   | \n",
       "| NaN     | NaN     | NaN     | NaN     | NaN     | NaN     | NaN     | NaN     | \n",
       "| NaN     | NaN     | NaN     | NaN     | NaN     | NaN     | NaN     | NaN     | \n",
       "| NaN     | NaN     | NaN     | NaN     | NaN     | NaN     | NaN     | NaN     | \n",
       "| NaN     | NaN     | NaN     | NaN     | NaN     | NaN     | NaN     | NaN     | \n",
       "| NaN     | NaN     | NaN     | NaN     | NaN     | NaN     | NaN     | NaN     | \n",
       "| -----   | -----   | -----   | -----   | -----   | -----   | -----   | -----   | \n",
       "\n",
       "\n"
      ],
      "text/plain": [
       "   G01_293_OL G01_901_OL G01_903_OL G01_292_OL G01_902_OL Mean    S.D   S.E.M\n",
       "1  0.152      0.187      0.505      0.301      0.261      0.281   0.138 0.062\n",
       "2  0.292      0.271      0.625      0.374      0.396      0.392   0.141 0.063\n",
       "3  0.488      0.415      0.651      0.545      0.619      0.544   0.096 0.043\n",
       "4  0.463      0.433      0.692      0.617      0.687      0.578   0.123 0.055\n",
       "5  0.348      0.478      0.681      0.479      0.634      0.524   0.134 0.06 \n",
       "6  -----      -----      -----      -----      -----      -----   ----- -----\n",
       "7  NaN        NaN        NaN        NaN        NaN        NaN     NaN   NaN  \n",
       "8  NaN        NaN        NaN        NaN        NaN        NaN     NaN   NaN  \n",
       "9  NaN        NaN        NaN        NaN        NaN        NaN     NaN   NaN  \n",
       "10 NaN        NaN        NaN        NaN        NaN        NaN     NaN   NaN  \n",
       "11 NaN        NaN        NaN        NaN        NaN        NaN     NaN   NaN  \n",
       "12 -----      -----      -----      -----      -----      -----   ----- -----\n",
       "13 NaN        NaN        NaN        NaN        NaN        NaN     NaN   NaN  \n",
       "14 NaN        NaN        NaN        NaN        NaN        NaN     NaN   NaN  \n",
       "15 NaN        NaN        NaN        NaN        NaN        NaN     NaN   NaN  \n",
       "16 NaN        NaN        NaN        NaN        NaN        NaN     NaN   NaN  \n",
       "17 NaN        NaN        NaN        NaN        NaN        NaN     NaN   NaN  \n",
       "18 -----      -----      -----      -----      -----      -----   ----- -----\n",
       "19 -20.497    -15.343    -19.683    -9.417     -16.697    -16.327 4.402 1.969\n",
       "20 -6.207     -2.99      -7.907     2.3        -5.327     -4.026  3.956 1.769\n",
       "21 -7.92      -1.653     -8.813     -2.62      -5.547     -5.311  3.152 1.41 \n",
       "22 -4.34      1.683      -5.527     -6.367     -6.373     -4.185  3.384 1.513\n",
       "23 -2.757     -2.67      -8.51      -5.29      -8.297     -5.505  2.849 1.274\n",
       "24 -----      -----      -----      -----      -----      -----   ----- -----\n",
       "25 NaN        NaN        NaN        NaN        NaN        NaN     NaN   NaN  \n",
       "26 NaN        NaN        NaN        NaN        NaN        NaN     NaN   NaN  \n",
       "27 NaN        NaN        NaN        NaN        NaN        NaN     NaN   NaN  \n",
       "28 NaN        NaN        NaN        NaN        NaN        NaN     NaN   NaN  \n",
       "29 NaN        NaN        NaN        NaN        NaN        NaN     NaN   NaN  \n",
       "30 -----      -----      -----      -----      -----      -----   ----- -----\n",
       "31 NaN        NaN        NaN        NaN        NaN        NaN     NaN   NaN  \n",
       "32 NaN        NaN        NaN        NaN        NaN        NaN     NaN   NaN  \n",
       "33 NaN        NaN        NaN        NaN        NaN        NaN     NaN   NaN  \n",
       "34 NaN        NaN        NaN        NaN        NaN        NaN     NaN   NaN  \n",
       "35 NaN        NaN        NaN        NaN        NaN        NaN     NaN   NaN  \n",
       "36 -----      -----      -----      -----      -----      -----   ----- -----"
      ]
     },
     "metadata": {},
     "output_type": "display_data"
    }
   ],
   "source": [
    "VOG.data <- read.delim(file=\"C:/Users/KimYG/Documents/GitHub/Jupyter_notebook/SSFO_G01_OKR Learning score_wo_light.txt\", sep = '\\t', stringsAsFactors = F, header=T)\n",
    "#read.delim(\"clipboard\", sep = '\\t', stringsAsFactors = F, header = T)\n",
    "VOG.data"
   ]
  },
  {
   "cell_type": "markdown",
   "metadata": {},
   "source": [
    "### Remove the separators in dataframe"
   ]
  },
  {
   "cell_type": "code",
   "execution_count": 3,
   "metadata": {},
   "outputs": [
    {
     "data": {
      "text/html": [
       "<ol class=list-inline>\n",
       "\t<li>30</li>\n",
       "\t<li>8</li>\n",
       "</ol>\n"
      ],
      "text/latex": [
       "\\begin{enumerate*}\n",
       "\\item 30\n",
       "\\item 8\n",
       "\\end{enumerate*}\n"
      ],
      "text/markdown": [
       "1. 30\n",
       "2. 8\n",
       "\n",
       "\n"
      ],
      "text/plain": [
       "[1] 30  8"
      ]
     },
     "metadata": {},
     "output_type": "display_data"
    }
   ],
   "source": [
    "VOG.data2 <- VOG.data[-c(6,12,18,24,30,36),]\n",
    "dim(VOG.data2)"
   ]
  },
  {
   "cell_type": "markdown",
   "metadata": {},
   "source": [
    "### Add type (Gain or Phase), protocol (OKR or dVOR or lVOR), stimulu condition (frequency)"
   ]
  },
  {
   "cell_type": "code",
   "execution_count": 4,
   "metadata": {},
   "outputs": [
    {
     "data": {
      "text/html": [
       "<table>\n",
       "<thead><tr><th></th><th scope=col>type</th><th scope=col>protocol</th><th scope=col>condition</th><th scope=col>G01_293_OL</th><th scope=col>G01_901_OL</th><th scope=col>G01_903_OL</th><th scope=col>G01_292_OL</th><th scope=col>G01_902_OL</th><th scope=col>Mean</th><th scope=col>S.D</th><th scope=col>S.E.M</th></tr></thead>\n",
       "<tbody>\n",
       "\t<tr><th scope=row>1</th><td>Gain  </td><td>OKR   </td><td>0 min </td><td>0.152 </td><td>0.187 </td><td>0.505 </td><td>0.301 </td><td>0.261 </td><td>0.281 </td><td>0.138 </td><td>0.062 </td></tr>\n",
       "\t<tr><th scope=row>2</th><td>Gain  </td><td>OKR   </td><td>15 min</td><td>0.292 </td><td>0.271 </td><td>0.625 </td><td>0.374 </td><td>0.396 </td><td>0.392 </td><td>0.141 </td><td>0.063 </td></tr>\n",
       "\t<tr><th scope=row>3</th><td>Gain  </td><td>OKR   </td><td>30 min</td><td>0.488 </td><td>0.415 </td><td>0.651 </td><td>0.545 </td><td>0.619 </td><td>0.544 </td><td>0.096 </td><td>0.043 </td></tr>\n",
       "\t<tr><th scope=row>4</th><td>Gain  </td><td>OKR   </td><td>45 min</td><td>0.463 </td><td>0.433 </td><td>0.692 </td><td>0.617 </td><td>0.687 </td><td>0.578 </td><td>0.123 </td><td>0.055 </td></tr>\n",
       "\t<tr><th scope=row>5</th><td>Gain  </td><td>OKR   </td><td>24 hr </td><td>0.348 </td><td>0.478 </td><td>0.681 </td><td>0.479 </td><td>0.634 </td><td>0.524 </td><td>0.134 </td><td>0.06  </td></tr>\n",
       "\t<tr><th scope=row>7</th><td>Gain  </td><td>dVOR  </td><td>0 min </td><td>NaN   </td><td>NaN   </td><td>NaN   </td><td>NaN   </td><td>NaN   </td><td>NaN   </td><td>NaN   </td><td>NaN   </td></tr>\n",
       "</tbody>\n",
       "</table>\n"
      ],
      "text/latex": [
       "\\begin{tabular}{r|lllllllllll}\n",
       "  & type & protocol & condition & G01\\_293\\_OL & G01\\_901\\_OL & G01\\_903\\_OL & G01\\_292\\_OL & G01\\_902\\_OL & Mean & S.D & S.E.M\\\\\n",
       "\\hline\n",
       "\t1 & Gain   & OKR    & 0 min  & 0.152  & 0.187  & 0.505  & 0.301  & 0.261  & 0.281  & 0.138  & 0.062 \\\\\n",
       "\t2 & Gain   & OKR    & 15 min & 0.292  & 0.271  & 0.625  & 0.374  & 0.396  & 0.392  & 0.141  & 0.063 \\\\\n",
       "\t3 & Gain   & OKR    & 30 min & 0.488  & 0.415  & 0.651  & 0.545  & 0.619  & 0.544  & 0.096  & 0.043 \\\\\n",
       "\t4 & Gain   & OKR    & 45 min & 0.463  & 0.433  & 0.692  & 0.617  & 0.687  & 0.578  & 0.123  & 0.055 \\\\\n",
       "\t5 & Gain   & OKR    & 24 hr  & 0.348  & 0.478  & 0.681  & 0.479  & 0.634  & 0.524  & 0.134  & 0.06  \\\\\n",
       "\t7 & Gain   & dVOR   & 0 min  & NaN    & NaN    & NaN    & NaN    & NaN    & NaN    & NaN    & NaN   \\\\\n",
       "\\end{tabular}\n"
      ],
      "text/markdown": [
       "\n",
       "| <!--/--> | type | protocol | condition | G01_293_OL | G01_901_OL | G01_903_OL | G01_292_OL | G01_902_OL | Mean | S.D | S.E.M | \n",
       "|---|---|---|---|---|---|\n",
       "| 1 | Gain   | OKR    | 0 min  | 0.152  | 0.187  | 0.505  | 0.301  | 0.261  | 0.281  | 0.138  | 0.062  | \n",
       "| 2 | Gain   | OKR    | 15 min | 0.292  | 0.271  | 0.625  | 0.374  | 0.396  | 0.392  | 0.141  | 0.063  | \n",
       "| 3 | Gain   | OKR    | 30 min | 0.488  | 0.415  | 0.651  | 0.545  | 0.619  | 0.544  | 0.096  | 0.043  | \n",
       "| 4 | Gain   | OKR    | 45 min | 0.463  | 0.433  | 0.692  | 0.617  | 0.687  | 0.578  | 0.123  | 0.055  | \n",
       "| 5 | Gain   | OKR    | 24 hr  | 0.348  | 0.478  | 0.681  | 0.479  | 0.634  | 0.524  | 0.134  | 0.06   | \n",
       "| 7 | Gain   | dVOR   | 0 min  | NaN    | NaN    | NaN    | NaN    | NaN    | NaN    | NaN    | NaN    | \n",
       "\n",
       "\n"
      ],
      "text/plain": [
       "  type protocol condition G01_293_OL G01_901_OL G01_903_OL G01_292_OL\n",
       "1 Gain OKR      0 min     0.152      0.187      0.505      0.301     \n",
       "2 Gain OKR      15 min    0.292      0.271      0.625      0.374     \n",
       "3 Gain OKR      30 min    0.488      0.415      0.651      0.545     \n",
       "4 Gain OKR      45 min    0.463      0.433      0.692      0.617     \n",
       "5 Gain OKR      24 hr     0.348      0.478      0.681      0.479     \n",
       "7 Gain dVOR     0 min     NaN        NaN        NaN        NaN       \n",
       "  G01_902_OL Mean  S.D   S.E.M\n",
       "1 0.261      0.281 0.138 0.062\n",
       "2 0.396      0.392 0.141 0.063\n",
       "3 0.619      0.544 0.096 0.043\n",
       "4 0.687      0.578 0.123 0.055\n",
       "5 0.634      0.524 0.134 0.06 \n",
       "7 NaN        NaN   NaN   NaN  "
      ]
     },
     "metadata": {},
     "output_type": "display_data"
    }
   ],
   "source": [
    "type <- rep(c(\"Gain\", \"Phase\"), each=(dim(VOG.data2)[1])/2)\n",
    "protocol <- rep(rep(c(\"OKR\", \"dVOR\", \"lVOR\"), each=5),2)\n",
    "condition <- rep(c(\"0 min\", \"15 min\", \"30 min\",\"45 min\",\"24 hr\"), 6) #rep(c(\"0.1Hz\", \"0.25Hz\", \"0.5Hz\",\"1.0Hz\"), 6)\n",
    "\n",
    "VOG.data2 <- cbind(type, protocol, condition, VOG.data2)\n",
    "head(VOG.data2)"
   ]
  },
  {
   "cell_type": "markdown",
   "metadata": {},
   "source": [
    "### Drop rows containing unmeasured protocol(s) "
   ]
  },
  {
   "cell_type": "code",
   "execution_count": 5,
   "metadata": {},
   "outputs": [
    {
     "data": {
      "text/html": [
       "<table>\n",
       "<thead><tr><th scope=col>type</th><th scope=col>protocol</th><th scope=col>condition</th><th scope=col>G01_293_OL</th><th scope=col>G01_901_OL</th><th scope=col>G01_903_OL</th><th scope=col>G01_292_OL</th><th scope=col>G01_902_OL</th><th scope=col>Mean</th><th scope=col>S.D</th><th scope=col>S.E.M</th></tr></thead>\n",
       "<tbody>\n",
       "\t<tr><td>Gain   </td><td>OKR    </td><td>0 min  </td><td>0.152  </td><td>0.187  </td><td>0.505  </td><td>0.301  </td><td>0.261  </td><td>0.281  </td><td>0.138  </td><td>0.062  </td></tr>\n",
       "\t<tr><td>Gain   </td><td>OKR    </td><td>15 min </td><td>0.292  </td><td>0.271  </td><td>0.625  </td><td>0.374  </td><td>0.396  </td><td>0.392  </td><td>0.141  </td><td>0.063  </td></tr>\n",
       "\t<tr><td>Gain   </td><td>OKR    </td><td>30 min </td><td>0.488  </td><td>0.415  </td><td>0.651  </td><td>0.545  </td><td>0.619  </td><td>0.544  </td><td>0.096  </td><td>0.043  </td></tr>\n",
       "\t<tr><td>Gain   </td><td>OKR    </td><td>45 min </td><td>0.463  </td><td>0.433  </td><td>0.692  </td><td>0.617  </td><td>0.687  </td><td>0.578  </td><td>0.123  </td><td>0.055  </td></tr>\n",
       "\t<tr><td>Gain   </td><td>OKR    </td><td>24 hr  </td><td>0.348  </td><td>0.478  </td><td>0.681  </td><td>0.479  </td><td>0.634  </td><td>0.524  </td><td>0.134  </td><td>0.06   </td></tr>\n",
       "\t<tr><td>Phase  </td><td>OKR    </td><td>0 min  </td><td>-20.497</td><td>-15.343</td><td>-19.683</td><td>-9.417 </td><td>-16.697</td><td>-16.327</td><td>4.402  </td><td>1.969  </td></tr>\n",
       "\t<tr><td>Phase  </td><td>OKR    </td><td>15 min </td><td>-6.207 </td><td>-2.99  </td><td>-7.907 </td><td>2.3    </td><td>-5.327 </td><td>-4.026 </td><td>3.956  </td><td>1.769  </td></tr>\n",
       "\t<tr><td>Phase  </td><td>OKR    </td><td>30 min </td><td>-7.92  </td><td>-1.653 </td><td>-8.813 </td><td>-2.62  </td><td>-5.547 </td><td>-5.311 </td><td>3.152  </td><td>1.41   </td></tr>\n",
       "\t<tr><td>Phase  </td><td>OKR    </td><td>45 min </td><td>-4.34  </td><td>1.683  </td><td>-5.527 </td><td>-6.367 </td><td>-6.373 </td><td>-4.185 </td><td>3.384  </td><td>1.513  </td></tr>\n",
       "\t<tr><td>Phase  </td><td>OKR    </td><td>24 hr  </td><td>-2.757 </td><td>-2.67  </td><td>-8.51  </td><td>-5.29  </td><td>-8.297 </td><td>-5.505 </td><td>2.849  </td><td>1.274  </td></tr>\n",
       "</tbody>\n",
       "</table>\n"
      ],
      "text/latex": [
       "\\begin{tabular}{r|lllllllllll}\n",
       " type & protocol & condition & G01\\_293\\_OL & G01\\_901\\_OL & G01\\_903\\_OL & G01\\_292\\_OL & G01\\_902\\_OL & Mean & S.D & S.E.M\\\\\n",
       "\\hline\n",
       "\t Gain    & OKR     & 0 min   & 0.152   & 0.187   & 0.505   & 0.301   & 0.261   & 0.281   & 0.138   & 0.062  \\\\\n",
       "\t Gain    & OKR     & 15 min  & 0.292   & 0.271   & 0.625   & 0.374   & 0.396   & 0.392   & 0.141   & 0.063  \\\\\n",
       "\t Gain    & OKR     & 30 min  & 0.488   & 0.415   & 0.651   & 0.545   & 0.619   & 0.544   & 0.096   & 0.043  \\\\\n",
       "\t Gain    & OKR     & 45 min  & 0.463   & 0.433   & 0.692   & 0.617   & 0.687   & 0.578   & 0.123   & 0.055  \\\\\n",
       "\t Gain    & OKR     & 24 hr   & 0.348   & 0.478   & 0.681   & 0.479   & 0.634   & 0.524   & 0.134   & 0.06   \\\\\n",
       "\t Phase   & OKR     & 0 min   & -20.497 & -15.343 & -19.683 & -9.417  & -16.697 & -16.327 & 4.402   & 1.969  \\\\\n",
       "\t Phase   & OKR     & 15 min  & -6.207  & -2.99   & -7.907  & 2.3     & -5.327  & -4.026  & 3.956   & 1.769  \\\\\n",
       "\t Phase   & OKR     & 30 min  & -7.92   & -1.653  & -8.813  & -2.62   & -5.547  & -5.311  & 3.152   & 1.41   \\\\\n",
       "\t Phase   & OKR     & 45 min  & -4.34   & 1.683   & -5.527  & -6.367  & -6.373  & -4.185  & 3.384   & 1.513  \\\\\n",
       "\t Phase   & OKR     & 24 hr   & -2.757  & -2.67   & -8.51   & -5.29   & -8.297  & -5.505  & 2.849   & 1.274  \\\\\n",
       "\\end{tabular}\n"
      ],
      "text/markdown": [
       "\n",
       "type | protocol | condition | G01_293_OL | G01_901_OL | G01_903_OL | G01_292_OL | G01_902_OL | Mean | S.D | S.E.M | \n",
       "|---|---|---|---|---|---|---|---|---|---|\n",
       "| Gain    | OKR     | 0 min   | 0.152   | 0.187   | 0.505   | 0.301   | 0.261   | 0.281   | 0.138   | 0.062   | \n",
       "| Gain    | OKR     | 15 min  | 0.292   | 0.271   | 0.625   | 0.374   | 0.396   | 0.392   | 0.141   | 0.063   | \n",
       "| Gain    | OKR     | 30 min  | 0.488   | 0.415   | 0.651   | 0.545   | 0.619   | 0.544   | 0.096   | 0.043   | \n",
       "| Gain    | OKR     | 45 min  | 0.463   | 0.433   | 0.692   | 0.617   | 0.687   | 0.578   | 0.123   | 0.055   | \n",
       "| Gain    | OKR     | 24 hr   | 0.348   | 0.478   | 0.681   | 0.479   | 0.634   | 0.524   | 0.134   | 0.06    | \n",
       "| Phase   | OKR     | 0 min   | -20.497 | -15.343 | -19.683 | -9.417  | -16.697 | -16.327 | 4.402   | 1.969   | \n",
       "| Phase   | OKR     | 15 min  | -6.207  | -2.99   | -7.907  | 2.3     | -5.327  | -4.026  | 3.956   | 1.769   | \n",
       "| Phase   | OKR     | 30 min  | -7.92   | -1.653  | -8.813  | -2.62   | -5.547  | -5.311  | 3.152   | 1.41    | \n",
       "| Phase   | OKR     | 45 min  | -4.34   | 1.683   | -5.527  | -6.367  | -6.373  | -4.185  | 3.384   | 1.513   | \n",
       "| Phase   | OKR     | 24 hr   | -2.757  | -2.67   | -8.51   | -5.29   | -8.297  | -5.505  | 2.849   | 1.274   | \n",
       "\n",
       "\n"
      ],
      "text/plain": [
       "   type  protocol condition G01_293_OL G01_901_OL G01_903_OL G01_292_OL\n",
       "1  Gain  OKR      0 min     0.152      0.187      0.505      0.301     \n",
       "2  Gain  OKR      15 min    0.292      0.271      0.625      0.374     \n",
       "3  Gain  OKR      30 min    0.488      0.415      0.651      0.545     \n",
       "4  Gain  OKR      45 min    0.463      0.433      0.692      0.617     \n",
       "5  Gain  OKR      24 hr     0.348      0.478      0.681      0.479     \n",
       "6  Phase OKR      0 min     -20.497    -15.343    -19.683    -9.417    \n",
       "7  Phase OKR      15 min    -6.207     -2.99      -7.907     2.3       \n",
       "8  Phase OKR      30 min    -7.92      -1.653     -8.813     -2.62     \n",
       "9  Phase OKR      45 min    -4.34      1.683      -5.527     -6.367    \n",
       "10 Phase OKR      24 hr     -2.757     -2.67      -8.51      -5.29     \n",
       "   G01_902_OL Mean    S.D   S.E.M\n",
       "1  0.261      0.281   0.138 0.062\n",
       "2  0.396      0.392   0.141 0.063\n",
       "3  0.619      0.544   0.096 0.043\n",
       "4  0.687      0.578   0.123 0.055\n",
       "5  0.634      0.524   0.134 0.06 \n",
       "6  -16.697    -16.327 4.402 1.969\n",
       "7  -5.327     -4.026  3.956 1.769\n",
       "8  -5.547     -5.311  3.152 1.41 \n",
       "9  -6.373     -4.185  3.384 1.513\n",
       "10 -8.297     -5.505  2.849 1.274"
      ]
     },
     "metadata": {},
     "output_type": "display_data"
    }
   ],
   "source": [
    "VOG.data3 <- filter(VOG.data2, G01_292_OL!=\"NaN\")\n",
    "VOG.data3"
   ]
  },
  {
   "cell_type": "markdown",
   "metadata": {},
   "source": [
    "### Drop columns containing discriptive statistics"
   ]
  },
  {
   "cell_type": "code",
   "execution_count": 6,
   "metadata": {},
   "outputs": [],
   "source": [
    "VOG.data3 <- VOG.data3[,1:(dim(VOG.data3)[2]-3)]"
   ]
  },
  {
   "cell_type": "markdown",
   "metadata": {},
   "source": [
    "### Covert from wide-format to long-format "
   ]
  },
  {
   "cell_type": "code",
   "execution_count": 7,
   "metadata": {},
   "outputs": [
    {
     "data": {
      "text/html": [
       "<table>\n",
       "<thead><tr><th scope=col>id</th><th scope=col>type</th><th scope=col>protocol</th><th scope=col>condition</th><th scope=col>value</th></tr></thead>\n",
       "<tbody>\n",
       "\t<tr><td>G01_293_OL</td><td>Gain      </td><td>OKR       </td><td>0 min     </td><td>  0.152   </td></tr>\n",
       "\t<tr><td>G01_293_OL</td><td>Gain      </td><td>OKR       </td><td>15 min    </td><td>  0.292   </td></tr>\n",
       "\t<tr><td>G01_293_OL</td><td>Gain      </td><td>OKR       </td><td>30 min    </td><td>  0.488   </td></tr>\n",
       "\t<tr><td>G01_293_OL</td><td>Gain      </td><td>OKR       </td><td>45 min    </td><td>  0.463   </td></tr>\n",
       "\t<tr><td>G01_293_OL</td><td>Gain      </td><td>OKR       </td><td>24 hr     </td><td>  0.348   </td></tr>\n",
       "\t<tr><td>G01_293_OL</td><td>Phase     </td><td>OKR       </td><td>0 min     </td><td>-20.497   </td></tr>\n",
       "</tbody>\n",
       "</table>\n"
      ],
      "text/latex": [
       "\\begin{tabular}{r|lllll}\n",
       " id & type & protocol & condition & value\\\\\n",
       "\\hline\n",
       "\t G01\\_293\\_OL & Gain           & OKR            & 0 min          &   0.152       \\\\\n",
       "\t G01\\_293\\_OL & Gain           & OKR            & 15 min         &   0.292       \\\\\n",
       "\t G01\\_293\\_OL & Gain           & OKR            & 30 min         &   0.488       \\\\\n",
       "\t G01\\_293\\_OL & Gain           & OKR            & 45 min         &   0.463       \\\\\n",
       "\t G01\\_293\\_OL & Gain           & OKR            & 24 hr          &   0.348       \\\\\n",
       "\t G01\\_293\\_OL & Phase          & OKR            & 0 min          & -20.497       \\\\\n",
       "\\end{tabular}\n"
      ],
      "text/markdown": [
       "\n",
       "id | type | protocol | condition | value | \n",
       "|---|---|---|---|---|---|\n",
       "| G01_293_OL | Gain       | OKR        | 0 min      |   0.152    | \n",
       "| G01_293_OL | Gain       | OKR        | 15 min     |   0.292    | \n",
       "| G01_293_OL | Gain       | OKR        | 30 min     |   0.488    | \n",
       "| G01_293_OL | Gain       | OKR        | 45 min     |   0.463    | \n",
       "| G01_293_OL | Gain       | OKR        | 24 hr      |   0.348    | \n",
       "| G01_293_OL | Phase      | OKR        | 0 min      | -20.497    | \n",
       "\n",
       "\n"
      ],
      "text/plain": [
       "  id         type  protocol condition value  \n",
       "1 G01_293_OL Gain  OKR      0 min       0.152\n",
       "2 G01_293_OL Gain  OKR      15 min      0.292\n",
       "3 G01_293_OL Gain  OKR      30 min      0.488\n",
       "4 G01_293_OL Gain  OKR      45 min      0.463\n",
       "5 G01_293_OL Gain  OKR      24 hr       0.348\n",
       "6 G01_293_OL Phase OKR      0 min     -20.497"
      ]
     },
     "metadata": {},
     "output_type": "display_data"
    }
   ],
   "source": [
    "long.format.VOG.data <- melt(VOG.data3, id.vars = c(\"type\",\"protocol\",\"condition\"))\n",
    "long.format.VOG.data <- long.format.VOG.data %>% select(variable, type, protocol, condition, value) \n",
    "colnames(long.format.VOG.data)  <- c(\"id\", \"type\", \"protocol\",\"condition\", \"value\")\n",
    "long.format.VOG.data$value <- as.numeric(as.character(long.format.VOG.data$value))\n",
    "head(long.format.VOG.data)"
   ]
  },
  {
   "cell_type": "markdown",
   "metadata": {},
   "source": [
    "### Prepare Gain and Phase tables"
   ]
  },
  {
   "cell_type": "code",
   "execution_count": 8,
   "metadata": {},
   "outputs": [
    {
     "name": "stdout",
     "output_type": "stream",
     "text": [
      "'data.frame':\t25 obs. of  5 variables:\n",
      " $ id       : Factor w/ 5 levels \"G01_293_OL\",\"G01_901_OL\",..: 1 1 1 1 1 2 2 2 2 2 ...\n",
      " $ type     : Factor w/ 2 levels \"Gain\",\"Phase\": 1 1 1 1 1 1 1 1 1 1 ...\n",
      " $ protocol : Factor w/ 3 levels \"dVOR\",\"lVOR\",..: 3 3 3 3 3 3 3 3 3 3 ...\n",
      " $ condition: Factor w/ 5 levels \"0 min\",\"15 min\",..: 1 2 4 5 3 1 2 4 5 3 ...\n",
      " $ value    : num  0.152 0.292 0.488 0.463 0.348 0.187 0.271 0.415 0.433 0.478 ...\n",
      "'data.frame':\t25 obs. of  5 variables:\n",
      " $ id       : Factor w/ 5 levels \"G01_293_OL\",\"G01_901_OL\",..: 1 1 1 1 1 2 2 2 2 2 ...\n",
      " $ type     : Factor w/ 2 levels \"Gain\",\"Phase\": 2 2 2 2 2 2 2 2 2 2 ...\n",
      " $ protocol : Factor w/ 3 levels \"dVOR\",\"lVOR\",..: 3 3 3 3 3 3 3 3 3 3 ...\n",
      " $ condition: Factor w/ 5 levels \"0 min\",\"15 min\",..: 1 2 4 5 3 1 2 4 5 3 ...\n",
      " $ value    : num  -20.5 -6.21 -7.92 -4.34 -2.76 ...\n"
     ]
    }
   ],
   "source": [
    "Gain.table <- long.format.VOG.data %>% filter(type==\"Gain\")\n",
    "str(Gain.table)\n",
    "Phase.table <- long.format.VOG.data  %>% filter(type==\"Phase\")\n",
    "str(Phase.table)"
   ]
  },
  {
   "cell_type": "markdown",
   "metadata": {},
   "source": [
    "### Result Figures"
   ]
  },
  {
   "cell_type": "code",
   "execution_count": 9,
   "metadata": {},
   "outputs": [
    {
     "data": {},
     "metadata": {},
     "output_type": "display_data"
    },
    {
     "data": {},
     "metadata": {},
     "output_type": "display_data"
    },
    {
     "data": {
      "image/png": "[encoded data removed]",
      "text/plain": [
       "plot without title"
      ]
     },
     "metadata": {},
     "output_type": "display_data"
    },
    {
     "data": {
      "image/png": "[encoded data removed]",
      "text/plain": [
       "plot without title"
      ]
     },
     "metadata": {},
     "output_type": "display_data"
    }
   ],
   "source": [
    "g <- ggplot(Gain.table, aes(x=condition, y=value, color=id)) + theme_bw() + ylab(\"Gain\") + xlab(\"Time\")\n",
    "g <- g + geom_point(shape=1, size=7)\n",
    "g <- g + theme(axis.title.x=element_text(face=\"bold\",size=20),\n",
    "          axis.text.x=element_text(angle=30,size=16),\n",
    "          axis.title.y=element_text(face=\"bold\",size=20),\n",
    "          axis.text.y=element_text(size=16)) \n",
    "g + scale_x_discrete(limits=c(\"0 min\",\"15 min\", \"30 min\", \"45 min\", \"24 hr\")) #Change order of x axis manually\n",
    "p <- ggplot(Phase.table, aes(x=condition, y=value, color=id)) + theme_bw() + ylab(\"Phase(deg)\") + xlab(\"Time\")\n",
    "p <- p + geom_point(shape=1, size=7)\n",
    "p <- p + theme(axis.title.x=element_text(face=\"bold\",size=20),\n",
    "          axis.text.x=element_text(angle=30,size=16),\n",
    "          axis.title.y=element_text(face=\"bold\",size=20),\n",
    "          axis.text.y=element_text(size=16))\n",
    "p + scale_x_discrete(limits=c(\"0 min\",\"15 min\", \"30 min\", \"45 min\", \"24 hr\"))"
   ]
  },
  {
   "cell_type": "code",
   "execution_count": 10,
   "metadata": {},
   "outputs": [
    {
     "data": {},
     "metadata": {},
     "output_type": "display_data"
    },
    {
     "data": {
      "image/png": "[encoded data removed]",
      "text/plain": [
       "plot without title"
      ]
     },
     "metadata": {},
     "output_type": "display_data"
    }
   ],
   "source": [
    "g1 <- ggplot(Gain.table, aes(x=condition, y=value)) + geom_boxplot() + ylab(\"Gain\") + xlab(\"Time\")\n",
    "g1 + scale_x_discrete(limits=c(\"0 min\", \"15 min\", \"30 min\", \"45 min\", \"24 hr\")) + \n",
    "        theme(axis.title.x=element_text(face=\"bold\",size=20),\n",
    "              axis.text.x=element_text(angle=30,size=16),\n",
    "              axis.title.y=element_text(face=\"bold\",size=20),\n",
    "              axis.text.y=element_text(size=16))"
   ]
  },
  {
   "cell_type": "code",
   "execution_count": 11,
   "metadata": {},
   "outputs": [
    {
     "data": {},
     "metadata": {},
     "output_type": "display_data"
    },
    {
     "data": {
      "image/png": "[encoded data removed]",
      "text/plain": [
       "plot without title"
      ]
     },
     "metadata": {},
     "output_type": "display_data"
    }
   ],
   "source": [
    "p1 <- ggplot(Phase.table, aes(x=condition, y=value)) + geom_boxplot() + ylab(\"Phase (deg)\") + xlab(\"Time\")\n",
    "p1 + scale_x_discrete(limits=c(\"0 min\", \"15 min\", \"30 min\", \"45 min\", \"24 hr\")) + \n",
    "        theme(axis.title.x=element_text(face=\"bold\",size=20),\n",
    "              axis.text.x=element_text(angle=30,size=16),\n",
    "              axis.title.y=element_text(face=\"bold\",size=20),\n",
    "              axis.text.y=element_text(size=16))"
   ]
  },
  {
   "cell_type": "markdown",
   "metadata": {},
   "source": [
    "### Hypothesis Testing using Linear Mixed Model"
   ]
  },
  {
   "cell_type": "code",
   "execution_count": 12,
   "metadata": {},
   "outputs": [
    {
     "name": "stderr",
     "output_type": "stream",
     "text": [
      "Warning message:\n",
      "\"package 'lme4' was built under R version 3.4.4\"Loading required package: Matrix\n",
      "\n",
      "Attaching package: 'Matrix'\n",
      "\n",
      "The following object is masked from 'package:reshape':\n",
      "\n",
      "    expand\n",
      "\n",
      "The following object is masked from 'package:tidyr':\n",
      "\n",
      "    expand\n",
      "\n",
      "\n",
      "Attaching package: 'nlme'\n",
      "\n",
      "The following object is masked from 'package:lme4':\n",
      "\n",
      "    lmList\n",
      "\n",
      "The following object is masked from 'package:dplyr':\n",
      "\n",
      "    collapse\n",
      "\n",
      "Warning message:\n",
      "\"package 'multcomp' was built under R version 3.4.2\"Loading required package: mvtnorm\n",
      "Loading required package: survival\n",
      "Loading required package: TH.data\n",
      "Warning message:\n",
      "\"package 'TH.data' was built under R version 3.4.2\"Loading required package: MASS\n",
      "\n",
      "Attaching package: 'MASS'\n",
      "\n",
      "The following object is masked from 'package:dplyr':\n",
      "\n",
      "    select\n",
      "\n",
      "\n",
      "Attaching package: 'TH.data'\n",
      "\n",
      "The following object is masked from 'package:MASS':\n",
      "\n",
      "    geyser\n",
      "\n"
     ]
    }
   ],
   "source": [
    "library(lme4)\n",
    "library(nlme)\n",
    "library(multcomp)"
   ]
  },
  {
   "cell_type": "code",
   "execution_count": 13,
   "metadata": {},
   "outputs": [
    {
     "data": {
      "text/html": [
       "<table>\n",
       "<thead><tr><th></th><th scope=col>numDF</th><th scope=col>denDF</th><th scope=col>F-value</th><th scope=col>p-value</th></tr></thead>\n",
       "<tbody>\n",
       "\t<tr><th scope=row>(Intercept)</th><td>1           </td><td>16          </td><td>77.22457    </td><td>1.606294e-07</td></tr>\n",
       "\t<tr><th scope=row>condition</th><td>4           </td><td>16          </td><td>26.48233    </td><td>6.989946e-07</td></tr>\n",
       "</tbody>\n",
       "</table>\n"
      ],
      "text/latex": [
       "\\begin{tabular}{r|llll}\n",
       "  & numDF & denDF & F-value & p-value\\\\\n",
       "\\hline\n",
       "\t(Intercept) & 1            & 16           & 77.22457     & 1.606294e-07\\\\\n",
       "\tcondition & 4            & 16           & 26.48233     & 6.989946e-07\\\\\n",
       "\\end{tabular}\n"
      ],
      "text/markdown": [
       "\n",
       "| <!--/--> | numDF | denDF | F-value | p-value | \n",
       "|---|---|\n",
       "| (Intercept) | 1            | 16           | 77.22457     | 1.606294e-07 | \n",
       "| condition | 4            | 16           | 26.48233     | 6.989946e-07 | \n",
       "\n",
       "\n"
      ],
      "text/plain": [
       "            numDF denDF F-value  p-value     \n",
       "(Intercept) 1     16    77.22457 1.606294e-07\n",
       "condition   4     16    26.48233 6.989946e-07"
      ]
     },
     "metadata": {},
     "output_type": "display_data"
    },
    {
     "data": {
      "text/html": [
       "<table>\n",
       "<thead><tr><th></th><th scope=col>numDF</th><th scope=col>denDF</th><th scope=col>F-value</th><th scope=col>p-value</th></tr></thead>\n",
       "<tbody>\n",
       "\t<tr><th scope=row>(Intercept)</th><td>1           </td><td>16          </td><td>34.85222    </td><td>2.223867e-05</td></tr>\n",
       "\t<tr><th scope=row>condition</th><td>4           </td><td>16          </td><td>18.98147    </td><td>6.407711e-06</td></tr>\n",
       "</tbody>\n",
       "</table>\n"
      ],
      "text/latex": [
       "\\begin{tabular}{r|llll}\n",
       "  & numDF & denDF & F-value & p-value\\\\\n",
       "\\hline\n",
       "\t(Intercept) & 1            & 16           & 34.85222     & 2.223867e-05\\\\\n",
       "\tcondition & 4            & 16           & 18.98147     & 6.407711e-06\\\\\n",
       "\\end{tabular}\n"
      ],
      "text/markdown": [
       "\n",
       "| <!--/--> | numDF | denDF | F-value | p-value | \n",
       "|---|---|\n",
       "| (Intercept) | 1            | 16           | 34.85222     | 2.223867e-05 | \n",
       "| condition | 4            | 16           | 18.98147     | 6.407711e-06 | \n",
       "\n",
       "\n"
      ],
      "text/plain": [
       "            numDF denDF F-value  p-value     \n",
       "(Intercept) 1     16    34.85222 2.223867e-05\n",
       "condition   4     16    18.98147 6.407711e-06"
      ]
     },
     "metadata": {},
     "output_type": "display_data"
    }
   ],
   "source": [
    "LMM.Gain <- lme(value ~ condition, random=~1|id, data=Gain.table, na.action=\"na.omit\")\n",
    "LMM.Phase <- lme(value ~ condition, random=~1|id, data=Phase.table, na.action=\"na.omit\")\n",
    "\n",
    "av.Gain <- anova(LMM.Gain)\n",
    "av.Phase <- anova(LMM.Phase)\n",
    "\n",
    "av.Gain\n",
    "av.Phase"
   ]
  },
  {
   "cell_type": "code",
   "execution_count": 14,
   "metadata": {},
   "outputs": [
    {
     "data": {
      "text/plain": [
       "\n",
       "\t Simultaneous Tests for General Linear Hypotheses\n",
       "\n",
       "Multiple Comparisons of Means: Tukey Contrasts\n",
       "\n",
       "\n",
       "Fit: lme.formula(fixed = value ~ condition, data = Gain.table, random = ~1 | \n",
       "    id, na.action = \"na.omit\")\n",
       "\n",
       "Linear Hypotheses:\n",
       "                     Estimate Std. Error z value Pr(>|z|)    \n",
       "15 min - 0 min == 0   0.11040    0.03413   3.235  0.01063 *  \n",
       "24 hr - 0 min == 0    0.24280    0.03413   7.115  < 0.001 ***\n",
       "30 min - 0 min == 0   0.26240    0.03413   7.689  < 0.001 ***\n",
       "45 min - 0 min == 0   0.29720    0.03413   8.709  < 0.001 ***\n",
       "24 hr - 15 min == 0   0.13240    0.03413   3.880  0.00101 ** \n",
       "30 min - 15 min == 0  0.15200    0.03413   4.454  < 0.001 ***\n",
       "45 min - 15 min == 0  0.18680    0.03413   5.474  < 0.001 ***\n",
       "30 min - 24 hr == 0   0.01960    0.03413   0.574  0.97882    \n",
       "45 min - 24 hr == 0   0.05440    0.03413   1.594  0.50115    \n",
       "45 min - 30 min == 0  0.03480    0.03413   1.020  0.84638    \n",
       "---\n",
       "Signif. codes:  0 '***' 0.001 '**' 0.01 '*' 0.05 '.' 0.1 ' ' 1\n",
       "(Adjusted p values reported -- single-step method)\n"
      ]
     },
     "metadata": {},
     "output_type": "display_data"
    }
   ],
   "source": [
    "comp.condition <- glht(LMM.Gain, linfct=mcp(condition=\"Tukey\"))\n",
    "\n",
    "summary(comp.condition)"
   ]
  },
  {
   "cell_type": "code",
   "execution_count": 15,
   "metadata": {},
   "outputs": [
    {
     "data": {
      "text/plain": [
       "\n",
       "\t Simultaneous Tests for General Linear Hypotheses\n",
       "\n",
       "Multiple Comparisons of Means: Tukey Contrasts\n",
       "\n",
       "\n",
       "Fit: lme.formula(fixed = value ~ condition, data = Phase.table, random = ~1 | \n",
       "    id, na.action = \"na.omit\")\n",
       "\n",
       "Linear Hypotheses:\n",
       "                     Estimate Std. Error z value Pr(>|z|)    \n",
       "15 min - 0 min == 0   12.3012     1.6932   7.265   <1e-04 ***\n",
       "24 hr - 0 min == 0    10.8226     1.6932   6.392   <1e-04 ***\n",
       "30 min - 0 min == 0   11.0168     1.6932   6.507   <1e-04 ***\n",
       "45 min - 0 min == 0   12.1426     1.6932   7.171   <1e-04 ***\n",
       "24 hr - 15 min == 0   -1.4786     1.6932  -0.873    0.907    \n",
       "30 min - 15 min == 0  -1.2844     1.6932  -0.759    0.942    \n",
       "45 min - 15 min == 0  -0.1586     1.6932  -0.094    1.000    \n",
       "30 min - 24 hr == 0    0.1942     1.6932   0.115    1.000    \n",
       "45 min - 24 hr == 0    1.3200     1.6932   0.780    0.937    \n",
       "45 min - 30 min == 0   1.1258     1.6932   0.665    0.964    \n",
       "---\n",
       "Signif. codes:  0 '***' 0.001 '**' 0.01 '*' 0.05 '.' 0.1 ' ' 1\n",
       "(Adjusted p values reported -- single-step method)\n"
      ]
     },
     "metadata": {},
     "output_type": "display_data"
    }
   ],
   "source": [
    "comp.condition2 <- glht(LMM.Phase, linfct=mcp(condition=\"Tukey\"))\n",
    "\n",
    "summary(comp.condition2)"
   ]
  },
  {
   "cell_type": "code",
   "execution_count": null,
   "metadata": {
    "collapsed": true
   },
   "outputs": [],
   "source": []
  }
 ],
 "metadata": {
  "anaconda-cloud": {},
  "kernelspec": {
   "display_name": "R",
   "language": "R",
   "name": "ir"
  },
  "language_info": {
   "codemirror_mode": "r",
   "file_extension": ".r",
   "mimetype": "text/x-r-source",
   "name": "R",
   "pygments_lexer": "r",
   "version": "3.4.1"
  }
 },
 "nbformat": 4,
 "nbformat_minor": 4
}
