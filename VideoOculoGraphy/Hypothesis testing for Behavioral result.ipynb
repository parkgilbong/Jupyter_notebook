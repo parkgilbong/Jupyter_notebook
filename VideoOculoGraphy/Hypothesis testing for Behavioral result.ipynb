{
 "cells": [
  {
   "cell_type": "markdown",
   "metadata": {},
   "source": [
    "## Hypothesis testing for 50min-long OKR learning "
   ]
  },
  {
   "cell_type": "markdown",
   "metadata": {},
   "source": [
    "### Import data set"
   ]
  },
  {
   "cell_type": "code",
   "execution_count": 14,
   "metadata": {},
   "outputs": [
    {
     "data": {
      "text/html": [
       "<table>\n",
       "<caption>A data.frame: 9 × 3</caption>\n",
       "<thead>\n",
       "\t<tr><th scope=col>Pre</th><th scope=col>Post</th><th scope=col>Delta</th></tr>\n",
       "\t<tr><th scope=col>&lt;dbl&gt;</th><th scope=col>&lt;dbl&gt;</th><th scope=col>&lt;dbl&gt;</th></tr>\n",
       "</thead>\n",
       "<tbody>\n",
       "\t<tr><td>0.304</td><td>0.433</td><td>0.129</td></tr>\n",
       "\t<tr><td>0.320</td><td>0.640</td><td>0.320</td></tr>\n",
       "\t<tr><td>0.195</td><td>0.668</td><td>0.473</td></tr>\n",
       "\t<tr><td>0.275</td><td>0.768</td><td>0.493</td></tr>\n",
       "\t<tr><td>0.198</td><td>0.314</td><td>0.116</td></tr>\n",
       "\t<tr><td>0.267</td><td>0.805</td><td>0.538</td></tr>\n",
       "\t<tr><td>0.246</td><td>0.595</td><td>0.349</td></tr>\n",
       "\t<tr><td>0.320</td><td>0.625</td><td>0.305</td></tr>\n",
       "\t<tr><td>0.315</td><td>0.655</td><td>0.340</td></tr>\n",
       "</tbody>\n",
       "</table>\n"
      ],
      "text/latex": [
       "A data.frame: 9 × 3\n",
       "\\begin{tabular}{lll}\n",
       " Pre & Post & Delta\\\\\n",
       " <dbl> & <dbl> & <dbl>\\\\\n",
       "\\hline\n",
       "\t 0.304 & 0.433 & 0.129\\\\\n",
       "\t 0.320 & 0.640 & 0.320\\\\\n",
       "\t 0.195 & 0.668 & 0.473\\\\\n",
       "\t 0.275 & 0.768 & 0.493\\\\\n",
       "\t 0.198 & 0.314 & 0.116\\\\\n",
       "\t 0.267 & 0.805 & 0.538\\\\\n",
       "\t 0.246 & 0.595 & 0.349\\\\\n",
       "\t 0.320 & 0.625 & 0.305\\\\\n",
       "\t 0.315 & 0.655 & 0.340\\\\\n",
       "\\end{tabular}\n"
      ],
      "text/markdown": [
       "\n",
       "A data.frame: 9 × 3\n",
       "\n",
       "| Pre &lt;dbl&gt; | Post &lt;dbl&gt; | Delta &lt;dbl&gt; |\n",
       "|---|---|---|\n",
       "| 0.304 | 0.433 | 0.129 |\n",
       "| 0.320 | 0.640 | 0.320 |\n",
       "| 0.195 | 0.668 | 0.473 |\n",
       "| 0.275 | 0.768 | 0.493 |\n",
       "| 0.198 | 0.314 | 0.116 |\n",
       "| 0.267 | 0.805 | 0.538 |\n",
       "| 0.246 | 0.595 | 0.349 |\n",
       "| 0.320 | 0.625 | 0.305 |\n",
       "| 0.315 | 0.655 | 0.340 |\n",
       "\n"
      ],
      "text/plain": [
       "  Pre   Post  Delta\n",
       "1 0.304 0.433 0.129\n",
       "2 0.320 0.640 0.320\n",
       "3 0.195 0.668 0.473\n",
       "4 0.275 0.768 0.493\n",
       "5 0.198 0.314 0.116\n",
       "6 0.267 0.805 0.538\n",
       "7 0.246 0.595 0.349\n",
       "8 0.320 0.625 0.305\n",
       "9 0.315 0.655 0.340"
      ]
     },
     "metadata": {},
     "output_type": "display_data"
    }
   ],
   "source": [
    "Gain.table <- read.delim(\"G:/My Drive/Experimental Data/Flocculus_Ex vivo/OKR Gain_new.txt\", \n",
    "                         sep = \"\\t\", \n",
    "                         header = T, \n",
    "                         stringsAsFactors = F)\n",
    "colnames(Gain.table) <- c(\"Pre\", \"Post\", \"Delta\")\n",
    "Gain.table"
   ]
  },
  {
   "cell_type": "markdown",
   "metadata": {},
   "source": [
    "### Perform paired t-test"
   ]
  },
  {
   "cell_type": "code",
   "execution_count": 15,
   "metadata": {},
   "outputs": [
    {
     "data": {
      "text/plain": [
       "\n",
       "\tPaired t-test\n",
       "\n",
       "data:  Gain.table$Pre and Gain.table$Post\n",
       "t = -6.8699, df = 8, p-value = 0.0001284\n",
       "alternative hypothesis: true difference in means is not equal to 0\n",
       "95 percent confidence interval:\n",
       " -0.4545730 -0.2260936\n",
       "sample estimates:\n",
       "mean of the differences \n",
       "             -0.3403333 \n"
      ]
     },
     "metadata": {},
     "output_type": "display_data"
    }
   ],
   "source": [
    "t.result <- t.test(Gain.table$Pre, Gain.table$Post, \n",
    "                   alternative = c(\"two.sided\"), \n",
    "                   paired =T)\n",
    "t.result"
   ]
  },
  {
   "cell_type": "code",
   "execution_count": 19,
   "metadata": {},
   "outputs": [],
   "source": [
    "library(ggplot2)"
   ]
  }
 ],
 "metadata": {
  "kernelspec": {
   "display_name": "R",
   "language": "R",
   "name": "ir"
  },
  "language_info": {
   "codemirror_mode": "r",
   "file_extension": ".r",
   "mimetype": "text/x-r-source",
   "name": "R",
   "pygments_lexer": "r",
   "version": "3.6.3"
  }
 },
 "nbformat": 4,
 "nbformat_minor": 4
}
