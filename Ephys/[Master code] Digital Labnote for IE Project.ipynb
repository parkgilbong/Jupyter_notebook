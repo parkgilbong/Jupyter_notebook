{
 "cells": [
  {
   "cell_type": "markdown",
   "metadata": {},
   "source": [
    "## Digital Labnote for IE project"
   ]
  },
  {
   "cell_type": "markdown",
   "metadata": {},
   "source": [
    "### Behavioral test (Figure 1) "
   ]
  },
  {
   "cell_type": "markdown",
   "metadata": {},
   "source": [
    "    1. Load OKR Gain table from Google Drive "
   ]
  },
  {
   "cell_type": "code",
   "execution_count": 1,
   "metadata": {},
   "outputs": [],
   "source": [
    "OKR_Gain <- read.delim(file=\"G:/My Drive/Experimental Data/Flocculus_Ex vivo/OKR Gain_new.txt\", \n",
    "                       header=T, \n",
    "                       sep='\\t', \n",
    "                       stringsAsFactors = F)"
   ]
  },
  {
   "cell_type": "code",
   "execution_count": 2,
   "metadata": {},
   "outputs": [],
   "source": [
    "colnames(OKR_Gain)  <- c(\"pre\", \"post\", \"delta\")"
   ]
  },
  {
   "cell_type": "code",
   "execution_count": 3,
   "metadata": {},
   "outputs": [
    {
     "data": {
      "text/html": [
       "<table>\n",
       "<caption>A data.frame: 9 × 3</caption>\n",
       "<thead>\n",
       "\t<tr><th scope=col>pre</th><th scope=col>post</th><th scope=col>delta</th></tr>\n",
       "\t<tr><th scope=col>&lt;dbl&gt;</th><th scope=col>&lt;dbl&gt;</th><th scope=col>&lt;dbl&gt;</th></tr>\n",
       "</thead>\n",
       "<tbody>\n",
       "\t<tr><td>0.304</td><td>0.433</td><td>0.129</td></tr>\n",
       "\t<tr><td>0.320</td><td>0.640</td><td>0.320</td></tr>\n",
       "\t<tr><td>0.195</td><td>0.668</td><td>0.473</td></tr>\n",
       "\t<tr><td>0.275</td><td>0.768</td><td>0.493</td></tr>\n",
       "\t<tr><td>0.198</td><td>0.314</td><td>0.116</td></tr>\n",
       "\t<tr><td>0.267</td><td>0.805</td><td>0.538</td></tr>\n",
       "\t<tr><td>0.246</td><td>0.595</td><td>0.349</td></tr>\n",
       "\t<tr><td>0.320</td><td>0.625</td><td>0.305</td></tr>\n",
       "\t<tr><td>0.315</td><td>0.655</td><td>0.340</td></tr>\n",
       "</tbody>\n",
       "</table>\n"
      ],
      "text/latex": [
       "A data.frame: 9 × 3\n",
       "\\begin{tabular}{lll}\n",
       " pre & post & delta\\\\\n",
       " <dbl> & <dbl> & <dbl>\\\\\n",
       "\\hline\n",
       "\t 0.304 & 0.433 & 0.129\\\\\n",
       "\t 0.320 & 0.640 & 0.320\\\\\n",
       "\t 0.195 & 0.668 & 0.473\\\\\n",
       "\t 0.275 & 0.768 & 0.493\\\\\n",
       "\t 0.198 & 0.314 & 0.116\\\\\n",
       "\t 0.267 & 0.805 & 0.538\\\\\n",
       "\t 0.246 & 0.595 & 0.349\\\\\n",
       "\t 0.320 & 0.625 & 0.305\\\\\n",
       "\t 0.315 & 0.655 & 0.340\\\\\n",
       "\\end{tabular}\n"
      ],
      "text/markdown": [
       "\n",
       "A data.frame: 9 × 3\n",
       "\n",
       "| pre &lt;dbl&gt; | post &lt;dbl&gt; | delta &lt;dbl&gt; |\n",
       "|---|---|---|\n",
       "| 0.304 | 0.433 | 0.129 |\n",
       "| 0.320 | 0.640 | 0.320 |\n",
       "| 0.195 | 0.668 | 0.473 |\n",
       "| 0.275 | 0.768 | 0.493 |\n",
       "| 0.198 | 0.314 | 0.116 |\n",
       "| 0.267 | 0.805 | 0.538 |\n",
       "| 0.246 | 0.595 | 0.349 |\n",
       "| 0.320 | 0.625 | 0.305 |\n",
       "| 0.315 | 0.655 | 0.340 |\n",
       "\n"
      ],
      "text/plain": [
       "  pre   post  delta\n",
       "1 0.304 0.433 0.129\n",
       "2 0.320 0.640 0.320\n",
       "3 0.195 0.668 0.473\n",
       "4 0.275 0.768 0.493\n",
       "5 0.198 0.314 0.116\n",
       "6 0.267 0.805 0.538\n",
       "7 0.246 0.595 0.349\n",
       "8 0.320 0.625 0.305\n",
       "9 0.315 0.655 0.340"
      ]
     },
     "metadata": {},
     "output_type": "display_data"
    }
   ],
   "source": [
    "OKR_Gain"
   ]
  },
  {
   "cell_type": "markdown",
   "metadata": {},
   "source": [
    "    2. Descriptive Statistics"
   ]
  },
  {
   "cell_type": "code",
   "execution_count": 4,
   "metadata": {},
   "outputs": [
    {
     "data": {
      "text/html": [
       "<table>\n",
       "<caption>A psych: 3 × 13</caption>\n",
       "<thead>\n",
       "\t<tr><th></th><th scope=col>vars</th><th scope=col>n</th><th scope=col>mean</th><th scope=col>sd</th><th scope=col>median</th><th scope=col>trimmed</th><th scope=col>mad</th><th scope=col>min</th><th scope=col>max</th><th scope=col>range</th><th scope=col>skew</th><th scope=col>kurtosis</th><th scope=col>se</th></tr>\n",
       "\t<tr><th></th><th scope=col>&lt;int&gt;</th><th scope=col>&lt;dbl&gt;</th><th scope=col>&lt;dbl&gt;</th><th scope=col>&lt;dbl&gt;</th><th scope=col>&lt;dbl&gt;</th><th scope=col>&lt;dbl&gt;</th><th scope=col>&lt;dbl&gt;</th><th scope=col>&lt;dbl&gt;</th><th scope=col>&lt;dbl&gt;</th><th scope=col>&lt;dbl&gt;</th><th scope=col>&lt;dbl&gt;</th><th scope=col>&lt;dbl&gt;</th><th scope=col>&lt;dbl&gt;</th></tr>\n",
       "</thead>\n",
       "<tbody>\n",
       "\t<tr><th scope=row>pre</th><td>1</td><td>9</td><td>0.2711111</td><td>0.04948344</td><td>0.275</td><td>0.2711111</td><td>0.0593040</td><td>0.195</td><td>0.320</td><td>0.125</td><td>-0.4527580</td><td>-1.5390788</td><td>0.01649448</td></tr>\n",
       "\t<tr><th scope=row>post</th><td>2</td><td>9</td><td>0.6114444</td><td>0.15356360</td><td>0.640</td><td>0.6114444</td><td>0.0667170</td><td>0.314</td><td>0.805</td><td>0.491</td><td>-0.6328194</td><td>-0.8300669</td><td>0.05118787</td></tr>\n",
       "\t<tr><th scope=row>delta</th><td>3</td><td>9</td><td>0.3403333</td><td>0.14862032</td><td>0.340</td><td>0.3403333</td><td>0.1971858</td><td>0.116</td><td>0.538</td><td>0.422</td><td>-0.2424679</td><td>-1.4265961</td><td>0.04954011</td></tr>\n",
       "</tbody>\n",
       "</table>\n"
      ],
      "text/latex": [
       "A psych: 3 × 13\n",
       "\\begin{tabular}{r|lllllllllllll}\n",
       "  & vars & n & mean & sd & median & trimmed & mad & min & max & range & skew & kurtosis & se\\\\\n",
       "  & <int> & <dbl> & <dbl> & <dbl> & <dbl> & <dbl> & <dbl> & <dbl> & <dbl> & <dbl> & <dbl> & <dbl> & <dbl>\\\\\n",
       "\\hline\n",
       "\tpre & 1 & 9 & 0.2711111 & 0.04948344 & 0.275 & 0.2711111 & 0.0593040 & 0.195 & 0.320 & 0.125 & -0.4527580 & -1.5390788 & 0.01649448\\\\\n",
       "\tpost & 2 & 9 & 0.6114444 & 0.15356360 & 0.640 & 0.6114444 & 0.0667170 & 0.314 & 0.805 & 0.491 & -0.6328194 & -0.8300669 & 0.05118787\\\\\n",
       "\tdelta & 3 & 9 & 0.3403333 & 0.14862032 & 0.340 & 0.3403333 & 0.1971858 & 0.116 & 0.538 & 0.422 & -0.2424679 & -1.4265961 & 0.04954011\\\\\n",
       "\\end{tabular}\n"
      ],
      "text/markdown": [
       "\n",
       "A psych: 3 × 13\n",
       "\n",
       "| <!--/--> | vars &lt;int&gt; | n &lt;dbl&gt; | mean &lt;dbl&gt; | sd &lt;dbl&gt; | median &lt;dbl&gt; | trimmed &lt;dbl&gt; | mad &lt;dbl&gt; | min &lt;dbl&gt; | max &lt;dbl&gt; | range &lt;dbl&gt; | skew &lt;dbl&gt; | kurtosis &lt;dbl&gt; | se &lt;dbl&gt; |\n",
       "|---|---|---|---|---|---|---|---|---|---|---|---|---|---|\n",
       "| pre | 1 | 9 | 0.2711111 | 0.04948344 | 0.275 | 0.2711111 | 0.0593040 | 0.195 | 0.320 | 0.125 | -0.4527580 | -1.5390788 | 0.01649448 |\n",
       "| post | 2 | 9 | 0.6114444 | 0.15356360 | 0.640 | 0.6114444 | 0.0667170 | 0.314 | 0.805 | 0.491 | -0.6328194 | -0.8300669 | 0.05118787 |\n",
       "| delta | 3 | 9 | 0.3403333 | 0.14862032 | 0.340 | 0.3403333 | 0.1971858 | 0.116 | 0.538 | 0.422 | -0.2424679 | -1.4265961 | 0.04954011 |\n",
       "\n"
      ],
      "text/plain": [
       "      vars n mean      sd         median trimmed   mad       min   max   range\n",
       "pre   1    9 0.2711111 0.04948344 0.275  0.2711111 0.0593040 0.195 0.320 0.125\n",
       "post  2    9 0.6114444 0.15356360 0.640  0.6114444 0.0667170 0.314 0.805 0.491\n",
       "delta 3    9 0.3403333 0.14862032 0.340  0.3403333 0.1971858 0.116 0.538 0.422\n",
       "      skew       kurtosis   se        \n",
       "pre   -0.4527580 -1.5390788 0.01649448\n",
       "post  -0.6328194 -0.8300669 0.05118787\n",
       "delta -0.2424679 -1.4265961 0.04954011"
      ]
     },
     "metadata": {},
     "output_type": "display_data"
    }
   ],
   "source": [
    "library(psych) # to use 'describe' function\n",
    "describe(OKR_Gain)"
   ]
  },
  {
   "cell_type": "markdown",
   "metadata": {},
   "source": [
    "    3. Perform paired t-test"
   ]
  },
  {
   "cell_type": "code",
   "execution_count": 5,
   "metadata": {},
   "outputs": [
    {
     "data": {
      "text/plain": [
       "\n",
       "\tPaired t-test\n",
       "\n",
       "data:  OKR_Gain$pre and OKR_Gain$post\n",
       "t = -6.8699, df = 8, p-value = 0.0001284\n",
       "alternative hypothesis: true difference in means is not equal to 0\n",
       "95 percent confidence interval:\n",
       " -0.4545730 -0.2260936\n",
       "sample estimates:\n",
       "mean of the differences \n",
       "             -0.3403333 \n"
      ]
     },
     "metadata": {},
     "output_type": "display_data"
    }
   ],
   "source": [
    "t.test(x = OKR_Gain$pre, y = OKR_Gain$post, paired = T)"
   ]
  },
  {
   "cell_type": "markdown",
   "metadata": {},
   "source": [
    "-------------"
   ]
  },
  {
   "cell_type": "markdown",
   "metadata": {},
   "source": [
    "### Mean Firing Rate (Figure 3) "
   ]
  },
  {
   "cell_type": "markdown",
   "metadata": {},
   "source": [
    "    1. Load mean firing rate table from Google drive"
   ]
  },
  {
   "cell_type": "code",
   "execution_count": 27,
   "metadata": {},
   "outputs": [],
   "source": [
    "MFR <- read.delim(file=\"G:/My Drive/Experimental Data/Flocculus_Ex vivo/MFR_TG_new.txt\", \n",
    "                  sep='\\t', \n",
    "                  stringsAsFactors = T, \n",
    "                  header=T)"
   ]
  },
  {
   "cell_type": "code",
   "execution_count": 28,
   "metadata": {},
   "outputs": [
    {
     "data": {
      "text/html": [
       "<table>\n",
       "<caption>A data.frame: 6 × 4</caption>\n",
       "<thead>\n",
       "\t<tr><th></th><th scope=col>AnimalID</th><th scope=col>Protocol</th><th scope=col>Gain</th><th scope=col>Trial</th></tr>\n",
       "\t<tr><th></th><th scope=col>&lt;fct&gt;</th><th scope=col>&lt;fct&gt;</th><th scope=col>&lt;dbl&gt;</th><th scope=col>&lt;fct&gt;</th></tr>\n",
       "</thead>\n",
       "<tbody>\n",
       "\t<tr><th scope=row>1</th><td>150216_HC_YG_#01_tt</td><td>HC</td><td>58.26657</td><td>+100 pA</td></tr>\n",
       "\t<tr><th scope=row>2</th><td>150216_HC_YG_#02_tt</td><td>HC</td><td>21.26528</td><td>+100 pA</td></tr>\n",
       "\t<tr><th scope=row>3</th><td>150216_HC_YG_#03_tt</td><td>HC</td><td> 0.00000</td><td>+100 pA</td></tr>\n",
       "\t<tr><th scope=row>4</th><td>150216_HC_YG_#05_tt</td><td>HC</td><td> 0.00000</td><td>+100 pA</td></tr>\n",
       "\t<tr><th scope=row>5</th><td>150216_HC_YG_#06_tt</td><td>HC</td><td> 0.00000</td><td>+100 pA</td></tr>\n",
       "\t<tr><th scope=row>6</th><td>150216_HC_YG_#09_tt</td><td>HC</td><td>36.90037</td><td>+100 pA</td></tr>\n",
       "</tbody>\n",
       "</table>\n"
      ],
      "text/latex": [
       "A data.frame: 6 × 4\n",
       "\\begin{tabular}{r|llll}\n",
       "  & AnimalID & Protocol & Gain & Trial\\\\\n",
       "  & <fct> & <fct> & <dbl> & <fct>\\\\\n",
       "\\hline\n",
       "\t1 & 150216\\_HC\\_YG\\_\\#01\\_tt & HC & 58.26657 & +100 pA\\\\\n",
       "\t2 & 150216\\_HC\\_YG\\_\\#02\\_tt & HC & 21.26528 & +100 pA\\\\\n",
       "\t3 & 150216\\_HC\\_YG\\_\\#03\\_tt & HC &  0.00000 & +100 pA\\\\\n",
       "\t4 & 150216\\_HC\\_YG\\_\\#05\\_tt & HC &  0.00000 & +100 pA\\\\\n",
       "\t5 & 150216\\_HC\\_YG\\_\\#06\\_tt & HC &  0.00000 & +100 pA\\\\\n",
       "\t6 & 150216\\_HC\\_YG\\_\\#09\\_tt & HC & 36.90037 & +100 pA\\\\\n",
       "\\end{tabular}\n"
      ],
      "text/markdown": [
       "\n",
       "A data.frame: 6 × 4\n",
       "\n",
       "| <!--/--> | AnimalID &lt;fct&gt; | Protocol &lt;fct&gt; | Gain &lt;dbl&gt; | Trial &lt;fct&gt; |\n",
       "|---|---|---|---|---|\n",
       "| 1 | 150216_HC_YG_#01_tt | HC | 58.26657 | +100 pA |\n",
       "| 2 | 150216_HC_YG_#02_tt | HC | 21.26528 | +100 pA |\n",
       "| 3 | 150216_HC_YG_#03_tt | HC |  0.00000 | +100 pA |\n",
       "| 4 | 150216_HC_YG_#05_tt | HC |  0.00000 | +100 pA |\n",
       "| 5 | 150216_HC_YG_#06_tt | HC |  0.00000 | +100 pA |\n",
       "| 6 | 150216_HC_YG_#09_tt | HC | 36.90037 | +100 pA |\n",
       "\n"
      ],
      "text/plain": [
       "  AnimalID            Protocol Gain     Trial  \n",
       "1 150216_HC_YG_#01_tt HC       58.26657 +100 pA\n",
       "2 150216_HC_YG_#02_tt HC       21.26528 +100 pA\n",
       "3 150216_HC_YG_#03_tt HC        0.00000 +100 pA\n",
       "4 150216_HC_YG_#05_tt HC        0.00000 +100 pA\n",
       "5 150216_HC_YG_#06_tt HC        0.00000 +100 pA\n",
       "6 150216_HC_YG_#09_tt HC       36.90037 +100 pA"
      ]
     },
     "metadata": {},
     "output_type": "display_data"
    }
   ],
   "source": [
    "head(MFR)"
   ]
  },
  {
   "cell_type": "code",
   "execution_count": 29,
   "metadata": {},
   "outputs": [
    {
     "data": {
      "text/html": [
       "<table>\n",
       "<caption>A tibble: 2 × 4</caption>\n",
       "<thead>\n",
       "\t<tr><th scope=col>Protocol</th><th scope=col>count</th><th scope=col>mean</th><th scope=col>sd</th></tr>\n",
       "\t<tr><th scope=col>&lt;fct&gt;</th><th scope=col>&lt;int&gt;</th><th scope=col>&lt;dbl&gt;</th><th scope=col>&lt;dbl&gt;</th></tr>\n",
       "</thead>\n",
       "<tbody>\n",
       "\t<tr><td>HC</td><td>852</td><td>87.99020</td><td>67.86370</td></tr>\n",
       "\t<tr><td>OL</td><td>636</td><td>73.61124</td><td>61.11241</td></tr>\n",
       "</tbody>\n",
       "</table>\n"
      ],
      "text/latex": [
       "A tibble: 2 × 4\n",
       "\\begin{tabular}{llll}\n",
       " Protocol & count & mean & sd\\\\\n",
       " <fct> & <int> & <dbl> & <dbl>\\\\\n",
       "\\hline\n",
       "\t HC & 852 & 87.99020 & 67.86370\\\\\n",
       "\t OL & 636 & 73.61124 & 61.11241\\\\\n",
       "\\end{tabular}\n"
      ],
      "text/markdown": [
       "\n",
       "A tibble: 2 × 4\n",
       "\n",
       "| Protocol &lt;fct&gt; | count &lt;int&gt; | mean &lt;dbl&gt; | sd &lt;dbl&gt; |\n",
       "|---|---|---|---|\n",
       "| HC | 852 | 87.99020 | 67.86370 |\n",
       "| OL | 636 | 73.61124 | 61.11241 |\n",
       "\n"
      ],
      "text/plain": [
       "  Protocol count mean     sd      \n",
       "1 HC       852   87.99020 67.86370\n",
       "2 OL       636   73.61124 61.11241"
      ]
     },
     "metadata": {},
     "output_type": "display_data"
    }
   ],
   "source": [
    "library(dplyr)\n",
    "group_by(MFR, Protocol)  %>%\n",
    "    summarise(count = n(), \n",
    "              mean = mean(Gain, na.rm=T), \n",
    "              sd =sd(Gain, na.rm=T))"
   ]
  },
  {
   "cell_type": "code",
   "execution_count": 5,
   "metadata": {},
   "outputs": [
    {
     "name": "stderr",
     "output_type": "stream",
     "text": [
      "Warning message:\n",
      "\"package 'lme4' was built under R version 3.6.3\"Loading required package: Matrix\n"
     ]
    },
    {
     "ename": "ERROR",
     "evalue": "Error: package or namespace load failed for 'lme4' in loadNamespace(j <- i[[1L]], c(lib.loc, .libPaths()), versionCheck = vI[[j]]):\n there is no package called 'statmod'\n",
     "output_type": "error",
     "traceback": [
      "Error: package or namespace load failed for 'lme4' in loadNamespace(j <- i[[1L]], c(lib.loc, .libPaths()), versionCheck = vI[[j]]):\n there is no package called 'statmod'\nTraceback:\n",
      "1. library(lme4)",
      "2. tryCatch({\n .     attr(package, \"LibPath\") <- which.lib.loc\n .     ns <- loadNamespace(package, lib.loc)\n .     env <- attachNamespace(ns, pos = pos, deps, exclude, include.only)\n . }, error = function(e) {\n .     P <- if (!is.null(cc <- conditionCall(e))) \n .         paste(\" in\", deparse(cc)[1L])\n .     else \"\"\n .     msg <- gettextf(\"package or namespace load failed for %s%s:\\n %s\", \n .         sQuote(package), P, conditionMessage(e))\n .     if (logical.return) \n .         message(paste(\"Error:\", msg), domain = NA)\n .     else stop(msg, call. = FALSE, domain = NA)\n . })",
      "3. tryCatchList(expr, classes, parentenv, handlers)",
      "4. tryCatchOne(expr, names, parentenv, handlers[[1L]])",
      "5. value[[3L]](cond)",
      "6. stop(msg, call. = FALSE, domain = NA)"
     ]
    }
   ],
   "source": [
    "library(lme4) #for generation of Linear Mixed Model\n",
    "library(nlme) #for generation of Linear Mixed Model\n",
    "library(multcomp)\n",
    "library(tidyverse) #for data manipulation and visualization\n",
    "library(ggpubr) #for creating easily publication ready plots\n",
    "library(rstatix) # provides pipe-friendly R functions for easy statistical analyses\n",
    "library(lmerTest)\n",
    "library(psycho)\n",
    "library(emmeans) #for post hoc pairwise comparison of interaction in Mixed Effects Model"
   ]
  },
  {
   "cell_type": "markdown",
   "metadata": {},
   "source": [
    "    2. Generate Linear Mixed Model"
   ]
  },
  {
   "cell_type": "code",
   "execution_count": 99,
   "metadata": {},
   "outputs": [],
   "source": [
    "LMM.model <- lme(Gain ~ Protocol + Trial + Protocol*Trial, \n",
    "                 random = ~1|AnimalID, \n",
    "                 method=\"REML\",\n",
    "                 data=MFR, \n",
    "                 na.action = \"na.omit\")"
   ]
  },
  {
   "cell_type": "code",
   "execution_count": 104,
   "metadata": {},
   "outputs": [],
   "source": [
    "a <- aov(Gain~Protocol*Trial+Error(AnimalID), data=MFR)"
   ]
  },
  {
   "cell_type": "code",
   "execution_count": 105,
   "metadata": {},
   "outputs": [
    {
     "data": {
      "text/plain": [
       "\n",
       "Error: AnimalID\n",
       "           Df  Sum Sq Mean Sq F value Pr(>F)  \n",
       "Protocol    1   75292   75292   5.096 0.0258 *\n",
       "Residuals 122 1802392   14774                 \n",
       "---\n",
       "Signif. codes:  0 '***' 0.001 '**' 0.01 '*' 0.05 '.' 0.1 ' ' 1\n",
       "\n",
       "Error: Within\n",
       "                 Df  Sum Sq Mean Sq F value  Pr(>F)    \n",
       "Trial            11 3854100  350373 757.816 < 2e-16 ***\n",
       "Protocol:Trial   11   13857    1260   2.725 0.00174 ** \n",
       "Residuals      1342  620467     462                    \n",
       "---\n",
       "Signif. codes:  0 '***' 0.001 '**' 0.01 '*' 0.05 '.' 0.1 ' ' 1"
      ]
     },
     "metadata": {},
     "output_type": "display_data"
    }
   ],
   "source": [
    "summary(a)"
   ]
  },
  {
   "cell_type": "code",
   "execution_count": 92,
   "metadata": {},
   "outputs": [],
   "source": [
    "MFR$interaction <- interaction(MFR$Protocol, MFR$Trial)\n"
   ]
  },
  {
   "cell_type": "code",
   "execution_count": 96,
   "metadata": {},
   "outputs": [],
   "source": [
    "LMM.model1 <- lmer(Gain~interaction + (1|AnimalID), data=MFR, na.action = \"na.omit\")"
   ]
  },
  {
   "cell_type": "code",
   "execution_count": 97,
   "metadata": {},
   "outputs": [
    {
     "name": "stderr",
     "output_type": "stream",
     "text": [
      "Warning message in RET$pfunction(\"adjusted\", ...):\n",
      "\"Completion with error > abseps\"\n",
      "Warning message in RET$pfunction(\"adjusted\", ...):\n",
      "\"Completion with error > abseps\"\n",
      "Warning message in RET$pfunction(\"adjusted\", ...):\n",
      "\"Completion with error > abseps\"\n",
      "Warning message in RET$pfunction(\"adjusted\", ...):\n",
      "\"Completion with error > abseps\"\n",
      "Warning message in RET$pfunction(\"adjusted\", ...):\n",
      "\"Completion with error > abseps\"\n",
      "Warning message in RET$pfunction(\"adjusted\", ...):\n",
      "\"Completion with error > abseps\"\n",
      "Warning message in RET$pfunction(\"adjusted\", ...):\n",
      "\"Completion with error > abseps\"\n",
      "Warning message in RET$pfunction(\"adjusted\", ...):\n",
      "\"Completion with error > abseps\"\n",
      "Warning message in RET$pfunction(\"adjusted\", ...):\n",
      "\"Completion with error > abseps\"\n",
      "Warning message in RET$pfunction(\"adjusted\", ...):\n",
      "\"Completion with error > abseps\"\n",
      "Warning message in RET$pfunction(\"adjusted\", ...):\n",
      "\"Completion with error > abseps\"\n",
      "Warning message in RET$pfunction(\"adjusted\", ...):\n",
      "\"Completion with error > abseps\"\n",
      "Warning message in RET$pfunction(\"adjusted\", ...):\n",
      "\"Completion with error > abseps\"\n",
      "Warning message in RET$pfunction(\"adjusted\", ...):\n",
      "\"Completion with error > abseps\"\n",
      "Warning message in RET$pfunction(\"adjusted\", ...):\n",
      "\"Completion with error > abseps\"\n",
      "Warning message in RET$pfunction(\"adjusted\", ...):\n",
      "\"Completion with error > abseps\"\n",
      "Warning message in RET$pfunction(\"adjusted\", ...):\n",
      "\"Completion with error > abseps\"\n",
      "Warning message in RET$pfunction(\"adjusted\", ...):\n",
      "\"Completion with error > abseps\"\n",
      "Warning message in RET$pfunction(\"adjusted\", ...):\n",
      "\"Completion with error > abseps\"\n",
      "Warning message in RET$pfunction(\"adjusted\", ...):\n",
      "\"Completion with error > abseps\"\n",
      "Warning message in RET$pfunction(\"adjusted\", ...):\n",
      "\"Completion with error > abseps\"\n",
      "Warning message in RET$pfunction(\"adjusted\", ...):\n",
      "\"Completion with error > abseps\"\n",
      "Warning message in RET$pfunction(\"adjusted\", ...):\n",
      "\"Completion with error > abseps\"\n",
      "Warning message in RET$pfunction(\"adjusted\", ...):\n",
      "\"Completion with error > abseps\"\n",
      "Warning message in RET$pfunction(\"adjusted\", ...):\n",
      "\"Completion with error > abseps\"\n",
      "Warning message in RET$pfunction(\"adjusted\", ...):\n",
      "\"Completion with error > abseps\"\n",
      "Warning message in RET$pfunction(\"adjusted\", ...):\n",
      "\"Completion with error > abseps\"\n",
      "Warning message in RET$pfunction(\"adjusted\", ...):\n",
      "\"Completion with error > abseps\"\n",
      "Warning message in RET$pfunction(\"adjusted\", ...):\n",
      "\"Completion with error > abseps\"\n",
      "Warning message in RET$pfunction(\"adjusted\", ...):\n",
      "\"Completion with error > abseps\"\n",
      "Warning message in RET$pfunction(\"adjusted\", ...):\n",
      "\"Completion with error > abseps\"\n",
      "Warning message in RET$pfunction(\"adjusted\", ...):\n",
      "\"Completion with error > abseps\"\n",
      "Warning message in RET$pfunction(\"adjusted\", ...):\n",
      "\"Completion with error > abseps\"\n",
      "Warning message in RET$pfunction(\"adjusted\", ...):\n",
      "\"Completion with error > abseps\"\n",
      "Warning message in RET$pfunction(\"adjusted\", ...):\n",
      "\"Completion with error > abseps\"\n",
      "Warning message in RET$pfunction(\"adjusted\", ...):\n",
      "\"Completion with error > abseps\"\n",
      "Warning message in RET$pfunction(\"adjusted\", ...):\n",
      "\"Completion with error > abseps\"\n",
      "Warning message in RET$pfunction(\"adjusted\", ...):\n",
      "\"Completion with error > abseps\"\n"
     ]
    },
    {
     "data": {
      "text/plain": [
       "\n",
       "\t Simultaneous Tests for General Linear Hypotheses\n",
       "\n",
       "Multiple Comparisons of Means: Tukey Contrasts\n",
       "\n",
       "\n",
       "Fit: lmer(formula = Gain ~ interaction + (1 | AnimalID), data = MFR, \n",
       "    na.action = \"na.omit\")\n",
       "\n",
       "Linear Hypotheses:\n",
       "                               Estimate Std. Error z value Pr(>|z|)    \n",
       "OL.+100 pA - HC.+100 pA == 0     -1.633      7.385  -0.221   1.0000    \n",
       "HC.+1000 pA - HC.+100 pA == 0   137.023      3.609  37.969    <0.01 ***\n",
       "OL.+1000 pA - HC.+100 pA == 0   118.209      7.385  16.007    <0.01 ***\n",
       "HC.+1100 pA - HC.+100 pA == 0   148.382      3.609  41.116    <0.01 ***\n",
       "OL.+1100 pA - HC.+100 pA == 0   132.291      7.385  17.914    <0.01 ***\n",
       "HC.+1200 pA - HC.+100 pA == 0   160.180      3.609  44.385    <0.01 ***\n",
       "OL.+1200 pA - HC.+100 pA == 0   144.499      7.385  19.567    <0.01 ***\n",
       "HC.+200 pA - HC.+100 pA == 0     10.066      3.609   2.789   0.3730    \n",
       "OL.+200 pA - HC.+100 pA == 0      6.842      7.385   0.926   1.0000    \n",
       "HC.+300 pA - HC.+100 pA == 0     24.058      3.609   6.666    <0.01 ***\n",
       "OL.+300 pA - HC.+100 pA == 0     15.073      7.385   2.041   0.9097    \n",
       "HC.+400 pA - HC.+100 pA == 0     41.614      3.609  11.531    <0.01 ***\n",
       "OL.+400 pA - HC.+100 pA == 0     27.790      7.385   3.763   0.0222 *  \n",
       "HC.+500 pA - HC.+100 pA == 0     63.337      3.609  17.550    <0.01 ***\n",
       "OL.+500 pA - HC.+100 pA == 0     44.581      7.385   6.037    <0.01 ***\n",
       "HC.+600 pA - HC.+100 pA == 0     79.722      3.609  22.091    <0.01 ***\n",
       "OL.+600 pA - HC.+100 pA == 0     60.416      7.385   8.181    <0.01 ***\n",
       "HC.+700 pA - HC.+100 pA == 0     96.099      3.609  26.629    <0.01 ***\n",
       "OL.+700 pA - HC.+100 pA == 0     75.572      7.385  10.233    <0.01 ***\n",
       "HC.+800 pA - HC.+100 pA == 0    110.362      3.609  30.581    <0.01 ***\n",
       "OL.+800 pA - HC.+100 pA == 0     90.205      7.385  12.215    <0.01 ***\n",
       "HC.+900 pA - HC.+100 pA == 0    122.617      3.609  33.977    <0.01 ***\n",
       "OL.+900 pA - HC.+100 pA == 0    107.065      7.385  14.498    <0.01 ***\n",
       "HC.+1000 pA - OL.+100 pA == 0   138.656      7.385  18.776    <0.01 ***\n",
       "OL.+1000 pA - OL.+100 pA == 0   119.842      4.177  28.691    <0.01 ***\n",
       "HC.+1100 pA - OL.+100 pA == 0   150.015      7.385  20.314    <0.01 ***\n",
       "OL.+1100 pA - OL.+100 pA == 0   133.924      4.177  32.063    <0.01 ***\n",
       "HC.+1200 pA - OL.+100 pA == 0   161.812      7.385  21.912    <0.01 ***\n",
       "OL.+1200 pA - OL.+100 pA == 0   146.131      4.177  34.985    <0.01 ***\n",
       "HC.+200 pA - OL.+100 pA == 0     11.698      7.385   1.584   0.9951    \n",
       "OL.+200 pA - OL.+100 pA == 0      8.474      4.177   2.029   0.9150    \n",
       "HC.+300 pA - OL.+100 pA == 0     25.690      7.385   3.479   0.0602 .  \n",
       "OL.+300 pA - OL.+100 pA == 0     16.706      4.177   4.000    <0.01 ** \n",
       "HC.+400 pA - OL.+100 pA == 0     43.246      7.385   5.856    <0.01 ***\n",
       "OL.+400 pA - OL.+100 pA == 0     29.422      4.177   7.044    <0.01 ***\n",
       "HC.+500 pA - OL.+100 pA == 0     64.969      7.385   8.798    <0.01 ***\n",
       "OL.+500 pA - OL.+100 pA == 0     46.213      4.177  11.064    <0.01 ***\n",
       "HC.+600 pA - OL.+100 pA == 0     81.355      7.385  11.017    <0.01 ***\n",
       "OL.+600 pA - OL.+100 pA == 0     62.048      4.177  14.855    <0.01 ***\n",
       "HC.+700 pA - OL.+100 pA == 0     97.731      7.385  13.234    <0.01 ***\n",
       "OL.+700 pA - OL.+100 pA == 0     77.205      4.177  18.483    <0.01 ***\n",
       "HC.+800 pA - OL.+100 pA == 0    111.994      7.385  15.166    <0.01 ***\n",
       "OL.+800 pA - OL.+100 pA == 0     91.838      4.177  21.987    <0.01 ***\n",
       "HC.+900 pA - OL.+100 pA == 0    124.249      7.385  16.825    <0.01 ***\n",
       "OL.+900 pA - OL.+100 pA == 0    108.698      4.177  26.023    <0.01 ***\n",
       "OL.+1000 pA - HC.+1000 pA == 0  -18.814      7.385  -2.548   0.5682    \n",
       "HC.+1100 pA - HC.+1000 pA == 0   11.359      3.609   3.148   0.1616    \n",
       "OL.+1100 pA - HC.+1000 pA == 0   -4.732      7.385  -0.641   1.0000    \n",
       "HC.+1200 pA - HC.+1000 pA == 0   23.157      3.609   6.417    <0.01 ***\n",
       "OL.+1200 pA - HC.+1000 pA == 0    7.476      7.385   1.012   1.0000    \n",
       "HC.+200 pA - HC.+1000 pA == 0  -126.958      3.609 -35.179    <0.01 ***\n",
       "OL.+200 pA - HC.+1000 pA == 0  -130.181      7.385 -17.628    <0.01 ***\n",
       "HC.+300 pA - HC.+1000 pA == 0  -112.965      3.609 -31.302    <0.01 ***\n",
       "OL.+300 pA - HC.+1000 pA == 0  -121.950      7.385 -16.514    <0.01 ***\n",
       "HC.+400 pA - HC.+1000 pA == 0   -95.409      3.609 -26.438    <0.01 ***\n",
       "OL.+400 pA - HC.+1000 pA == 0  -109.234      7.385 -14.792    <0.01 ***\n",
       "HC.+500 pA - HC.+1000 pA == 0   -73.686      3.609 -20.418    <0.01 ***\n",
       "OL.+500 pA - HC.+1000 pA == 0   -92.442      7.385 -12.518    <0.01 ***\n",
       "HC.+600 pA - HC.+1000 pA == 0   -57.301      3.609 -15.878    <0.01 ***\n",
       "OL.+600 pA - HC.+1000 pA == 0   -76.608      7.385 -10.374    <0.01 ***\n",
       "HC.+700 pA - HC.+1000 pA == 0   -40.924      3.609 -11.340    <0.01 ***\n",
       "OL.+700 pA - HC.+1000 pA == 0   -61.451      7.385  -8.321    <0.01 ***\n",
       "HC.+800 pA - HC.+1000 pA == 0   -26.662      3.609  -7.388    <0.01 ***\n",
       "OL.+800 pA - HC.+1000 pA == 0   -46.818      7.385  -6.340    <0.01 ***\n",
       "HC.+900 pA - HC.+1000 pA == 0   -14.407      3.609  -3.992    <0.01 ** \n",
       "OL.+900 pA - HC.+1000 pA == 0   -29.958      7.385  -4.057    <0.01 ** \n",
       "HC.+1100 pA - OL.+1000 pA == 0   30.173      7.385   4.086    <0.01 ** \n",
       "OL.+1100 pA - OL.+1000 pA == 0   14.082      4.177   3.371   0.0843 .  \n",
       "HC.+1200 pA - OL.+1000 pA == 0   41.970      7.385   5.683    <0.01 ***\n",
       "OL.+1200 pA - OL.+1000 pA == 0   26.290      4.177   6.294    <0.01 ***\n",
       "HC.+200 pA - OL.+1000 pA == 0  -108.144      7.385 -14.644    <0.01 ***\n",
       "OL.+200 pA - OL.+1000 pA == 0  -111.367      4.177 -26.662    <0.01 ***\n",
       "HC.+300 pA - OL.+1000 pA == 0   -94.151      7.385 -12.749    <0.01 ***\n",
       "OL.+300 pA - OL.+1000 pA == 0  -103.136      4.177 -24.692    <0.01 ***\n",
       "HC.+400 pA - OL.+1000 pA == 0   -76.595      7.385 -10.372    <0.01 ***\n",
       "OL.+400 pA - OL.+1000 pA == 0   -90.420      4.177 -21.647    <0.01 ***\n",
       "HC.+500 pA - OL.+1000 pA == 0   -54.872      7.385  -7.430    <0.01 ***\n",
       "OL.+500 pA - OL.+1000 pA == 0   -73.628      4.177 -17.627    <0.01 ***\n",
       "HC.+600 pA - OL.+1000 pA == 0   -38.487      7.385  -5.212    <0.01 ***\n",
       "OL.+600 pA - OL.+1000 pA == 0   -57.794      4.177 -13.836    <0.01 ***\n",
       "HC.+700 pA - OL.+1000 pA == 0   -22.110      7.385  -2.994   0.2373    \n",
       "OL.+700 pA - OL.+1000 pA == 0   -42.637      4.177 -10.208    <0.01 ***\n",
       "HC.+800 pA - OL.+1000 pA == 0    -7.848      7.385  -1.063   1.0000    \n",
       "OL.+800 pA - OL.+1000 pA == 0   -28.004      4.177  -6.704    <0.01 ***\n",
       "HC.+900 pA - OL.+1000 pA == 0     4.407      7.385   0.597   1.0000    \n",
       "OL.+900 pA - OL.+1000 pA == 0   -11.144      4.177  -2.668   0.4688    \n",
       "OL.+1100 pA - HC.+1100 pA == 0  -16.091      7.385  -2.179   0.8417    \n",
       "HC.+1200 pA - HC.+1100 pA == 0   11.797      3.609   3.269   0.1167    \n",
       "OL.+1200 pA - HC.+1100 pA == 0   -3.883      7.385  -0.526   1.0000    \n",
       "HC.+200 pA - HC.+1100 pA == 0  -138.317      3.609 -38.327    <0.01 ***\n",
       "OL.+200 pA - HC.+1100 pA == 0  -141.540      7.385 -19.167    <0.01 ***\n",
       "HC.+300 pA - HC.+1100 pA == 0  -124.325      3.609 -34.450    <0.01 ***\n",
       "OL.+300 pA - HC.+1100 pA == 0  -133.309      7.385 -18.052    <0.01 ***\n",
       "HC.+400 pA - HC.+1100 pA == 0  -106.768      3.609 -29.585    <0.01 ***\n",
       "OL.+400 pA - HC.+1100 pA == 0  -120.593      7.385 -16.330    <0.01 ***\n",
       "HC.+500 pA - HC.+1100 pA == 0   -85.046      3.609 -23.566    <0.01 ***\n",
       "OL.+500 pA - HC.+1100 pA == 0  -103.801      7.385 -14.056    <0.01 ***\n",
       "HC.+600 pA - HC.+1100 pA == 0   -68.660      3.609 -19.025    <0.01 ***\n",
       "OL.+600 pA - HC.+1100 pA == 0   -87.967      7.385 -11.912    <0.01 ***\n",
       "HC.+700 pA - HC.+1100 pA == 0   -52.283      3.609 -14.488    <0.01 ***\n",
       "OL.+700 pA - HC.+1100 pA == 0   -72.810      7.385  -9.860    <0.01 ***\n",
       "HC.+800 pA - HC.+1100 pA == 0   -38.021      3.609 -10.535    <0.01 ***\n",
       "OL.+800 pA - HC.+1100 pA == 0   -58.177      7.385  -7.878    <0.01 ***\n",
       "HC.+900 pA - HC.+1100 pA == 0   -25.766      3.609  -7.140    <0.01 ***\n",
       "OL.+900 pA - HC.+1100 pA == 0   -41.317      7.385  -5.595    <0.01 ***\n",
       "HC.+1200 pA - OL.+1100 pA == 0   27.888      7.385   3.776   0.0215 *  \n",
       "OL.+1200 pA - OL.+1100 pA == 0   12.207      4.177   2.923   0.2806    \n",
       "HC.+200 pA - OL.+1100 pA == 0  -122.226      7.385 -16.551    <0.01 ***\n",
       "OL.+200 pA - OL.+1100 pA == 0  -125.450      4.177 -30.034    <0.01 ***\n",
       "HC.+300 pA - OL.+1100 pA == 0  -108.234      7.385 -14.656    <0.01 ***\n",
       "OL.+300 pA - OL.+1100 pA == 0  -117.218      4.177 -28.063    <0.01 ***\n",
       "HC.+400 pA - OL.+1100 pA == 0   -90.677      7.385 -12.279    <0.01 ***\n",
       "OL.+400 pA - OL.+1100 pA == 0  -104.502      4.177 -25.019    <0.01 ***\n",
       "HC.+500 pA - OL.+1100 pA == 0   -68.955      7.385  -9.337    <0.01 ***\n",
       "OL.+500 pA - OL.+1100 pA == 0   -87.711      4.177 -20.999    <0.01 ***\n",
       "HC.+600 pA - OL.+1100 pA == 0   -52.569      7.385  -7.119    <0.01 ***\n",
       "OL.+600 pA - OL.+1100 pA == 0   -71.876      4.177 -17.208    <0.01 ***\n",
       "HC.+700 pA - OL.+1100 pA == 0   -36.193      7.385  -4.901    <0.01 ***\n",
       "OL.+700 pA - OL.+1100 pA == 0   -56.719      4.177 -13.579    <0.01 ***\n",
       "HC.+800 pA - OL.+1100 pA == 0   -21.930      7.385  -2.970   0.2518    \n",
       "OL.+800 pA - OL.+1100 pA == 0   -42.086      4.177 -10.076    <0.01 ***\n",
       "HC.+900 pA - OL.+1100 pA == 0    -9.675      7.385  -1.310   0.9997    \n",
       "OL.+900 pA - OL.+1100 pA == 0   -25.226      4.177  -6.039    <0.01 ***\n",
       "OL.+1200 pA - HC.+1200 pA == 0  -15.681      7.385  -2.123   0.8717    \n",
       "HC.+200 pA - HC.+1200 pA == 0  -150.114      3.609 -41.596    <0.01 ***\n",
       "OL.+200 pA - HC.+1200 pA == 0  -153.338      7.385 -20.764    <0.01 ***\n",
       "HC.+300 pA - HC.+1200 pA == 0  -136.122      3.609 -37.719    <0.01 ***\n",
       "OL.+300 pA - HC.+1200 pA == 0  -145.106      7.385 -19.649    <0.01 ***\n",
       "HC.+400 pA - HC.+1200 pA == 0  -118.566      3.609 -32.854    <0.01 ***\n",
       "OL.+400 pA - HC.+1200 pA == 0  -132.390      7.385 -17.927    <0.01 ***\n",
       "HC.+500 pA - HC.+1200 pA == 0   -96.843      3.609 -26.835    <0.01 ***\n",
       "OL.+500 pA - HC.+1200 pA == 0  -115.599      7.385 -15.654    <0.01 ***\n",
       "HC.+600 pA - HC.+1200 pA == 0   -80.457      3.609 -22.294    <0.01 ***\n",
       "OL.+600 pA - HC.+1200 pA == 0   -99.764      7.385 -13.509    <0.01 ***\n",
       "HC.+700 pA - HC.+1200 pA == 0   -64.081      3.609 -17.757    <0.01 ***\n",
       "OL.+700 pA - HC.+1200 pA == 0   -84.608      7.385 -11.457    <0.01 ***\n",
       "HC.+800 pA - HC.+1200 pA == 0   -49.818      3.609 -13.804    <0.01 ***\n",
       "OL.+800 pA - HC.+1200 pA == 0   -69.974      7.385  -9.476    <0.01 ***\n",
       "HC.+900 pA - HC.+1200 pA == 0   -37.563      3.609 -10.409    <0.01 ***\n",
       "OL.+900 pA - HC.+1200 pA == 0   -53.114      7.385  -7.192    <0.01 ***\n",
       "HC.+200 pA - OL.+1200 pA == 0  -134.433      7.385 -18.204    <0.01 ***\n",
       "OL.+200 pA - OL.+1200 pA == 0  -137.657      4.177 -32.956    <0.01 ***\n",
       "HC.+300 pA - OL.+1200 pA == 0  -120.441      7.385 -16.309    <0.01 ***\n",
       "OL.+300 pA - OL.+1200 pA == 0  -129.425      4.177 -30.986    <0.01 ***\n",
       "HC.+400 pA - OL.+1200 pA == 0  -102.885      7.385 -13.932    <0.01 ***\n",
       "OL.+400 pA - OL.+1200 pA == 0  -116.709      4.177 -27.941    <0.01 ***\n",
       "HC.+500 pA - OL.+1200 pA == 0   -81.162      7.385 -10.990    <0.01 ***\n",
       "OL.+500 pA - OL.+1200 pA == 0   -99.918      4.177 -23.921    <0.01 ***\n",
       "HC.+600 pA - OL.+1200 pA == 0   -64.776      7.385  -8.772    <0.01 ***\n",
       "OL.+600 pA - OL.+1200 pA == 0   -84.083      4.177 -20.130    <0.01 ***\n",
       "HC.+700 pA - OL.+1200 pA == 0   -48.400      7.385  -6.554    <0.01 ***\n",
       "OL.+700 pA - OL.+1200 pA == 0   -68.927      4.177 -16.502    <0.01 ***\n",
       "HC.+800 pA - OL.+1200 pA == 0   -34.137      7.385  -4.623    <0.01 ***\n",
       "OL.+800 pA - OL.+1200 pA == 0   -54.294      4.177 -12.998    <0.01 ***\n",
       "HC.+900 pA - OL.+1200 pA == 0   -21.882      7.385  -2.963   0.2575    \n",
       "OL.+900 pA - OL.+1200 pA == 0   -37.433      4.177  -8.962    <0.01 ***\n",
       "OL.+200 pA - HC.+200 pA == 0     -3.224      7.385  -0.437   1.0000    \n",
       "HC.+300 pA - HC.+200 pA == 0     13.992      3.609   3.877   0.0150 *  \n",
       "OL.+300 pA - HC.+200 pA == 0      5.008      7.385   0.678   1.0000    \n",
       "HC.+400 pA - HC.+200 pA == 0     31.548      3.609   8.742    <0.01 ***\n",
       "OL.+400 pA - HC.+200 pA == 0     17.724      7.385   2.400   0.6881    \n",
       "HC.+500 pA - HC.+200 pA == 0     53.271      3.609  14.761    <0.01 ***\n",
       "OL.+500 pA - HC.+200 pA == 0     34.515      7.385   4.674    <0.01 ***\n",
       "HC.+600 pA - HC.+200 pA == 0     69.657      3.609  19.302    <0.01 ***\n",
       "OL.+600 pA - HC.+200 pA == 0     50.350      7.385   6.818    <0.01 ***\n",
       "HC.+700 pA - HC.+200 pA == 0     86.033      3.609  23.840    <0.01 ***\n",
       "OL.+700 pA - HC.+200 pA == 0     65.507      7.385   8.870    <0.01 ***\n",
       "HC.+800 pA - HC.+200 pA == 0    100.296      3.609  27.792    <0.01 ***\n",
       "OL.+800 pA - HC.+200 pA == 0     80.140      7.385  10.852    <0.01 ***\n",
       "HC.+900 pA - HC.+200 pA == 0    112.551      3.609  31.187    <0.01 ***\n",
       "OL.+900 pA - HC.+200 pA == 0     97.000      7.385  13.135    <0.01 ***\n",
       "HC.+300 pA - OL.+200 pA == 0     17.216      7.385   2.331   0.7408    \n",
       "OL.+300 pA - OL.+200 pA == 0      8.231      4.177   1.971   0.9353    \n",
       "HC.+400 pA - OL.+200 pA == 0     34.772      7.385   4.709    <0.01 ***\n",
       "OL.+400 pA - OL.+200 pA == 0     20.948      4.177   5.015    <0.01 ***\n",
       "HC.+500 pA - OL.+200 pA == 0     56.495      7.385   7.650    <0.01 ***\n",
       "OL.+500 pA - OL.+200 pA == 0     37.739      4.177   9.035    <0.01 ***\n",
       "HC.+600 pA - OL.+200 pA == 0     72.881      7.385   9.869    <0.01 ***\n",
       "OL.+600 pA - OL.+200 pA == 0     53.574      4.177  12.826    <0.01 ***\n",
       "HC.+700 pA - OL.+200 pA == 0     89.257      7.385  12.087    <0.01 ***\n",
       "OL.+700 pA - OL.+200 pA == 0     68.730      4.177  16.455    <0.01 ***\n",
       "HC.+800 pA - OL.+200 pA == 0    103.520      7.385  14.018    <0.01 ***\n",
       "OL.+800 pA - OL.+200 pA == 0     83.363      4.177  19.958    <0.01 ***\n",
       "HC.+900 pA - OL.+200 pA == 0    115.775      7.385  15.677    <0.01 ***\n",
       "OL.+900 pA - OL.+200 pA == 0    100.224      4.177  23.994    <0.01 ***\n",
       "OL.+300 pA - HC.+300 pA == 0     -8.984      7.385  -1.217   0.9999    \n",
       "HC.+400 pA - HC.+300 pA == 0     17.556      3.609   4.865    <0.01 ***\n",
       "OL.+400 pA - HC.+300 pA == 0      3.732      7.385   0.505   1.0000    \n",
       "HC.+500 pA - HC.+300 pA == 0     39.279      3.609  10.884    <0.01 ***\n",
       "OL.+500 pA - HC.+300 pA == 0     20.523      7.385   2.779   0.3830    \n",
       "HC.+600 pA - HC.+300 pA == 0     55.665      3.609  15.425    <0.01 ***\n",
       "OL.+600 pA - HC.+300 pA == 0     36.358      7.385   4.923    <0.01 ***\n",
       "HC.+700 pA - HC.+300 pA == 0     72.041      3.609  19.962    <0.01 ***\n",
       "OL.+700 pA - HC.+300 pA == 0     51.514      7.385   6.976    <0.01 ***\n",
       "HC.+800 pA - HC.+300 pA == 0     86.304      3.609  23.914    <0.01 ***\n",
       "OL.+800 pA - HC.+300 pA == 0     66.147      7.385   8.957    <0.01 ***\n",
       "HC.+900 pA - HC.+300 pA == 0     98.559      3.609  27.310    <0.01 ***\n",
       "OL.+900 pA - HC.+300 pA == 0     83.008      7.385  11.240    <0.01 ***\n",
       "HC.+400 pA - OL.+300 pA == 0     26.541      7.385   3.594   0.0418 *  \n",
       "OL.+400 pA - OL.+300 pA == 0     12.716      4.177   3.044   0.2109    \n",
       "HC.+500 pA - OL.+300 pA == 0     48.263      7.385   6.536    <0.01 ***\n",
       "OL.+500 pA - OL.+300 pA == 0     29.507      4.177   7.064    <0.01 ***\n",
       "HC.+600 pA - OL.+300 pA == 0     64.649      7.385   8.754    <0.01 ***\n",
       "OL.+600 pA - OL.+300 pA == 0     45.342      4.177  10.855    <0.01 ***\n",
       "HC.+700 pA - OL.+300 pA == 0     81.026      7.385  10.972    <0.01 ***\n",
       "OL.+700 pA - OL.+300 pA == 0     60.499      4.177  14.484    <0.01 ***\n",
       "HC.+800 pA - OL.+300 pA == 0     95.288      7.385  12.903    <0.01 ***\n",
       "OL.+800 pA - OL.+300 pA == 0     75.132      4.177  17.987    <0.01 ***\n",
       "HC.+900 pA - OL.+300 pA == 0    107.543      7.385  14.563    <0.01 ***\n",
       "OL.+900 pA - OL.+300 pA == 0     91.992      4.177  22.024    <0.01 ***\n",
       "OL.+400 pA - HC.+400 pA == 0    -13.824      7.385  -1.872   0.9623    \n",
       "HC.+500 pA - HC.+400 pA == 0     21.723      3.609   6.019    <0.01 ***\n",
       "OL.+500 pA - HC.+400 pA == 0      2.967      7.385   0.402   1.0000    \n",
       "HC.+600 pA - HC.+400 pA == 0     38.109      3.609  10.560    <0.01 ***\n",
       "OL.+600 pA - HC.+400 pA == 0     18.802      7.385   2.546   0.5689    \n",
       "HC.+700 pA - HC.+400 pA == 0     54.485      3.609  15.098    <0.01 ***\n",
       "OL.+700 pA - HC.+400 pA == 0     33.958      7.385   4.598    <0.01 ***\n",
       "HC.+800 pA - HC.+400 pA == 0     68.748      3.609  19.050    <0.01 ***\n",
       "OL.+800 pA - HC.+400 pA == 0     48.591      7.385   6.580    <0.01 ***\n",
       "HC.+900 pA - HC.+400 pA == 0     81.003      3.609  22.446    <0.01 ***\n",
       "OL.+900 pA - HC.+400 pA == 0     65.452      7.385   8.863    <0.01 ***\n",
       "HC.+500 pA - OL.+400 pA == 0     35.547      7.385   4.814    <0.01 ***\n",
       "OL.+500 pA - OL.+400 pA == 0     16.791      4.177   4.020    <0.01 ** \n",
       "HC.+600 pA - OL.+400 pA == 0     51.933      7.385   7.032    <0.01 ***\n",
       "OL.+600 pA - OL.+400 pA == 0     32.626      4.177   7.811    <0.01 ***\n",
       "HC.+700 pA - OL.+400 pA == 0     68.309      7.385   9.250    <0.01 ***\n",
       "OL.+700 pA - OL.+400 pA == 0     47.782      4.177  11.440    <0.01 ***\n",
       "HC.+800 pA - OL.+400 pA == 0     82.572      7.385  11.181    <0.01 ***\n",
       "OL.+800 pA - OL.+400 pA == 0     62.416      4.177  14.943    <0.01 ***\n",
       "HC.+900 pA - OL.+400 pA == 0     94.827      7.385  12.841    <0.01 ***\n",
       "OL.+900 pA - OL.+400 pA == 0     79.276      4.177  18.979    <0.01 ***\n",
       "OL.+500 pA - HC.+500 pA == 0    -18.756      7.385  -2.540   0.5751    \n",
       "HC.+600 pA - HC.+500 pA == 0     16.386      3.609   4.540    <0.01 ***\n",
       "OL.+600 pA - HC.+500 pA == 0     -2.921      7.385  -0.396   1.0000    \n",
       "HC.+700 pA - HC.+500 pA == 0     32.762      3.609   9.078    <0.01 ***\n",
       "OL.+700 pA - HC.+500 pA == 0     12.235      7.385   1.657   0.9912    \n",
       "HC.+800 pA - HC.+500 pA == 0     47.025      3.609  13.030    <0.01 ***\n",
       "OL.+800 pA - HC.+500 pA == 0     26.868      7.385   3.638   0.0350 *  \n",
       "HC.+900 pA - HC.+500 pA == 0     59.280      3.609  16.426    <0.01 ***\n",
       "OL.+900 pA - HC.+500 pA == 0     43.729      7.385   5.921    <0.01 ***\n",
       "HC.+600 pA - OL.+500 pA == 0     35.142      7.385   4.759    <0.01 ***\n",
       "OL.+600 pA - OL.+500 pA == 0     15.835      4.177   3.791   0.0209 *  \n",
       "HC.+700 pA - OL.+500 pA == 0     51.518      7.385   6.976    <0.01 ***\n",
       "OL.+700 pA - OL.+500 pA == 0     30.991      4.177   7.420    <0.01 ***\n",
       "HC.+800 pA - OL.+500 pA == 0     65.781      7.385   8.908    <0.01 ***\n",
       "OL.+800 pA - OL.+500 pA == 0     45.624      4.177  10.923    <0.01 ***\n",
       "HC.+900 pA - OL.+500 pA == 0     78.036      7.385  10.567    <0.01 ***\n",
       "OL.+900 pA - OL.+500 pA == 0     62.485      4.177  14.959    <0.01 ***\n",
       "OL.+600 pA - HC.+600 pA == 0    -19.307      7.385  -2.614   0.5099    \n",
       "HC.+700 pA - HC.+600 pA == 0     16.376      3.609   4.538    <0.01 ** \n",
       "OL.+700 pA - HC.+600 pA == 0     -4.150      7.385  -0.562   1.0000    \n",
       "HC.+800 pA - HC.+600 pA == 0     30.639      3.609   8.490    <0.01 ***\n",
       "OL.+800 pA - HC.+600 pA == 0     10.483      7.385   1.420   0.9990    \n",
       "HC.+900 pA - HC.+600 pA == 0     42.894      3.609  11.886    <0.01 ***\n",
       "OL.+900 pA - HC.+600 pA == 0     27.343      7.385   3.703   0.0287 *  \n",
       "HC.+700 pA - OL.+600 pA == 0     35.683      7.385   4.832    <0.01 ***\n",
       "OL.+700 pA - OL.+600 pA == 0     15.156      4.177   3.629   0.0362 *  \n",
       "HC.+800 pA - OL.+600 pA == 0     49.946      7.385   6.763    <0.01 ***\n",
       "OL.+800 pA - OL.+600 pA == 0     29.790      4.177   7.132    <0.01 ***\n",
       "HC.+900 pA - OL.+600 pA == 0     62.201      7.385   8.423    <0.01 ***\n",
       "OL.+900 pA - OL.+600 pA == 0     46.650      4.177  11.168    <0.01 ***\n",
       "OL.+700 pA - HC.+700 pA == 0    -20.527      7.385  -2.780   0.3813    \n",
       "HC.+800 pA - HC.+700 pA == 0     14.263      3.609   3.952   0.0111 *  \n",
       "OL.+800 pA - HC.+700 pA == 0     -5.894      7.385  -0.798   1.0000    \n",
       "HC.+900 pA - HC.+700 pA == 0     26.518      3.609   7.348    <0.01 ***\n",
       "OL.+900 pA - HC.+700 pA == 0     10.967      7.385   1.485   0.9981    \n",
       "HC.+800 pA - OL.+700 pA == 0     34.789      7.385   4.711    <0.01 ***\n",
       "OL.+800 pA - OL.+700 pA == 0     14.633      4.177   3.503   0.0556 .  \n",
       "HC.+900 pA - OL.+700 pA == 0     47.045      7.385   6.370    <0.01 ***\n",
       "OL.+900 pA - OL.+700 pA == 0     31.493      4.177   7.540    <0.01 ***\n",
       "OL.+800 pA - HC.+800 pA == 0    -20.156      7.385  -2.729   0.4212    \n",
       "HC.+900 pA - HC.+800 pA == 0     12.255      3.609   3.396   0.0786 .  \n",
       "OL.+900 pA - HC.+800 pA == 0     -3.296      7.385  -0.446   1.0000    \n",
       "HC.+900 pA - OL.+800 pA == 0     32.411      7.385   4.389    <0.01 ** \n",
       "OL.+900 pA - OL.+800 pA == 0     16.860      4.177   4.037    <0.01 ** \n",
       "OL.+900 pA - HC.+900 pA == 0    -15.551      7.385  -2.106   0.8809    \n",
       "---\n",
       "Signif. codes:  0 '***' 0.001 '**' 0.01 '*' 0.05 '.' 0.1 ' ' 1\n",
       "(Adjusted p values reported -- single-step method)\n"
      ]
     },
     "metadata": {},
     "output_type": "display_data"
    }
   ],
   "source": [
    "summary(glht(model=LMM.model1, linfct=mcp(interaction=\"Tukey\")))"
   ]
  },
  {
   "cell_type": "code",
   "execution_count": null,
   "metadata": {},
   "outputs": [],
   "source": []
  },
  {
   "cell_type": "code",
   "execution_count": 100,
   "metadata": {},
   "outputs": [
    {
     "data": {
      "text/plain": [
       "Linear mixed-effects model fit by REML\n",
       "  Data: MFR \n",
       "  Log-restricted-likelihood: -6829.826\n",
       "  Fixed: Gain ~ Protocol + Trial + Protocol * Trial \n",
       "             (Intercept)               ProtocolOL            Trial+1000 pA \n",
       "                5.202026                -1.632501               137.023100 \n",
       "           Trial+1100 pA            Trial+1200 pA             Trial+200 pA \n",
       "              148.382270               160.179608                10.065531 \n",
       "            Trial+300 pA             Trial+400 pA             Trial+500 pA \n",
       "               24.057663                41.613891                63.336646 \n",
       "            Trial+600 pA             Trial+700 pA             Trial+800 pA \n",
       "               79.722399                96.098821               110.361509 \n",
       "            Trial+900 pA ProtocolOL:Trial+1000 pA ProtocolOL:Trial+1100 pA \n",
       "              122.616594               -17.181474               -14.458391 \n",
       "ProtocolOL:Trial+1200 pA  ProtocolOL:Trial+200 pA  ProtocolOL:Trial+300 pA \n",
       "              -14.048315                -1.591190                -7.351842 \n",
       " ProtocolOL:Trial+400 pA  ProtocolOL:Trial+500 pA  ProtocolOL:Trial+600 pA \n",
       "              -12.191845               -17.123354               -17.674309 \n",
       " ProtocolOL:Trial+700 pA  ProtocolOL:Trial+800 pA  ProtocolOL:Trial+900 pA \n",
       "              -18.894285               -18.523872               -13.918597 \n",
       "\n",
       "Random effects:\n",
       " Formula: ~1 | AnimalID\n",
       "        (Intercept) Residual\n",
       "StdDev:    34.53423 21.50222\n",
       "\n",
       "Number of Observations: 1488\n",
       "Number of Groups: 124 "
      ]
     },
     "metadata": {},
     "output_type": "display_data"
    }
   ],
   "source": [
    "LMM.model"
   ]
  },
  {
   "cell_type": "code",
   "execution_count": 101,
   "metadata": {},
   "outputs": [
    {
     "data": {
      "text/html": [
       "<table>\n",
       "<caption>A anova.lme: 4 × 4</caption>\n",
       "<thead>\n",
       "\t<tr><th></th><th scope=col>numDF</th><th scope=col>denDF</th><th scope=col>F-value</th><th scope=col>p-value</th></tr>\n",
       "\t<tr><th></th><th scope=col>&lt;int&gt;</th><th scope=col>&lt;dbl&gt;</th><th scope=col>&lt;dbl&gt;</th><th scope=col>&lt;dbl&gt;</th></tr>\n",
       "</thead>\n",
       "<tbody>\n",
       "\t<tr><th scope=row>(Intercept)</th><td> 1</td><td>1342</td><td>674.669330</td><td>0.000000000</td></tr>\n",
       "\t<tr><th scope=row>Protocol</th><td> 1</td><td> 122</td><td>  5.096349</td><td>0.025754477</td></tr>\n",
       "\t<tr><th scope=row>Trial</th><td>11</td><td>1342</td><td>757.816196</td><td>0.000000000</td></tr>\n",
       "\t<tr><th scope=row>Protocol:Trial</th><td>11</td><td>1342</td><td>  2.724550</td><td>0.001740899</td></tr>\n",
       "</tbody>\n",
       "</table>\n"
      ],
      "text/latex": [
       "A anova.lme: 4 × 4\n",
       "\\begin{tabular}{r|llll}\n",
       "  & numDF & denDF & F-value & p-value\\\\\n",
       "  & <int> & <dbl> & <dbl> & <dbl>\\\\\n",
       "\\hline\n",
       "\t(Intercept) &  1 & 1342 & 674.669330 & 0.000000000\\\\\n",
       "\tProtocol &  1 &  122 &   5.096349 & 0.025754477\\\\\n",
       "\tTrial & 11 & 1342 & 757.816196 & 0.000000000\\\\\n",
       "\tProtocol:Trial & 11 & 1342 &   2.724550 & 0.001740899\\\\\n",
       "\\end{tabular}\n"
      ],
      "text/markdown": [
       "\n",
       "A anova.lme: 4 × 4\n",
       "\n",
       "| <!--/--> | numDF &lt;int&gt; | denDF &lt;dbl&gt; | F-value &lt;dbl&gt; | p-value &lt;dbl&gt; |\n",
       "|---|---|---|---|---|\n",
       "| (Intercept) |  1 | 1342 | 674.669330 | 0.000000000 |\n",
       "| Protocol |  1 |  122 |   5.096349 | 0.025754477 |\n",
       "| Trial | 11 | 1342 | 757.816196 | 0.000000000 |\n",
       "| Protocol:Trial | 11 | 1342 |   2.724550 | 0.001740899 |\n",
       "\n"
      ],
      "text/plain": [
       "               numDF denDF F-value    p-value    \n",
       "(Intercept)     1    1342  674.669330 0.000000000\n",
       "Protocol        1     122    5.096349 0.025754477\n",
       "Trial          11    1342  757.816196 0.000000000\n",
       "Protocol:Trial 11    1342    2.724550 0.001740899"
      ]
     },
     "metadata": {},
     "output_type": "display_data"
    }
   ],
   "source": [
    "anova(LMM.model)"
   ]
  },
  {
   "cell_type": "code",
   "execution_count": 4,
   "metadata": {},
   "outputs": [
    {
     "name": "stderr",
     "output_type": "stream",
     "text": [
      "Loading required package: emmeans\n",
      "Warning message in library(package, lib.loc = lib.loc, character.only = TRUE, logical.return = TRUE, :\n",
      "\"there is no package called 'emmeans'\""
     ]
    }
   ],
   "source": [
    "require(emmeans)"
   ]
  },
  {
   "cell_type": "code",
   "execution_count": 2,
   "metadata": {
    "scrolled": true
   },
   "outputs": [
    {
     "ename": "ERROR",
     "evalue": "Error in library(lsmeans): there is no package called 'lsmeans'\n",
     "output_type": "error",
     "traceback": [
      "Error in library(lsmeans): there is no package called 'lsmeans'\nTraceback:\n",
      "1. library(lsmeans)"
     ]
    }
   ],
   "source": [
    "library(lsmeans)"
   ]
  },
  {
   "cell_type": "code",
   "execution_count": 6,
   "metadata": {},
   "outputs": [
    {
     "ename": "ERROR",
     "evalue": "Error in emmeans(fit, ~Protocol * Trial): 함수 \"emmeans\"를 찾을 수 없습니다\n",
     "output_type": "error",
     "traceback": [
      "Error in emmeans(fit, ~Protocol * Trial): 함수 \"emmeans\"를 찾을 수 없습니다\nTraceback:\n"
     ]
    }
   ],
   "source": [
    "emm <- emmeans(fit, ~ Protocol*Trial)\n",
    "post.hoc <- pairs(emm, adjust=\"tukey\") #'tukey' is default, 'sidak', 'holm'\n",
    "post.hoc"
   ]
  },
  {
   "cell_type": "code",
   "execution_count": 87,
   "metadata": {},
   "outputs": [
    {
     "ename": "ERROR",
     "evalue": "Error in parse(text = x, srcfile = src): <text>:1:61: unexpected '='\n1: comp.Protocol <- glht(LMM.model, linfct = mcp(Protocol*Trial=\n                                                                ^\n",
     "output_type": "error",
     "traceback": [
      "Error in parse(text = x, srcfile = src): <text>:1:61: unexpected '='\n1: comp.Protocol <- glht(LMM.model, linfct = mcp(Protocol*Trial=\n                                                                ^\nTraceback:\n"
     ]
    }
   ],
   "source": [
    "comp.Protocol <- glht(LMM.model, linfct = mcp(Protocol*Trial=\"Tukey\"))"
   ]
  },
  {
   "cell_type": "code",
   "execution_count": 86,
   "metadata": {
    "scrolled": true
   },
   "outputs": [
    {
     "data": {
      "text/plain": [
       "\n",
       "\t Simultaneous Tests for General Linear Hypotheses\n",
       "\n",
       "Multiple Comparisons of Means: Tukey Contrasts\n",
       "\n",
       "\n",
       "Fit: lme.formula(fixed = Gain ~ Protocol + Trial + Protocol * Trial, \n",
       "    data = MFR, random = ~1 | AnimalID, na.action = \"na.omit\")\n",
       "\n",
       "Linear Hypotheses:\n",
       "             Estimate Std. Error z value Pr(>|z|)\n",
       "OL - HC == 0   -1.633      7.385  -0.221    0.825\n",
       "(Adjusted p values reported -- single-step method)\n"
      ]
     },
     "metadata": {},
     "output_type": "display_data"
    }
   ],
   "source": [
    "summary(comp.Protocol)"
   ]
  },
  {
   "cell_type": "markdown",
   "metadata": {},
   "source": [
    "    3. Computation of Two-way repeated measures ANOVA"
   ]
  },
  {
   "cell_type": "code",
   "execution_count": 70,
   "metadata": {},
   "outputs": [
    {
     "data": {
      "text/html": [
       "<table>\n",
       "<caption>A anova: 3 × 6</caption>\n",
       "<thead>\n",
       "\t<tr><th></th><th scope=col>Sum Sq</th><th scope=col>Mean Sq</th><th scope=col>NumDF</th><th scope=col>DenDF</th><th scope=col>F value</th><th scope=col>Pr(&gt;F)</th></tr>\n",
       "\t<tr><th></th><th scope=col>&lt;dbl&gt;</th><th scope=col>&lt;dbl&gt;</th><th scope=col>&lt;int&gt;</th><th scope=col>&lt;dbl&gt;</th><th scope=col>&lt;dbl&gt;</th><th scope=col>&lt;dbl&gt;</th></tr>\n",
       "</thead>\n",
       "<tbody>\n",
       "\t<tr><th scope=row>Protocol</th><td>   2356.271</td><td>  2356.271</td><td> 1</td><td> 122</td><td>  5.096345</td><td>0.025754530</td></tr>\n",
       "\t<tr><th scope=row>Trial</th><td>3726446.777</td><td>338767.889</td><td>11</td><td>1342</td><td>732.716182</td><td>0.000000000</td></tr>\n",
       "\t<tr><th scope=row>Protocol:Trial</th><td>  13856.511</td><td>  1259.683</td><td>11</td><td>1342</td><td>  2.724550</td><td>0.001740899</td></tr>\n",
       "</tbody>\n",
       "</table>\n"
      ],
      "text/latex": [
       "A anova: 3 × 6\n",
       "\\begin{tabular}{r|llllll}\n",
       "  & Sum Sq & Mean Sq & NumDF & DenDF & F value & Pr(>F)\\\\\n",
       "  & <dbl> & <dbl> & <int> & <dbl> & <dbl> & <dbl>\\\\\n",
       "\\hline\n",
       "\tProtocol &    2356.271 &   2356.271 &  1 &  122 &   5.096345 & 0.025754530\\\\\n",
       "\tTrial & 3726446.777 & 338767.889 & 11 & 1342 & 732.716182 & 0.000000000\\\\\n",
       "\tProtocol:Trial &   13856.511 &   1259.683 & 11 & 1342 &   2.724550 & 0.001740899\\\\\n",
       "\\end{tabular}\n"
      ],
      "text/markdown": [
       "\n",
       "A anova: 3 × 6\n",
       "\n",
       "| <!--/--> | Sum Sq &lt;dbl&gt; | Mean Sq &lt;dbl&gt; | NumDF &lt;int&gt; | DenDF &lt;dbl&gt; | F value &lt;dbl&gt; | Pr(&gt;F) &lt;dbl&gt; |\n",
       "|---|---|---|---|---|---|---|\n",
       "| Protocol |    2356.271 |   2356.271 |  1 |  122 |   5.096345 | 0.025754530 |\n",
       "| Trial | 3726446.777 | 338767.889 | 11 | 1342 | 732.716182 | 0.000000000 |\n",
       "| Protocol:Trial |   13856.511 |   1259.683 | 11 | 1342 |   2.724550 | 0.001740899 |\n",
       "\n"
      ],
      "text/plain": [
       "               Sum Sq      Mean Sq    NumDF DenDF F value    Pr(>F)     \n",
       "Protocol          2356.271   2356.271  1     122    5.096345 0.025754530\n",
       "Trial          3726446.777 338767.889 11    1342  732.716182 0.000000000\n",
       "Protocol:Trial   13856.511   1259.683 11    1342    2.724550 0.001740899"
      ]
     },
     "metadata": {},
     "output_type": "display_data"
    }
   ],
   "source": [
    "fit  <- lmer(Gain ~ Protocol*Trial +(1|AnimalID), data=MFR)\n",
    "anova(fit)\n"
   ]
  },
  {
   "cell_type": "markdown",
   "metadata": {},
   "source": [
    "### PB-AHP (Figure 3)"
   ]
  },
  {
   "cell_type": "markdown",
   "metadata": {},
   "source": [
    "    1. Load PB-AHP table from Google Drive"
   ]
  },
  {
   "cell_type": "code",
   "execution_count": 106,
   "metadata": {},
   "outputs": [],
   "source": [
    "PB.AHP <- read.delim(file=\"G:/My Drive/Experimental Data/Flocculus_Ex vivo/PBAHP_TG.txt\", \n",
    "                  sep='\\t', \n",
    "                  stringsAsFactors = T, \n",
    "                  header=T)"
   ]
  },
  {
   "cell_type": "code",
   "execution_count": 107,
   "metadata": {},
   "outputs": [
    {
     "data": {
      "text/html": [
       "<table>\n",
       "<caption>A data.frame: 6 × 4</caption>\n",
       "<thead>\n",
       "\t<tr><th></th><th scope=col>AnimalID</th><th scope=col>Protocol</th><th scope=col>Gain</th><th scope=col>Trial</th></tr>\n",
       "\t<tr><th></th><th scope=col>&lt;fct&gt;</th><th scope=col>&lt;fct&gt;</th><th scope=col>&lt;dbl&gt;</th><th scope=col>&lt;fct&gt;</th></tr>\n",
       "</thead>\n",
       "<tbody>\n",
       "\t<tr><th scope=row>1</th><td>150216_HC_YG_#01_tt</td><td>HC_Tonic</td><td>9.696228</td><td>+100 pA</td></tr>\n",
       "\t<tr><th scope=row>2</th><td>150216_HC_YG_#03_tt</td><td>HC_Tonic</td><td>2.198822</td><td>+100 pA</td></tr>\n",
       "\t<tr><th scope=row>3</th><td>150216_HC_YG_#05_tt</td><td>HC_Tonic</td><td>2.721176</td><td>+100 pA</td></tr>\n",
       "\t<tr><th scope=row>4</th><td>150216_HC_YG_#06_tt</td><td>HC_Tonic</td><td>3.528900</td><td>+100 pA</td></tr>\n",
       "\t<tr><th scope=row>5</th><td>150216_HC_YG_#09_tt</td><td>HC_Tonic</td><td>4.742615</td><td>+100 pA</td></tr>\n",
       "\t<tr><th scope=row>6</th><td>150216_HC_YG_#10_tt</td><td>HC_Tonic</td><td>9.523437</td><td>+100 pA</td></tr>\n",
       "</tbody>\n",
       "</table>\n"
      ],
      "text/latex": [
       "A data.frame: 6 × 4\n",
       "\\begin{tabular}{r|llll}\n",
       "  & AnimalID & Protocol & Gain & Trial\\\\\n",
       "  & <fct> & <fct> & <dbl> & <fct>\\\\\n",
       "\\hline\n",
       "\t1 & 150216\\_HC\\_YG\\_\\#01\\_tt & HC\\_Tonic & 9.696228 & +100 pA\\\\\n",
       "\t2 & 150216\\_HC\\_YG\\_\\#03\\_tt & HC\\_Tonic & 2.198822 & +100 pA\\\\\n",
       "\t3 & 150216\\_HC\\_YG\\_\\#05\\_tt & HC\\_Tonic & 2.721176 & +100 pA\\\\\n",
       "\t4 & 150216\\_HC\\_YG\\_\\#06\\_tt & HC\\_Tonic & 3.528900 & +100 pA\\\\\n",
       "\t5 & 150216\\_HC\\_YG\\_\\#09\\_tt & HC\\_Tonic & 4.742615 & +100 pA\\\\\n",
       "\t6 & 150216\\_HC\\_YG\\_\\#10\\_tt & HC\\_Tonic & 9.523437 & +100 pA\\\\\n",
       "\\end{tabular}\n"
      ],
      "text/markdown": [
       "\n",
       "A data.frame: 6 × 4\n",
       "\n",
       "| <!--/--> | AnimalID &lt;fct&gt; | Protocol &lt;fct&gt; | Gain &lt;dbl&gt; | Trial &lt;fct&gt; |\n",
       "|---|---|---|---|---|\n",
       "| 1 | 150216_HC_YG_#01_tt | HC_Tonic | 9.696228 | +100 pA |\n",
       "| 2 | 150216_HC_YG_#03_tt | HC_Tonic | 2.198822 | +100 pA |\n",
       "| 3 | 150216_HC_YG_#05_tt | HC_Tonic | 2.721176 | +100 pA |\n",
       "| 4 | 150216_HC_YG_#06_tt | HC_Tonic | 3.528900 | +100 pA |\n",
       "| 5 | 150216_HC_YG_#09_tt | HC_Tonic | 4.742615 | +100 pA |\n",
       "| 6 | 150216_HC_YG_#10_tt | HC_Tonic | 9.523437 | +100 pA |\n",
       "\n"
      ],
      "text/plain": [
       "  AnimalID            Protocol Gain     Trial  \n",
       "1 150216_HC_YG_#01_tt HC_Tonic 9.696228 +100 pA\n",
       "2 150216_HC_YG_#03_tt HC_Tonic 2.198822 +100 pA\n",
       "3 150216_HC_YG_#05_tt HC_Tonic 2.721176 +100 pA\n",
       "4 150216_HC_YG_#06_tt HC_Tonic 3.528900 +100 pA\n",
       "5 150216_HC_YG_#09_tt HC_Tonic 4.742615 +100 pA\n",
       "6 150216_HC_YG_#10_tt HC_Tonic 9.523437 +100 pA"
      ]
     },
     "metadata": {},
     "output_type": "display_data"
    }
   ],
   "source": [
    "head(PB.AHP)"
   ]
  },
  {
   "cell_type": "markdown",
   "metadata": {},
   "source": [
    "    2. Generate Linear Mixed Model"
   ]
  },
  {
   "cell_type": "code",
   "execution_count": 108,
   "metadata": {},
   "outputs": [],
   "source": [
    "LMM1.model <- lme(Gain ~ Protocol*Trial, \n",
    "                 random = ~1|AnimalID, \n",
    "                 data=PB.AHP, \n",
    "                 na.action = \"na.omit\")"
   ]
  },
  {
   "cell_type": "code",
   "execution_count": 109,
   "metadata": {},
   "outputs": [
    {
     "data": {
      "text/html": [
       "<table>\n",
       "<caption>A anova.lme: 4 × 4</caption>\n",
       "<thead>\n",
       "\t<tr><th></th><th scope=col>numDF</th><th scope=col>denDF</th><th scope=col>F-value</th><th scope=col>p-value</th></tr>\n",
       "\t<tr><th></th><th scope=col>&lt;int&gt;</th><th scope=col>&lt;dbl&gt;</th><th scope=col>&lt;dbl&gt;</th><th scope=col>&lt;dbl&gt;</th></tr>\n",
       "</thead>\n",
       "<tbody>\n",
       "\t<tr><th scope=row>(Intercept)</th><td> 1</td><td>1276</td><td>675.686774</td><td>0.0000000000</td></tr>\n",
       "\t<tr><th scope=row>Protocol</th><td> 3</td><td> 116</td><td>  1.244433</td><td>0.2969159533</td></tr>\n",
       "\t<tr><th scope=row>Trial</th><td>11</td><td>1276</td><td>134.518427</td><td>0.0000000000</td></tr>\n",
       "\t<tr><th scope=row>Protocol:Trial</th><td>33</td><td>1276</td><td>  2.146290</td><td>0.0001933045</td></tr>\n",
       "</tbody>\n",
       "</table>\n"
      ],
      "text/latex": [
       "A anova.lme: 4 × 4\n",
       "\\begin{tabular}{r|llll}\n",
       "  & numDF & denDF & F-value & p-value\\\\\n",
       "  & <int> & <dbl> & <dbl> & <dbl>\\\\\n",
       "\\hline\n",
       "\t(Intercept) &  1 & 1276 & 675.686774 & 0.0000000000\\\\\n",
       "\tProtocol &  3 &  116 &   1.244433 & 0.2969159533\\\\\n",
       "\tTrial & 11 & 1276 & 134.518427 & 0.0000000000\\\\\n",
       "\tProtocol:Trial & 33 & 1276 &   2.146290 & 0.0001933045\\\\\n",
       "\\end{tabular}\n"
      ],
      "text/markdown": [
       "\n",
       "A anova.lme: 4 × 4\n",
       "\n",
       "| <!--/--> | numDF &lt;int&gt; | denDF &lt;dbl&gt; | F-value &lt;dbl&gt; | p-value &lt;dbl&gt; |\n",
       "|---|---|---|---|---|\n",
       "| (Intercept) |  1 | 1276 | 675.686774 | 0.0000000000 |\n",
       "| Protocol |  3 |  116 |   1.244433 | 0.2969159533 |\n",
       "| Trial | 11 | 1276 | 134.518427 | 0.0000000000 |\n",
       "| Protocol:Trial | 33 | 1276 |   2.146290 | 0.0001933045 |\n",
       "\n"
      ],
      "text/plain": [
       "               numDF denDF F-value    p-value     \n",
       "(Intercept)     1    1276  675.686774 0.0000000000\n",
       "Protocol        3     116    1.244433 0.2969159533\n",
       "Trial          11    1276  134.518427 0.0000000000\n",
       "Protocol:Trial 33    1276    2.146290 0.0001933045"
      ]
     },
     "metadata": {},
     "output_type": "display_data"
    }
   ],
   "source": [
    "anova(LMM1.model)"
   ]
  },
  {
   "cell_type": "code",
   "execution_count": 110,
   "metadata": {},
   "outputs": [
    {
     "name": "stderr",
     "output_type": "stream",
     "text": [
      "Warning message in mcp2matrix(model, linfct = linfct):\n",
      "\"covariate interactions found -- default contrast might be inappropriate\"\n"
     ]
    }
   ],
   "source": [
    "comp.Protocol <- glht(LMM1.model, linfct = mcp(Protocol=\"Tukey\"))"
   ]
  },
  {
   "cell_type": "code",
   "execution_count": 111,
   "metadata": {
    "scrolled": true
   },
   "outputs": [
    {
     "data": {
      "text/plain": [
       "\n",
       "\t Simultaneous Tests for General Linear Hypotheses\n",
       "\n",
       "Multiple Comparisons of Means: Tukey Contrasts\n",
       "\n",
       "\n",
       "Fit: lme.formula(fixed = Gain ~ Protocol * Trial, data = PB.AHP, random = ~1 | \n",
       "    AnimalID, na.action = \"na.omit\")\n",
       "\n",
       "Linear Hypotheses:\n",
       "                         Estimate Std. Error z value Pr(>|z|)\n",
       "HC_Tonic - HC_Gap == 0     0.6041     1.1081   0.545    0.946\n",
       "OL_Gap - HC_Gap == 0      -0.3710     1.4385  -0.258    0.994\n",
       "OL_Tonic - HC_Gap == 0     0.1420     1.1472   0.124    0.999\n",
       "OL_Gap - HC_Tonic == 0    -0.9750     1.1449  -0.852    0.823\n",
       "OL_Tonic - HC_Tonic == 0  -0.4620     0.7467  -0.619    0.923\n",
       "OL_Tonic - OL_Gap == 0     0.5130     1.1827   0.434    0.971\n",
       "(Adjusted p values reported -- single-step method)\n"
      ]
     },
     "metadata": {},
     "output_type": "display_data"
    }
   ],
   "source": [
    "summary(comp.Protocol)"
   ]
  },
  {
   "cell_type": "markdown",
   "metadata": {},
   "source": [
    "-------------------------"
   ]
  },
  {
   "cell_type": "markdown",
   "metadata": {},
   "source": [
    "### AP Onset latency"
   ]
  },
  {
   "cell_type": "markdown",
   "metadata": {},
   "source": [
    "1. Load AP_Onse_TG table from Google Drive"
   ]
  },
  {
   "cell_type": "code",
   "execution_count": 23,
   "metadata": {},
   "outputs": [],
   "source": [
    "AP.Onset <- read.delim(file=\"G:/My Drive/Experimental Data/Flocculus_Ex vivo/AP_Onset_TG.txt\",\n",
    "                      sep='\\t', stringsAsFactors = T, header=T)"
   ]
  },
  {
   "cell_type": "code",
   "execution_count": 24,
   "metadata": {},
   "outputs": [
    {
     "data": {
      "text/html": [
       "<table>\n",
       "<caption>A data.frame: 6 × 4</caption>\n",
       "<thead>\n",
       "\t<tr><th></th><th scope=col>AnimalID</th><th scope=col>Protocol</th><th scope=col>Gain</th><th scope=col>Trial</th></tr>\n",
       "\t<tr><th></th><th scope=col>&lt;fct&gt;</th><th scope=col>&lt;fct&gt;</th><th scope=col>&lt;dbl&gt;</th><th scope=col>&lt;fct&gt;</th></tr>\n",
       "</thead>\n",
       "<tbody>\n",
       "\t<tr><th scope=row>1</th><td>150216_HC_YG_#01_tt</td><td>HC</td><td> 87.6</td><td>+100 pA</td></tr>\n",
       "\t<tr><th scope=row>2</th><td>150216_HC_YG_#02_tt</td><td>HC</td><td>307.6</td><td>+100 pA</td></tr>\n",
       "\t<tr><th scope=row>3</th><td>150216_HC_YG_#03_tt</td><td>HC</td><td>   NA</td><td>+100 pA</td></tr>\n",
       "\t<tr><th scope=row>4</th><td>150216_HC_YG_#04_tg</td><td>HC</td><td>   NA</td><td>+100 pA</td></tr>\n",
       "\t<tr><th scope=row>5</th><td>150216_HC_YG_#05_tt</td><td>HC</td><td>   NA</td><td>+100 pA</td></tr>\n",
       "\t<tr><th scope=row>6</th><td>150216_HC_YG_#06_tt</td><td>HC</td><td>   NA</td><td>+100 pA</td></tr>\n",
       "</tbody>\n",
       "</table>\n"
      ],
      "text/latex": [
       "A data.frame: 6 × 4\n",
       "\\begin{tabular}{r|llll}\n",
       "  & AnimalID & Protocol & Gain & Trial\\\\\n",
       "  & <fct> & <fct> & <dbl> & <fct>\\\\\n",
       "\\hline\n",
       "\t1 & 150216\\_HC\\_YG\\_\\#01\\_tt & HC &  87.6 & +100 pA\\\\\n",
       "\t2 & 150216\\_HC\\_YG\\_\\#02\\_tt & HC & 307.6 & +100 pA\\\\\n",
       "\t3 & 150216\\_HC\\_YG\\_\\#03\\_tt & HC &    NA & +100 pA\\\\\n",
       "\t4 & 150216\\_HC\\_YG\\_\\#04\\_tg & HC &    NA & +100 pA\\\\\n",
       "\t5 & 150216\\_HC\\_YG\\_\\#05\\_tt & HC &    NA & +100 pA\\\\\n",
       "\t6 & 150216\\_HC\\_YG\\_\\#06\\_tt & HC &    NA & +100 pA\\\\\n",
       "\\end{tabular}\n"
      ],
      "text/markdown": [
       "\n",
       "A data.frame: 6 × 4\n",
       "\n",
       "| <!--/--> | AnimalID &lt;fct&gt; | Protocol &lt;fct&gt; | Gain &lt;dbl&gt; | Trial &lt;fct&gt; |\n",
       "|---|---|---|---|---|\n",
       "| 1 | 150216_HC_YG_#01_tt | HC |  87.6 | +100 pA |\n",
       "| 2 | 150216_HC_YG_#02_tt | HC | 307.6 | +100 pA |\n",
       "| 3 | 150216_HC_YG_#03_tt | HC |    NA | +100 pA |\n",
       "| 4 | 150216_HC_YG_#04_tg | HC |    NA | +100 pA |\n",
       "| 5 | 150216_HC_YG_#05_tt | HC |    NA | +100 pA |\n",
       "| 6 | 150216_HC_YG_#06_tt | HC |    NA | +100 pA |\n",
       "\n"
      ],
      "text/plain": [
       "  AnimalID            Protocol Gain  Trial  \n",
       "1 150216_HC_YG_#01_tt HC        87.6 +100 pA\n",
       "2 150216_HC_YG_#02_tt HC       307.6 +100 pA\n",
       "3 150216_HC_YG_#03_tt HC          NA +100 pA\n",
       "4 150216_HC_YG_#04_tg HC          NA +100 pA\n",
       "5 150216_HC_YG_#05_tt HC          NA +100 pA\n",
       "6 150216_HC_YG_#06_tt HC          NA +100 pA"
      ]
     },
     "metadata": {},
     "output_type": "display_data"
    }
   ],
   "source": [
    "head(AP.Onset)"
   ]
  },
  {
   "cell_type": "code",
   "execution_count": 25,
   "metadata": {},
   "outputs": [],
   "source": [
    "LMM1.model <- lme(Gain ~ Protocol*Trial, \n",
    "                 random = ~1|AnimalID, \n",
    "                 data=AP.Onset, \n",
    "                 na.action = \"na.omit\")"
   ]
  },
  {
   "cell_type": "code",
   "execution_count": 26,
   "metadata": {},
   "outputs": [
    {
     "data": {
      "text/html": [
       "<table>\n",
       "<caption>A anova.lme: 4 × 4</caption>\n",
       "<thead>\n",
       "\t<tr><th></th><th scope=col>numDF</th><th scope=col>denDF</th><th scope=col>F-value</th><th scope=col>p-value</th></tr>\n",
       "\t<tr><th></th><th scope=col>&lt;int&gt;</th><th scope=col>&lt;dbl&gt;</th><th scope=col>&lt;dbl&gt;</th><th scope=col>&lt;dbl&gt;</th></tr>\n",
       "</thead>\n",
       "<tbody>\n",
       "\t<tr><th scope=row>(Intercept)</th><td> 1</td><td>1011</td><td>131.103552</td><td>0.00000000</td></tr>\n",
       "\t<tr><th scope=row>Protocol</th><td> 1</td><td> 122</td><td>  2.156003</td><td>0.14458727</td></tr>\n",
       "\t<tr><th scope=row>Trial</th><td>11</td><td>1011</td><td> 63.133230</td><td>0.00000000</td></tr>\n",
       "\t<tr><th scope=row>Protocol:Trial</th><td>11</td><td>1011</td><td>  1.822379</td><td>0.04619634</td></tr>\n",
       "</tbody>\n",
       "</table>\n"
      ],
      "text/latex": [
       "A anova.lme: 4 × 4\n",
       "\\begin{tabular}{r|llll}\n",
       "  & numDF & denDF & F-value & p-value\\\\\n",
       "  & <int> & <dbl> & <dbl> & <dbl>\\\\\n",
       "\\hline\n",
       "\t(Intercept) &  1 & 1011 & 131.103552 & 0.00000000\\\\\n",
       "\tProtocol &  1 &  122 &   2.156003 & 0.14458727\\\\\n",
       "\tTrial & 11 & 1011 &  63.133230 & 0.00000000\\\\\n",
       "\tProtocol:Trial & 11 & 1011 &   1.822379 & 0.04619634\\\\\n",
       "\\end{tabular}\n"
      ],
      "text/markdown": [
       "\n",
       "A anova.lme: 4 × 4\n",
       "\n",
       "| <!--/--> | numDF &lt;int&gt; | denDF &lt;dbl&gt; | F-value &lt;dbl&gt; | p-value &lt;dbl&gt; |\n",
       "|---|---|---|---|---|\n",
       "| (Intercept) |  1 | 1011 | 131.103552 | 0.00000000 |\n",
       "| Protocol |  1 |  122 |   2.156003 | 0.14458727 |\n",
       "| Trial | 11 | 1011 |  63.133230 | 0.00000000 |\n",
       "| Protocol:Trial | 11 | 1011 |   1.822379 | 0.04619634 |\n",
       "\n"
      ],
      "text/plain": [
       "               numDF denDF F-value    p-value   \n",
       "(Intercept)     1    1011  131.103552 0.00000000\n",
       "Protocol        1     122    2.156003 0.14458727\n",
       "Trial          11    1011   63.133230 0.00000000\n",
       "Protocol:Trial 11    1011    1.822379 0.04619634"
      ]
     },
     "metadata": {},
     "output_type": "display_data"
    }
   ],
   "source": [
    "anova(LMM1.model)"
   ]
  },
  {
   "cell_type": "code",
   "execution_count": 37,
   "metadata": {},
   "outputs": [
    {
     "data": {
      "text/html": [
       "<table>\n",
       "<caption>A anova: 3 × 6</caption>\n",
       "<thead>\n",
       "\t<tr><th></th><th scope=col>Sum Sq</th><th scope=col>Mean Sq</th><th scope=col>NumDF</th><th scope=col>DenDF</th><th scope=col>F value</th><th scope=col>Pr(&gt;F)</th></tr>\n",
       "\t<tr><th></th><th scope=col>&lt;dbl&gt;</th><th scope=col>&lt;dbl&gt;</th><th scope=col>&lt;int&gt;</th><th scope=col>&lt;dbl&gt;</th><th scope=col>&lt;dbl&gt;</th><th scope=col>&lt;dbl&gt;</th></tr>\n",
       "</thead>\n",
       "<tbody>\n",
       "\t<tr><th scope=row>Protocol</th><td>   6296.469</td><td>  6296.469</td><td> 1</td><td> 139.6848</td><td> 2.494776</td><td> 1.164865e-01</td></tr>\n",
       "\t<tr><th scope=row>Trial</th><td>1660878.672</td><td>150988.970</td><td>11</td><td>1013.0847</td><td>59.824589</td><td>3.463075e-102</td></tr>\n",
       "\t<tr><th scope=row>Protocol:Trial</th><td>  50593.753</td><td>  4599.432</td><td>11</td><td>1013.0847</td><td> 1.822379</td><td> 4.619331e-02</td></tr>\n",
       "</tbody>\n",
       "</table>\n"
      ],
      "text/latex": [
       "A anova: 3 × 6\n",
       "\\begin{tabular}{r|llllll}\n",
       "  & Sum Sq & Mean Sq & NumDF & DenDF & F value & Pr(>F)\\\\\n",
       "  & <dbl> & <dbl> & <int> & <dbl> & <dbl> & <dbl>\\\\\n",
       "\\hline\n",
       "\tProtocol &    6296.469 &   6296.469 &  1 &  139.6848 &  2.494776 &  1.164865e-01\\\\\n",
       "\tTrial & 1660878.672 & 150988.970 & 11 & 1013.0847 & 59.824589 & 3.463075e-102\\\\\n",
       "\tProtocol:Trial &   50593.753 &   4599.432 & 11 & 1013.0847 &  1.822379 &  4.619331e-02\\\\\n",
       "\\end{tabular}\n"
      ],
      "text/markdown": [
       "\n",
       "A anova: 3 × 6\n",
       "\n",
       "| <!--/--> | Sum Sq &lt;dbl&gt; | Mean Sq &lt;dbl&gt; | NumDF &lt;int&gt; | DenDF &lt;dbl&gt; | F value &lt;dbl&gt; | Pr(&gt;F) &lt;dbl&gt; |\n",
       "|---|---|---|---|---|---|---|\n",
       "| Protocol |    6296.469 |   6296.469 |  1 |  139.6848 |  2.494776 |  1.164865e-01 |\n",
       "| Trial | 1660878.672 | 150988.970 | 11 | 1013.0847 | 59.824589 | 3.463075e-102 |\n",
       "| Protocol:Trial |   50593.753 |   4599.432 | 11 | 1013.0847 |  1.822379 |  4.619331e-02 |\n",
       "\n"
      ],
      "text/plain": [
       "               Sum Sq      Mean Sq    NumDF DenDF     F value   Pr(>F)       \n",
       "Protocol          6296.469   6296.469  1     139.6848  2.494776  1.164865e-01\n",
       "Trial          1660878.672 150988.970 11    1013.0847 59.824589 3.463075e-102\n",
       "Protocol:Trial   50593.753   4599.432 11    1013.0847  1.822379  4.619331e-02"
      ]
     },
     "metadata": {},
     "output_type": "display_data"
    }
   ],
   "source": [
    "fit  <- lmer(Gain ~ Protocol*Trial +(1|AnimalID), data=AP.Onset)\n",
    "anova(fit)"
   ]
  },
  {
   "cell_type": "code",
   "execution_count": 102,
   "metadata": {},
   "outputs": [
    {
     "data": {
      "text/plain": [
       " contrast                      estimate   SE   df t.ratio p.value\n",
       " (HC +100 pA) - (OL +100 pA)       1.63 7.38  218   0.221 1.0000 \n",
       " (HC +100 pA) - (HC +1000 pA)   -137.02 3.61 1342 -37.969 <.0001 \n",
       " (HC +100 pA) - (OL +1000 pA)   -118.21 7.38  218 -16.007 <.0001 \n",
       " (HC +100 pA) - (HC +1100 pA)   -148.38 3.61 1342 -41.116 <.0001 \n",
       " (HC +100 pA) - (OL +1100 pA)   -132.29 7.38  218 -17.914 <.0001 \n",
       " (HC +100 pA) - (HC +1200 pA)   -160.18 3.61 1342 -44.385 <.0001 \n",
       " (HC +100 pA) - (OL +1200 pA)   -144.50 7.38  218 -19.567 <.0001 \n",
       " (HC +100 pA) - (HC +200 pA)     -10.07 3.61 1342  -2.789 0.4463 \n",
       " (HC +100 pA) - (OL +200 pA)      -6.84 7.38  218  -0.926 1.0000 \n",
       " (HC +100 pA) - (HC +300 pA)     -24.06 3.61 1342  -6.666 <.0001 \n",
       " (HC +100 pA) - (OL +300 pA)     -15.07 7.38  218  -2.041 0.9307 \n",
       " (HC +100 pA) - (HC +400 pA)     -41.61 3.61 1342 -11.531 <.0001 \n",
       " (HC +100 pA) - (OL +400 pA)     -27.79 7.38  218  -3.763 0.0389 \n",
       " (HC +100 pA) - (HC +500 pA)     -63.34 3.61 1342 -17.550 <.0001 \n",
       " (HC +100 pA) - (OL +500 pA)     -44.58 7.38  218  -6.037 <.0001 \n",
       " (HC +100 pA) - (HC +600 pA)     -79.72 3.61 1342 -22.091 <.0001 \n",
       " (HC +100 pA) - (OL +600 pA)     -60.42 7.38  218  -8.181 <.0001 \n",
       " (HC +100 pA) - (HC +700 pA)     -96.10 3.61 1342 -26.629 <.0001 \n",
       " (HC +100 pA) - (OL +700 pA)     -75.57 7.38  218 -10.233 <.0001 \n",
       " (HC +100 pA) - (HC +800 pA)    -110.36 3.61 1342 -30.581 <.0001 \n",
       " (HC +100 pA) - (OL +800 pA)     -90.21 7.38  218 -12.215 <.0001 \n",
       " (HC +100 pA) - (HC +900 pA)    -122.62 3.61 1342 -33.977 <.0001 \n",
       " (HC +100 pA) - (OL +900 pA)    -107.07 7.38  218 -14.498 <.0001 \n",
       " (OL +100 pA) - (HC +1000 pA)   -138.66 7.38  218 -18.776 <.0001 \n",
       " (OL +100 pA) - (OL +1000 pA)   -119.84 4.18 1342 -28.691 <.0001 \n",
       " (OL +100 pA) - (HC +1100 pA)   -150.01 7.38  218 -20.314 <.0001 \n",
       " (OL +100 pA) - (OL +1100 pA)   -133.92 4.18 1342 -32.063 <.0001 \n",
       " (OL +100 pA) - (HC +1200 pA)   -161.81 7.38  218 -21.912 <.0001 \n",
       " (OL +100 pA) - (OL +1200 pA)   -146.13 4.18 1342 -34.985 <.0001 \n",
       " (OL +100 pA) - (HC +200 pA)     -11.70 7.38  218  -1.584 0.9964 \n",
       " (OL +100 pA) - (OL +200 pA)      -8.47 4.18 1342  -2.029 0.9381 \n",
       " (OL +100 pA) - (HC +300 pA)     -25.69 7.38  218  -3.479 0.0929 \n",
       " (OL +100 pA) - (OL +300 pA)     -16.71 4.18 1342  -4.000 0.0142 \n",
       " (OL +100 pA) - (HC +400 pA)     -43.25 7.38  218  -5.856 <.0001 \n",
       " (OL +100 pA) - (OL +400 pA)     -29.42 4.18 1342  -7.044 <.0001 \n",
       " (OL +100 pA) - (HC +500 pA)     -64.97 7.38  218  -8.798 <.0001 \n",
       " (OL +100 pA) - (OL +500 pA)     -46.21 4.18 1342 -11.064 <.0001 \n",
       " (OL +100 pA) - (HC +600 pA)     -81.35 7.38  218 -11.017 <.0001 \n",
       " (OL +100 pA) - (OL +600 pA)     -62.05 4.18 1342 -14.855 <.0001 \n",
       " (OL +100 pA) - (HC +700 pA)     -97.73 7.38  218 -13.234 <.0001 \n",
       " (OL +100 pA) - (OL +700 pA)     -77.20 4.18 1342 -18.483 <.0001 \n",
       " (OL +100 pA) - (HC +800 pA)    -111.99 7.38  218 -15.166 <.0001 \n",
       " (OL +100 pA) - (OL +800 pA)     -91.84 4.18 1342 -21.987 <.0001 \n",
       " (OL +100 pA) - (HC +900 pA)    -124.25 7.38  218 -16.825 <.0001 \n",
       " (OL +100 pA) - (OL +900 pA)    -108.70 4.18 1342 -26.023 <.0001 \n",
       " (HC +1000 pA) - (OL +1000 pA)    18.81 7.38  218   2.548 0.6385 \n",
       " (HC +1000 pA) - (HC +1100 pA)   -11.36 3.61 1342  -3.148 0.2103 \n",
       " (HC +1000 pA) - (OL +1100 pA)     4.73 7.38  218   0.641 1.0000 \n",
       " (HC +1000 pA) - (HC +1200 pA)   -23.16 3.61 1342  -6.417 <.0001 \n",
       " (HC +1000 pA) - (OL +1200 pA)    -7.48 7.38  218  -1.012 1.0000 \n",
       " (HC +1000 pA) - (HC +200 pA)    126.96 3.61 1342  35.179 <.0001 \n",
       " (HC +1000 pA) - (OL +200 pA)    130.18 7.38  218  17.628 <.0001 \n",
       " (HC +1000 pA) - (HC +300 pA)    112.97 3.61 1342  31.302 <.0001 \n",
       " (HC +1000 pA) - (OL +300 pA)    121.95 7.38  218  16.514 <.0001 \n",
       " (HC +1000 pA) - (HC +400 pA)     95.41 3.61 1342  26.438 <.0001 \n",
       " (HC +1000 pA) - (OL +400 pA)    109.23 7.38  218  14.792 <.0001 \n",
       " (HC +1000 pA) - (HC +500 pA)     73.69 3.61 1342  20.418 <.0001 \n",
       " (HC +1000 pA) - (OL +500 pA)     92.44 7.38  218  12.518 <.0001 \n",
       " (HC +1000 pA) - (HC +600 pA)     57.30 3.61 1342  15.878 <.0001 \n",
       " (HC +1000 pA) - (OL +600 pA)     76.61 7.38  218  10.374 <.0001 \n",
       " (HC +1000 pA) - (HC +700 pA)     40.92 3.61 1342  11.340 <.0001 \n",
       " (HC +1000 pA) - (OL +700 pA)     61.45 7.38  218   8.321 <.0001 \n",
       " (HC +1000 pA) - (HC +800 pA)     26.66 3.61 1342   7.388 <.0001 \n",
       " (HC +1000 pA) - (OL +800 pA)     46.82 7.38  218   6.340 <.0001 \n",
       " (HC +1000 pA) - (HC +900 pA)     14.41 3.61 1342   3.992 0.0146 \n",
       " (HC +1000 pA) - (OL +900 pA)     29.96 7.38  218   4.057 0.0142 \n",
       " (OL +1000 pA) - (HC +1100 pA)   -30.17 7.38  218  -4.086 0.0127 \n",
       " (OL +1000 pA) - (OL +1100 pA)   -14.08 4.18 1342  -3.371 0.1161 \n",
       " (OL +1000 pA) - (HC +1200 pA)   -41.97 7.38  218  -5.683 <.0001 \n",
       " (OL +1000 pA) - (OL +1200 pA)   -26.29 4.18 1342  -6.294 <.0001 \n",
       " (OL +1000 pA) - (HC +200 pA)    108.14 7.38  218  14.644 <.0001 \n",
       " (OL +1000 pA) - (OL +200 pA)    111.37 4.18 1342  26.662 <.0001 \n",
       " (OL +1000 pA) - (HC +300 pA)     94.15 7.38  218  12.749 <.0001 \n",
       " (OL +1000 pA) - (OL +300 pA)    103.14 4.18 1342  24.692 <.0001 \n",
       " (OL +1000 pA) - (HC +400 pA)     76.60 7.38  218  10.372 <.0001 \n",
       " (OL +1000 pA) - (OL +400 pA)     90.42 4.18 1342  21.647 <.0001 \n",
       " (OL +1000 pA) - (HC +500 pA)     54.87 7.38  218   7.430 <.0001 \n",
       " (OL +1000 pA) - (OL +500 pA)     73.63 4.18 1342  17.627 <.0001 \n",
       " (OL +1000 pA) - (HC +600 pA)     38.49 7.38  218   5.212 0.0001 \n",
       " (OL +1000 pA) - (OL +600 pA)     57.79 4.18 1342  13.836 <.0001 \n",
       " (OL +1000 pA) - (HC +700 pA)     22.11 7.38  218   2.994 0.3079 \n",
       " (OL +1000 pA) - (OL +700 pA)     42.64 4.18 1342  10.208 <.0001 \n",
       " (OL +1000 pA) - (HC +800 pA)      7.85 7.38  218   1.063 1.0000 \n",
       " (OL +1000 pA) - (OL +800 pA)     28.00 4.18 1342   6.704 <.0001 \n",
       " (OL +1000 pA) - (HC +900 pA)     -4.41 7.38  218  -0.597 1.0000 \n",
       " (OL +1000 pA) - (OL +900 pA)     11.14 4.18 1342   2.668 0.5426 \n",
       " (HC +1100 pA) - (OL +1100 pA)    16.09 7.38  218   2.179 0.8761 \n",
       " (HC +1100 pA) - (HC +1200 pA)   -11.80 3.61 1342  -3.269 0.1541 \n",
       " (HC +1100 pA) - (OL +1200 pA)     3.88 7.38  218   0.526 1.0000 \n",
       " (HC +1100 pA) - (HC +200 pA)    138.32 3.61 1342  38.327 <.0001 \n",
       " (HC +1100 pA) - (OL +200 pA)    141.54 7.38  218  19.167 <.0001 \n",
       " (HC +1100 pA) - (HC +300 pA)    124.32 3.61 1342  34.450 <.0001 \n",
       " (HC +1100 pA) - (OL +300 pA)    133.31 7.38  218  18.052 <.0001 \n",
       " (HC +1100 pA) - (HC +400 pA)    106.77 3.61 1342  29.585 <.0001 \n",
       " (HC +1100 pA) - (OL +400 pA)    120.59 7.38  218  16.330 <.0001 \n",
       " (HC +1100 pA) - (HC +500 pA)     85.05 3.61 1342  23.566 <.0001 \n",
       " (HC +1100 pA) - (OL +500 pA)    103.80 7.38  218  14.056 <.0001 \n",
       " (HC +1100 pA) - (HC +600 pA)     68.66 3.61 1342  19.025 <.0001 \n",
       " (HC +1100 pA) - (OL +600 pA)     87.97 7.38  218  11.912 <.0001 \n",
       " (HC +1100 pA) - (HC +700 pA)     52.28 3.61 1342  14.488 <.0001 \n",
       " (HC +1100 pA) - (OL +700 pA)     72.81 7.38  218   9.860 <.0001 \n",
       " (HC +1100 pA) - (HC +800 pA)     38.02 3.61 1342  10.535 <.0001 \n",
       " (HC +1100 pA) - (OL +800 pA)     58.18 7.38  218   7.878 <.0001 \n",
       " (HC +1100 pA) - (HC +900 pA)     25.77 3.61 1342   7.140 <.0001 \n",
       " (HC +1100 pA) - (OL +900 pA)     41.32 7.38  218   5.595 <.0001 \n",
       " (OL +1100 pA) - (HC +1200 pA)   -27.89 7.38  218  -3.776 0.0372 \n",
       " (OL +1100 pA) - (OL +1200 pA)   -12.21 4.18 1342  -2.923 0.3475 \n",
       " (OL +1100 pA) - (HC +200 pA)    122.23 7.38  218  16.551 <.0001 \n",
       " (OL +1100 pA) - (OL +200 pA)    125.45 4.18 1342  30.034 <.0001 \n",
       " (OL +1100 pA) - (HC +300 pA)    108.23 7.38  218  14.656 <.0001 \n",
       " (OL +1100 pA) - (OL +300 pA)    117.22 4.18 1342  28.063 <.0001 \n",
       " (OL +1100 pA) - (HC +400 pA)     90.68 7.38  218  12.279 <.0001 \n",
       " (OL +1100 pA) - (OL +400 pA)    104.50 4.18 1342  25.019 <.0001 \n",
       " (OL +1100 pA) - (HC +500 pA)     68.95 7.38  218   9.337 <.0001 \n",
       " (OL +1100 pA) - (OL +500 pA)     87.71 4.18 1342  20.999 <.0001 \n",
       " (OL +1100 pA) - (HC +600 pA)     52.57 7.38  218   7.119 <.0001 \n",
       " (OL +1100 pA) - (OL +600 pA)     71.88 4.18 1342  17.208 <.0001 \n",
       " (OL +1100 pA) - (HC +700 pA)     36.19 7.38  218   4.901 0.0005 \n",
       " (OL +1100 pA) - (OL +700 pA)     56.72 4.18 1342  13.579 <.0001 \n",
       " (OL +1100 pA) - (HC +800 pA)     21.93 7.38  218   2.970 0.3236 \n",
       " (OL +1100 pA) - (OL +800 pA)     42.09 4.18 1342  10.076 <.0001 \n",
       " (OL +1100 pA) - (HC +900 pA)      9.67 7.38  218   1.310 0.9998 \n",
       " (OL +1100 pA) - (OL +900 pA)     25.23 4.18 1342   6.039 <.0001 \n",
       " (HC +1200 pA) - (OL +1200 pA)    15.68 7.38  218   2.123 0.9006 \n",
       " (HC +1200 pA) - (HC +200 pA)    150.11 3.61 1342  41.596 <.0001 \n",
       " (HC +1200 pA) - (OL +200 pA)    153.34 7.38  218  20.764 <.0001 \n",
       " (HC +1200 pA) - (HC +300 pA)    136.12 3.61 1342  37.719 <.0001 \n",
       " (HC +1200 pA) - (OL +300 pA)    145.11 7.38  218  19.649 <.0001 \n",
       " (HC +1200 pA) - (HC +400 pA)    118.57 3.61 1342  32.854 <.0001 \n",
       " (HC +1200 pA) - (OL +400 pA)    132.39 7.38  218  17.927 <.0001 \n",
       " (HC +1200 pA) - (HC +500 pA)     96.84 3.61 1342  26.835 <.0001 \n",
       " (HC +1200 pA) - (OL +500 pA)    115.60 7.38  218  15.654 <.0001 \n",
       " (HC +1200 pA) - (HC +600 pA)     80.46 3.61 1342  22.294 <.0001 \n",
       " (HC +1200 pA) - (OL +600 pA)     99.76 7.38  218  13.509 <.0001 \n",
       " (HC +1200 pA) - (HC +700 pA)     64.08 3.61 1342  17.757 <.0001 \n",
       " (HC +1200 pA) - (OL +700 pA)     84.61 7.38  218  11.457 <.0001 \n",
       " (HC +1200 pA) - (HC +800 pA)     49.82 3.61 1342  13.804 <.0001 \n",
       " (HC +1200 pA) - (OL +800 pA)     69.97 7.38  218   9.476 <.0001 \n",
       " (HC +1200 pA) - (HC +900 pA)     37.56 3.61 1342  10.409 <.0001 \n",
       " (HC +1200 pA) - (OL +900 pA)     53.11 7.38  218   7.192 <.0001 \n",
       " (OL +1200 pA) - (HC +200 pA)    134.43 7.38  218  18.204 <.0001 \n",
       " (OL +1200 pA) - (OL +200 pA)    137.66 4.18 1342  32.956 <.0001 \n",
       " (OL +1200 pA) - (HC +300 pA)    120.44 7.38  218  16.309 <.0001 \n",
       " (OL +1200 pA) - (OL +300 pA)    129.43 4.18 1342  30.986 <.0001 \n",
       " (OL +1200 pA) - (HC +400 pA)    102.88 7.38  218  13.932 <.0001 \n",
       " (OL +1200 pA) - (OL +400 pA)    116.71 4.18 1342  27.941 <.0001 \n",
       " (OL +1200 pA) - (HC +500 pA)     81.16 7.38  218  10.990 <.0001 \n",
       " (OL +1200 pA) - (OL +500 pA)     99.92 4.18 1342  23.921 <.0001 \n",
       " (OL +1200 pA) - (HC +600 pA)     64.78 7.38  218   8.772 <.0001 \n",
       " (OL +1200 pA) - (OL +600 pA)     84.08 4.18 1342  20.130 <.0001 \n",
       " (OL +1200 pA) - (HC +700 pA)     48.40 7.38  218   6.554 <.0001 \n",
       " (OL +1200 pA) - (OL +700 pA)     68.93 4.18 1342  16.502 <.0001 \n",
       " (OL +1200 pA) - (HC +800 pA)     34.14 7.38  218   4.623 0.0015 \n",
       " (OL +1200 pA) - (OL +800 pA)     54.29 4.18 1342  12.998 <.0001 \n",
       " (OL +1200 pA) - (HC +900 pA)     21.88 7.38  218   2.963 0.3278 \n",
       " (OL +1200 pA) - (OL +900 pA)     37.43 4.18 1342   8.962 <.0001 \n",
       " (HC +200 pA) - (OL +200 pA)       3.22 7.38  218   0.437 1.0000 \n",
       " (HC +200 pA) - (HC +300 pA)     -13.99 3.61 1342  -3.877 0.0223 \n",
       " (HC +200 pA) - (OL +300 pA)      -5.01 7.38  218  -0.678 1.0000 \n",
       " (HC +200 pA) - (HC +400 pA)     -31.55 3.61 1342  -8.742 <.0001 \n",
       " (HC +200 pA) - (OL +400 pA)     -17.72 7.38  218  -2.400 0.7466 \n",
       " (HC +200 pA) - (HC +500 pA)     -53.27 3.61 1342 -14.761 <.0001 \n",
       " (HC +200 pA) - (OL +500 pA)     -34.52 7.38  218  -4.674 0.0012 \n",
       " (HC +200 pA) - (HC +600 pA)     -69.66 3.61 1342 -19.302 <.0001 \n",
       " (HC +200 pA) - (OL +600 pA)     -50.35 7.38  218  -6.818 <.0001 \n",
       " (HC +200 pA) - (HC +700 pA)     -86.03 3.61 1342 -23.840 <.0001 \n",
       " (HC +200 pA) - (OL +700 pA)     -65.51 7.38  218  -8.870 <.0001 \n",
       " (HC +200 pA) - (HC +800 pA)    -100.30 3.61 1342 -27.792 <.0001 \n",
       " (HC +200 pA) - (OL +800 pA)     -80.14 7.38  218 -10.852 <.0001 \n",
       " (HC +200 pA) - (HC +900 pA)    -112.55 3.61 1342 -31.188 <.0001 \n",
       " (HC +200 pA) - (OL +900 pA)     -97.00 7.38  218 -13.135 <.0001 \n",
       " (OL +200 pA) - (HC +300 pA)     -17.22 7.38  218  -2.331 0.7919 \n",
       " (OL +200 pA) - (OL +300 pA)      -8.23 4.18 1342  -1.971 0.9540 \n",
       " (OL +200 pA) - (HC +400 pA)     -34.77 7.38  218  -4.709 0.0011 \n",
       " (OL +200 pA) - (OL +400 pA)     -20.95 4.18 1342  -5.015 0.0002 \n",
       " (OL +200 pA) - (HC +500 pA)     -56.49 7.38  218  -7.650 <.0001 \n",
       " (OL +200 pA) - (OL +500 pA)     -37.74 4.18 1342  -9.035 <.0001 \n",
       " (OL +200 pA) - (HC +600 pA)     -72.88 7.38  218  -9.869 <.0001 \n",
       " (OL +200 pA) - (OL +600 pA)     -53.57 4.18 1342 -12.826 <.0001 \n",
       " (OL +200 pA) - (HC +700 pA)     -89.26 7.38  218 -12.087 <.0001 \n",
       " (OL +200 pA) - (OL +700 pA)     -68.73 4.18 1342 -16.455 <.0001 \n",
       " (OL +200 pA) - (HC +800 pA)    -103.52 7.38  218 -14.018 <.0001 \n",
       " (OL +200 pA) - (OL +800 pA)     -83.36 4.18 1342 -19.958 <.0001 \n",
       " (OL +200 pA) - (HC +900 pA)    -115.77 7.38  218 -15.677 <.0001 \n",
       " (OL +200 pA) - (OL +900 pA)    -100.22 4.18 1342 -23.994 <.0001 \n",
       " (HC +300 pA) - (OL +300 pA)       8.98 7.38  218   1.217 0.9999 \n",
       " (HC +300 pA) - (HC +400 pA)     -17.56 3.61 1342  -4.865 0.0003 \n",
       " (HC +300 pA) - (OL +400 pA)      -3.73 7.38  218  -0.505 1.0000 \n",
       " (HC +300 pA) - (HC +500 pA)     -39.28 3.61 1342 -10.884 <.0001 \n",
       " (HC +300 pA) - (OL +500 pA)     -20.52 7.38  218  -2.779 0.4589 \n",
       " (HC +300 pA) - (HC +600 pA)     -55.66 3.61 1342 -15.425 <.0001 \n",
       " (HC +300 pA) - (OL +600 pA)     -36.36 7.38  218  -4.923 0.0004 \n",
       " (HC +300 pA) - (HC +700 pA)     -72.04 3.61 1342 -19.962 <.0001 \n",
       " (HC +300 pA) - (OL +700 pA)     -51.51 7.38  218  -6.976 <.0001 \n",
       " (HC +300 pA) - (HC +800 pA)     -86.30 3.61 1342 -23.914 <.0001 \n",
       " (HC +300 pA) - (OL +800 pA)     -66.15 7.38  218  -8.957 <.0001 \n",
       " (HC +300 pA) - (HC +900 pA)     -98.56 3.61 1342 -27.310 <.0001 \n",
       " (HC +300 pA) - (OL +900 pA)     -83.01 7.38  218 -11.240 <.0001 \n",
       " (OL +300 pA) - (HC +400 pA)     -26.54 7.38  218  -3.594 0.0662 \n",
       " (OL +300 pA) - (OL +400 pA)     -12.72 4.18 1342  -3.044 0.2680 \n",
       " (OL +300 pA) - (HC +500 pA)     -48.26 7.38  218  -6.536 <.0001 \n",
       " (OL +300 pA) - (OL +500 pA)     -29.51 4.18 1342  -7.064 <.0001 \n",
       " (OL +300 pA) - (HC +600 pA)     -64.65 7.38  218  -8.754 <.0001 \n",
       " (OL +300 pA) - (OL +600 pA)     -45.34 4.18 1342 -10.855 <.0001 \n",
       " (OL +300 pA) - (HC +700 pA)     -81.03 7.38  218 -10.972 <.0001 \n",
       " (OL +300 pA) - (OL +700 pA)     -60.50 4.18 1342 -14.484 <.0001 \n",
       " (OL +300 pA) - (HC +800 pA)     -95.29 7.38  218 -12.903 <.0001 \n",
       " (OL +300 pA) - (OL +800 pA)     -75.13 4.18 1342 -17.987 <.0001 \n",
       " (OL +300 pA) - (HC +900 pA)    -107.54 7.38  218 -14.563 <.0001 \n",
       " (OL +300 pA) - (OL +900 pA)     -91.99 4.18 1342 -22.024 <.0001 \n",
       " (HC +400 pA) - (OL +400 pA)      13.82 7.38  218   1.872 0.9715 \n",
       " (HC +400 pA) - (HC +500 pA)     -21.72 3.61 1342  -6.019 <.0001 \n",
       " (HC +400 pA) - (OL +500 pA)      -2.97 7.38  218  -0.402 1.0000 \n",
       " (HC +400 pA) - (HC +600 pA)     -38.11 3.61 1342 -10.560 <.0001 \n",
       " (HC +400 pA) - (OL +600 pA)     -18.80 7.38  218  -2.546 0.6398 \n",
       " (HC +400 pA) - (HC +700 pA)     -54.48 3.61 1342 -15.098 <.0001 \n",
       " (HC +400 pA) - (OL +700 pA)     -33.96 7.38  218  -4.598 0.0017 \n",
       " (HC +400 pA) - (HC +800 pA)     -68.75 3.61 1342 -19.050 <.0001 \n",
       " (HC +400 pA) - (OL +800 pA)     -48.59 7.38  218  -6.580 <.0001 \n",
       " (HC +400 pA) - (HC +900 pA)     -81.00 3.61 1342 -22.446 <.0001 \n",
       " (HC +400 pA) - (OL +900 pA)     -65.45 7.38  218  -8.863 <.0001 \n",
       " (OL +400 pA) - (HC +500 pA)     -35.55 7.38  218  -4.814 0.0007 \n",
       " (OL +400 pA) - (OL +500 pA)     -16.79 4.18 1342  -4.020 0.0131 \n",
       " (OL +400 pA) - (HC +600 pA)     -51.93 7.38  218  -7.032 <.0001 \n",
       " (OL +400 pA) - (OL +600 pA)     -32.63 4.18 1342  -7.811 <.0001 \n",
       " (OL +400 pA) - (HC +700 pA)     -68.31 7.38  218  -9.250 <.0001 \n",
       " (OL +400 pA) - (OL +700 pA)     -47.78 4.18 1342 -11.440 <.0001 \n",
       " (OL +400 pA) - (HC +800 pA)     -82.57 7.38  218 -11.181 <.0001 \n",
       " (OL +400 pA) - (OL +800 pA)     -62.42 4.18 1342 -14.943 <.0001 \n",
       " (OL +400 pA) - (HC +900 pA)     -94.83 7.38  218 -12.841 <.0001 \n",
       " (OL +400 pA) - (OL +900 pA)     -79.28 4.18 1342 -18.979 <.0001 \n",
       " (HC +500 pA) - (OL +500 pA)      18.76 7.38  218   2.540 0.6445 \n",
       " (HC +500 pA) - (HC +600 pA)     -16.39 3.61 1342  -4.540 0.0015 \n",
       " (HC +500 pA) - (OL +600 pA)       2.92 7.38  218   0.396 1.0000 \n",
       " (HC +500 pA) - (HC +700 pA)     -32.76 3.61 1342  -9.078 <.0001 \n",
       " (HC +500 pA) - (OL +700 pA)     -12.24 7.38  218  -1.657 0.9935 \n",
       " (HC +500 pA) - (HC +800 pA)     -47.02 3.61 1342 -13.030 <.0001 \n",
       " (HC +500 pA) - (OL +800 pA)     -26.87 7.38  218  -3.638 0.0578 \n",
       " (HC +500 pA) - (HC +900 pA)     -59.28 3.61 1342 -16.426 <.0001 \n",
       " (HC +500 pA) - (OL +900 pA)     -43.73 7.38  218  -5.921 <.0001 \n",
       " (OL +500 pA) - (HC +600 pA)     -35.14 7.38  218  -4.759 0.0009 \n",
       " (OL +500 pA) - (OL +600 pA)     -15.83 4.18 1342  -3.791 0.0304 \n",
       " (OL +500 pA) - (HC +700 pA)     -51.52 7.38  218  -6.976 <.0001 \n",
       " (OL +500 pA) - (OL +700 pA)     -30.99 4.18 1342  -7.420 <.0001 \n",
       " (OL +500 pA) - (HC +800 pA)     -65.78 7.38  218  -8.908 <.0001 \n",
       " (OL +500 pA) - (OL +800 pA)     -45.62 4.18 1342 -10.923 <.0001 \n",
       " (OL +500 pA) - (HC +900 pA)     -78.04 7.38  218 -10.567 <.0001 \n",
       " (OL +500 pA) - (OL +900 pA)     -62.48 4.18 1342 -14.959 <.0001 \n",
       " (HC +600 pA) - (OL +600 pA)      19.31 7.38  218   2.614 0.5868 \n",
       " (HC +600 pA) - (HC +700 pA)     -16.38 3.61 1342  -4.538 0.0015 \n",
       " (HC +600 pA) - (OL +700 pA)       4.15 7.38  218   0.562 1.0000 \n",
       " (HC +600 pA) - (HC +800 pA)     -30.64 3.61 1342  -8.490 <.0001 \n",
       " (HC +600 pA) - (OL +800 pA)     -10.48 7.38  218  -1.420 0.9993 \n",
       " (HC +600 pA) - (HC +900 pA)     -42.89 3.61 1342 -11.886 <.0001 \n",
       " (HC +600 pA) - (OL +900 pA)     -27.34 7.38  218  -3.703 0.0473 \n",
       " (OL +600 pA) - (HC +700 pA)     -35.68 7.38  218  -4.832 0.0006 \n",
       " (OL +600 pA) - (OL +700 pA)     -15.16 4.18 1342  -3.629 0.0528 \n",
       " (OL +600 pA) - (HC +800 pA)     -49.95 7.38  218  -6.763 <.0001 \n",
       " (OL +600 pA) - (OL +800 pA)     -29.79 4.18 1342  -7.132 <.0001 \n",
       " (OL +600 pA) - (HC +900 pA)     -62.20 7.38  218  -8.423 <.0001 \n",
       " (OL +600 pA) - (OL +900 pA)     -46.65 4.18 1342 -11.168 <.0001 \n",
       " (HC +700 pA) - (OL +700 pA)      20.53 7.38  218   2.780 0.4585 \n",
       " (HC +700 pA) - (HC +800 pA)     -14.26 3.61 1342  -3.952 0.0169 \n",
       " (HC +700 pA) - (OL +800 pA)       5.89 7.38  218   0.798 1.0000 \n",
       " (HC +700 pA) - (HC +900 pA)     -26.52 3.61 1342  -7.348 <.0001 \n",
       " (HC +700 pA) - (OL +900 pA)     -10.97 7.38  218  -1.485 0.9986 \n",
       " (OL +700 pA) - (HC +800 pA)     -34.79 7.38  218  -4.711 0.0011 \n",
       " (OL +700 pA) - (OL +800 pA)     -14.63 4.18 1342  -3.503 0.0785 \n",
       " (OL +700 pA) - (HC +900 pA)     -47.04 7.38  218  -6.370 <.0001 \n",
       " (OL +700 pA) - (OL +900 pA)     -31.49 4.18 1342  -7.540 <.0001 \n",
       " (HC +800 pA) - (OL +800 pA)      20.16 7.38  218   2.729 0.4969 \n",
       " (HC +800 pA) - (HC +900 pA)     -12.26 3.61 1342  -3.396 0.1082 \n",
       " (HC +800 pA) - (OL +900 pA)       3.30 7.38  218   0.446 1.0000 \n",
       " (OL +800 pA) - (HC +900 pA)     -32.41 7.38  218  -4.389 0.0040 \n",
       " (OL +800 pA) - (OL +900 pA)     -16.86 4.18 1342  -4.037 0.0123 \n",
       " (HC +900 pA) - (OL +900 pA)      15.55 7.38  218   2.106 0.9076 \n",
       "\n",
       "Degrees-of-freedom method: kenward-roger \n",
       "P value adjustment: tukey method for comparing a family of 24 estimates "
      ]
     },
     "metadata": {},
     "output_type": "display_data"
    }
   ],
   "source": [
    "emm1 <- emmeans(fit, ~Protocol*Trial)\n",
    "post.hoc <- pairs(emm1, adjust=\"tukey\")\n",
    "post.hoc"
   ]
  },
  {
   "cell_type": "markdown",
   "metadata": {},
   "source": [
    "-----"
   ]
  },
  {
   "cell_type": "markdown",
   "metadata": {},
   "source": [
    "### Single AP Analysis"
   ]
  },
  {
   "cell_type": "markdown",
   "metadata": {},
   "source": [
    "### 1. AP Threshold"
   ]
  },
  {
   "cell_type": "markdown",
   "metadata": {},
   "source": [
    "    1. Load AP threshold table"
   ]
  },
  {
   "cell_type": "code",
   "execution_count": 50,
   "metadata": {},
   "outputs": [
    {
     "data": {
      "text/html": [
       "<table>\n",
       "<caption>A data.frame: 6 × 2</caption>\n",
       "<thead>\n",
       "\t<tr><th></th><th scope=col>Group</th><th scope=col>AP_threshold</th></tr>\n",
       "\t<tr><th></th><th scope=col>&lt;fct&gt;</th><th scope=col>&lt;dbl&gt;</th></tr>\n",
       "</thead>\n",
       "<tbody>\n",
       "\t<tr><th scope=row>1</th><td>WT_Tonic</td><td>-40.64941</td></tr>\n",
       "\t<tr><th scope=row>2</th><td>WT_Tonic</td><td>-33.05054</td></tr>\n",
       "\t<tr><th scope=row>3</th><td>WT_Tonic</td><td>-38.60474</td></tr>\n",
       "\t<tr><th scope=row>4</th><td>WT_Tonic</td><td>-21.39282</td></tr>\n",
       "\t<tr><th scope=row>5</th><td>WT_Tonic</td><td>-41.50391</td></tr>\n",
       "\t<tr><th scope=row>6</th><td>WT_Tonic</td><td>-34.48486</td></tr>\n",
       "</tbody>\n",
       "</table>\n"
      ],
      "text/latex": [
       "A data.frame: 6 × 2\n",
       "\\begin{tabular}{r|ll}\n",
       "  & Group & AP\\_threshold\\\\\n",
       "  & <fct> & <dbl>\\\\\n",
       "\\hline\n",
       "\t1 & WT\\_Tonic & -40.64941\\\\\n",
       "\t2 & WT\\_Tonic & -33.05054\\\\\n",
       "\t3 & WT\\_Tonic & -38.60474\\\\\n",
       "\t4 & WT\\_Tonic & -21.39282\\\\\n",
       "\t5 & WT\\_Tonic & -41.50391\\\\\n",
       "\t6 & WT\\_Tonic & -34.48486\\\\\n",
       "\\end{tabular}\n"
      ],
      "text/markdown": [
       "\n",
       "A data.frame: 6 × 2\n",
       "\n",
       "| <!--/--> | Group &lt;fct&gt; | AP_threshold &lt;dbl&gt; |\n",
       "|---|---|---|\n",
       "| 1 | WT_Tonic | -40.64941 |\n",
       "| 2 | WT_Tonic | -33.05054 |\n",
       "| 3 | WT_Tonic | -38.60474 |\n",
       "| 4 | WT_Tonic | -21.39282 |\n",
       "| 5 | WT_Tonic | -41.50391 |\n",
       "| 6 | WT_Tonic | -34.48486 |\n",
       "\n"
      ],
      "text/plain": [
       "  Group    AP_threshold\n",
       "1 WT_Tonic -40.64941   \n",
       "2 WT_Tonic -33.05054   \n",
       "3 WT_Tonic -38.60474   \n",
       "4 WT_Tonic -21.39282   \n",
       "5 WT_Tonic -41.50391   \n",
       "6 WT_Tonic -34.48486   "
      ]
     },
     "metadata": {},
     "output_type": "display_data"
    }
   ],
   "source": [
    "AP_threshold <- read.delim(file=\"G:/My Drive/Experimental Data/Flocculus_Ex vivo/AP threshold.txt\")\n",
    "head(AP_threhold)"
   ]
  },
  {
   "cell_type": "markdown",
   "metadata": {},
   "source": [
    "    2. Visualize AP threshold data"
   ]
  },
  {
   "cell_type": "code",
   "execution_count": 51,
   "metadata": {},
   "outputs": [],
   "source": [
    "library(\"ggpubr\")"
   ]
  },
  {
   "cell_type": "code",
   "execution_count": 53,
   "metadata": {},
   "outputs": [
    {
     "data": {
      "image/png": "[encoded data removed]",
      "text/plain": [
       "plot without title"
      ]
     },
     "metadata": {
      "image/png": {
       "height": 420,
       "width": 420
      }
     },
     "output_type": "display_data"
    }
   ],
   "source": [
    "ggboxplot(AP_threshold, \n",
    "          x=\"Group\", \n",
    "          y=\"AP_threshold\", \n",
    "          color=\"Group\", \n",
    "          order = c(\"WT_Tonic\", \"OL_Tonic\", \"WT_Gap\", \"OL_Gap\", \"WT_Initial\", \"OL_Initial\"),\n",
    "          ylab=\"AP Threshold (mV)\", xlab=\"\")"
   ]
  },
  {
   "cell_type": "markdown",
   "metadata": {},
   "source": [
    "    3. Compute one-way ANOVA"
   ]
  },
  {
   "cell_type": "code",
   "execution_count": 55,
   "metadata": {},
   "outputs": [
    {
     "data": {
      "text/plain": [
       "             Df Sum Sq Mean Sq F value   Pr(>F)    \n",
       "Group         5   3558   711.7   8.034 1.01e-06 ***\n",
       "Residuals   147  13022    88.6                     \n",
       "---\n",
       "Signif. codes:  0 '***' 0.001 '**' 0.01 '*' 0.05 '.' 0.1 ' ' 1"
      ]
     },
     "metadata": {},
     "output_type": "display_data"
    }
   ],
   "source": [
    "res.aov <- aov(AP_threshold~Group, data=AP_threshold)\n",
    "summary(res.aov)"
   ]
  },
  {
   "cell_type": "markdown",
   "metadata": {},
   "source": [
    "    If ANOVA test is significant, we can compute Tukey HSD (Tukey Honest Significant Differences) for performing mutiple pairwise-comparison between the means of groups."
   ]
  },
  {
   "cell_type": "code",
   "execution_count": 58,
   "metadata": {},
   "outputs": [
    {
     "data": {
      "text/plain": [
       "  Tukey multiple comparisons of means\n",
       "    95% family-wise confidence level\n",
       "\n",
       "Fit: aov(formula = AP_threshold ~ Group, data = AP_threshold)\n",
       "\n",
       "$Group\n",
       "                            diff        lwr         upr     p adj\n",
       "OL_Initial-OL_Gap      -1.968021 -12.659897  8.72385585 0.9948106\n",
       "OL_Tonic-OL_Gap        -8.928426 -17.873892  0.01703947 0.0507456\n",
       "WT_Gap-OL_Gap          -3.352043 -14.232061  7.52797460 0.9484706\n",
       "WT_Initial-OL_Gap       3.057692  -7.071054 13.18643690 0.9526585\n",
       "WT_Tonic-OL_Gap       -10.209947 -18.855479 -1.56441460 0.0106584\n",
       "OL_Tonic-OL_Initial    -6.960406 -15.400062  1.47925086 0.1695565\n",
       "WT_Gap-OL_Initial      -1.384023 -11.852128  9.08408289 0.9989281\n",
       "WT_Initial-OL_Initial   5.025712  -4.659221 14.71064517 0.6657932\n",
       "WT_Tonic-OL_Initial    -8.241926 -16.362989 -0.12086273 0.0444902\n",
       "WT_Gap-OL_Tonic         5.576383  -3.100389 14.25315456 0.4335783\n",
       "WT_Initial-OL_Tonic    11.986118   4.272295 19.69994039 0.0002073\n",
       "WT_Tonic-OL_Tonic      -1.281520  -6.907958  4.34491726 0.9861541\n",
       "WT_Initial-WT_Gap       6.409735  -3.482509 16.30197872 0.4240903\n",
       "WT_Tonic-WT_Gap        -6.857903 -15.225115  1.50930832 0.1749170\n",
       "WT_Tonic-WT_Initial   -13.267638 -20.631532 -5.90374469 0.0000095\n"
      ]
     },
     "metadata": {},
     "output_type": "display_data"
    }
   ],
   "source": [
    "TukeyHSD(res.aov)"
   ]
  },
  {
   "cell_type": "code",
   "execution_count": null,
   "metadata": {},
   "outputs": [],
   "source": []
  }
 ],
 "metadata": {
  "kernelspec": {
   "display_name": "R",
   "language": "R",
   "name": "ir"
  },
  "language_info": {
   "codemirror_mode": "r",
   "file_extension": ".r",
   "mimetype": "text/x-r-source",
   "name": "R",
   "pygments_lexer": "r",
   "version": "3.6.1"
  }
 },
 "nbformat": 4,
 "nbformat_minor": 4
}
