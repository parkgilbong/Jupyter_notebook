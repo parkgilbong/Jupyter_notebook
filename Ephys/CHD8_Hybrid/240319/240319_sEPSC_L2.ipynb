{
 "cells": [
  {
   "cell_type": "markdown",
   "id": "9462a527",
   "metadata": {},
   "source": [
    "### 1. Library 반입"
   ]
  },
  {
   "cell_type": "code",
   "execution_count": 1,
   "id": "06cde140",
   "metadata": {},
   "outputs": [],
   "source": [
    "import pandas as pd\n",
    "from scipy import stats \n",
    "from statsmodels.formula.api import ols\n",
    "from statsmodels.stats.anova import anova_lm"
   ]
  },
  {
   "cell_type": "markdown",
   "id": "8c2e1b32",
   "metadata": {},
   "source": [
    "### 2. Data 반입"
   ]
  },
  {
   "cell_type": "code",
   "execution_count": 2,
   "id": "a4119def",
   "metadata": {},
   "outputs": [
    {
     "data": {
      "text/html": [
       "<div>\n",
       "<style scoped>\n",
       "    .dataframe tbody tr th:only-of-type {\n",
       "        vertical-align: middle;\n",
       "    }\n",
       "\n",
       "    .dataframe tbody tr th {\n",
       "        vertical-align: top;\n",
       "    }\n",
       "\n",
       "    .dataframe thead th {\n",
       "        text-align: right;\n",
       "    }\n",
       "</style>\n",
       "<table border=\"1\" class=\"dataframe\">\n",
       "  <thead>\n",
       "    <tr style=\"text-align: right;\">\n",
       "      <th></th>\n",
       "      <th>Sex</th>\n",
       "      <th>Genotype</th>\n",
       "      <th>Amplitude</th>\n",
       "      <th>Frequency</th>\n",
       "      <th>Cell_ID</th>\n",
       "    </tr>\n",
       "  </thead>\n",
       "  <tbody>\n",
       "    <tr>\n",
       "      <th>0</th>\n",
       "      <td>Male</td>\n",
       "      <td>WT</td>\n",
       "      <td>15.68</td>\n",
       "      <td>0.64</td>\n",
       "      <td>220519_WT_M_#01</td>\n",
       "    </tr>\n",
       "    <tr>\n",
       "      <th>1</th>\n",
       "      <td>Male</td>\n",
       "      <td>WT</td>\n",
       "      <td>17.77</td>\n",
       "      <td>3.51</td>\n",
       "      <td>220519_WT_M_#05</td>\n",
       "    </tr>\n",
       "    <tr>\n",
       "      <th>2</th>\n",
       "      <td>Male</td>\n",
       "      <td>WT</td>\n",
       "      <td>26.30</td>\n",
       "      <td>2.26</td>\n",
       "      <td>220519_WT_M_#06</td>\n",
       "    </tr>\n",
       "    <tr>\n",
       "      <th>3</th>\n",
       "      <td>Male</td>\n",
       "      <td>WT</td>\n",
       "      <td>23.31</td>\n",
       "      <td>1.04</td>\n",
       "      <td>220519_WT_M_#07</td>\n",
       "    </tr>\n",
       "    <tr>\n",
       "      <th>4</th>\n",
       "      <td>Male</td>\n",
       "      <td>WT</td>\n",
       "      <td>14.43</td>\n",
       "      <td>2.36</td>\n",
       "      <td>220614_WT_M_#05</td>\n",
       "    </tr>\n",
       "  </tbody>\n",
       "</table>\n",
       "</div>"
      ],
      "text/plain": [
       "    Sex Genotype  Amplitude  Frequency          Cell_ID\n",
       "0  Male       WT      15.68       0.64  220519_WT_M_#01\n",
       "1  Male       WT      17.77       3.51  220519_WT_M_#05\n",
       "2  Male       WT      26.30       2.26  220519_WT_M_#06\n",
       "3  Male       WT      23.31       1.04  220519_WT_M_#07\n",
       "4  Male       WT      14.43       2.36  220614_WT_M_#05"
      ]
     },
     "execution_count": 2,
     "metadata": {},
     "output_type": "execute_result"
    }
   ],
   "source": [
    "df = pd.read_csv('./Df1.csv')\n",
    "df.head()"
   ]
  },
  {
   "cell_type": "markdown",
   "id": "863bc80c",
   "metadata": {},
   "source": [
    "### 3. 정규성 검정\n",
    "#### 3.1. Group data 분할"
   ]
  },
  {
   "cell_type": "code",
   "execution_count": 3,
   "id": "adbec792",
   "metadata": {},
   "outputs": [],
   "source": [
    "df_M_WT=df[(df['Sex']=='Male')&(df['Genotype']=='WT')]\n",
    "df_M_HM=df[(df['Sex']=='Male')&(df['Genotype']=='HM')]\n",
    "df_F_WT=df[(df['Sex']=='Female')&(df['Genotype']=='WT')]\n",
    "df_F_HM=df[(df['Sex']=='Female')&(df['Genotype']=='HM')]"
   ]
  },
  {
   "cell_type": "markdown",
   "id": "66e93aff",
   "metadata": {},
   "source": [
    "#### 3.2. Amplitude data에 대한 정규성 검정"
   ]
  },
  {
   "cell_type": "code",
   "execution_count": 4,
   "id": "67e4bd8f",
   "metadata": {},
   "outputs": [
    {
     "data": {
      "text/plain": [
       "(ShapiroResult(statistic=0.8828874230384827, pvalue=0.024113327264785767),\n",
       " ShapiroResult(statistic=0.9355946183204651, pvalue=0.3301889896392822),\n",
       " ShapiroResult(statistic=0.8748361468315125, pvalue=0.026248687878251076),\n",
       " ShapiroResult(statistic=0.9362682700157166, pvalue=0.3726012408733368))"
      ]
     },
     "execution_count": 4,
     "metadata": {},
     "output_type": "execute_result"
    }
   ],
   "source": [
    "stats.shapiro(df_M_WT['Amplitude']),stats.shapiro(df_M_HM['Amplitude']),stats.shapiro(df_F_WT['Amplitude']),stats.shapiro(df_F_HM['Amplitude'])"
   ]
  },
  {
   "cell_type": "markdown",
   "id": "4d08e534",
   "metadata": {},
   "source": [
    "#### 3.3. Frequency data에 대한 정규성 검정"
   ]
  },
  {
   "cell_type": "code",
   "execution_count": 5,
   "id": "4d31dc26",
   "metadata": {},
   "outputs": [
    {
     "data": {
      "text/plain": [
       "(ShapiroResult(statistic=0.8080657720565796, pvalue=0.0015003165462985635),\n",
       " ShapiroResult(statistic=0.8708535432815552, pvalue=0.034729454666376114),\n",
       " ShapiroResult(statistic=0.8401544690132141, pvalue=0.007616985589265823),\n",
       " ShapiroResult(statistic=0.9326087236404419, pvalue=0.33182117342948914))"
      ]
     },
     "execution_count": 5,
     "metadata": {},
     "output_type": "execute_result"
    }
   ],
   "source": [
    "stats.shapiro(df_M_WT['Frequency']),stats.shapiro(df_M_HM['Frequency']),stats.shapiro(df_F_WT['Frequency']),stats.shapiro(df_F_HM['Frequency'])"
   ]
  },
  {
   "cell_type": "markdown",
   "id": "2ddee2e5",
   "metadata": {},
   "source": [
    "### 4. 등분산 검정\n",
    "#### 4.1. Amplitude data에 대한 등분산 검정"
   ]
  },
  {
   "cell_type": "code",
   "execution_count": 6,
   "id": "9508a070",
   "metadata": {},
   "outputs": [
    {
     "data": {
      "text/plain": [
       "BartlettResult(statistic=12.064005091824422, pvalue=0.007167091378714406)"
      ]
     },
     "execution_count": 6,
     "metadata": {},
     "output_type": "execute_result"
    }
   ],
   "source": [
    "stats.bartlett(df_M_WT['Amplitude'], \n",
    "               df_M_HM['Amplitude'], \n",
    "               df_F_WT['Amplitude'], \n",
    "               df_F_HM['Amplitude'])"
   ]
  },
  {
   "cell_type": "markdown",
   "id": "d808783a",
   "metadata": {},
   "source": [
    "#### 4.2. Frequency data에 대한 등분산 검정"
   ]
  },
  {
   "cell_type": "code",
   "execution_count": 7,
   "id": "6e89d150",
   "metadata": {},
   "outputs": [
    {
     "data": {
      "text/plain": [
       "BartlettResult(statistic=6.305585749678398, pvalue=0.09765325275608604)"
      ]
     },
     "execution_count": 7,
     "metadata": {},
     "output_type": "execute_result"
    }
   ],
   "source": [
    "stats.bartlett(df_M_WT['Frequency'], \n",
    "               df_M_HM['Frequency'], \n",
    "               df_F_WT['Frequency'], \n",
    "               df_F_HM['Frequency'])"
   ]
  },
  {
   "cell_type": "markdown",
   "id": "517686f5",
   "metadata": {},
   "source": [
    "### 5. 1-way ANOVA \n",
    "#### 5.1. Amplitude data에 대한 1-way ANOVA"
   ]
  },
  {
   "cell_type": "code",
   "execution_count": 8,
   "id": "24024651",
   "metadata": {},
   "outputs": [
    {
     "data": {
      "text/plain": [
       "F_onewayResult(statistic=2.408676921854699, pvalue=0.0756828909314861)"
      ]
     },
     "execution_count": 8,
     "metadata": {},
     "output_type": "execute_result"
    }
   ],
   "source": [
    "stats.f_oneway(df_M_WT['Amplitude'], \n",
    "               df_M_HM['Amplitude'],\n",
    "               df_F_WT['Amplitude'], \n",
    "               df_F_HM['Amplitude'])"
   ]
  },
  {
   "cell_type": "markdown",
   "id": "5f8b42b5",
   "metadata": {},
   "source": [
    "#### 5.2. Frequency data에 대한 1-way ANOVA"
   ]
  },
  {
   "cell_type": "code",
   "execution_count": 9,
   "id": "7731715d",
   "metadata": {},
   "outputs": [
    {
     "data": {
      "text/plain": [
       "F_onewayResult(statistic=0.8057129059912601, pvalue=0.49555239217271374)"
      ]
     },
     "execution_count": 9,
     "metadata": {},
     "output_type": "execute_result"
    }
   ],
   "source": [
    "stats.f_oneway(df_M_WT['Frequency'], \n",
    "               df_M_HM['Frequency'],\n",
    "               df_F_WT['Frequency'], \n",
    "               df_F_HM['Frequency'])"
   ]
  },
  {
   "cell_type": "markdown",
   "id": "db60df35",
   "metadata": {},
   "source": [
    "### 6. 2-way ANOVA\n",
    "#### 6.1. Amplitude data에 대한 2-way ANOVA"
   ]
  },
  {
   "cell_type": "code",
   "execution_count": 10,
   "id": "0c284cb1",
   "metadata": {},
   "outputs": [
    {
     "data": {
      "text/html": [
       "<div>\n",
       "<style scoped>\n",
       "    .dataframe tbody tr th:only-of-type {\n",
       "        vertical-align: middle;\n",
       "    }\n",
       "\n",
       "    .dataframe tbody tr th {\n",
       "        vertical-align: top;\n",
       "    }\n",
       "\n",
       "    .dataframe thead th {\n",
       "        text-align: right;\n",
       "    }\n",
       "</style>\n",
       "<table border=\"1\" class=\"dataframe\">\n",
       "  <thead>\n",
       "    <tr style=\"text-align: right;\">\n",
       "      <th></th>\n",
       "      <th>df</th>\n",
       "      <th>sum_sq</th>\n",
       "      <th>mean_sq</th>\n",
       "      <th>F</th>\n",
       "      <th>PR(&gt;F)</th>\n",
       "    </tr>\n",
       "  </thead>\n",
       "  <tbody>\n",
       "    <tr>\n",
       "      <th>C(Sex)</th>\n",
       "      <td>1.0</td>\n",
       "      <td>47.833564</td>\n",
       "      <td>47.833564</td>\n",
       "      <td>6.403952</td>\n",
       "      <td>0.013983</td>\n",
       "    </tr>\n",
       "    <tr>\n",
       "      <th>C(Genotype)</th>\n",
       "      <td>1.0</td>\n",
       "      <td>0.210063</td>\n",
       "      <td>0.210063</td>\n",
       "      <td>0.028123</td>\n",
       "      <td>0.867374</td>\n",
       "    </tr>\n",
       "    <tr>\n",
       "      <th>C(Sex):C(Genotype)</th>\n",
       "      <td>1.0</td>\n",
       "      <td>5.930357</td>\n",
       "      <td>5.930357</td>\n",
       "      <td>0.793956</td>\n",
       "      <td>0.376408</td>\n",
       "    </tr>\n",
       "    <tr>\n",
       "      <th>Residual</th>\n",
       "      <td>61.0</td>\n",
       "      <td>455.632302</td>\n",
       "      <td>7.469382</td>\n",
       "      <td>NaN</td>\n",
       "      <td>NaN</td>\n",
       "    </tr>\n",
       "  </tbody>\n",
       "</table>\n",
       "</div>"
      ],
      "text/plain": [
       "                      df      sum_sq    mean_sq         F    PR(>F)\n",
       "C(Sex)               1.0   47.833564  47.833564  6.403952  0.013983\n",
       "C(Genotype)          1.0    0.210063   0.210063  0.028123  0.867374\n",
       "C(Sex):C(Genotype)   1.0    5.930357   5.930357  0.793956  0.376408\n",
       "Residual            61.0  455.632302   7.469382       NaN       NaN"
      ]
     },
     "execution_count": 10,
     "metadata": {},
     "output_type": "execute_result"
    }
   ],
   "source": [
    "model = ols('Amplitude~C(Sex)+C(Genotype)+C(Sex):C(Genotype)', df).fit()\n",
    "anova_lm(model)"
   ]
  },
  {
   "cell_type": "markdown",
   "id": "a0191346",
   "metadata": {},
   "source": [
    "#### 6.2. Frequency data에 대한 2-way ANOVA"
   ]
  },
  {
   "cell_type": "code",
   "execution_count": 11,
   "id": "a829723c",
   "metadata": {},
   "outputs": [
    {
     "data": {
      "text/html": [
       "<div>\n",
       "<style scoped>\n",
       "    .dataframe tbody tr th:only-of-type {\n",
       "        vertical-align: middle;\n",
       "    }\n",
       "\n",
       "    .dataframe tbody tr th {\n",
       "        vertical-align: top;\n",
       "    }\n",
       "\n",
       "    .dataframe thead th {\n",
       "        text-align: right;\n",
       "    }\n",
       "</style>\n",
       "<table border=\"1\" class=\"dataframe\">\n",
       "  <thead>\n",
       "    <tr style=\"text-align: right;\">\n",
       "      <th></th>\n",
       "      <th>df</th>\n",
       "      <th>sum_sq</th>\n",
       "      <th>mean_sq</th>\n",
       "      <th>F</th>\n",
       "      <th>PR(&gt;F)</th>\n",
       "    </tr>\n",
       "  </thead>\n",
       "  <tbody>\n",
       "    <tr>\n",
       "      <th>C(Sex)</th>\n",
       "      <td>1.0</td>\n",
       "      <td>2.361538</td>\n",
       "      <td>2.361538</td>\n",
       "      <td>0.758618</td>\n",
       "      <td>0.387176</td>\n",
       "    </tr>\n",
       "    <tr>\n",
       "      <th>C(Genotype)</th>\n",
       "      <td>1.0</td>\n",
       "      <td>2.688674</td>\n",
       "      <td>2.688674</td>\n",
       "      <td>0.863707</td>\n",
       "      <td>0.356367</td>\n",
       "    </tr>\n",
       "    <tr>\n",
       "      <th>C(Sex):C(Genotype)</th>\n",
       "      <td>1.0</td>\n",
       "      <td>2.474210</td>\n",
       "      <td>2.474210</td>\n",
       "      <td>0.794813</td>\n",
       "      <td>0.376152</td>\n",
       "    </tr>\n",
       "    <tr>\n",
       "      <th>Residual</th>\n",
       "      <td>61.0</td>\n",
       "      <td>189.889680</td>\n",
       "      <td>3.112946</td>\n",
       "      <td>NaN</td>\n",
       "      <td>NaN</td>\n",
       "    </tr>\n",
       "  </tbody>\n",
       "</table>\n",
       "</div>"
      ],
      "text/plain": [
       "                      df      sum_sq   mean_sq         F    PR(>F)\n",
       "C(Sex)               1.0    2.361538  2.361538  0.758618  0.387176\n",
       "C(Genotype)          1.0    2.688674  2.688674  0.863707  0.356367\n",
       "C(Sex):C(Genotype)   1.0    2.474210  2.474210  0.794813  0.376152\n",
       "Residual            61.0  189.889680  3.112946       NaN       NaN"
      ]
     },
     "execution_count": 11,
     "metadata": {},
     "output_type": "execute_result"
    }
   ],
   "source": [
    "model2 = ols('Frequency~C(Sex)+C(Genotype)+C(Sex):C(Genotype)', df).fit()\n",
    "anova_lm(model2)"
   ]
  },
  {
   "cell_type": "code",
   "execution_count": null,
   "id": "d22df008",
   "metadata": {},
   "outputs": [],
   "source": []
  }
 ],
 "metadata": {
  "kernelspec": {
   "display_name": "Python 3 (ipykernel)",
   "language": "python",
   "name": "python3"
  },
  "language_info": {
   "codemirror_mode": {
    "name": "ipython",
    "version": 3
   },
   "file_extension": ".py",
   "mimetype": "text/x-python",
   "name": "python",
   "nbconvert_exporter": "python",
   "pygments_lexer": "ipython3",
   "version": "3.11.5"
  }
 },
 "nbformat": 4,
 "nbformat_minor": 5
}
