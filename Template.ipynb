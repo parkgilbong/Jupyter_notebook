{
 "cells": [
  {
   "cell_type": "markdown",
   "id": "a8d8d308",
   "metadata": {},
   "source": [
    "* Model:\n",
    "* Age:\n",
    "* Sex:\n",
    "* Region:\n",
    "* Performer:\n",
    "* Recording:\n",
    "* Analysis:"
   ]
  },
  {
   "cell_type": "markdown",
   "id": "6d2bc30c",
   "metadata": {},
   "source": [
    "#### *importing python libraries*"
   ]
  },
  {
   "cell_type": "code",
   "execution_count": 3,
   "id": "693f0a0d",
   "metadata": {},
   "outputs": [],
   "source": [
    "import pandas as pd\n",
    "import numpy as np\n",
    "import seaborn as sns\n",
    "import matplotlib.pyplot as plt\n",
    "from scipy import stats"
   ]
  },
  {
   "cell_type": "markdown",
   "id": "f8d1cea0",
   "metadata": {},
   "source": [
    "#### *reading an Excel file*"
   ]
  },
  {
   "cell_type": "code",
   "execution_count": 13,
   "id": "f57efb04",
   "metadata": {},
   "outputs": [],
   "source": [
    "# df_ = pd.read_excel('./data/Shank2 KO_adult male-female PFC_qRT-PCR_PV.xlsx',\n",
    "#                        sheet_name='Sheet1',\n",
    "#                        index_col = None,\n",
    "#                        header= None)\n",
    "# df_"
   ]
  },
  {
   "cell_type": "markdown",
   "id": "d54337da",
   "metadata": {},
   "source": [
    "#### *reading a txt-formated file*"
   ]
  },
  {
   "cell_type": "code",
   "execution_count": null,
   "id": "957e69af",
   "metadata": {},
   "outputs": [],
   "source": [
    "# df_ = pd.read_csv('./data/~')"
   ]
  }
 ],
 "metadata": {
  "kernelspec": {
   "display_name": "Python 3 (ipykernel)",
   "language": "python",
   "name": "python3"
  },
  "language_info": {
   "codemirror_mode": {
    "name": "ipython",
    "version": 3
   },
   "file_extension": ".py",
   "mimetype": "text/x-python",
   "name": "python",
   "nbconvert_exporter": "python",
   "pygments_lexer": "ipython3",
   "version": "3.11.5"
  }
 },
 "nbformat": 4,
 "nbformat_minor": 5
}
